{
  "nbformat": 4,
  "nbformat_minor": 0,
  "metadata": {
    "colab": {
      "provenance": [],
      "gpuType": "V100",
      "authorship_tag": "ABX9TyPK+aSARUXAt3eIMFI8xmz7",
      "include_colab_link": true
    },
    "kernelspec": {
      "name": "python3",
      "display_name": "Python 3"
    },
    "language_info": {
      "name": "python"
    },
    "accelerator": "GPU"
  },
  "cells": [
    {
      "cell_type": "markdown",
      "metadata": {
        "id": "view-in-github",
        "colab_type": "text"
      },
      "source": [
        "<a href=\"https://colab.research.google.com/github/willystumblr/ict-2023-ems/blob/main/%08ict_2023_model_predict.ipynb\" target=\"_parent\"><img src=\"https://colab.research.google.com/assets/colab-badge.svg\" alt=\"Open In Colab\"/></a>"
      ]
    },
    {
      "cell_type": "code",
      "execution_count": 1,
      "metadata": {
        "colab": {
          "base_uri": "https://localhost:8080/"
        },
        "id": "xGb8S-vVpczw",
        "outputId": "65b5f96b-e875-4cd8-ff79-57349d7e9057"
      },
      "outputs": [
        {
          "output_type": "stream",
          "name": "stdout",
          "text": [
            "Mounted at /content/drive\n"
          ]
        }
      ],
      "source": [
        "from google.colab import drive\n",
        "drive.mount('/content/drive')"
      ]
    },
    {
      "cell_type": "code",
      "source": [
        "import torch\n",
        "from torch import nn, optim\n",
        "from sklearn.preprocessing import MinMaxScaler\n",
        "from torch.utils.data import DataLoader, Dataset\n",
        "import numpy as np\n",
        "import pandas as pd\n",
        "from torch.utils.data import Dataset, DataLoader\n",
        "from sklearn.preprocessing import StandardScaler, LabelEncoder, MinMaxScaler, OneHotEncoder\n",
        "from sklearn.compose import ColumnTransformer\n",
        "from sklearn.model_selection import train_test_split\n"
      ],
      "metadata": {
        "id": "opZz75PhtqxJ"
      },
      "execution_count": 2,
      "outputs": []
    },
    {
      "cell_type": "code",
      "source": [
        "import glob\n",
        "import tqdm\n",
        "import os\n",
        "from collections import defaultdict\n",
        "from datetime import datetime"
      ],
      "metadata": {
        "id": "XKCpSoLPM3bS"
      },
      "execution_count": 3,
      "outputs": []
    },
    {
      "cell_type": "code",
      "source": [
        "PATH = \"/content/drive/MyDrive/ict-2023/train\"\n",
        "buildings = defaultdict(pd.DataFrame)\n",
        "def parser(x):\n",
        "    return datetime.strptime(x, '%Y %m %d %H')\n",
        "\n",
        "for path in glob.glob(os.path.join(PATH, \"*-revised.csv\")):\n",
        "    building = path.split(\"/\")[-1][:-12]\n",
        "\n",
        "    data = pd.read_csv(path, index_col=0, parse_dates=[['YEAR', 'MONTH', 'DAY', 'HOUR']], date_parser=parser)\n",
        "    # dataset = read_csv('raw.csv',  parse_dates = [['year', 'month', 'day', 'hour']], index_col=0, date_parser=parse)\n",
        "    t = pd.DataFrame(data.index)\n",
        "    t_h = pd.DataFrame(data=list(t['YEAR_MONTH_DAY_HOUR'].dt.hour), index=data.index, columns=['Hour'])\n",
        "    t_m = pd.DataFrame(data=list(t['YEAR_MONTH_DAY_HOUR'].dt.month), index=data.index, columns=['Month'])\n",
        "    data = pd.concat([data, t_h, t_m], axis=1)\n",
        "    buildings[building] = data\n",
        "\n",
        "buildings[building].describe()"
      ],
      "metadata": {
        "colab": {
          "base_uri": "https://localhost:8080/",
          "height": 381
        },
        "id": "jlo3j6hcG6Bi",
        "outputId": "5b1183ee-9301-4468-9e2a-131161e1070f"
      },
      "execution_count": 50,
      "outputs": [
        {
          "output_type": "execute_result",
          "data": {
            "text/plain": [
              "        시간당발전량(kWh)      수평면(w/㎡)      경사면(w/㎡)       모듈온도(℃)        기온(°C)  \\\n",
              "count  16104.000000  16104.000000  16104.000000  16104.000000  16104.000000   \n",
              "mean      15.895088    159.661575    173.787568     16.335035     14.574044   \n",
              "std       24.890856    252.452766    275.218672     15.318990      9.988774   \n",
              "min        0.000000      0.000000      0.000000    -19.300000    -13.400000   \n",
              "25%        0.000000      0.000000      0.000000      3.700000      6.400000   \n",
              "50%        0.000000      0.000000      0.000000     16.000000     15.100000   \n",
              "75%       24.000000    245.000000    259.250000     25.700000     23.300000   \n",
              "max      110.800000   1300.000000   1263.000000     63.300000     34.500000   \n",
              "\n",
              "              습도(%)      증기압(hPa)     이슬점온도(°C)     현지기압(hPa)        일조(hr)  \\\n",
              "count  16104.000000  16104.000000  16104.000000  16104.000000  16104.000000   \n",
              "mean      70.622299     14.250161      8.449447   1008.449242      0.260830   \n",
              "std       22.871057     10.153047     11.750603      8.117557      0.402321   \n",
              "min        8.000000      0.600000    -28.800000    988.900000      0.000000   \n",
              "25%       54.000000      5.600000     -1.200000   1001.700000      0.000000   \n",
              "50%       72.000000     10.400000      7.500000   1009.200000      0.000000   \n",
              "75%       93.000000     23.125000     19.900000   1014.900000      0.600000   \n",
              "max       99.000000     41.900000     29.800000   1027.500000      1.000000   \n",
              "\n",
              "          일사(MJ/m2)     전운량(10분위)       시정(10m)          Hour         Month  \n",
              "count  16104.000000  16104.000000  16104.000000  16104.000000  16104.000000  \n",
              "mean       0.641424      5.472740   1614.794647     11.500000      6.268256  \n",
              "std        0.932200      3.848155    550.516005      6.922401      3.468447  \n",
              "min        0.000000      0.000000     10.000000      0.000000      1.000000  \n",
              "25%        0.000000      1.000000   1300.000000      5.750000      3.000000  \n",
              "50%        0.080000      7.000000   1956.000000     11.500000      6.000000  \n",
              "75%        1.080000      9.000000   2000.000000     17.250000      9.000000  \n",
              "max        3.880000     10.000000  12000.000000     23.000000     12.000000  "
            ],
            "text/html": [
              "\n",
              "\n",
              "  <div id=\"df-06641572-44f9-4c20-8b60-163fedafcb78\">\n",
              "    <div class=\"colab-df-container\">\n",
              "      <div>\n",
              "<style scoped>\n",
              "    .dataframe tbody tr th:only-of-type {\n",
              "        vertical-align: middle;\n",
              "    }\n",
              "\n",
              "    .dataframe tbody tr th {\n",
              "        vertical-align: top;\n",
              "    }\n",
              "\n",
              "    .dataframe thead th {\n",
              "        text-align: right;\n",
              "    }\n",
              "</style>\n",
              "<table border=\"1\" class=\"dataframe\">\n",
              "  <thead>\n",
              "    <tr style=\"text-align: right;\">\n",
              "      <th></th>\n",
              "      <th>시간당발전량(kWh)</th>\n",
              "      <th>수평면(w/㎡)</th>\n",
              "      <th>경사면(w/㎡)</th>\n",
              "      <th>모듈온도(℃)</th>\n",
              "      <th>기온(°C)</th>\n",
              "      <th>습도(%)</th>\n",
              "      <th>증기압(hPa)</th>\n",
              "      <th>이슬점온도(°C)</th>\n",
              "      <th>현지기압(hPa)</th>\n",
              "      <th>일조(hr)</th>\n",
              "      <th>일사(MJ/m2)</th>\n",
              "      <th>전운량(10분위)</th>\n",
              "      <th>시정(10m)</th>\n",
              "      <th>Hour</th>\n",
              "      <th>Month</th>\n",
              "    </tr>\n",
              "  </thead>\n",
              "  <tbody>\n",
              "    <tr>\n",
              "      <th>count</th>\n",
              "      <td>16104.000000</td>\n",
              "      <td>16104.000000</td>\n",
              "      <td>16104.000000</td>\n",
              "      <td>16104.000000</td>\n",
              "      <td>16104.000000</td>\n",
              "      <td>16104.000000</td>\n",
              "      <td>16104.000000</td>\n",
              "      <td>16104.000000</td>\n",
              "      <td>16104.000000</td>\n",
              "      <td>16104.000000</td>\n",
              "      <td>16104.000000</td>\n",
              "      <td>16104.000000</td>\n",
              "      <td>16104.000000</td>\n",
              "      <td>16104.000000</td>\n",
              "      <td>16104.000000</td>\n",
              "    </tr>\n",
              "    <tr>\n",
              "      <th>mean</th>\n",
              "      <td>15.895088</td>\n",
              "      <td>159.661575</td>\n",
              "      <td>173.787568</td>\n",
              "      <td>16.335035</td>\n",
              "      <td>14.574044</td>\n",
              "      <td>70.622299</td>\n",
              "      <td>14.250161</td>\n",
              "      <td>8.449447</td>\n",
              "      <td>1008.449242</td>\n",
              "      <td>0.260830</td>\n",
              "      <td>0.641424</td>\n",
              "      <td>5.472740</td>\n",
              "      <td>1614.794647</td>\n",
              "      <td>11.500000</td>\n",
              "      <td>6.268256</td>\n",
              "    </tr>\n",
              "    <tr>\n",
              "      <th>std</th>\n",
              "      <td>24.890856</td>\n",
              "      <td>252.452766</td>\n",
              "      <td>275.218672</td>\n",
              "      <td>15.318990</td>\n",
              "      <td>9.988774</td>\n",
              "      <td>22.871057</td>\n",
              "      <td>10.153047</td>\n",
              "      <td>11.750603</td>\n",
              "      <td>8.117557</td>\n",
              "      <td>0.402321</td>\n",
              "      <td>0.932200</td>\n",
              "      <td>3.848155</td>\n",
              "      <td>550.516005</td>\n",
              "      <td>6.922401</td>\n",
              "      <td>3.468447</td>\n",
              "    </tr>\n",
              "    <tr>\n",
              "      <th>min</th>\n",
              "      <td>0.000000</td>\n",
              "      <td>0.000000</td>\n",
              "      <td>0.000000</td>\n",
              "      <td>-19.300000</td>\n",
              "      <td>-13.400000</td>\n",
              "      <td>8.000000</td>\n",
              "      <td>0.600000</td>\n",
              "      <td>-28.800000</td>\n",
              "      <td>988.900000</td>\n",
              "      <td>0.000000</td>\n",
              "      <td>0.000000</td>\n",
              "      <td>0.000000</td>\n",
              "      <td>10.000000</td>\n",
              "      <td>0.000000</td>\n",
              "      <td>1.000000</td>\n",
              "    </tr>\n",
              "    <tr>\n",
              "      <th>25%</th>\n",
              "      <td>0.000000</td>\n",
              "      <td>0.000000</td>\n",
              "      <td>0.000000</td>\n",
              "      <td>3.700000</td>\n",
              "      <td>6.400000</td>\n",
              "      <td>54.000000</td>\n",
              "      <td>5.600000</td>\n",
              "      <td>-1.200000</td>\n",
              "      <td>1001.700000</td>\n",
              "      <td>0.000000</td>\n",
              "      <td>0.000000</td>\n",
              "      <td>1.000000</td>\n",
              "      <td>1300.000000</td>\n",
              "      <td>5.750000</td>\n",
              "      <td>3.000000</td>\n",
              "    </tr>\n",
              "    <tr>\n",
              "      <th>50%</th>\n",
              "      <td>0.000000</td>\n",
              "      <td>0.000000</td>\n",
              "      <td>0.000000</td>\n",
              "      <td>16.000000</td>\n",
              "      <td>15.100000</td>\n",
              "      <td>72.000000</td>\n",
              "      <td>10.400000</td>\n",
              "      <td>7.500000</td>\n",
              "      <td>1009.200000</td>\n",
              "      <td>0.000000</td>\n",
              "      <td>0.080000</td>\n",
              "      <td>7.000000</td>\n",
              "      <td>1956.000000</td>\n",
              "      <td>11.500000</td>\n",
              "      <td>6.000000</td>\n",
              "    </tr>\n",
              "    <tr>\n",
              "      <th>75%</th>\n",
              "      <td>24.000000</td>\n",
              "      <td>245.000000</td>\n",
              "      <td>259.250000</td>\n",
              "      <td>25.700000</td>\n",
              "      <td>23.300000</td>\n",
              "      <td>93.000000</td>\n",
              "      <td>23.125000</td>\n",
              "      <td>19.900000</td>\n",
              "      <td>1014.900000</td>\n",
              "      <td>0.600000</td>\n",
              "      <td>1.080000</td>\n",
              "      <td>9.000000</td>\n",
              "      <td>2000.000000</td>\n",
              "      <td>17.250000</td>\n",
              "      <td>9.000000</td>\n",
              "    </tr>\n",
              "    <tr>\n",
              "      <th>max</th>\n",
              "      <td>110.800000</td>\n",
              "      <td>1300.000000</td>\n",
              "      <td>1263.000000</td>\n",
              "      <td>63.300000</td>\n",
              "      <td>34.500000</td>\n",
              "      <td>99.000000</td>\n",
              "      <td>41.900000</td>\n",
              "      <td>29.800000</td>\n",
              "      <td>1027.500000</td>\n",
              "      <td>1.000000</td>\n",
              "      <td>3.880000</td>\n",
              "      <td>10.000000</td>\n",
              "      <td>12000.000000</td>\n",
              "      <td>23.000000</td>\n",
              "      <td>12.000000</td>\n",
              "    </tr>\n",
              "  </tbody>\n",
              "</table>\n",
              "</div>\n",
              "      <button class=\"colab-df-convert\" onclick=\"convertToInteractive('df-06641572-44f9-4c20-8b60-163fedafcb78')\"\n",
              "              title=\"Convert this dataframe to an interactive table.\"\n",
              "              style=\"display:none;\">\n",
              "\n",
              "  <svg xmlns=\"http://www.w3.org/2000/svg\" height=\"24px\"viewBox=\"0 0 24 24\"\n",
              "       width=\"24px\">\n",
              "    <path d=\"M0 0h24v24H0V0z\" fill=\"none\"/>\n",
              "    <path d=\"M18.56 5.44l.94 2.06.94-2.06 2.06-.94-2.06-.94-.94-2.06-.94 2.06-2.06.94zm-11 1L8.5 8.5l.94-2.06 2.06-.94-2.06-.94L8.5 2.5l-.94 2.06-2.06.94zm10 10l.94 2.06.94-2.06 2.06-.94-2.06-.94-.94-2.06-.94 2.06-2.06.94z\"/><path d=\"M17.41 7.96l-1.37-1.37c-.4-.4-.92-.59-1.43-.59-.52 0-1.04.2-1.43.59L10.3 9.45l-7.72 7.72c-.78.78-.78 2.05 0 2.83L4 21.41c.39.39.9.59 1.41.59.51 0 1.02-.2 1.41-.59l7.78-7.78 2.81-2.81c.8-.78.8-2.07 0-2.86zM5.41 20L4 18.59l7.72-7.72 1.47 1.35L5.41 20z\"/>\n",
              "  </svg>\n",
              "      </button>\n",
              "\n",
              "\n",
              "\n",
              "    <div id=\"df-8bdf09da-291b-4476-acc8-ec67d292fb52\">\n",
              "      <button class=\"colab-df-quickchart\" onclick=\"quickchart('df-8bdf09da-291b-4476-acc8-ec67d292fb52')\"\n",
              "              title=\"Suggest charts.\"\n",
              "              style=\"display:none;\">\n",
              "\n",
              "<svg xmlns=\"http://www.w3.org/2000/svg\" height=\"24px\"viewBox=\"0 0 24 24\"\n",
              "     width=\"24px\">\n",
              "    <g>\n",
              "        <path d=\"M19 3H5c-1.1 0-2 .9-2 2v14c0 1.1.9 2 2 2h14c1.1 0 2-.9 2-2V5c0-1.1-.9-2-2-2zM9 17H7v-7h2v7zm4 0h-2V7h2v10zm4 0h-2v-4h2v4z\"/>\n",
              "    </g>\n",
              "</svg>\n",
              "      </button>\n",
              "    </div>\n",
              "\n",
              "<style>\n",
              "  .colab-df-quickchart {\n",
              "    background-color: #E8F0FE;\n",
              "    border: none;\n",
              "    border-radius: 50%;\n",
              "    cursor: pointer;\n",
              "    display: none;\n",
              "    fill: #1967D2;\n",
              "    height: 32px;\n",
              "    padding: 0 0 0 0;\n",
              "    width: 32px;\n",
              "  }\n",
              "\n",
              "  .colab-df-quickchart:hover {\n",
              "    background-color: #E2EBFA;\n",
              "    box-shadow: 0px 1px 2px rgba(60, 64, 67, 0.3), 0px 1px 3px 1px rgba(60, 64, 67, 0.15);\n",
              "    fill: #174EA6;\n",
              "  }\n",
              "\n",
              "  [theme=dark] .colab-df-quickchart {\n",
              "    background-color: #3B4455;\n",
              "    fill: #D2E3FC;\n",
              "  }\n",
              "\n",
              "  [theme=dark] .colab-df-quickchart:hover {\n",
              "    background-color: #434B5C;\n",
              "    box-shadow: 0px 1px 3px 1px rgba(0, 0, 0, 0.15);\n",
              "    filter: drop-shadow(0px 1px 2px rgba(0, 0, 0, 0.3));\n",
              "    fill: #FFFFFF;\n",
              "  }\n",
              "</style>\n",
              "\n",
              "    <script>\n",
              "      async function quickchart(key) {\n",
              "        const containerElement = document.querySelector('#' + key);\n",
              "        const charts = await google.colab.kernel.invokeFunction(\n",
              "            'suggestCharts', [key], {});\n",
              "      }\n",
              "    </script>\n",
              "\n",
              "      <script>\n",
              "\n",
              "function displayQuickchartButton(domScope) {\n",
              "  let quickchartButtonEl =\n",
              "    domScope.querySelector('#df-8bdf09da-291b-4476-acc8-ec67d292fb52 button.colab-df-quickchart');\n",
              "  quickchartButtonEl.style.display =\n",
              "    google.colab.kernel.accessAllowed ? 'block' : 'none';\n",
              "}\n",
              "\n",
              "        displayQuickchartButton(document);\n",
              "      </script>\n",
              "      <style>\n",
              "    .colab-df-container {\n",
              "      display:flex;\n",
              "      flex-wrap:wrap;\n",
              "      gap: 12px;\n",
              "    }\n",
              "\n",
              "    .colab-df-convert {\n",
              "      background-color: #E8F0FE;\n",
              "      border: none;\n",
              "      border-radius: 50%;\n",
              "      cursor: pointer;\n",
              "      display: none;\n",
              "      fill: #1967D2;\n",
              "      height: 32px;\n",
              "      padding: 0 0 0 0;\n",
              "      width: 32px;\n",
              "    }\n",
              "\n",
              "    .colab-df-convert:hover {\n",
              "      background-color: #E2EBFA;\n",
              "      box-shadow: 0px 1px 2px rgba(60, 64, 67, 0.3), 0px 1px 3px 1px rgba(60, 64, 67, 0.15);\n",
              "      fill: #174EA6;\n",
              "    }\n",
              "\n",
              "    [theme=dark] .colab-df-convert {\n",
              "      background-color: #3B4455;\n",
              "      fill: #D2E3FC;\n",
              "    }\n",
              "\n",
              "    [theme=dark] .colab-df-convert:hover {\n",
              "      background-color: #434B5C;\n",
              "      box-shadow: 0px 1px 3px 1px rgba(0, 0, 0, 0.15);\n",
              "      filter: drop-shadow(0px 1px 2px rgba(0, 0, 0, 0.3));\n",
              "      fill: #FFFFFF;\n",
              "    }\n",
              "  </style>\n",
              "\n",
              "      <script>\n",
              "        const buttonEl =\n",
              "          document.querySelector('#df-06641572-44f9-4c20-8b60-163fedafcb78 button.colab-df-convert');\n",
              "        buttonEl.style.display =\n",
              "          google.colab.kernel.accessAllowed ? 'block' : 'none';\n",
              "\n",
              "        async function convertToInteractive(key) {\n",
              "          const element = document.querySelector('#df-06641572-44f9-4c20-8b60-163fedafcb78');\n",
              "          const dataTable =\n",
              "            await google.colab.kernel.invokeFunction('convertToInteractive',\n",
              "                                                     [key], {});\n",
              "          if (!dataTable) return;\n",
              "\n",
              "          const docLinkHtml = 'Like what you see? Visit the ' +\n",
              "            '<a target=\"_blank\" href=https://colab.research.google.com/notebooks/data_table.ipynb>data table notebook</a>'\n",
              "            + ' to learn more about interactive tables.';\n",
              "          element.innerHTML = '';\n",
              "          dataTable['output_type'] = 'display_data';\n",
              "          await google.colab.output.renderOutput(dataTable, element);\n",
              "          const docLink = document.createElement('div');\n",
              "          docLink.innerHTML = docLinkHtml;\n",
              "          element.appendChild(docLink);\n",
              "        }\n",
              "      </script>\n",
              "    </div>\n",
              "  </div>\n"
            ]
          },
          "metadata": {},
          "execution_count": 50
        }
      ]
    },
    {
      "cell_type": "markdown",
      "source": [
        "# Data preprocessing"
      ],
      "metadata": {
        "id": "Fwk0Hh1VAxST"
      }
    },
    {
      "cell_type": "markdown",
      "source": [
        "We first check the reformatted dataset combined with meteorological data."
      ],
      "metadata": {
        "id": "wS3tPKppO4ed"
      }
    },
    {
      "cell_type": "code",
      "source": [
        "data.head()"
      ],
      "metadata": {
        "colab": {
          "base_uri": "https://localhost:8080/",
          "height": 371
        },
        "id": "55l6BUiOELVn",
        "outputId": "408c1426-4c4f-41ba-c9a0-898c4382173b"
      },
      "execution_count": null,
      "outputs": [
        {
          "output_type": "execute_result",
          "data": {
            "text/plain": [
              "                     시간당발전량(kWh)  수평면(w/㎡)  경사면(w/㎡)  모듈온도(℃)  기온(°C)  습도(%)  \\\n",
              "YEAR_MONTH_DAY_HOUR                                                            \n",
              "2020-06-01 00:00:00          0.0       0.0       0.0     19.0    19.5   89.0   \n",
              "2020-06-01 01:00:00          0.0       0.0       0.0     18.9    19.3   93.0   \n",
              "2020-06-01 02:00:00          0.0       0.0       0.0     18.7    19.2   94.0   \n",
              "2020-06-01 03:00:00          0.0       0.0       0.0     18.7    19.1   96.0   \n",
              "2020-06-01 04:00:00          0.0       0.0       0.0     17.5    18.6   98.0   \n",
              "\n",
              "                     증기압(hPa)  이슬점온도(°C)  현지기압(hPa)  일조(hr)  일사(MJ/m2)  \\\n",
              "YEAR_MONTH_DAY_HOUR                                                      \n",
              "2020-06-01 00:00:00      20.1       17.6     1002.9     0.0        0.0   \n",
              "2020-06-01 01:00:00      20.8       18.1     1003.1     0.0        0.0   \n",
              "2020-06-01 02:00:00      20.9       18.2     1002.8     0.0        0.0   \n",
              "2020-06-01 03:00:00      21.2       18.4     1002.7     0.0        0.0   \n",
              "2020-06-01 04:00:00      20.9       18.2     1002.6     0.0        0.0   \n",
              "\n",
              "                     전운량(10분위)  시정(10m)  Hour  Month  \n",
              "YEAR_MONTH_DAY_HOUR                                   \n",
              "2020-06-01 00:00:00       10.0   1652.0     0      6  \n",
              "2020-06-01 01:00:00       10.0   1395.0     1      6  \n",
              "2020-06-01 02:00:00       10.0   1162.0     2      6  \n",
              "2020-06-01 03:00:00       10.0    747.0     3      6  \n",
              "2020-06-01 04:00:00       10.0    509.0     4      6  "
            ],
            "text/html": [
              "\n",
              "\n",
              "  <div id=\"df-267cc350-e122-4e6b-a7d7-095d0ade2cd6\">\n",
              "    <div class=\"colab-df-container\">\n",
              "      <div>\n",
              "<style scoped>\n",
              "    .dataframe tbody tr th:only-of-type {\n",
              "        vertical-align: middle;\n",
              "    }\n",
              "\n",
              "    .dataframe tbody tr th {\n",
              "        vertical-align: top;\n",
              "    }\n",
              "\n",
              "    .dataframe thead th {\n",
              "        text-align: right;\n",
              "    }\n",
              "</style>\n",
              "<table border=\"1\" class=\"dataframe\">\n",
              "  <thead>\n",
              "    <tr style=\"text-align: right;\">\n",
              "      <th></th>\n",
              "      <th>시간당발전량(kWh)</th>\n",
              "      <th>수평면(w/㎡)</th>\n",
              "      <th>경사면(w/㎡)</th>\n",
              "      <th>모듈온도(℃)</th>\n",
              "      <th>기온(°C)</th>\n",
              "      <th>습도(%)</th>\n",
              "      <th>증기압(hPa)</th>\n",
              "      <th>이슬점온도(°C)</th>\n",
              "      <th>현지기압(hPa)</th>\n",
              "      <th>일조(hr)</th>\n",
              "      <th>일사(MJ/m2)</th>\n",
              "      <th>전운량(10분위)</th>\n",
              "      <th>시정(10m)</th>\n",
              "      <th>Hour</th>\n",
              "      <th>Month</th>\n",
              "    </tr>\n",
              "    <tr>\n",
              "      <th>YEAR_MONTH_DAY_HOUR</th>\n",
              "      <th></th>\n",
              "      <th></th>\n",
              "      <th></th>\n",
              "      <th></th>\n",
              "      <th></th>\n",
              "      <th></th>\n",
              "      <th></th>\n",
              "      <th></th>\n",
              "      <th></th>\n",
              "      <th></th>\n",
              "      <th></th>\n",
              "      <th></th>\n",
              "      <th></th>\n",
              "      <th></th>\n",
              "      <th></th>\n",
              "    </tr>\n",
              "  </thead>\n",
              "  <tbody>\n",
              "    <tr>\n",
              "      <th>2020-06-01 00:00:00</th>\n",
              "      <td>0.0</td>\n",
              "      <td>0.0</td>\n",
              "      <td>0.0</td>\n",
              "      <td>19.0</td>\n",
              "      <td>19.5</td>\n",
              "      <td>89.0</td>\n",
              "      <td>20.1</td>\n",
              "      <td>17.6</td>\n",
              "      <td>1002.9</td>\n",
              "      <td>0.0</td>\n",
              "      <td>0.0</td>\n",
              "      <td>10.0</td>\n",
              "      <td>1652.0</td>\n",
              "      <td>0</td>\n",
              "      <td>6</td>\n",
              "    </tr>\n",
              "    <tr>\n",
              "      <th>2020-06-01 01:00:00</th>\n",
              "      <td>0.0</td>\n",
              "      <td>0.0</td>\n",
              "      <td>0.0</td>\n",
              "      <td>18.9</td>\n",
              "      <td>19.3</td>\n",
              "      <td>93.0</td>\n",
              "      <td>20.8</td>\n",
              "      <td>18.1</td>\n",
              "      <td>1003.1</td>\n",
              "      <td>0.0</td>\n",
              "      <td>0.0</td>\n",
              "      <td>10.0</td>\n",
              "      <td>1395.0</td>\n",
              "      <td>1</td>\n",
              "      <td>6</td>\n",
              "    </tr>\n",
              "    <tr>\n",
              "      <th>2020-06-01 02:00:00</th>\n",
              "      <td>0.0</td>\n",
              "      <td>0.0</td>\n",
              "      <td>0.0</td>\n",
              "      <td>18.7</td>\n",
              "      <td>19.2</td>\n",
              "      <td>94.0</td>\n",
              "      <td>20.9</td>\n",
              "      <td>18.2</td>\n",
              "      <td>1002.8</td>\n",
              "      <td>0.0</td>\n",
              "      <td>0.0</td>\n",
              "      <td>10.0</td>\n",
              "      <td>1162.0</td>\n",
              "      <td>2</td>\n",
              "      <td>6</td>\n",
              "    </tr>\n",
              "    <tr>\n",
              "      <th>2020-06-01 03:00:00</th>\n",
              "      <td>0.0</td>\n",
              "      <td>0.0</td>\n",
              "      <td>0.0</td>\n",
              "      <td>18.7</td>\n",
              "      <td>19.1</td>\n",
              "      <td>96.0</td>\n",
              "      <td>21.2</td>\n",
              "      <td>18.4</td>\n",
              "      <td>1002.7</td>\n",
              "      <td>0.0</td>\n",
              "      <td>0.0</td>\n",
              "      <td>10.0</td>\n",
              "      <td>747.0</td>\n",
              "      <td>3</td>\n",
              "      <td>6</td>\n",
              "    </tr>\n",
              "    <tr>\n",
              "      <th>2020-06-01 04:00:00</th>\n",
              "      <td>0.0</td>\n",
              "      <td>0.0</td>\n",
              "      <td>0.0</td>\n",
              "      <td>17.5</td>\n",
              "      <td>18.6</td>\n",
              "      <td>98.0</td>\n",
              "      <td>20.9</td>\n",
              "      <td>18.2</td>\n",
              "      <td>1002.6</td>\n",
              "      <td>0.0</td>\n",
              "      <td>0.0</td>\n",
              "      <td>10.0</td>\n",
              "      <td>509.0</td>\n",
              "      <td>4</td>\n",
              "      <td>6</td>\n",
              "    </tr>\n",
              "  </tbody>\n",
              "</table>\n",
              "</div>\n",
              "      <button class=\"colab-df-convert\" onclick=\"convertToInteractive('df-267cc350-e122-4e6b-a7d7-095d0ade2cd6')\"\n",
              "              title=\"Convert this dataframe to an interactive table.\"\n",
              "              style=\"display:none;\">\n",
              "\n",
              "  <svg xmlns=\"http://www.w3.org/2000/svg\" height=\"24px\"viewBox=\"0 0 24 24\"\n",
              "       width=\"24px\">\n",
              "    <path d=\"M0 0h24v24H0V0z\" fill=\"none\"/>\n",
              "    <path d=\"M18.56 5.44l.94 2.06.94-2.06 2.06-.94-2.06-.94-.94-2.06-.94 2.06-2.06.94zm-11 1L8.5 8.5l.94-2.06 2.06-.94-2.06-.94L8.5 2.5l-.94 2.06-2.06.94zm10 10l.94 2.06.94-2.06 2.06-.94-2.06-.94-.94-2.06-.94 2.06-2.06.94z\"/><path d=\"M17.41 7.96l-1.37-1.37c-.4-.4-.92-.59-1.43-.59-.52 0-1.04.2-1.43.59L10.3 9.45l-7.72 7.72c-.78.78-.78 2.05 0 2.83L4 21.41c.39.39.9.59 1.41.59.51 0 1.02-.2 1.41-.59l7.78-7.78 2.81-2.81c.8-.78.8-2.07 0-2.86zM5.41 20L4 18.59l7.72-7.72 1.47 1.35L5.41 20z\"/>\n",
              "  </svg>\n",
              "      </button>\n",
              "\n",
              "\n",
              "\n",
              "    <div id=\"df-689a3547-1323-45ff-ad46-33ce8cd27c3b\">\n",
              "      <button class=\"colab-df-quickchart\" onclick=\"quickchart('df-689a3547-1323-45ff-ad46-33ce8cd27c3b')\"\n",
              "              title=\"Suggest charts.\"\n",
              "              style=\"display:none;\">\n",
              "\n",
              "<svg xmlns=\"http://www.w3.org/2000/svg\" height=\"24px\"viewBox=\"0 0 24 24\"\n",
              "     width=\"24px\">\n",
              "    <g>\n",
              "        <path d=\"M19 3H5c-1.1 0-2 .9-2 2v14c0 1.1.9 2 2 2h14c1.1 0 2-.9 2-2V5c0-1.1-.9-2-2-2zM9 17H7v-7h2v7zm4 0h-2V7h2v10zm4 0h-2v-4h2v4z\"/>\n",
              "    </g>\n",
              "</svg>\n",
              "      </button>\n",
              "    </div>\n",
              "\n",
              "<style>\n",
              "  .colab-df-quickchart {\n",
              "    background-color: #E8F0FE;\n",
              "    border: none;\n",
              "    border-radius: 50%;\n",
              "    cursor: pointer;\n",
              "    display: none;\n",
              "    fill: #1967D2;\n",
              "    height: 32px;\n",
              "    padding: 0 0 0 0;\n",
              "    width: 32px;\n",
              "  }\n",
              "\n",
              "  .colab-df-quickchart:hover {\n",
              "    background-color: #E2EBFA;\n",
              "    box-shadow: 0px 1px 2px rgba(60, 64, 67, 0.3), 0px 1px 3px 1px rgba(60, 64, 67, 0.15);\n",
              "    fill: #174EA6;\n",
              "  }\n",
              "\n",
              "  [theme=dark] .colab-df-quickchart {\n",
              "    background-color: #3B4455;\n",
              "    fill: #D2E3FC;\n",
              "  }\n",
              "\n",
              "  [theme=dark] .colab-df-quickchart:hover {\n",
              "    background-color: #434B5C;\n",
              "    box-shadow: 0px 1px 3px 1px rgba(0, 0, 0, 0.15);\n",
              "    filter: drop-shadow(0px 1px 2px rgba(0, 0, 0, 0.3));\n",
              "    fill: #FFFFFF;\n",
              "  }\n",
              "</style>\n",
              "\n",
              "    <script>\n",
              "      async function quickchart(key) {\n",
              "        const containerElement = document.querySelector('#' + key);\n",
              "        const charts = await google.colab.kernel.invokeFunction(\n",
              "            'suggestCharts', [key], {});\n",
              "      }\n",
              "    </script>\n",
              "\n",
              "      <script>\n",
              "\n",
              "function displayQuickchartButton(domScope) {\n",
              "  let quickchartButtonEl =\n",
              "    domScope.querySelector('#df-689a3547-1323-45ff-ad46-33ce8cd27c3b button.colab-df-quickchart');\n",
              "  quickchartButtonEl.style.display =\n",
              "    google.colab.kernel.accessAllowed ? 'block' : 'none';\n",
              "}\n",
              "\n",
              "        displayQuickchartButton(document);\n",
              "      </script>\n",
              "      <style>\n",
              "    .colab-df-container {\n",
              "      display:flex;\n",
              "      flex-wrap:wrap;\n",
              "      gap: 12px;\n",
              "    }\n",
              "\n",
              "    .colab-df-convert {\n",
              "      background-color: #E8F0FE;\n",
              "      border: none;\n",
              "      border-radius: 50%;\n",
              "      cursor: pointer;\n",
              "      display: none;\n",
              "      fill: #1967D2;\n",
              "      height: 32px;\n",
              "      padding: 0 0 0 0;\n",
              "      width: 32px;\n",
              "    }\n",
              "\n",
              "    .colab-df-convert:hover {\n",
              "      background-color: #E2EBFA;\n",
              "      box-shadow: 0px 1px 2px rgba(60, 64, 67, 0.3), 0px 1px 3px 1px rgba(60, 64, 67, 0.15);\n",
              "      fill: #174EA6;\n",
              "    }\n",
              "\n",
              "    [theme=dark] .colab-df-convert {\n",
              "      background-color: #3B4455;\n",
              "      fill: #D2E3FC;\n",
              "    }\n",
              "\n",
              "    [theme=dark] .colab-df-convert:hover {\n",
              "      background-color: #434B5C;\n",
              "      box-shadow: 0px 1px 3px 1px rgba(0, 0, 0, 0.15);\n",
              "      filter: drop-shadow(0px 1px 2px rgba(0, 0, 0, 0.3));\n",
              "      fill: #FFFFFF;\n",
              "    }\n",
              "  </style>\n",
              "\n",
              "      <script>\n",
              "        const buttonEl =\n",
              "          document.querySelector('#df-267cc350-e122-4e6b-a7d7-095d0ade2cd6 button.colab-df-convert');\n",
              "        buttonEl.style.display =\n",
              "          google.colab.kernel.accessAllowed ? 'block' : 'none';\n",
              "\n",
              "        async function convertToInteractive(key) {\n",
              "          const element = document.querySelector('#df-267cc350-e122-4e6b-a7d7-095d0ade2cd6');\n",
              "          const dataTable =\n",
              "            await google.colab.kernel.invokeFunction('convertToInteractive',\n",
              "                                                     [key], {});\n",
              "          if (!dataTable) return;\n",
              "\n",
              "          const docLinkHtml = 'Like what you see? Visit the ' +\n",
              "            '<a target=\"_blank\" href=https://colab.research.google.com/notebooks/data_table.ipynb>data table notebook</a>'\n",
              "            + ' to learn more about interactive tables.';\n",
              "          element.innerHTML = '';\n",
              "          dataTable['output_type'] = 'display_data';\n",
              "          await google.colab.output.renderOutput(dataTable, element);\n",
              "          const docLink = document.createElement('div');\n",
              "          docLink.innerHTML = docLinkHtml;\n",
              "          element.appendChild(docLink);\n",
              "        }\n",
              "      </script>\n",
              "    </div>\n",
              "  </div>\n"
            ]
          },
          "metadata": {},
          "execution_count": 12
        }
      ]
    },
    {
      "cell_type": "code",
      "source": [
        "data.shape"
      ],
      "metadata": {
        "colab": {
          "base_uri": "https://localhost:8080/"
        },
        "id": "TGZXJ5Oon5DN",
        "outputId": "6f0fd11f-bd92-480a-9ffb-89cc800a7d1d"
      },
      "execution_count": null,
      "outputs": [
        {
          "output_type": "execute_result",
          "data": {
            "text/plain": [
              "(19584, 15)"
            ]
          },
          "metadata": {},
          "execution_count": 13
        }
      ]
    },
    {
      "cell_type": "markdown",
      "source": [
        "We apply different encoding strategies to features according to their types; MinMaxScaler() for numerical; LabelEncoder() for categorical; and cyclic encoding for cyclic features."
      ],
      "metadata": {
        "id": "6PL_qpKYPKGR"
      }
    },
    {
      "cell_type": "code",
      "source": [
        "# Separate numerical and categorical features\n",
        "numerical_features = ['시간당발전량(kWh)', '수평면(w/㎡)', '경사면(w/㎡)', '모듈온도(℃)', '기온(°C)', '습도(%)',\n",
        "                           '증기압(hPa)', '이슬점온도(°C)', '현지기압(hPa)', '일조(hr)',\n",
        "                           '일사(MJ/m2)', '시정(10m)']\n",
        "categorical_features = ['전운량(10분위)']\n",
        "cyclic_features = ['Hour', 'Month']\n",
        "scaler = MinMaxScaler()\n",
        "\n",
        "\n",
        "preprocessor = ColumnTransformer(\n",
        "    transformers=[\n",
        "        ('num', scaler, numerical_features),\n",
        "        ('cyc', 'passthrough', [f + '_sin' for f in cyclic_features] + [f + '_cos' for f in cyclic_features]),\n",
        "        ('cat', 'passthrough', categorical_features)\n",
        "    ])"
      ],
      "metadata": {
        "id": "7BkKJJ77nozQ"
      },
      "execution_count": 51,
      "outputs": []
    },
    {
      "cell_type": "code",
      "source": [
        "# Perform cyclical encoding for cyclic features\n",
        "def cyclical_encode(df, feature, max_val):\n",
        "    df[feature + '_sin'] = np.sin(2 * np.pi * df[feature] / max_val)\n",
        "    df[feature + '_cos'] = np.cos(2 * np.pi * df[feature] / max_val)\n",
        "    df = df.drop(feature, axis=1)\n",
        "    return df"
      ],
      "metadata": {
        "id": "xAovQ9lMjy4w"
      },
      "execution_count": 16,
      "outputs": []
    },
    {
      "cell_type": "code",
      "source": [
        "np.array(data['시간당발전량(kWh)'])"
      ],
      "metadata": {
        "colab": {
          "base_uri": "https://localhost:8080/"
        },
        "id": "nPKOr3b0b7si",
        "outputId": "89859bef-9b22-4260-952d-1e184f15d7e6"
      },
      "execution_count": 23,
      "outputs": [
        {
          "output_type": "execute_result",
          "data": {
            "text/plain": [
              "array([0., 0., 0., ..., 0., 0., 0.])"
            ]
          },
          "metadata": {},
          "execution_count": 23
        }
      ]
    },
    {
      "cell_type": "code",
      "source": [
        "# Separate input features and target variable\n",
        "X_dict = dict()\n",
        "y_dict = dict()\n",
        "for b, data in buildings.items():\n",
        "    # Apply cyclical encoding for each cyclic feature\n",
        "    for feature in cyclic_features:\n",
        "        max_val = data[feature].max()\n",
        "        buildings[b] = cyclical_encode(data, feature, max_val)\n",
        "\n",
        "    X = data[numerical_features + categorical_features + [f + '_sin' for f in cyclic_features] + [f + '_cos' for f in cyclic_features]]\n",
        "    y = data['시간당발전량(kWh)']\n",
        "\n",
        "    # Create the ColumnTransformer for preprocessing\n",
        "    # One-hot encoding for categorical features\n",
        "    # Keep the numerical and cyclical features as they are\n",
        "    label_encoder = LabelEncoder()\n",
        "    X['전운량(10분위)'] = label_encoder.fit_transform(data.loc[:, '전운량(10분위)'])\n",
        "    # Apply the preprocessing to the input features\n",
        "    X_preprocessed = preprocessor.fit_transform(X)\n",
        "    y_preprocessed = scaler.fit_transform(y.values.reshape(-1, 1))\n",
        "\n",
        "    # Print the preprocessed shape\n",
        "    print(\"Preprocessed shape:\", X_preprocessed.shape)\n",
        "\n",
        "    # Convert the preprocessed data into a PyTorch tensor\n",
        "    X_tensor = torch.tensor(X_preprocessed, dtype=torch.float32)\n",
        "    y_tensor = torch.tensor(y_preprocessed, dtype=torch.float32)\n",
        "\n",
        "    X_dict[b] = X_tensor\n",
        "    y_dict[b] = y_tensor"
      ],
      "metadata": {
        "id": "CkTrHzfYKFIc",
        "colab": {
          "base_uri": "https://localhost:8080/"
        },
        "outputId": "67a78afd-a740-49ce-b599-ebb445f4fa1b"
      },
      "execution_count": 52,
      "outputs": [
        {
          "output_type": "stream",
          "name": "stderr",
          "text": [
            "<ipython-input-52-3cda416f61bd>:17: SettingWithCopyWarning: \n",
            "A value is trying to be set on a copy of a slice from a DataFrame.\n",
            "Try using .loc[row_indexer,col_indexer] = value instead\n",
            "\n",
            "See the caveats in the documentation: https://pandas.pydata.org/pandas-docs/stable/user_guide/indexing.html#returning-a-view-versus-a-copy\n",
            "  X['전운량(10분위)'] = label_encoder.fit_transform(data.loc[:, '전운량(10분위)'])\n",
            "<ipython-input-52-3cda416f61bd>:17: SettingWithCopyWarning: \n",
            "A value is trying to be set on a copy of a slice from a DataFrame.\n",
            "Try using .loc[row_indexer,col_indexer] = value instead\n",
            "\n",
            "See the caveats in the documentation: https://pandas.pydata.org/pandas-docs/stable/user_guide/indexing.html#returning-a-view-versus-a-copy\n",
            "  X['전운량(10분위)'] = label_encoder.fit_transform(data.loc[:, '전운량(10분위)'])\n",
            "<ipython-input-52-3cda416f61bd>:17: SettingWithCopyWarning: \n",
            "A value is trying to be set on a copy of a slice from a DataFrame.\n",
            "Try using .loc[row_indexer,col_indexer] = value instead\n",
            "\n",
            "See the caveats in the documentation: https://pandas.pydata.org/pandas-docs/stable/user_guide/indexing.html#returning-a-view-versus-a-copy\n",
            "  X['전운량(10분위)'] = label_encoder.fit_transform(data.loc[:, '전운량(10분위)'])\n",
            "<ipython-input-52-3cda416f61bd>:17: SettingWithCopyWarning: \n",
            "A value is trying to be set on a copy of a slice from a DataFrame.\n",
            "Try using .loc[row_indexer,col_indexer] = value instead\n",
            "\n",
            "See the caveats in the documentation: https://pandas.pydata.org/pandas-docs/stable/user_guide/indexing.html#returning-a-view-versus-a-copy\n",
            "  X['전운량(10분위)'] = label_encoder.fit_transform(data.loc[:, '전운량(10분위)'])\n",
            "<ipython-input-52-3cda416f61bd>:17: SettingWithCopyWarning: \n",
            "A value is trying to be set on a copy of a slice from a DataFrame.\n",
            "Try using .loc[row_indexer,col_indexer] = value instead\n",
            "\n",
            "See the caveats in the documentation: https://pandas.pydata.org/pandas-docs/stable/user_guide/indexing.html#returning-a-view-versus-a-copy\n",
            "  X['전운량(10분위)'] = label_encoder.fit_transform(data.loc[:, '전운량(10분위)'])\n",
            "<ipython-input-52-3cda416f61bd>:17: SettingWithCopyWarning: \n",
            "A value is trying to be set on a copy of a slice from a DataFrame.\n",
            "Try using .loc[row_indexer,col_indexer] = value instead\n",
            "\n",
            "See the caveats in the documentation: https://pandas.pydata.org/pandas-docs/stable/user_guide/indexing.html#returning-a-view-versus-a-copy\n",
            "  X['전운량(10분위)'] = label_encoder.fit_transform(data.loc[:, '전운량(10분위)'])\n",
            "<ipython-input-52-3cda416f61bd>:17: SettingWithCopyWarning: \n",
            "A value is trying to be set on a copy of a slice from a DataFrame.\n",
            "Try using .loc[row_indexer,col_indexer] = value instead\n",
            "\n",
            "See the caveats in the documentation: https://pandas.pydata.org/pandas-docs/stable/user_guide/indexing.html#returning-a-view-versus-a-copy\n",
            "  X['전운량(10분위)'] = label_encoder.fit_transform(data.loc[:, '전운량(10분위)'])\n",
            "<ipython-input-52-3cda416f61bd>:17: SettingWithCopyWarning: \n",
            "A value is trying to be set on a copy of a slice from a DataFrame.\n",
            "Try using .loc[row_indexer,col_indexer] = value instead\n",
            "\n",
            "See the caveats in the documentation: https://pandas.pydata.org/pandas-docs/stable/user_guide/indexing.html#returning-a-view-versus-a-copy\n",
            "  X['전운량(10분위)'] = label_encoder.fit_transform(data.loc[:, '전운량(10분위)'])\n",
            "<ipython-input-52-3cda416f61bd>:17: SettingWithCopyWarning: \n",
            "A value is trying to be set on a copy of a slice from a DataFrame.\n",
            "Try using .loc[row_indexer,col_indexer] = value instead\n",
            "\n",
            "See the caveats in the documentation: https://pandas.pydata.org/pandas-docs/stable/user_guide/indexing.html#returning-a-view-versus-a-copy\n",
            "  X['전운량(10분위)'] = label_encoder.fit_transform(data.loc[:, '전운량(10분위)'])\n",
            "<ipython-input-52-3cda416f61bd>:17: SettingWithCopyWarning: \n",
            "A value is trying to be set on a copy of a slice from a DataFrame.\n",
            "Try using .loc[row_indexer,col_indexer] = value instead\n",
            "\n",
            "See the caveats in the documentation: https://pandas.pydata.org/pandas-docs/stable/user_guide/indexing.html#returning-a-view-versus-a-copy\n",
            "  X['전운량(10분위)'] = label_encoder.fit_transform(data.loc[:, '전운량(10분위)'])\n"
          ]
        },
        {
          "output_type": "stream",
          "name": "stdout",
          "text": [
            "Preprocessed shape: (19584, 17)\n",
            "Preprocessed shape: (19584, 17)\n",
            "Preprocessed shape: (19584, 17)\n",
            "Preprocessed shape: (19584, 17)\n",
            "Preprocessed shape: (19584, 17)\n",
            "Preprocessed shape: (19584, 17)\n",
            "Preprocessed shape: (19584, 17)\n",
            "Preprocessed shape: (19584, 17)\n",
            "Preprocessed shape: (16128, 17)\n",
            "Preprocessed shape: (19584, 17)\n",
            "Preprocessed shape: (19584, 17)\n",
            "Preprocessed shape: (19584, 17)\n",
            "Preprocessed shape: (19584, 17)\n",
            "Preprocessed shape: (16104, 17)\n"
          ]
        },
        {
          "output_type": "stream",
          "name": "stderr",
          "text": [
            "<ipython-input-52-3cda416f61bd>:17: SettingWithCopyWarning: \n",
            "A value is trying to be set on a copy of a slice from a DataFrame.\n",
            "Try using .loc[row_indexer,col_indexer] = value instead\n",
            "\n",
            "See the caveats in the documentation: https://pandas.pydata.org/pandas-docs/stable/user_guide/indexing.html#returning-a-view-versus-a-copy\n",
            "  X['전운량(10분위)'] = label_encoder.fit_transform(data.loc[:, '전운량(10분위)'])\n",
            "<ipython-input-52-3cda416f61bd>:17: SettingWithCopyWarning: \n",
            "A value is trying to be set on a copy of a slice from a DataFrame.\n",
            "Try using .loc[row_indexer,col_indexer] = value instead\n",
            "\n",
            "See the caveats in the documentation: https://pandas.pydata.org/pandas-docs/stable/user_guide/indexing.html#returning-a-view-versus-a-copy\n",
            "  X['전운량(10분위)'] = label_encoder.fit_transform(data.loc[:, '전운량(10분위)'])\n",
            "<ipython-input-52-3cda416f61bd>:17: SettingWithCopyWarning: \n",
            "A value is trying to be set on a copy of a slice from a DataFrame.\n",
            "Try using .loc[row_indexer,col_indexer] = value instead\n",
            "\n",
            "See the caveats in the documentation: https://pandas.pydata.org/pandas-docs/stable/user_guide/indexing.html#returning-a-view-versus-a-copy\n",
            "  X['전운량(10분위)'] = label_encoder.fit_transform(data.loc[:, '전운량(10분위)'])\n",
            "<ipython-input-52-3cda416f61bd>:17: SettingWithCopyWarning: \n",
            "A value is trying to be set on a copy of a slice from a DataFrame.\n",
            "Try using .loc[row_indexer,col_indexer] = value instead\n",
            "\n",
            "See the caveats in the documentation: https://pandas.pydata.org/pandas-docs/stable/user_guide/indexing.html#returning-a-view-versus-a-copy\n",
            "  X['전운량(10분위)'] = label_encoder.fit_transform(data.loc[:, '전운량(10분위)'])\n"
          ]
        }
      ]
    },
    {
      "cell_type": "markdown",
      "source": [
        "Shape checking"
      ],
      "metadata": {
        "id": "VAfVfYJhRcCo"
      }
    },
    {
      "cell_type": "code",
      "source": [
        "X_tensor.shape"
      ],
      "metadata": {
        "colab": {
          "base_uri": "https://localhost:8080/"
        },
        "id": "iK-PSKk8PLMj",
        "outputId": "9feced40-bda7-4546-c5d4-c04888708822"
      },
      "execution_count": 26,
      "outputs": [
        {
          "output_type": "execute_result",
          "data": {
            "text/plain": [
              "torch.Size([19584, 17])"
            ]
          },
          "metadata": {},
          "execution_count": 26
        }
      ]
    },
    {
      "cell_type": "code",
      "source": [
        "y_tensor.shape"
      ],
      "metadata": {
        "colab": {
          "base_uri": "https://localhost:8080/"
        },
        "id": "Xh7S42PaRkjF",
        "outputId": "cadbca3a-f36e-400a-dfcc-e24a95b69319"
      },
      "execution_count": 25,
      "outputs": [
        {
          "output_type": "execute_result",
          "data": {
            "text/plain": [
              "torch.Size([19584, 1])"
            ]
          },
          "metadata": {},
          "execution_count": 25
        }
      ]
    },
    {
      "cell_type": "code",
      "source": [
        "y_dict.keys()"
      ],
      "metadata": {
        "colab": {
          "base_uri": "https://localhost:8080/"
        },
        "id": "glfUHMc2dKVb",
        "outputId": "b0f3d48d-c8f0-4958-9261-e39f444b6539"
      },
      "execution_count": 53,
      "outputs": [
        {
          "output_type": "execute_result",
          "data": {
            "text/plain": [
              "dict_keys(['축구장', '신재생에너지동', '학사과정', '시설관리동', '대학C동', '다산빌딩', '삼성환경동', '중앙도서관', '기숙사B동', '동물실험동', '중앙창고', 'LG도서관', '학생회관', '산업협력관'])"
            ]
          },
          "metadata": {},
          "execution_count": 53
        }
      ]
    },
    {
      "cell_type": "code",
      "source": [
        "y_dict['산업협력관'].shape"
      ],
      "metadata": {
        "colab": {
          "base_uri": "https://localhost:8080/"
        },
        "id": "sBZnmw7ac_HF",
        "outputId": "0473acc3-a697-415f-81ac-e7fca8554290"
      },
      "execution_count": 29,
      "outputs": [
        {
          "output_type": "execute_result",
          "data": {
            "text/plain": [
              "torch.Size([18672, 1])"
            ]
          },
          "metadata": {},
          "execution_count": 29
        }
      ]
    },
    {
      "cell_type": "markdown",
      "source": [
        "Since we are using LSTM for the prediction, we create sequences for training. We use the past 7 days' data to predict the next 24-hour solar power generation."
      ],
      "metadata": {
        "id": "UbVQ4qgiQds4"
      }
    },
    {
      "cell_type": "code",
      "source": [
        "# Define the sequence length (past week's data)\n",
        "sequence_length = 24 * 7  # 24 hours * 7 days\n",
        "\n",
        "seq_dict = defaultdict(list)\n",
        "lab_dict = defaultdict(list)\n",
        "for b in buildings.keys():\n",
        "    X_tensor = X_dict[b]\n",
        "    y_tensor = y_dict[b]\n",
        "    # Create sequences and labels\n",
        "    sequences = []\n",
        "    labels = []\n",
        "    for i in range(len(X_tensor) - sequence_length - 24):  # Subtract 24 to account for predicting the next 24 hours\n",
        "        seq = X_tensor[i:i+sequence_length]\n",
        "        label = y_tensor[i+sequence_length:i+sequence_length+24]  # Next 24 hours\n",
        "        sequences.append(seq)\n",
        "        labels.append(label)\n",
        "\n",
        "    seq_dict[b] = torch.stack(sequences)\n",
        "    lab_dict[b] = torch.stack(labels)"
      ],
      "metadata": {
        "id": "kA6N54DNt390"
      },
      "execution_count": 54,
      "outputs": []
    },
    {
      "cell_type": "markdown",
      "source": [
        "Shape checking"
      ],
      "metadata": {
        "id": "ZhMi1B6gRfYA"
      }
    },
    {
      "cell_type": "code",
      "source": [
        "seq_dict[b].shape, lab_dict[b].shape"
      ],
      "metadata": {
        "colab": {
          "base_uri": "https://localhost:8080/"
        },
        "id": "CoHtNL0k-xBm",
        "outputId": "c3fee3c9-5b9c-42a0-b746-495335888667"
      },
      "execution_count": 55,
      "outputs": [
        {
          "output_type": "execute_result",
          "data": {
            "text/plain": [
              "(torch.Size([15912, 168, 17]), torch.Size([15912, 24, 1]))"
            ]
          },
          "metadata": {},
          "execution_count": 55
        }
      ]
    },
    {
      "cell_type": "code",
      "source": [
        "lab_dict[b].squeeze().shape"
      ],
      "metadata": {
        "colab": {
          "base_uri": "https://localhost:8080/"
        },
        "id": "ZzAIujpfewe_",
        "outputId": "a0a8bc3e-fcc5-42aa-db09-7aad7c58b828"
      },
      "execution_count": 56,
      "outputs": [
        {
          "output_type": "execute_result",
          "data": {
            "text/plain": [
              "torch.Size([15912, 24])"
            ]
          },
          "metadata": {},
          "execution_count": 56
        }
      ]
    },
    {
      "cell_type": "markdown",
      "source": [
        "# Build Model"
      ],
      "metadata": {
        "id": "6StxCiQ-KJdX"
      }
    },
    {
      "cell_type": "markdown",
      "source": [
        "We first define custom PyTorch dataset and build model for this task."
      ],
      "metadata": {
        "id": "NMxKEYX1RkwF"
      }
    },
    {
      "cell_type": "code",
      "source": [
        "# Define a custom PyTorch dataset\n",
        "class SolarDataset(Dataset):\n",
        "    def __init__(self, sequences, labels):\n",
        "        self.sequences = sequences\n",
        "        self.labels = labels\n",
        "\n",
        "    def __len__(self):\n",
        "        return len(self.sequences)\n",
        "\n",
        "    def __getitem__(self, idx):\n",
        "        return self.sequences[idx], self.labels[idx].squeeze()"
      ],
      "metadata": {
        "id": "1POqNyFAuOPH"
      },
      "execution_count": 57,
      "outputs": []
    },
    {
      "cell_type": "code",
      "source": [
        "# Define the LSTM model\n",
        "class LSTMModel(nn.Module):\n",
        "    def __init__(self, input_size, hidden_size, num_layers, output_size):\n",
        "        super(LSTMModel, self).__init__()\n",
        "        self.hidden_size = hidden_size\n",
        "        self.num_layers = num_layers\n",
        "        self.lstm = nn.LSTM(input_size, hidden_size, num_layers, batch_first=True)\n",
        "        self.fc = nn.Linear(hidden_size, output_size)\n",
        "\n",
        "    def forward(self, x):\n",
        "        h0 = torch.zeros(self.num_layers, x.size(0), self.hidden_size).to(x.device)\n",
        "        c0 = torch.zeros(self.num_layers, x.size(0), self.hidden_size).to(x.device)\n",
        "        out, _ = self.lstm(x, (h0, c0))\n",
        "        out = self.fc(out[:, -1, :])\n",
        "        return out"
      ],
      "metadata": {
        "id": "wPrXcg358C7E"
      },
      "execution_count": 58,
      "outputs": []
    },
    {
      "cell_type": "markdown",
      "source": [
        "Set hyperparameters for the model."
      ],
      "metadata": {
        "id": "oIU8j6cwRusq"
      }
    },
    {
      "cell_type": "code",
      "source": [
        "# Set the device for training (GPU if available, otherwise CPU)\n",
        "device = torch.device(\"cuda\" if torch.cuda.is_available() else \"cpu\")\n",
        "\n",
        "# Define the hyperparameters\n",
        "batch_size = 64\n",
        "num_epochs = 200\n",
        "input_size = 17  # Number of features\n",
        "hidden_size = 64\n",
        "num_layers = 5\n",
        "output_size = 24"
      ],
      "metadata": {
        "id": "JnplblAi8Gr1"
      },
      "execution_count": 59,
      "outputs": []
    },
    {
      "cell_type": "markdown",
      "source": [
        "Set the criterion as MSELoss() to get RSME error."
      ],
      "metadata": {
        "id": "a9vCJMXSSKPl"
      }
    },
    {
      "cell_type": "code",
      "source": [
        "PATH = \"/content/drive/MyDrive/ict-2023/output\"\n",
        "modelsdict = dict()\n",
        "optimizers = dict()\n",
        "schedulers = dict()\n",
        "# Define the loss function and optimizer\n",
        "criterion = nn.MSELoss()\n",
        "\n",
        "for b in buildings.keys():\n",
        "    modelsdict[b] = LSTMModel(input_size, hidden_size, num_layers, output_size).to(device)\n",
        "    optimizers[b] = optim.Adam(modelsdict[b].parameters(), lr=0.001)\n",
        "    schedulers[b] = optim.lr_scheduler.StepLR(optimizers[b], step_size=10, gamma=0.1)"
      ],
      "metadata": {
        "id": "13DFasnv-0nb"
      },
      "execution_count": 60,
      "outputs": []
    },
    {
      "cell_type": "markdown",
      "source": [
        "Now, we split the dataset into train and test set. We store each train-test sets pair to a seperate dictionary for convenience."
      ],
      "metadata": {
        "id": "PRD6tMmaBCP6"
      }
    },
    {
      "cell_type": "code",
      "source": [
        "train_dict = dict()\n",
        "val_dict = dict()\n",
        "test_dict = dict()\n",
        "\n",
        "for b in buildings.keys():\n",
        "    # Split the data into train, validate and test sets (8:1:1)\n",
        "    X_train, X_test, y_train, y_test = train_test_split(seq_dict[b], lab_dict[b], test_size=0.2, random_state=42)\n",
        "    X_test, X_val, y_test, y_val = train_test_split(X_test, y_test, test_size=0.5, random_state=42)\n",
        "\n",
        "    # Create instances of the custom dataset for train and test sets\n",
        "    train_dataset = SolarDataset(X_train, y_train)\n",
        "    val_dataset = SolarDataset(X_val, y_val)\n",
        "    test_dataset = SolarDataset(X_test, torch.zeros_like(y_test))  # Use zero-filled labels for the test set\n",
        "\n",
        "    # Create PyTorch DataLoaders for train and test sets\n",
        "    train_dict[b] = DataLoader(train_dataset, batch_size=batch_size, shuffle=True)\n",
        "    test_dict[b] = DataLoader(test_dataset, batch_size=batch_size)\n",
        "    val_dict[b] = DataLoader(val_dataset, batch_size=batch_size)\n"
      ],
      "metadata": {
        "id": "BnTUJnvVTi34"
      },
      "execution_count": 37,
      "outputs": []
    },
    {
      "cell_type": "code",
      "source": [
        "import time"
      ],
      "metadata": {
        "id": "_ZYA1yJZ4ogR"
      },
      "execution_count": 61,
      "outputs": []
    },
    {
      "cell_type": "code",
      "source": [
        "for b in buildings.keys():\n",
        "    print(f\"====== Training models for {b}======\")\n",
        "\n",
        "    # dataloaders, model, and optimzer for each builing\n",
        "    train_dataloader = train_dict[b]\n",
        "    val_dataloader = val_dict[b]\n",
        "\n",
        "    model = modelsdict[b]\n",
        "    optimizer = optimizers[b]\n",
        "    scheduler = schedulers[b]\n",
        "\n",
        "    checkpoint_path = os.path.join(PATH, b+'-checkpoint-{}.pt'.format(time.asctime(time.localtime())))\n",
        "    for epoch in tqdm.tqdm(range(0, num_epochs)):\n",
        "        model.train()\n",
        "        running_loss = 0.0\n",
        "        for inputs, labels in train_dataloader:\n",
        "            inputs = inputs.to(device)\n",
        "            labels = labels.to(device)\n",
        "\n",
        "            # Forward pass\n",
        "            outputs = model(inputs)\n",
        "\n",
        "            # Compute loss\n",
        "            loss = torch.sqrt(criterion(outputs, labels)) #RMSE Loss\n",
        "\n",
        "            # Backward pass and optimization\n",
        "            optimizer.zero_grad()\n",
        "            loss.backward()\n",
        "            optimizer.step()\n",
        "\n",
        "            running_loss += loss.item()\n",
        "\n",
        "        # Update the learning rate\n",
        "        scheduler.step()\n",
        "\n",
        "        # Print the average loss for the epoch\n",
        "        train_loss = running_loss / len(train_dataloader)\n",
        "\n",
        "\n",
        "        model.eval()\n",
        "        running_loss = 0.0\n",
        "\n",
        "        with torch.no_grad():\n",
        "            for inputs, labels in val_dataloader:\n",
        "                inputs = inputs.to(device)\n",
        "                labels = labels.to(device)\n",
        "\n",
        "                # Forward pass\n",
        "                outputs = model(inputs)\n",
        "\n",
        "                # Compute loss\n",
        "                loss = torch.sqrt(criterion(outputs, labels))\n",
        "\n",
        "                running_loss += loss.item()\n",
        "        val_loss = running_loss / len(val_dataloader)\n",
        "\n",
        "        if epoch%10==0:\n",
        "            print(f\"Epoch [{epoch+1}/{num_epochs}] Train loss: {train_loss} Validation Loss: {val_loss}\")\n",
        "\n",
        "\n",
        "    # Save the model checkpoint\n",
        "    torch.save(model.state_dict(), checkpoint_path)\n",
        "    modelsdict[b] = model\n"
      ],
      "metadata": {
        "colab": {
          "base_uri": "https://localhost:8080/"
        },
        "id": "EXXd8Vwa-Duf",
        "outputId": "9afdf132-dc44-4658-e7b5-302ab37ffa66"
      },
      "execution_count": 62,
      "outputs": [
        {
          "output_type": "stream",
          "name": "stdout",
          "text": [
            "====== Training models for 축구장======\n"
          ]
        },
        {
          "output_type": "stream",
          "name": "stderr",
          "text": [
            "  0%|          | 1/200 [00:01<05:57,  1.80s/it]"
          ]
        },
        {
          "output_type": "stream",
          "name": "stdout",
          "text": [
            "Epoch [1/200] Train loss: 0.13677703484954168 Validation Loss: 0.10351311487536277\n"
          ]
        },
        {
          "output_type": "stream",
          "name": "stderr",
          "text": [
            "  6%|▌         | 11/200 [00:15<03:45,  1.19s/it]"
          ]
        },
        {
          "output_type": "stream",
          "name": "stdout",
          "text": [
            "Epoch [11/200] Train loss: 0.08817629120600076 Validation Loss: 0.08744691576688521\n"
          ]
        },
        {
          "output_type": "stream",
          "name": "stderr",
          "text": [
            " 10%|█         | 21/200 [00:27<03:36,  1.21s/it]"
          ]
        },
        {
          "output_type": "stream",
          "name": "stdout",
          "text": [
            "Epoch [21/200] Train loss: 0.08157467863564628 Validation Loss: 0.08227023746698134\n"
          ]
        },
        {
          "output_type": "stream",
          "name": "stderr",
          "text": [
            " 16%|█▌        | 31/200 [00:43<04:02,  1.44s/it]"
          ]
        },
        {
          "output_type": "stream",
          "name": "stdout",
          "text": [
            "Epoch [31/200] Train loss: 0.08094367038443255 Validation Loss: 0.08181524228665137\n"
          ]
        },
        {
          "output_type": "stream",
          "name": "stderr",
          "text": [
            " 20%|██        | 41/200 [00:56<03:51,  1.46s/it]"
          ]
        },
        {
          "output_type": "stream",
          "name": "stdout",
          "text": [
            "Epoch [41/200] Train loss: 0.08082646438123758 Validation Loss: 0.08175782522847576\n"
          ]
        },
        {
          "output_type": "stream",
          "name": "stderr",
          "text": [
            " 26%|██▌       | 51/200 [01:08<03:01,  1.22s/it]"
          ]
        },
        {
          "output_type": "stream",
          "name": "stdout",
          "text": [
            "Epoch [51/200] Train loss: 0.0808042911774337 Validation Loss: 0.08175273984670639\n"
          ]
        },
        {
          "output_type": "stream",
          "name": "stderr",
          "text": [
            " 30%|███       | 61/200 [01:22<03:46,  1.63s/it]"
          ]
        },
        {
          "output_type": "stream",
          "name": "stdout",
          "text": [
            "Epoch [61/200] Train loss: 0.0807417401499709 Validation Loss: 0.08175246297351775\n"
          ]
        },
        {
          "output_type": "stream",
          "name": "stderr",
          "text": [
            " 36%|███▌      | 71/200 [01:36<02:39,  1.24s/it]"
          ]
        },
        {
          "output_type": "stream",
          "name": "stdout",
          "text": [
            "Epoch [71/200] Train loss: 0.08078561011901117 Validation Loss: 0.08175246105078728\n"
          ]
        },
        {
          "output_type": "stream",
          "name": "stderr",
          "text": [
            " 40%|████      | 81/200 [01:49<02:27,  1.24s/it]"
          ]
        },
        {
          "output_type": "stream",
          "name": "stdout",
          "text": [
            "Epoch [81/200] Train loss: 0.08078199812046294 Validation Loss: 0.08175246177181121\n"
          ]
        },
        {
          "output_type": "stream",
          "name": "stderr",
          "text": [
            " 46%|████▌     | 91/200 [02:06<03:22,  1.86s/it]"
          ]
        },
        {
          "output_type": "stream",
          "name": "stdout",
          "text": [
            "Epoch [91/200] Train loss: 0.08076588886142268 Validation Loss: 0.08175246129112859\n"
          ]
        },
        {
          "output_type": "stream",
          "name": "stderr",
          "text": [
            " 50%|█████     | 101/200 [02:21<02:03,  1.25s/it]"
          ]
        },
        {
          "output_type": "stream",
          "name": "stdout",
          "text": [
            "Epoch [101/200] Train loss: 0.08079413873423275 Validation Loss: 0.0817524615314699\n"
          ]
        },
        {
          "output_type": "stream",
          "name": "stderr",
          "text": [
            " 56%|█████▌    | 111/200 [02:34<01:46,  1.19s/it]"
          ]
        },
        {
          "output_type": "stream",
          "name": "stdout",
          "text": [
            "Epoch [111/200] Train loss: 0.0807701115009716 Validation Loss: 0.0817524615314699\n"
          ]
        },
        {
          "output_type": "stream",
          "name": "stderr",
          "text": [
            " 60%|██████    | 121/200 [02:47<01:35,  1.20s/it]"
          ]
        },
        {
          "output_type": "stream",
          "name": "stdout",
          "text": [
            "Epoch [121/200] Train loss: 0.08078459644145926 Validation Loss: 0.0817524615314699\n"
          ]
        },
        {
          "output_type": "stream",
          "name": "stderr",
          "text": [
            " 66%|██████▌   | 131/200 [03:01<01:29,  1.30s/it]"
          ]
        },
        {
          "output_type": "stream",
          "name": "stdout",
          "text": [
            "Epoch [131/200] Train loss: 0.08081614345680048 Validation Loss: 0.0817524615314699\n"
          ]
        },
        {
          "output_type": "stream",
          "name": "stderr",
          "text": [
            " 70%|███████   | 141/200 [03:13<01:10,  1.20s/it]"
          ]
        },
        {
          "output_type": "stream",
          "name": "stdout",
          "text": [
            "Epoch [141/200] Train loss: 0.08076716186823668 Validation Loss: 0.0817524615314699\n"
          ]
        },
        {
          "output_type": "stream",
          "name": "stderr",
          "text": [
            " 76%|███████▌  | 151/200 [03:26<00:59,  1.21s/it]"
          ]
        },
        {
          "output_type": "stream",
          "name": "stdout",
          "text": [
            "Epoch [151/200] Train loss: 0.08075824245013327 Validation Loss: 0.0817524615314699\n"
          ]
        },
        {
          "output_type": "stream",
          "name": "stderr",
          "text": [
            " 80%|████████  | 161/200 [03:38<00:49,  1.26s/it]"
          ]
        },
        {
          "output_type": "stream",
          "name": "stdout",
          "text": [
            "Epoch [161/200] Train loss: 0.08080245683222641 Validation Loss: 0.0817524615314699\n"
          ]
        },
        {
          "output_type": "stream",
          "name": "stderr",
          "text": [
            " 86%|████████▌ | 171/200 [03:51<00:37,  1.31s/it]"
          ]
        },
        {
          "output_type": "stream",
          "name": "stdout",
          "text": [
            "Epoch [171/200] Train loss: 0.08078746466970248 Validation Loss: 0.0817524615314699\n"
          ]
        },
        {
          "output_type": "stream",
          "name": "stderr",
          "text": [
            " 90%|█████████ | 181/200 [04:03<00:25,  1.36s/it]"
          ]
        },
        {
          "output_type": "stream",
          "name": "stdout",
          "text": [
            "Epoch [181/200] Train loss: 0.08085675427207241 Validation Loss: 0.0817524615314699\n"
          ]
        },
        {
          "output_type": "stream",
          "name": "stderr",
          "text": [
            " 96%|█████████▌| 191/200 [04:15<00:12,  1.34s/it]"
          ]
        },
        {
          "output_type": "stream",
          "name": "stdout",
          "text": [
            "Epoch [191/200] Train loss: 0.08079015429863715 Validation Loss: 0.0817524615314699\n"
          ]
        },
        {
          "output_type": "stream",
          "name": "stderr",
          "text": [
            "100%|██████████| 200/200 [04:26<00:00,  1.33s/it]\n"
          ]
        },
        {
          "output_type": "stream",
          "name": "stdout",
          "text": [
            "====== Training models for 신재생에너지동======\n"
          ]
        },
        {
          "output_type": "stream",
          "name": "stderr",
          "text": [
            "  0%|          | 1/200 [00:01<04:53,  1.47s/it]"
          ]
        },
        {
          "output_type": "stream",
          "name": "stdout",
          "text": [
            "Epoch [1/200] Train loss: 0.15625593679432026 Validation Loss: 0.11944256458551653\n"
          ]
        },
        {
          "output_type": "stream",
          "name": "stderr",
          "text": [
            "  6%|▌         | 11/200 [00:13<03:55,  1.24s/it]"
          ]
        },
        {
          "output_type": "stream",
          "name": "stdout",
          "text": [
            "Epoch [11/200] Train loss: 0.10119531717565325 Validation Loss: 0.09989351923427274\n"
          ]
        },
        {
          "output_type": "stream",
          "name": "stderr",
          "text": [
            " 10%|█         | 21/200 [00:26<03:26,  1.16s/it]"
          ]
        },
        {
          "output_type": "stream",
          "name": "stdout",
          "text": [
            "Epoch [21/200] Train loss: 0.08700761208195745 Validation Loss: 0.0887157614192655\n"
          ]
        },
        {
          "output_type": "stream",
          "name": "stderr",
          "text": [
            " 16%|█▌        | 31/200 [00:38<03:15,  1.16s/it]"
          ]
        },
        {
          "output_type": "stream",
          "name": "stdout",
          "text": [
            "Epoch [31/200] Train loss: 0.08551273065707321 Validation Loss: 0.08752665139975087\n"
          ]
        },
        {
          "output_type": "stream",
          "name": "stderr",
          "text": [
            " 20%|██        | 41/200 [00:51<03:06,  1.17s/it]"
          ]
        },
        {
          "output_type": "stream",
          "name": "stdout",
          "text": [
            "Epoch [41/200] Train loss: 0.08540068247926579 Validation Loss: 0.08742121222519106\n"
          ]
        },
        {
          "output_type": "stream",
          "name": "stderr",
          "text": [
            " 26%|██▌       | 51/200 [01:04<02:55,  1.18s/it]"
          ]
        },
        {
          "output_type": "stream",
          "name": "stdout",
          "text": [
            "Epoch [51/200] Train loss: 0.08541590024414376 Validation Loss: 0.0874106492246351\n"
          ]
        },
        {
          "output_type": "stream",
          "name": "stderr",
          "text": [
            " 30%|███       | 61/200 [01:16<02:45,  1.19s/it]"
          ]
        },
        {
          "output_type": "stream",
          "name": "stdout",
          "text": [
            "Epoch [61/200] Train loss: 0.08540108628233764 Validation Loss: 0.08740998732466851\n"
          ]
        },
        {
          "output_type": "stream",
          "name": "stderr",
          "text": [
            " 36%|███▌      | 71/200 [01:28<02:39,  1.23s/it]"
          ]
        },
        {
          "output_type": "stream",
          "name": "stdout",
          "text": [
            "Epoch [71/200] Train loss: 0.08538541326552261 Validation Loss: 0.08740998035477053\n"
          ]
        },
        {
          "output_type": "stream",
          "name": "stderr",
          "text": [
            " 40%|████      | 81/200 [01:41<02:31,  1.28s/it]"
          ]
        },
        {
          "output_type": "stream",
          "name": "stdout",
          "text": [
            "Epoch [81/200] Train loss: 0.085393168093491 Validation Loss: 0.08740998083545316\n"
          ]
        },
        {
          "output_type": "stream",
          "name": "stderr",
          "text": [
            " 46%|████▌     | 91/200 [01:53<02:27,  1.35s/it]"
          ]
        },
        {
          "output_type": "stream",
          "name": "stdout",
          "text": [
            "Epoch [91/200] Train loss: 0.08535010149940052 Validation Loss: 0.08740997987408791\n"
          ]
        },
        {
          "output_type": "stream",
          "name": "stderr",
          "text": [
            " 50%|█████     | 101/200 [02:05<02:13,  1.35s/it]"
          ]
        },
        {
          "output_type": "stream",
          "name": "stdout",
          "text": [
            "Epoch [101/200] Train loss: 0.08537937722211021 Validation Loss: 0.08740998011442923\n"
          ]
        },
        {
          "output_type": "stream",
          "name": "stderr",
          "text": [
            " 56%|█████▌    | 111/200 [02:17<01:51,  1.26s/it]"
          ]
        },
        {
          "output_type": "stream",
          "name": "stdout",
          "text": [
            "Epoch [111/200] Train loss: 0.08539149855022077 Validation Loss: 0.08740998011442923\n"
          ]
        },
        {
          "output_type": "stream",
          "name": "stderr",
          "text": [
            " 60%|██████    | 121/200 [02:29<01:30,  1.14s/it]"
          ]
        },
        {
          "output_type": "stream",
          "name": "stdout",
          "text": [
            "Epoch [121/200] Train loss: 0.08539597907797299 Validation Loss: 0.08740998011442923\n"
          ]
        },
        {
          "output_type": "stream",
          "name": "stderr",
          "text": [
            " 66%|██████▌   | 131/200 [02:42<01:19,  1.16s/it]"
          ]
        },
        {
          "output_type": "stream",
          "name": "stdout",
          "text": [
            "Epoch [131/200] Train loss: 0.08540048275464847 Validation Loss: 0.08740998011442923\n"
          ]
        },
        {
          "output_type": "stream",
          "name": "stderr",
          "text": [
            " 70%|███████   | 141/200 [02:54<01:08,  1.16s/it]"
          ]
        },
        {
          "output_type": "stream",
          "name": "stdout",
          "text": [
            "Epoch [141/200] Train loss: 0.08545632369111104 Validation Loss: 0.08740998011442923\n"
          ]
        },
        {
          "output_type": "stream",
          "name": "stderr",
          "text": [
            " 76%|███████▌  | 151/200 [03:07<00:57,  1.16s/it]"
          ]
        },
        {
          "output_type": "stream",
          "name": "stdout",
          "text": [
            "Epoch [151/200] Train loss: 0.08539644040075349 Validation Loss: 0.08740998011442923\n"
          ]
        },
        {
          "output_type": "stream",
          "name": "stderr",
          "text": [
            " 80%|████████  | 161/200 [03:19<00:46,  1.19s/it]"
          ]
        },
        {
          "output_type": "stream",
          "name": "stdout",
          "text": [
            "Epoch [161/200] Train loss: 0.08538409589249411 Validation Loss: 0.08740998011442923\n"
          ]
        },
        {
          "output_type": "stream",
          "name": "stderr",
          "text": [
            " 86%|████████▌ | 171/200 [03:31<00:35,  1.23s/it]"
          ]
        },
        {
          "output_type": "stream",
          "name": "stdout",
          "text": [
            "Epoch [171/200] Train loss: 0.08541415076810147 Validation Loss: 0.08740998011442923\n"
          ]
        },
        {
          "output_type": "stream",
          "name": "stderr",
          "text": [
            " 90%|█████████ | 181/200 [03:43<00:24,  1.29s/it]"
          ]
        },
        {
          "output_type": "stream",
          "name": "stdout",
          "text": [
            "Epoch [181/200] Train loss: 0.08541678091503466 Validation Loss: 0.08740998011442923\n"
          ]
        },
        {
          "output_type": "stream",
          "name": "stderr",
          "text": [
            " 96%|█████████▌| 191/200 [03:56<00:12,  1.35s/it]"
          ]
        },
        {
          "output_type": "stream",
          "name": "stdout",
          "text": [
            "Epoch [191/200] Train loss: 0.08537085256213514 Validation Loss: 0.08740998011442923\n"
          ]
        },
        {
          "output_type": "stream",
          "name": "stderr",
          "text": [
            "100%|██████████| 200/200 [04:06<00:00,  1.23s/it]\n"
          ]
        },
        {
          "output_type": "stream",
          "name": "stdout",
          "text": [
            "====== Training models for 학사과정======\n"
          ]
        },
        {
          "output_type": "stream",
          "name": "stderr",
          "text": [
            "  0%|          | 1/200 [00:01<05:13,  1.58s/it]"
          ]
        },
        {
          "output_type": "stream",
          "name": "stdout",
          "text": [
            "Epoch [1/200] Train loss: 0.12216139532656337 Validation Loss: 0.09633808006202021\n"
          ]
        },
        {
          "output_type": "stream",
          "name": "stderr",
          "text": [
            "  6%|▌         | 11/200 [00:13<03:53,  1.24s/it]"
          ]
        },
        {
          "output_type": "stream",
          "name": "stdout",
          "text": [
            "Epoch [11/200] Train loss: 0.08387379204172166 Validation Loss: 0.08332917430708485\n"
          ]
        },
        {
          "output_type": "stream",
          "name": "stderr",
          "text": [
            " 10%|█         | 21/200 [00:25<03:24,  1.14s/it]"
          ]
        },
        {
          "output_type": "stream",
          "name": "stdout",
          "text": [
            "Epoch [21/200] Train loss: 0.07658051776052012 Validation Loss: 0.07795870808824416\n"
          ]
        },
        {
          "output_type": "stream",
          "name": "stderr",
          "text": [
            " 16%|█▌        | 31/200 [00:37<03:13,  1.14s/it]"
          ]
        },
        {
          "output_type": "stream",
          "name": "stdout",
          "text": [
            "Epoch [31/200] Train loss: 0.0750728386910364 Validation Loss: 0.07690855139686216\n"
          ]
        },
        {
          "output_type": "stream",
          "name": "stderr",
          "text": [
            " 20%|██        | 41/200 [00:50<03:04,  1.16s/it]"
          ]
        },
        {
          "output_type": "stream",
          "name": "stdout",
          "text": [
            "Epoch [41/200] Train loss: 0.07493140580661503 Validation Loss: 0.07681906872218655\n"
          ]
        },
        {
          "output_type": "stream",
          "name": "stderr",
          "text": [
            " 26%|██▌       | 51/200 [01:02<02:54,  1.17s/it]"
          ]
        },
        {
          "output_type": "stream",
          "name": "stdout",
          "text": [
            "Epoch [51/200] Train loss: 0.07490411923562058 Validation Loss: 0.07681248601405852\n"
          ]
        },
        {
          "output_type": "stream",
          "name": "stderr",
          "text": [
            " 30%|███       | 61/200 [01:14<02:47,  1.20s/it]"
          ]
        },
        {
          "output_type": "stream",
          "name": "stdout",
          "text": [
            "Epoch [61/200] Train loss: 0.07491747660892 Validation Loss: 0.07681199115130209\n"
          ]
        },
        {
          "output_type": "stream",
          "name": "stderr",
          "text": [
            " 36%|███▌      | 71/200 [01:26<02:37,  1.22s/it]"
          ]
        },
        {
          "output_type": "stream",
          "name": "stdout",
          "text": [
            "Epoch [71/200] Train loss: 0.0749303395610778 Validation Loss: 0.07681198682515852\n"
          ]
        },
        {
          "output_type": "stream",
          "name": "stderr",
          "text": [
            " 40%|████      | 81/200 [01:39<02:30,  1.26s/it]"
          ]
        },
        {
          "output_type": "stream",
          "name": "stdout",
          "text": [
            "Epoch [81/200] Train loss: 0.07493245003767955 Validation Loss: 0.07681198706549983\n"
          ]
        },
        {
          "output_type": "stream",
          "name": "stderr",
          "text": [
            " 46%|████▌     | 91/200 [01:51<02:26,  1.35s/it]"
          ]
        },
        {
          "output_type": "stream",
          "name": "stdout",
          "text": [
            "Epoch [91/200] Train loss: 0.07490071821421262 Validation Loss: 0.07681198658481721\n"
          ]
        },
        {
          "output_type": "stream",
          "name": "stderr",
          "text": [
            " 50%|█████     | 101/200 [02:03<02:08,  1.29s/it]"
          ]
        },
        {
          "output_type": "stream",
          "name": "stdout",
          "text": [
            "Epoch [101/200] Train loss: 0.07493031282483796 Validation Loss: 0.07681198682515852\n"
          ]
        },
        {
          "output_type": "stream",
          "name": "stderr",
          "text": [
            " 56%|█████▌    | 111/200 [02:14<01:42,  1.16s/it]"
          ]
        },
        {
          "output_type": "stream",
          "name": "stdout",
          "text": [
            "Epoch [111/200] Train loss: 0.07492249943469287 Validation Loss: 0.07681198682515852\n"
          ]
        },
        {
          "output_type": "stream",
          "name": "stderr",
          "text": [
            " 60%|██████    | 121/200 [02:27<01:30,  1.14s/it]"
          ]
        },
        {
          "output_type": "stream",
          "name": "stdout",
          "text": [
            "Epoch [121/200] Train loss: 0.07495294079000567 Validation Loss: 0.07681198682515852\n"
          ]
        },
        {
          "output_type": "stream",
          "name": "stderr",
          "text": [
            " 66%|██████▌   | 131/200 [02:39<01:19,  1.15s/it]"
          ]
        },
        {
          "output_type": "stream",
          "name": "stdout",
          "text": [
            "Epoch [131/200] Train loss: 0.07491828927409992 Validation Loss: 0.07681198682515852\n"
          ]
        },
        {
          "output_type": "stream",
          "name": "stderr",
          "text": [
            " 70%|███████   | 141/200 [02:51<01:08,  1.16s/it]"
          ]
        },
        {
          "output_type": "stream",
          "name": "stdout",
          "text": [
            "Epoch [141/200] Train loss: 0.0748797375172254 Validation Loss: 0.07681198682515852\n"
          ]
        },
        {
          "output_type": "stream",
          "name": "stderr",
          "text": [
            " 76%|███████▌  | 151/200 [03:03<00:57,  1.17s/it]"
          ]
        },
        {
          "output_type": "stream",
          "name": "stdout",
          "text": [
            "Epoch [151/200] Train loss: 0.0748794581051226 Validation Loss: 0.07681198682515852\n"
          ]
        },
        {
          "output_type": "stream",
          "name": "stderr",
          "text": [
            " 80%|████████  | 161/200 [03:16<00:46,  1.20s/it]"
          ]
        },
        {
          "output_type": "stream",
          "name": "stdout",
          "text": [
            "Epoch [161/200] Train loss: 0.07495719453496207 Validation Loss: 0.07681198682515852\n"
          ]
        },
        {
          "output_type": "stream",
          "name": "stderr",
          "text": [
            " 86%|████████▌ | 171/200 [03:28<00:36,  1.25s/it]"
          ]
        },
        {
          "output_type": "stream",
          "name": "stdout",
          "text": [
            "Epoch [171/200] Train loss: 0.07491010804603129 Validation Loss: 0.07681198682515852\n"
          ]
        },
        {
          "output_type": "stream",
          "name": "stderr",
          "text": [
            " 90%|█████████ | 181/200 [03:40<00:24,  1.30s/it]"
          ]
        },
        {
          "output_type": "stream",
          "name": "stdout",
          "text": [
            "Epoch [181/200] Train loss: 0.07491877576941816 Validation Loss: 0.07681198682515852\n"
          ]
        },
        {
          "output_type": "stream",
          "name": "stderr",
          "text": [
            " 96%|█████████▌| 191/200 [03:52<00:12,  1.34s/it]"
          ]
        },
        {
          "output_type": "stream",
          "name": "stdout",
          "text": [
            "Epoch [191/200] Train loss: 0.07492013936364111 Validation Loss: 0.07681198682515852\n"
          ]
        },
        {
          "output_type": "stream",
          "name": "stderr",
          "text": [
            "100%|██████████| 200/200 [04:03<00:00,  1.22s/it]\n"
          ]
        },
        {
          "output_type": "stream",
          "name": "stdout",
          "text": [
            "====== Training models for 시설관리동======\n"
          ]
        },
        {
          "output_type": "stream",
          "name": "stderr",
          "text": [
            "  0%|          | 1/200 [00:01<04:45,  1.44s/it]"
          ]
        },
        {
          "output_type": "stream",
          "name": "stdout",
          "text": [
            "Epoch [1/200] Train loss: 0.14960258895600284 Validation Loss: 0.1169832867960776\n"
          ]
        },
        {
          "output_type": "stream",
          "name": "stderr",
          "text": [
            "  6%|▌         | 11/200 [00:13<03:32,  1.13s/it]"
          ]
        },
        {
          "output_type": "stream",
          "name": "stdout",
          "text": [
            "Epoch [11/200] Train loss: 0.09222630859034542 Validation Loss: 0.09195896430361655\n"
          ]
        },
        {
          "output_type": "stream",
          "name": "stderr",
          "text": [
            " 10%|█         | 21/200 [00:25<03:22,  1.13s/it]"
          ]
        },
        {
          "output_type": "stream",
          "name": "stdout",
          "text": [
            "Epoch [21/200] Train loss: 0.08024311531718376 Validation Loss: 0.08196871030715204\n"
          ]
        },
        {
          "output_type": "stream",
          "name": "stderr",
          "text": [
            " 16%|█▌        | 31/200 [00:37<03:15,  1.16s/it]"
          ]
        },
        {
          "output_type": "stream",
          "name": "stdout",
          "text": [
            "Epoch [31/200] Train loss: 0.07903737968807358 Validation Loss: 0.08106761209426387\n"
          ]
        },
        {
          "output_type": "stream",
          "name": "stderr",
          "text": [
            " 20%|██        | 41/200 [00:49<03:04,  1.16s/it]"
          ]
        },
        {
          "output_type": "stream",
          "name": "stdout",
          "text": [
            "Epoch [41/200] Train loss: 0.07896974140111311 Validation Loss: 0.08097593029660563\n"
          ]
        },
        {
          "output_type": "stream",
          "name": "stderr",
          "text": [
            " 26%|██▌       | 51/200 [01:02<02:56,  1.19s/it]"
          ]
        },
        {
          "output_type": "stream",
          "name": "stdout",
          "text": [
            "Epoch [51/200] Train loss: 0.07895573164209907 Validation Loss: 0.08096901111064418\n"
          ]
        },
        {
          "output_type": "stream",
          "name": "stderr",
          "text": [
            " 30%|███       | 61/200 [01:14<02:49,  1.22s/it]"
          ]
        },
        {
          "output_type": "stream",
          "name": "stdout",
          "text": [
            "Epoch [61/200] Train loss: 0.07891140326305672 Validation Loss: 0.08096859051335242\n"
          ]
        },
        {
          "output_type": "stream",
          "name": "stderr",
          "text": [
            " 36%|███▌      | 71/200 [01:26<02:45,  1.28s/it]"
          ]
        },
        {
          "output_type": "stream",
          "name": "stdout",
          "text": [
            "Epoch [71/200] Train loss: 0.07891108739523241 Validation Loss: 0.080968584745161\n"
          ]
        },
        {
          "output_type": "stream",
          "name": "stderr",
          "text": [
            " 40%|████      | 81/200 [01:38<02:40,  1.35s/it]"
          ]
        },
        {
          "output_type": "stream",
          "name": "stdout",
          "text": [
            "Epoch [81/200] Train loss: 0.07894188208589828 Validation Loss: 0.08096858426447838\n"
          ]
        },
        {
          "output_type": "stream",
          "name": "stderr",
          "text": [
            " 46%|████▌     | 91/200 [01:50<02:15,  1.25s/it]"
          ]
        },
        {
          "output_type": "stream",
          "name": "stdout",
          "text": [
            "Epoch [91/200] Train loss: 0.07893668522927987 Validation Loss: 0.08096858450481968\n"
          ]
        },
        {
          "output_type": "stream",
          "name": "stderr",
          "text": [
            " 50%|█████     | 101/200 [02:01<01:51,  1.12s/it]"
          ]
        },
        {
          "output_type": "stream",
          "name": "stdout",
          "text": [
            "Epoch [101/200] Train loss: 0.07893693585086752 Validation Loss: 0.080968584745161\n"
          ]
        },
        {
          "output_type": "stream",
          "name": "stderr",
          "text": [
            " 56%|█████▌    | 111/200 [02:14<01:40,  1.13s/it]"
          ]
        },
        {
          "output_type": "stream",
          "name": "stdout",
          "text": [
            "Epoch [111/200] Train loss: 0.07895439329706593 Validation Loss: 0.080968584745161\n"
          ]
        },
        {
          "output_type": "stream",
          "name": "stderr",
          "text": [
            " 60%|██████    | 121/200 [02:26<01:30,  1.14s/it]"
          ]
        },
        {
          "output_type": "stream",
          "name": "stdout",
          "text": [
            "Epoch [121/200] Train loss: 0.07893770727723715 Validation Loss: 0.080968584745161\n"
          ]
        },
        {
          "output_type": "stream",
          "name": "stderr",
          "text": [
            " 66%|██████▌   | 131/200 [02:38<01:20,  1.17s/it]"
          ]
        },
        {
          "output_type": "stream",
          "name": "stdout",
          "text": [
            "Epoch [131/200] Train loss: 0.07897447129335913 Validation Loss: 0.080968584745161\n"
          ]
        },
        {
          "output_type": "stream",
          "name": "stderr",
          "text": [
            " 70%|███████   | 141/200 [02:50<01:10,  1.19s/it]"
          ]
        },
        {
          "output_type": "stream",
          "name": "stdout",
          "text": [
            "Epoch [141/200] Train loss: 0.07891275632528612 Validation Loss: 0.080968584745161\n"
          ]
        },
        {
          "output_type": "stream",
          "name": "stderr",
          "text": [
            " 76%|███████▌  | 151/200 [03:02<01:00,  1.23s/it]"
          ]
        },
        {
          "output_type": "stream",
          "name": "stdout",
          "text": [
            "Epoch [151/200] Train loss: 0.07894342555185405 Validation Loss: 0.080968584745161\n"
          ]
        },
        {
          "output_type": "stream",
          "name": "stderr",
          "text": [
            " 80%|████████  | 161/200 [03:14<00:50,  1.28s/it]"
          ]
        },
        {
          "output_type": "stream",
          "name": "stdout",
          "text": [
            "Epoch [161/200] Train loss: 0.0789738027647199 Validation Loss: 0.080968584745161\n"
          ]
        },
        {
          "output_type": "stream",
          "name": "stderr",
          "text": [
            " 86%|████████▌ | 171/200 [03:26<00:39,  1.35s/it]"
          ]
        },
        {
          "output_type": "stream",
          "name": "stdout",
          "text": [
            "Epoch [171/200] Train loss: 0.07891885433422685 Validation Loss: 0.080968584745161\n"
          ]
        },
        {
          "output_type": "stream",
          "name": "stderr",
          "text": [
            " 90%|█████████ | 181/200 [03:38<00:23,  1.24s/it]"
          ]
        },
        {
          "output_type": "stream",
          "name": "stdout",
          "text": [
            "Epoch [181/200] Train loss: 0.07894779048829412 Validation Loss: 0.080968584745161\n"
          ]
        },
        {
          "output_type": "stream",
          "name": "stderr",
          "text": [
            " 96%|█████████▌| 191/200 [03:50<00:10,  1.12s/it]"
          ]
        },
        {
          "output_type": "stream",
          "name": "stdout",
          "text": [
            "Epoch [191/200] Train loss: 0.07892685751488179 Validation Loss: 0.080968584745161\n"
          ]
        },
        {
          "output_type": "stream",
          "name": "stderr",
          "text": [
            "100%|██████████| 200/200 [04:01<00:00,  1.21s/it]\n"
          ]
        },
        {
          "output_type": "stream",
          "name": "stdout",
          "text": [
            "====== Training models for 대학C동======\n"
          ]
        },
        {
          "output_type": "stream",
          "name": "stderr",
          "text": [
            "  0%|          | 1/200 [00:01<03:45,  1.13s/it]"
          ]
        },
        {
          "output_type": "stream",
          "name": "stdout",
          "text": [
            "Epoch [1/200] Train loss: 0.16156589886779157 Validation Loss: 0.12660300130805663\n"
          ]
        },
        {
          "output_type": "stream",
          "name": "stderr",
          "text": [
            "  6%|▌         | 11/200 [00:13<03:35,  1.14s/it]"
          ]
        },
        {
          "output_type": "stream",
          "name": "stdout",
          "text": [
            "Epoch [11/200] Train loss: 0.10836794070991469 Validation Loss: 0.10739013480563317\n"
          ]
        },
        {
          "output_type": "stream",
          "name": "stderr",
          "text": [
            " 10%|█         | 21/200 [00:25<03:27,  1.16s/it]"
          ]
        },
        {
          "output_type": "stream",
          "name": "stdout",
          "text": [
            "Epoch [21/200] Train loss: 0.09881592520470482 Validation Loss: 0.09900207649315557\n"
          ]
        },
        {
          "output_type": "stream",
          "name": "stderr",
          "text": [
            " 16%|█▌        | 31/200 [00:37<03:20,  1.19s/it]"
          ]
        },
        {
          "output_type": "stream",
          "name": "stdout",
          "text": [
            "Epoch [31/200] Train loss: 0.09772400557994843 Validation Loss: 0.09824854399888747\n"
          ]
        },
        {
          "output_type": "stream",
          "name": "stderr",
          "text": [
            " 20%|██        | 41/200 [00:49<03:14,  1.23s/it]"
          ]
        },
        {
          "output_type": "stream",
          "name": "stdout",
          "text": [
            "Epoch [41/200] Train loss: 0.09757466053153262 Validation Loss: 0.09815147230702062\n"
          ]
        },
        {
          "output_type": "stream",
          "name": "stderr",
          "text": [
            " 26%|██▌       | 51/200 [01:01<03:11,  1.29s/it]"
          ]
        },
        {
          "output_type": "stream",
          "name": "stdout",
          "text": [
            "Epoch [51/200] Train loss: 0.09765344422785834 Validation Loss: 0.09814448438344463\n"
          ]
        },
        {
          "output_type": "stream",
          "name": "stderr",
          "text": [
            " 30%|███       | 61/200 [01:13<03:04,  1.33s/it]"
          ]
        },
        {
          "output_type": "stream",
          "name": "stdout",
          "text": [
            "Epoch [61/200] Train loss: 0.09758332500487198 Validation Loss: 0.09814396500587463\n"
          ]
        },
        {
          "output_type": "stream",
          "name": "stderr",
          "text": [
            " 36%|███▌      | 71/200 [01:25<02:39,  1.23s/it]"
          ]
        },
        {
          "output_type": "stream",
          "name": "stdout",
          "text": [
            "Epoch [71/200] Train loss: 0.09762535664279764 Validation Loss: 0.09814395779563535\n"
          ]
        },
        {
          "output_type": "stream",
          "name": "stderr",
          "text": [
            " 40%|████      | 81/200 [01:37<02:15,  1.14s/it]"
          ]
        },
        {
          "output_type": "stream",
          "name": "stdout",
          "text": [
            "Epoch [81/200] Train loss: 0.0975599642766356 Validation Loss: 0.09814395779563535\n"
          ]
        },
        {
          "output_type": "stream",
          "name": "stderr",
          "text": [
            " 46%|████▌     | 91/200 [01:49<02:05,  1.15s/it]"
          ]
        },
        {
          "output_type": "stream",
          "name": "stdout",
          "text": [
            "Epoch [91/200] Train loss: 0.097590367397899 Validation Loss: 0.09814395755529404\n"
          ]
        },
        {
          "output_type": "stream",
          "name": "stderr",
          "text": [
            " 50%|█████     | 101/200 [02:01<01:52,  1.14s/it]"
          ]
        },
        {
          "output_type": "stream",
          "name": "stdout",
          "text": [
            "Epoch [101/200] Train loss: 0.09759295596875281 Validation Loss: 0.09814395755529404\n"
          ]
        },
        {
          "output_type": "stream",
          "name": "stderr",
          "text": [
            " 56%|█████▌    | 111/200 [02:14<01:43,  1.16s/it]"
          ]
        },
        {
          "output_type": "stream",
          "name": "stdout",
          "text": [
            "Epoch [111/200] Train loss: 0.09759944174515367 Validation Loss: 0.09814395755529404\n"
          ]
        },
        {
          "output_type": "stream",
          "name": "stderr",
          "text": [
            " 60%|██████    | 121/200 [02:26<01:32,  1.18s/it]"
          ]
        },
        {
          "output_type": "stream",
          "name": "stdout",
          "text": [
            "Epoch [121/200] Train loss: 0.0976135516424238 Validation Loss: 0.09814395755529404\n"
          ]
        },
        {
          "output_type": "stream",
          "name": "stderr",
          "text": [
            " 66%|██████▌   | 131/200 [02:38<01:24,  1.22s/it]"
          ]
        },
        {
          "output_type": "stream",
          "name": "stdout",
          "text": [
            "Epoch [131/200] Train loss: 0.09757839876069944 Validation Loss: 0.09814395755529404\n"
          ]
        },
        {
          "output_type": "stream",
          "name": "stderr",
          "text": [
            " 70%|███████   | 141/200 [02:50<01:15,  1.27s/it]"
          ]
        },
        {
          "output_type": "stream",
          "name": "stdout",
          "text": [
            "Epoch [141/200] Train loss: 0.0975874235600601 Validation Loss: 0.09814395755529404\n"
          ]
        },
        {
          "output_type": "stream",
          "name": "stderr",
          "text": [
            " 76%|███████▌  | 151/200 [03:02<01:06,  1.35s/it]"
          ]
        },
        {
          "output_type": "stream",
          "name": "stdout",
          "text": [
            "Epoch [151/200] Train loss: 0.0976265117587376 Validation Loss: 0.09814395755529404\n"
          ]
        },
        {
          "output_type": "stream",
          "name": "stderr",
          "text": [
            " 80%|████████  | 161/200 [03:14<00:49,  1.26s/it]"
          ]
        },
        {
          "output_type": "stream",
          "name": "stdout",
          "text": [
            "Epoch [161/200] Train loss: 0.09758164359586229 Validation Loss: 0.09814395755529404\n"
          ]
        },
        {
          "output_type": "stream",
          "name": "stderr",
          "text": [
            " 86%|████████▌ | 171/200 [03:25<00:32,  1.13s/it]"
          ]
        },
        {
          "output_type": "stream",
          "name": "stdout",
          "text": [
            "Epoch [171/200] Train loss: 0.09762208409024854 Validation Loss: 0.09814395755529404\n"
          ]
        },
        {
          "output_type": "stream",
          "name": "stderr",
          "text": [
            " 90%|█████████ | 181/200 [03:38<00:21,  1.14s/it]"
          ]
        },
        {
          "output_type": "stream",
          "name": "stdout",
          "text": [
            "Epoch [181/200] Train loss: 0.09760625004277798 Validation Loss: 0.09814395755529404\n"
          ]
        },
        {
          "output_type": "stream",
          "name": "stderr",
          "text": [
            " 96%|█████████▌| 191/200 [03:50<00:10,  1.15s/it]"
          ]
        },
        {
          "output_type": "stream",
          "name": "stdout",
          "text": [
            "Epoch [191/200] Train loss: 0.09753613115706071 Validation Loss: 0.09814395755529404\n"
          ]
        },
        {
          "output_type": "stream",
          "name": "stderr",
          "text": [
            "100%|██████████| 200/200 [04:01<00:00,  1.21s/it]\n"
          ]
        },
        {
          "output_type": "stream",
          "name": "stdout",
          "text": [
            "====== Training models for 다산빌딩======\n"
          ]
        },
        {
          "output_type": "stream",
          "name": "stderr",
          "text": [
            "  0%|          | 1/200 [00:01<03:42,  1.12s/it]"
          ]
        },
        {
          "output_type": "stream",
          "name": "stdout",
          "text": [
            "Epoch [1/200] Train loss: 0.1593909572978569 Validation Loss: 0.13204921493607183\n"
          ]
        },
        {
          "output_type": "stream",
          "name": "stderr",
          "text": [
            "  6%|▌         | 11/200 [00:13<03:40,  1.17s/it]"
          ]
        },
        {
          "output_type": "stream",
          "name": "stdout",
          "text": [
            "Epoch [11/200] Train loss: 0.10302587175442848 Validation Loss: 0.10172776493334001\n"
          ]
        },
        {
          "output_type": "stream",
          "name": "stderr",
          "text": [
            " 10%|█         | 21/200 [00:25<03:38,  1.22s/it]"
          ]
        },
        {
          "output_type": "stream",
          "name": "stdout",
          "text": [
            "Epoch [21/200] Train loss: 0.09582604250176945 Validation Loss: 0.09593942352840977\n"
          ]
        },
        {
          "output_type": "stream",
          "name": "stderr",
          "text": [
            " 16%|█▌        | 31/200 [00:37<03:35,  1.27s/it]"
          ]
        },
        {
          "output_type": "stream",
          "name": "stdout",
          "text": [
            "Epoch [31/200] Train loss: 0.09488147279485264 Validation Loss: 0.09529405760188256\n"
          ]
        },
        {
          "output_type": "stream",
          "name": "stderr",
          "text": [
            " 20%|██        | 41/200 [00:49<03:35,  1.35s/it]"
          ]
        },
        {
          "output_type": "stream",
          "name": "stdout",
          "text": [
            "Epoch [41/200] Train loss: 0.09478251412204264 Validation Loss: 0.0952657792837389\n"
          ]
        },
        {
          "output_type": "stream",
          "name": "stderr",
          "text": [
            " 26%|██▌       | 51/200 [01:01<03:06,  1.25s/it]"
          ]
        },
        {
          "output_type": "stream",
          "name": "stdout",
          "text": [
            "Epoch [51/200] Train loss: 0.09475937458100142 Validation Loss: 0.0952454214134524\n"
          ]
        },
        {
          "output_type": "stream",
          "name": "stderr",
          "text": [
            " 30%|███       | 61/200 [01:12<02:35,  1.12s/it]"
          ]
        },
        {
          "output_type": "stream",
          "name": "stdout",
          "text": [
            "Epoch [61/200] Train loss: 0.09470799887253914 Validation Loss: 0.09524448336132112\n"
          ]
        },
        {
          "output_type": "stream",
          "name": "stderr",
          "text": [
            " 36%|███▌      | 71/200 [01:25<02:26,  1.13s/it]"
          ]
        },
        {
          "output_type": "stream",
          "name": "stdout",
          "text": [
            "Epoch [71/200] Train loss: 0.0947488671467628 Validation Loss: 0.09524446269196848\n"
          ]
        },
        {
          "output_type": "stream",
          "name": "stderr",
          "text": [
            " 40%|████      | 81/200 [01:37<02:15,  1.14s/it]"
          ]
        },
        {
          "output_type": "stream",
          "name": "stdout",
          "text": [
            "Epoch [81/200] Train loss: 0.09472084995895746 Validation Loss: 0.09524446437435766\n"
          ]
        },
        {
          "output_type": "stream",
          "name": "stderr",
          "text": [
            " 46%|████▌     | 91/200 [01:49<02:06,  1.16s/it]"
          ]
        },
        {
          "output_type": "stream",
          "name": "stdout",
          "text": [
            "Epoch [91/200] Train loss: 0.09479895933174792 Validation Loss: 0.09524446365333372\n"
          ]
        },
        {
          "output_type": "stream",
          "name": "stderr",
          "text": [
            " 50%|█████     | 101/200 [02:01<01:56,  1.18s/it]"
          ]
        },
        {
          "output_type": "stream",
          "name": "stdout",
          "text": [
            "Epoch [101/200] Train loss: 0.09476115569901565 Validation Loss: 0.09524446389367504\n"
          ]
        },
        {
          "output_type": "stream",
          "name": "stderr",
          "text": [
            " 56%|█████▌    | 111/200 [02:13<01:47,  1.21s/it]"
          ]
        },
        {
          "output_type": "stream",
          "name": "stdout",
          "text": [
            "Epoch [111/200] Train loss: 0.09484081016278562 Validation Loss: 0.09524446389367504\n"
          ]
        },
        {
          "output_type": "stream",
          "name": "stderr",
          "text": [
            " 60%|██████    | 121/200 [02:25<01:40,  1.27s/it]"
          ]
        },
        {
          "output_type": "stream",
          "name": "stdout",
          "text": [
            "Epoch [121/200] Train loss: 0.09482764909542146 Validation Loss: 0.09524446389367504\n"
          ]
        },
        {
          "output_type": "stream",
          "name": "stderr",
          "text": [
            " 66%|██████▌   | 131/200 [02:37<01:33,  1.36s/it]"
          ]
        },
        {
          "output_type": "stream",
          "name": "stdout",
          "text": [
            "Epoch [131/200] Train loss: 0.09472839414705465 Validation Loss: 0.09524446389367504\n"
          ]
        },
        {
          "output_type": "stream",
          "name": "stderr",
          "text": [
            " 70%|███████   | 141/200 [02:49<01:15,  1.28s/it]"
          ]
        },
        {
          "output_type": "stream",
          "name": "stdout",
          "text": [
            "Epoch [141/200] Train loss: 0.09479120352263314 Validation Loss: 0.09524446389367504\n"
          ]
        },
        {
          "output_type": "stream",
          "name": "stderr",
          "text": [
            " 76%|███████▌  | 151/200 [03:01<00:55,  1.13s/it]"
          ]
        },
        {
          "output_type": "stream",
          "name": "stdout",
          "text": [
            "Epoch [151/200] Train loss: 0.09474086424205529 Validation Loss: 0.09524446389367504\n"
          ]
        },
        {
          "output_type": "stream",
          "name": "stderr",
          "text": [
            " 80%|████████  | 161/200 [03:13<00:43,  1.12s/it]"
          ]
        },
        {
          "output_type": "stream",
          "name": "stdout",
          "text": [
            "Epoch [161/200] Train loss: 0.0947766867562086 Validation Loss: 0.09524446389367504\n"
          ]
        },
        {
          "output_type": "stream",
          "name": "stderr",
          "text": [
            " 86%|████████▌ | 171/200 [03:25<00:33,  1.14s/it]"
          ]
        },
        {
          "output_type": "stream",
          "name": "stdout",
          "text": [
            "Epoch [171/200] Train loss: 0.09476320010153845 Validation Loss: 0.09524446389367504\n"
          ]
        },
        {
          "output_type": "stream",
          "name": "stderr",
          "text": [
            " 90%|█████████ | 181/200 [03:37<00:21,  1.15s/it]"
          ]
        },
        {
          "output_type": "stream",
          "name": "stdout",
          "text": [
            "Epoch [181/200] Train loss: 0.09477929565518972 Validation Loss: 0.09524446389367504\n"
          ]
        },
        {
          "output_type": "stream",
          "name": "stderr",
          "text": [
            " 96%|█████████▌| 191/200 [03:49<00:10,  1.18s/it]"
          ]
        },
        {
          "output_type": "stream",
          "name": "stdout",
          "text": [
            "Epoch [191/200] Train loss: 0.09471338794187263 Validation Loss: 0.09524446389367504\n"
          ]
        },
        {
          "output_type": "stream",
          "name": "stderr",
          "text": [
            "100%|██████████| 200/200 [04:00<00:00,  1.20s/it]\n"
          ]
        },
        {
          "output_type": "stream",
          "name": "stdout",
          "text": [
            "====== Training models for 삼성환경동======\n"
          ]
        },
        {
          "output_type": "stream",
          "name": "stderr",
          "text": [
            "  0%|          | 1/200 [00:01<03:42,  1.12s/it]"
          ]
        },
        {
          "output_type": "stream",
          "name": "stdout",
          "text": [
            "Epoch [1/200] Train loss: 0.15591721589305274 Validation Loss: 0.12335588206206599\n"
          ]
        },
        {
          "output_type": "stream",
          "name": "stderr",
          "text": [
            "  6%|▌         | 11/200 [00:13<04:02,  1.28s/it]"
          ]
        },
        {
          "output_type": "stream",
          "name": "stdout",
          "text": [
            "Epoch [11/200] Train loss: 0.09928328025733492 Validation Loss: 0.09910993830811593\n"
          ]
        },
        {
          "output_type": "stream",
          "name": "stderr",
          "text": [
            " 10%|█         | 21/200 [00:25<04:04,  1.36s/it]"
          ]
        },
        {
          "output_type": "stream",
          "name": "stdout",
          "text": [
            "Epoch [21/200] Train loss: 0.08784445433459655 Validation Loss: 0.08868325020997755\n"
          ]
        },
        {
          "output_type": "stream",
          "name": "stderr",
          "text": [
            " 16%|█▌        | 31/200 [00:37<03:31,  1.25s/it]"
          ]
        },
        {
          "output_type": "stream",
          "name": "stdout",
          "text": [
            "Epoch [31/200] Train loss: 0.08665401209529044 Validation Loss: 0.08761962911775036\n"
          ]
        },
        {
          "output_type": "stream",
          "name": "stderr",
          "text": [
            " 20%|██        | 41/200 [00:48<02:58,  1.12s/it]"
          ]
        },
        {
          "output_type": "stream",
          "name": "stdout",
          "text": [
            "Epoch [41/200] Train loss: 0.08644967645774652 Validation Loss: 0.0875221860985602\n"
          ]
        },
        {
          "output_type": "stream",
          "name": "stderr",
          "text": [
            " 26%|██▌       | 51/200 [01:00<02:47,  1.12s/it]"
          ]
        },
        {
          "output_type": "stream",
          "name": "stdout",
          "text": [
            "Epoch [51/200] Train loss: 0.08643549867740874 Validation Loss: 0.08751148754550565\n"
          ]
        },
        {
          "output_type": "stream",
          "name": "stderr",
          "text": [
            " 30%|███       | 61/200 [01:12<02:38,  1.14s/it]"
          ]
        },
        {
          "output_type": "stream",
          "name": "stdout",
          "text": [
            "Epoch [61/200] Train loss: 0.08646882708671162 Validation Loss: 0.08751087034902265\n"
          ]
        },
        {
          "output_type": "stream",
          "name": "stderr",
          "text": [
            " 36%|███▌      | 71/200 [01:25<02:29,  1.16s/it]"
          ]
        },
        {
          "output_type": "stream",
          "name": "stdout",
          "text": [
            "Epoch [71/200] Train loss: 0.08645258592480004 Validation Loss: 0.08751086121605288\n"
          ]
        },
        {
          "output_type": "stream",
          "name": "stderr",
          "text": [
            " 40%|████      | 81/200 [01:37<02:20,  1.18s/it]"
          ]
        },
        {
          "output_type": "stream",
          "name": "stdout",
          "text": [
            "Epoch [81/200] Train loss: 0.0865662838389844 Validation Loss: 0.08751086217741813\n"
          ]
        },
        {
          "output_type": "stream",
          "name": "stderr",
          "text": [
            " 46%|████▌     | 91/200 [01:49<02:13,  1.22s/it]"
          ]
        },
        {
          "output_type": "stream",
          "name": "stdout",
          "text": [
            "Epoch [91/200] Train loss: 0.08638277055059441 Validation Loss: 0.08751086217741813\n"
          ]
        },
        {
          "output_type": "stream",
          "name": "stderr",
          "text": [
            " 50%|█████     | 101/200 [02:01<02:06,  1.28s/it]"
          ]
        },
        {
          "output_type": "stream",
          "name": "stdout",
          "text": [
            "Epoch [101/200] Train loss: 0.0864465207229426 Validation Loss: 0.08751086217741813\n"
          ]
        },
        {
          "output_type": "stream",
          "name": "stderr",
          "text": [
            " 56%|█████▌    | 111/200 [02:13<01:58,  1.33s/it]"
          ]
        },
        {
          "output_type": "stream",
          "name": "stdout",
          "text": [
            "Epoch [111/200] Train loss: 0.08648243678327451 Validation Loss: 0.08751086217741813\n"
          ]
        },
        {
          "output_type": "stream",
          "name": "stderr",
          "text": [
            " 60%|██████    | 121/200 [02:25<01:35,  1.21s/it]"
          ]
        },
        {
          "output_type": "stream",
          "name": "stdout",
          "text": [
            "Epoch [121/200] Train loss: 0.08648270209139758 Validation Loss: 0.08751086217741813\n"
          ]
        },
        {
          "output_type": "stream",
          "name": "stderr",
          "text": [
            " 66%|██████▌   | 131/200 [02:36<01:17,  1.12s/it]"
          ]
        },
        {
          "output_type": "stream",
          "name": "stdout",
          "text": [
            "Epoch [131/200] Train loss: 0.08648306146693328 Validation Loss: 0.08751086217741813\n"
          ]
        },
        {
          "output_type": "stream",
          "name": "stderr",
          "text": [
            " 70%|███████   | 141/200 [02:48<01:06,  1.13s/it]"
          ]
        },
        {
          "output_type": "stream",
          "name": "stdout",
          "text": [
            "Epoch [141/200] Train loss: 0.08641249318549662 Validation Loss: 0.08751086217741813\n"
          ]
        },
        {
          "output_type": "stream",
          "name": "stderr",
          "text": [
            " 76%|███████▌  | 151/200 [03:01<00:55,  1.14s/it]"
          ]
        },
        {
          "output_type": "stream",
          "name": "stdout",
          "text": [
            "Epoch [151/200] Train loss: 0.08649810624343378 Validation Loss: 0.08751086217741813\n"
          ]
        },
        {
          "output_type": "stream",
          "name": "stderr",
          "text": [
            " 80%|████████  | 161/200 [03:13<00:45,  1.15s/it]"
          ]
        },
        {
          "output_type": "stream",
          "name": "stdout",
          "text": [
            "Epoch [161/200] Train loss: 0.0864936242133011 Validation Loss: 0.08751086217741813\n"
          ]
        },
        {
          "output_type": "stream",
          "name": "stderr",
          "text": [
            " 86%|████████▌ | 171/200 [03:25<00:34,  1.19s/it]"
          ]
        },
        {
          "output_type": "stream",
          "name": "stdout",
          "text": [
            "Epoch [171/200] Train loss: 0.08644484710178257 Validation Loss: 0.08751086217741813\n"
          ]
        },
        {
          "output_type": "stream",
          "name": "stderr",
          "text": [
            " 90%|█████████ | 181/200 [03:37<00:23,  1.24s/it]"
          ]
        },
        {
          "output_type": "stream",
          "name": "stdout",
          "text": [
            "Epoch [181/200] Train loss: 0.0864828245200738 Validation Loss: 0.08751086217741813\n"
          ]
        },
        {
          "output_type": "stream",
          "name": "stderr",
          "text": [
            " 96%|█████████▌| 191/200 [03:49<00:11,  1.33s/it]"
          ]
        },
        {
          "output_type": "stream",
          "name": "stdout",
          "text": [
            "Epoch [191/200] Train loss: 0.08648932749719777 Validation Loss: 0.08751086217741813\n"
          ]
        },
        {
          "output_type": "stream",
          "name": "stderr",
          "text": [
            "100%|██████████| 200/200 [03:59<00:00,  1.20s/it]\n"
          ]
        },
        {
          "output_type": "stream",
          "name": "stdout",
          "text": [
            "====== Training models for 중앙도서관======\n"
          ]
        },
        {
          "output_type": "stream",
          "name": "stderr",
          "text": [
            "  0%|          | 1/200 [00:01<05:08,  1.55s/it]"
          ]
        },
        {
          "output_type": "stream",
          "name": "stdout",
          "text": [
            "Epoch [1/200] Train loss: 0.14866678422861138 Validation Loss: 0.11629040419094024\n"
          ]
        },
        {
          "output_type": "stream",
          "name": "stderr",
          "text": [
            "  6%|▌         | 11/200 [00:13<03:38,  1.16s/it]"
          ]
        },
        {
          "output_type": "stream",
          "name": "stdout",
          "text": [
            "Epoch [11/200] Train loss: 0.0991598340096297 Validation Loss: 0.09909764340808315\n"
          ]
        },
        {
          "output_type": "stream",
          "name": "stderr",
          "text": [
            " 10%|█         | 21/200 [00:25<03:22,  1.13s/it]"
          ]
        },
        {
          "output_type": "stream",
          "name": "stdout",
          "text": [
            "Epoch [21/200] Train loss: 0.09122905628794015 Validation Loss: 0.09228488995182899\n"
          ]
        },
        {
          "output_type": "stream",
          "name": "stderr",
          "text": [
            " 16%|█▌        | 31/200 [00:37<03:11,  1.14s/it]"
          ]
        },
        {
          "output_type": "stream",
          "name": "stdout",
          "text": [
            "Epoch [31/200] Train loss: 0.09018377637789574 Validation Loss: 0.09150125518921882\n"
          ]
        },
        {
          "output_type": "stream",
          "name": "stderr",
          "text": [
            " 20%|██        | 41/200 [00:49<03:02,  1.15s/it]"
          ]
        },
        {
          "output_type": "stream",
          "name": "stdout",
          "text": [
            "Epoch [41/200] Train loss: 0.09011295594183015 Validation Loss: 0.09141548410538704\n"
          ]
        },
        {
          "output_type": "stream",
          "name": "stderr",
          "text": [
            " 26%|██▌       | 51/200 [01:01<02:52,  1.16s/it]"
          ]
        },
        {
          "output_type": "stream",
          "name": "stdout",
          "text": [
            "Epoch [51/200] Train loss: 0.09011640482478672 Validation Loss: 0.0914091196271681\n"
          ]
        },
        {
          "output_type": "stream",
          "name": "stderr",
          "text": [
            " 30%|███       | 61/200 [01:13<02:45,  1.19s/it]"
          ]
        },
        {
          "output_type": "stream",
          "name": "stdout",
          "text": [
            "Epoch [61/200] Train loss: 0.09009477542138394 Validation Loss: 0.09140866850653002\n"
          ]
        },
        {
          "output_type": "stream",
          "name": "stderr",
          "text": [
            " 36%|███▌      | 71/200 [01:25<02:41,  1.25s/it]"
          ]
        },
        {
          "output_type": "stream",
          "name": "stdout",
          "text": [
            "Epoch [71/200] Train loss: 0.09004921601019769 Validation Loss: 0.09140866490141038\n"
          ]
        },
        {
          "output_type": "stream",
          "name": "stderr",
          "text": [
            " 40%|████      | 81/200 [01:37<02:38,  1.34s/it]"
          ]
        },
        {
          "output_type": "stream",
          "name": "stdout",
          "text": [
            "Epoch [81/200] Train loss: 0.09008038988329256 Validation Loss: 0.091408665382093\n"
          ]
        },
        {
          "output_type": "stream",
          "name": "stderr",
          "text": [
            " 46%|████▌     | 91/200 [01:49<02:22,  1.30s/it]"
          ]
        },
        {
          "output_type": "stream",
          "name": "stdout",
          "text": [
            "Epoch [91/200] Train loss: 0.09007644291522572 Validation Loss: 0.091408665382093\n"
          ]
        },
        {
          "output_type": "stream",
          "name": "stderr",
          "text": [
            " 50%|█████     | 101/200 [02:01<01:50,  1.12s/it]"
          ]
        },
        {
          "output_type": "stream",
          "name": "stdout",
          "text": [
            "Epoch [101/200] Train loss: 0.09009123443330756 Validation Loss: 0.091408665382093\n"
          ]
        },
        {
          "output_type": "stream",
          "name": "stderr",
          "text": [
            " 56%|█████▌    | 111/200 [02:13<01:40,  1.13s/it]"
          ]
        },
        {
          "output_type": "stream",
          "name": "stdout",
          "text": [
            "Epoch [111/200] Train loss: 0.09008719673985807 Validation Loss: 0.091408665382093\n"
          ]
        },
        {
          "output_type": "stream",
          "name": "stderr",
          "text": [
            " 60%|██████    | 121/200 [02:25<01:29,  1.14s/it]"
          ]
        },
        {
          "output_type": "stream",
          "name": "stdout",
          "text": [
            "Epoch [121/200] Train loss: 0.09004192146254175 Validation Loss: 0.091408665382093\n"
          ]
        },
        {
          "output_type": "stream",
          "name": "stderr",
          "text": [
            " 66%|██████▌   | 131/200 [02:37<01:19,  1.15s/it]"
          ]
        },
        {
          "output_type": "stream",
          "name": "stdout",
          "text": [
            "Epoch [131/200] Train loss: 0.09007496487947157 Validation Loss: 0.091408665382093\n"
          ]
        },
        {
          "output_type": "stream",
          "name": "stderr",
          "text": [
            " 70%|███████   | 141/200 [02:49<01:09,  1.17s/it]"
          ]
        },
        {
          "output_type": "stream",
          "name": "stdout",
          "text": [
            "Epoch [141/200] Train loss: 0.09003518150789748 Validation Loss: 0.091408665382093\n"
          ]
        },
        {
          "output_type": "stream",
          "name": "stderr",
          "text": [
            " 76%|███████▌  | 151/200 [03:02<00:59,  1.22s/it]"
          ]
        },
        {
          "output_type": "stream",
          "name": "stdout",
          "text": [
            "Epoch [151/200] Train loss: 0.09014992983130271 Validation Loss: 0.091408665382093\n"
          ]
        },
        {
          "output_type": "stream",
          "name": "stderr",
          "text": [
            " 80%|████████  | 161/200 [03:14<00:49,  1.26s/it]"
          ]
        },
        {
          "output_type": "stream",
          "name": "stdout",
          "text": [
            "Epoch [161/200] Train loss: 0.09005913098530514 Validation Loss: 0.091408665382093\n"
          ]
        },
        {
          "output_type": "stream",
          "name": "stderr",
          "text": [
            " 86%|████████▌ | 171/200 [03:26<00:39,  1.35s/it]"
          ]
        },
        {
          "output_type": "stream",
          "name": "stdout",
          "text": [
            "Epoch [171/200] Train loss: 0.09005978384626255 Validation Loss: 0.091408665382093\n"
          ]
        },
        {
          "output_type": "stream",
          "name": "stderr",
          "text": [
            " 90%|█████████ | 181/200 [03:37<00:23,  1.26s/it]"
          ]
        },
        {
          "output_type": "stream",
          "name": "stdout",
          "text": [
            "Epoch [181/200] Train loss: 0.09005261700094482 Validation Loss: 0.091408665382093\n"
          ]
        },
        {
          "output_type": "stream",
          "name": "stderr",
          "text": [
            " 96%|█████████▌| 191/200 [03:49<00:10,  1.12s/it]"
          ]
        },
        {
          "output_type": "stream",
          "name": "stdout",
          "text": [
            "Epoch [191/200] Train loss: 0.0901034319535695 Validation Loss: 0.091408665382093\n"
          ]
        },
        {
          "output_type": "stream",
          "name": "stderr",
          "text": [
            "100%|██████████| 200/200 [04:00<00:00,  1.20s/it]\n"
          ]
        },
        {
          "output_type": "stream",
          "name": "stdout",
          "text": [
            "====== Training models for 기숙사B동======\n"
          ]
        },
        {
          "output_type": "stream",
          "name": "stderr",
          "text": [
            "  0%|          | 1/200 [00:01<03:31,  1.06s/it]"
          ]
        },
        {
          "output_type": "stream",
          "name": "stdout",
          "text": [
            "Epoch [1/200] Train loss: 0.1370222017620549 Validation Loss: 0.11468506861349632\n"
          ]
        },
        {
          "output_type": "stream",
          "name": "stderr",
          "text": [
            "  6%|▌         | 11/200 [00:12<03:25,  1.09s/it]"
          ]
        },
        {
          "output_type": "stream",
          "name": "stdout",
          "text": [
            "Epoch [11/200] Train loss: 0.05460768260739066 Validation Loss: 0.055321084271217215\n"
          ]
        },
        {
          "output_type": "stream",
          "name": "stderr",
          "text": [
            " 10%|█         | 21/200 [00:24<03:21,  1.13s/it]"
          ]
        },
        {
          "output_type": "stream",
          "name": "stdout",
          "text": [
            "Epoch [21/200] Train loss: 0.05323238170895225 Validation Loss: 0.054205973215144254\n"
          ]
        },
        {
          "output_type": "stream",
          "name": "stderr",
          "text": [
            " 16%|█▌        | 31/200 [00:36<03:17,  1.17s/it]"
          ]
        },
        {
          "output_type": "stream",
          "name": "stdout",
          "text": [
            "Epoch [31/200] Train loss: 0.05297408464215535 Validation Loss: 0.054076883813430524\n"
          ]
        },
        {
          "output_type": "stream",
          "name": "stderr",
          "text": [
            " 20%|██        | 41/200 [00:47<03:23,  1.28s/it]"
          ]
        },
        {
          "output_type": "stream",
          "name": "stdout",
          "text": [
            "Epoch [41/200] Train loss: 0.05292085514633686 Validation Loss: 0.05403732290041858\n"
          ]
        },
        {
          "output_type": "stream",
          "name": "stderr",
          "text": [
            " 26%|██▌       | 51/200 [00:58<02:58,  1.20s/it]"
          ]
        },
        {
          "output_type": "stream",
          "name": "stdout",
          "text": [
            "Epoch [51/200] Train loss: 0.052923000558759224 Validation Loss: 0.05403917141515633\n"
          ]
        },
        {
          "output_type": "stream",
          "name": "stderr",
          "text": [
            " 30%|███       | 61/200 [01:09<02:28,  1.07s/it]"
          ]
        },
        {
          "output_type": "stream",
          "name": "stdout",
          "text": [
            "Epoch [61/200] Train loss: 0.05294313247908245 Validation Loss: 0.05403899863876145\n"
          ]
        },
        {
          "output_type": "stream",
          "name": "stderr",
          "text": [
            " 36%|███▌      | 71/200 [01:21<02:19,  1.08s/it]"
          ]
        },
        {
          "output_type": "stream",
          "name": "stdout",
          "text": [
            "Epoch [71/200] Train loss: 0.0529536476028172 Validation Loss: 0.05403899722572031\n"
          ]
        },
        {
          "output_type": "stream",
          "name": "stderr",
          "text": [
            " 40%|████      | 81/200 [01:33<02:11,  1.10s/it]"
          ]
        },
        {
          "output_type": "stream",
          "name": "stdout",
          "text": [
            "Epoch [81/200] Train loss: 0.052915224861918075 Validation Loss: 0.05403899671188716\n"
          ]
        },
        {
          "output_type": "stream",
          "name": "stderr",
          "text": [
            " 46%|████▌     | 91/200 [01:44<02:04,  1.14s/it]"
          ]
        },
        {
          "output_type": "stream",
          "name": "stdout",
          "text": [
            "Epoch [91/200] Train loss: 0.05293560694112922 Validation Loss: 0.05403899748263688\n"
          ]
        },
        {
          "output_type": "stream",
          "name": "stderr",
          "text": [
            " 50%|█████     | 101/200 [01:56<01:59,  1.21s/it]"
          ]
        },
        {
          "output_type": "stream",
          "name": "stdout",
          "text": [
            "Epoch [101/200] Train loss: 0.052924071120106296 Validation Loss: 0.05403899748263688\n"
          ]
        },
        {
          "output_type": "stream",
          "name": "stderr",
          "text": [
            " 56%|█████▌    | 111/200 [02:07<01:52,  1.26s/it]"
          ]
        },
        {
          "output_type": "stream",
          "name": "stdout",
          "text": [
            "Epoch [111/200] Train loss: 0.05292938183589931 Validation Loss: 0.05403899748263688\n"
          ]
        },
        {
          "output_type": "stream",
          "name": "stderr",
          "text": [
            " 60%|██████    | 121/200 [02:18<01:24,  1.07s/it]"
          ]
        },
        {
          "output_type": "stream",
          "name": "stdout",
          "text": [
            "Epoch [121/200] Train loss: 0.05293739945083469 Validation Loss: 0.05403899748263688\n"
          ]
        },
        {
          "output_type": "stream",
          "name": "stderr",
          "text": [
            " 66%|██████▌   | 131/200 [02:30<01:14,  1.08s/it]"
          ]
        },
        {
          "output_type": "stream",
          "name": "stdout",
          "text": [
            "Epoch [131/200] Train loss: 0.05293523400892943 Validation Loss: 0.05403899748263688\n"
          ]
        },
        {
          "output_type": "stream",
          "name": "stderr",
          "text": [
            " 70%|███████   | 141/200 [02:41<01:04,  1.09s/it]"
          ]
        },
        {
          "output_type": "stream",
          "name": "stdout",
          "text": [
            "Epoch [141/200] Train loss: 0.052926992812068946 Validation Loss: 0.05403899748263688\n"
          ]
        },
        {
          "output_type": "stream",
          "name": "stderr",
          "text": [
            " 76%|███████▌  | 151/200 [02:53<00:55,  1.12s/it]"
          ]
        },
        {
          "output_type": "stream",
          "name": "stdout",
          "text": [
            "Epoch [151/200] Train loss: 0.052933461641594445 Validation Loss: 0.05403899748263688\n"
          ]
        },
        {
          "output_type": "stream",
          "name": "stderr",
          "text": [
            " 80%|████████  | 161/200 [03:05<00:46,  1.18s/it]"
          ]
        },
        {
          "output_type": "stream",
          "name": "stdout",
          "text": [
            "Epoch [161/200] Train loss: 0.05292810485154003 Validation Loss: 0.05403899748263688\n"
          ]
        },
        {
          "output_type": "stream",
          "name": "stderr",
          "text": [
            " 86%|████████▌ | 171/200 [03:16<00:37,  1.29s/it]"
          ]
        },
        {
          "output_type": "stream",
          "name": "stdout",
          "text": [
            "Epoch [171/200] Train loss: 0.05292570640965974 Validation Loss: 0.05403899748263688\n"
          ]
        },
        {
          "output_type": "stream",
          "name": "stderr",
          "text": [
            " 90%|█████████ | 181/200 [03:27<00:22,  1.17s/it]"
          ]
        },
        {
          "output_type": "stream",
          "name": "stdout",
          "text": [
            "Epoch [181/200] Train loss: 0.05295411837629942 Validation Loss: 0.05403899748263688\n"
          ]
        },
        {
          "output_type": "stream",
          "name": "stderr",
          "text": [
            " 96%|█████████▌| 191/200 [03:38<00:09,  1.08s/it]"
          ]
        },
        {
          "output_type": "stream",
          "name": "stdout",
          "text": [
            "Epoch [191/200] Train loss: 0.052935790705990485 Validation Loss: 0.05403899748263688\n"
          ]
        },
        {
          "output_type": "stream",
          "name": "stderr",
          "text": [
            "100%|██████████| 200/200 [03:49<00:00,  1.15s/it]\n"
          ]
        },
        {
          "output_type": "stream",
          "name": "stdout",
          "text": [
            "====== Training models for 동물실험동======\n"
          ]
        },
        {
          "output_type": "stream",
          "name": "stderr",
          "text": [
            "  0%|          | 1/200 [00:01<03:45,  1.13s/it]"
          ]
        },
        {
          "output_type": "stream",
          "name": "stdout",
          "text": [
            "Epoch [1/200] Train loss: 0.15511131360207076 Validation Loss: 0.12252315278014829\n"
          ]
        },
        {
          "output_type": "stream",
          "name": "stderr",
          "text": [
            "  6%|▌         | 11/200 [00:13<03:39,  1.16s/it]"
          ]
        },
        {
          "output_type": "stream",
          "name": "stdout",
          "text": [
            "Epoch [11/200] Train loss: 0.10583060642574059 Validation Loss: 0.10504369605933467\n"
          ]
        },
        {
          "output_type": "stream",
          "name": "stderr",
          "text": [
            " 10%|█         | 21/200 [00:25<03:31,  1.18s/it]"
          ]
        },
        {
          "output_type": "stream",
          "name": "stdout",
          "text": [
            "Epoch [21/200] Train loss: 0.09736259566780961 Validation Loss: 0.09797849265798446\n"
          ]
        },
        {
          "output_type": "stream",
          "name": "stderr",
          "text": [
            " 16%|█▌        | 31/200 [00:37<03:27,  1.23s/it]"
          ]
        },
        {
          "output_type": "stream",
          "name": "stdout",
          "text": [
            "Epoch [31/200] Train loss: 0.096371807740549 Validation Loss: 0.0971364523133924\n"
          ]
        },
        {
          "output_type": "stream",
          "name": "stderr",
          "text": [
            " 20%|██        | 41/200 [00:49<03:24,  1.29s/it]"
          ]
        },
        {
          "output_type": "stream",
          "name": "stdout",
          "text": [
            "Epoch [41/200] Train loss: 0.09622093149050763 Validation Loss: 0.09707325745013452\n"
          ]
        },
        {
          "output_type": "stream",
          "name": "stderr",
          "text": [
            " 26%|██▌       | 51/200 [01:01<03:22,  1.36s/it]"
          ]
        },
        {
          "output_type": "stream",
          "name": "stdout",
          "text": [
            "Epoch [51/200] Train loss: 0.09630997601605247 Validation Loss: 0.09706601404374646\n"
          ]
        },
        {
          "output_type": "stream",
          "name": "stderr",
          "text": [
            " 30%|███       | 61/200 [01:13<02:53,  1.25s/it]"
          ]
        },
        {
          "output_type": "stream",
          "name": "stdout",
          "text": [
            "Epoch [61/200] Train loss: 0.09628808207104726 Validation Loss: 0.09706562973799245\n"
          ]
        },
        {
          "output_type": "stream",
          "name": "stderr",
          "text": [
            " 36%|███▌      | 71/200 [01:25<02:23,  1.12s/it]"
          ]
        },
        {
          "output_type": "stream",
          "name": "stdout",
          "text": [
            "Epoch [71/200] Train loss: 0.09624443460761765 Validation Loss: 0.09706562685389672\n"
          ]
        },
        {
          "output_type": "stream",
          "name": "stderr",
          "text": [
            " 40%|████      | 81/200 [01:37<02:14,  1.13s/it]"
          ]
        },
        {
          "output_type": "stream",
          "name": "stdout",
          "text": [
            "Epoch [81/200] Train loss: 0.09623012780652615 Validation Loss: 0.0970656261328728\n"
          ]
        },
        {
          "output_type": "stream",
          "name": "stderr",
          "text": [
            " 46%|████▌     | 91/200 [01:49<02:04,  1.14s/it]"
          ]
        },
        {
          "output_type": "stream",
          "name": "stdout",
          "text": [
            "Epoch [91/200] Train loss: 0.09626235564549764 Validation Loss: 0.09706562733457934\n"
          ]
        },
        {
          "output_type": "stream",
          "name": "stderr",
          "text": [
            " 50%|█████     | 101/200 [02:01<01:55,  1.16s/it]"
          ]
        },
        {
          "output_type": "stream",
          "name": "stdout",
          "text": [
            "Epoch [101/200] Train loss: 0.09626931838170001 Validation Loss: 0.09706562709423804\n"
          ]
        },
        {
          "output_type": "stream",
          "name": "stderr",
          "text": [
            " 56%|█████▌    | 111/200 [02:13<01:45,  1.19s/it]"
          ]
        },
        {
          "output_type": "stream",
          "name": "stdout",
          "text": [
            "Epoch [111/200] Train loss: 0.0962410783203541 Validation Loss: 0.09706562709423804\n"
          ]
        },
        {
          "output_type": "stream",
          "name": "stderr",
          "text": [
            " 60%|██████    | 121/200 [02:25<01:36,  1.22s/it]"
          ]
        },
        {
          "output_type": "stream",
          "name": "stdout",
          "text": [
            "Epoch [121/200] Train loss: 0.09627348340955781 Validation Loss: 0.09706562709423804\n"
          ]
        },
        {
          "output_type": "stream",
          "name": "stderr",
          "text": [
            " 66%|██████▌   | 131/200 [02:38<01:28,  1.29s/it]"
          ]
        },
        {
          "output_type": "stream",
          "name": "stdout",
          "text": [
            "Epoch [131/200] Train loss: 0.09625296858848367 Validation Loss: 0.09706562709423804\n"
          ]
        },
        {
          "output_type": "stream",
          "name": "stderr",
          "text": [
            " 70%|███████   | 141/200 [02:50<01:20,  1.36s/it]"
          ]
        },
        {
          "output_type": "stream",
          "name": "stdout",
          "text": [
            "Epoch [141/200] Train loss: 0.0962861464224725 Validation Loss: 0.09706562709423804\n"
          ]
        },
        {
          "output_type": "stream",
          "name": "stderr",
          "text": [
            " 76%|███████▌  | 151/200 [03:01<01:00,  1.23s/it]"
          ]
        },
        {
          "output_type": "stream",
          "name": "stdout",
          "text": [
            "Epoch [151/200] Train loss: 0.09626829578184787 Validation Loss: 0.09706562709423804\n"
          ]
        },
        {
          "output_type": "stream",
          "name": "stderr",
          "text": [
            " 80%|████████  | 161/200 [03:13<00:43,  1.13s/it]"
          ]
        },
        {
          "output_type": "stream",
          "name": "stdout",
          "text": [
            "Epoch [161/200] Train loss: 0.09627963421644006 Validation Loss: 0.09706562709423804\n"
          ]
        },
        {
          "output_type": "stream",
          "name": "stderr",
          "text": [
            " 86%|████████▌ | 171/200 [03:25<00:32,  1.13s/it]"
          ]
        },
        {
          "output_type": "stream",
          "name": "stdout",
          "text": [
            "Epoch [171/200] Train loss: 0.09629095020730799 Validation Loss: 0.09706562709423804\n"
          ]
        },
        {
          "output_type": "stream",
          "name": "stderr",
          "text": [
            " 90%|█████████ | 181/200 [03:37<00:21,  1.14s/it]"
          ]
        },
        {
          "output_type": "stream",
          "name": "stdout",
          "text": [
            "Epoch [181/200] Train loss: 0.09628885812720153 Validation Loss: 0.09706562709423804\n"
          ]
        },
        {
          "output_type": "stream",
          "name": "stderr",
          "text": [
            " 96%|█████████▌| 191/200 [03:50<00:10,  1.17s/it]"
          ]
        },
        {
          "output_type": "stream",
          "name": "stdout",
          "text": [
            "Epoch [191/200] Train loss: 0.09623815008887539 Validation Loss: 0.09706562709423804\n"
          ]
        },
        {
          "output_type": "stream",
          "name": "stderr",
          "text": [
            "100%|██████████| 200/200 [04:01<00:00,  1.21s/it]\n"
          ]
        },
        {
          "output_type": "stream",
          "name": "stdout",
          "text": [
            "====== Training models for 중앙창고======\n"
          ]
        },
        {
          "output_type": "stream",
          "name": "stderr",
          "text": [
            "  0%|          | 1/200 [00:01<03:45,  1.13s/it]"
          ]
        },
        {
          "output_type": "stream",
          "name": "stdout",
          "text": [
            "Epoch [1/200] Train loss: 0.1450719606790523 Validation Loss: 0.11839036090720084\n"
          ]
        },
        {
          "output_type": "stream",
          "name": "stderr",
          "text": [
            "  6%|▌         | 11/200 [00:13<03:52,  1.23s/it]"
          ]
        },
        {
          "output_type": "stream",
          "name": "stdout",
          "text": [
            "Epoch [11/200] Train loss: 0.09939220253332162 Validation Loss: 0.09918054938316345\n"
          ]
        },
        {
          "output_type": "stream",
          "name": "stderr",
          "text": [
            " 10%|█         | 21/200 [00:25<03:50,  1.29s/it]"
          ]
        },
        {
          "output_type": "stream",
          "name": "stdout",
          "text": [
            "Epoch [21/200] Train loss: 0.09165279413937541 Validation Loss: 0.09261645929467294\n"
          ]
        },
        {
          "output_type": "stream",
          "name": "stderr",
          "text": [
            " 16%|█▌        | 31/200 [00:37<03:46,  1.34s/it]"
          ]
        },
        {
          "output_type": "stream",
          "name": "stdout",
          "text": [
            "Epoch [31/200] Train loss: 0.09055282052897622 Validation Loss: 0.09185464608092461\n"
          ]
        },
        {
          "output_type": "stream",
          "name": "stderr",
          "text": [
            " 20%|██        | 41/200 [00:48<03:13,  1.21s/it]"
          ]
        },
        {
          "output_type": "stream",
          "name": "stdout",
          "text": [
            "Epoch [41/200] Train loss: 0.09045479578491102 Validation Loss: 0.09176990341755652\n"
          ]
        },
        {
          "output_type": "stream",
          "name": "stderr",
          "text": [
            " 26%|██▌       | 51/200 [01:00<02:47,  1.12s/it]"
          ]
        },
        {
          "output_type": "stream",
          "name": "stdout",
          "text": [
            "Epoch [51/200] Train loss: 0.09045891724373578 Validation Loss: 0.09176510981013698\n"
          ]
        },
        {
          "output_type": "stream",
          "name": "stderr",
          "text": [
            " 30%|███       | 61/200 [01:12<02:36,  1.13s/it]"
          ]
        },
        {
          "output_type": "stream",
          "name": "stdout",
          "text": [
            "Epoch [61/200] Train loss: 0.09051371960605613 Validation Loss: 0.09176473800213106\n"
          ]
        },
        {
          "output_type": "stream",
          "name": "stderr",
          "text": [
            " 36%|███▌      | 71/200 [01:24<02:26,  1.14s/it]"
          ]
        },
        {
          "output_type": "stream",
          "name": "stdout",
          "text": [
            "Epoch [71/200] Train loss: 0.09042068724156407 Validation Loss: 0.09176473223393963\n"
          ]
        },
        {
          "output_type": "stream",
          "name": "stderr",
          "text": [
            " 40%|████      | 81/200 [01:37<02:18,  1.17s/it]"
          ]
        },
        {
          "output_type": "stream",
          "name": "stdout",
          "text": [
            "Epoch [81/200] Train loss: 0.0904092864428528 Validation Loss: 0.09176473271462225\n"
          ]
        },
        {
          "output_type": "stream",
          "name": "stderr",
          "text": [
            " 46%|████▌     | 91/200 [01:49<02:10,  1.20s/it]"
          ]
        },
        {
          "output_type": "stream",
          "name": "stdout",
          "text": [
            "Epoch [91/200] Train loss: 0.09047605713576447 Validation Loss: 0.09176473271462225\n"
          ]
        },
        {
          "output_type": "stream",
          "name": "stderr",
          "text": [
            " 50%|█████     | 101/200 [02:01<02:03,  1.25s/it]"
          ]
        },
        {
          "output_type": "stream",
          "name": "stdout",
          "text": [
            "Epoch [101/200] Train loss: 0.09044843746556176 Validation Loss: 0.09176473271462225\n"
          ]
        },
        {
          "output_type": "stream",
          "name": "stderr",
          "text": [
            " 56%|█████▌    | 111/200 [02:13<01:57,  1.32s/it]"
          ]
        },
        {
          "output_type": "stream",
          "name": "stdout",
          "text": [
            "Epoch [111/200] Train loss: 0.09038427830846221 Validation Loss: 0.09176473271462225\n"
          ]
        },
        {
          "output_type": "stream",
          "name": "stderr",
          "text": [
            " 60%|██████    | 121/200 [02:24<01:40,  1.27s/it]"
          ]
        },
        {
          "output_type": "stream",
          "name": "stdout",
          "text": [
            "Epoch [121/200] Train loss: 0.09045770187927371 Validation Loss: 0.09176473271462225\n"
          ]
        },
        {
          "output_type": "stream",
          "name": "stderr",
          "text": [
            " 66%|██████▌   | 131/200 [02:36<01:17,  1.12s/it]"
          ]
        },
        {
          "output_type": "stream",
          "name": "stdout",
          "text": [
            "Epoch [131/200] Train loss: 0.09039147054094346 Validation Loss: 0.09176473271462225\n"
          ]
        },
        {
          "output_type": "stream",
          "name": "stderr",
          "text": [
            " 70%|███████   | 141/200 [02:48<01:06,  1.13s/it]"
          ]
        },
        {
          "output_type": "stream",
          "name": "stdout",
          "text": [
            "Epoch [141/200] Train loss: 0.09040133100110317 Validation Loss: 0.09176473271462225\n"
          ]
        },
        {
          "output_type": "stream",
          "name": "stderr",
          "text": [
            " 76%|███████▌  | 151/200 [03:00<00:55,  1.14s/it]"
          ]
        },
        {
          "output_type": "stream",
          "name": "stdout",
          "text": [
            "Epoch [151/200] Train loss: 0.09041119339289488 Validation Loss: 0.09176473271462225\n"
          ]
        },
        {
          "output_type": "stream",
          "name": "stderr",
          "text": [
            " 80%|████████  | 161/200 [03:12<00:44,  1.15s/it]"
          ]
        },
        {
          "output_type": "stream",
          "name": "stdout",
          "text": [
            "Epoch [161/200] Train loss: 0.09050744744362654 Validation Loss: 0.09176473271462225\n"
          ]
        },
        {
          "output_type": "stream",
          "name": "stderr",
          "text": [
            " 86%|████████▌ | 171/200 [03:24<00:34,  1.17s/it]"
          ]
        },
        {
          "output_type": "stream",
          "name": "stdout",
          "text": [
            "Epoch [171/200] Train loss: 0.09043815183173481 Validation Loss: 0.09176473271462225\n"
          ]
        },
        {
          "output_type": "stream",
          "name": "stderr",
          "text": [
            " 90%|█████████ | 181/200 [03:37<00:23,  1.22s/it]"
          ]
        },
        {
          "output_type": "stream",
          "name": "stdout",
          "text": [
            "Epoch [181/200] Train loss: 0.09039909174903431 Validation Loss: 0.09176473271462225\n"
          ]
        },
        {
          "output_type": "stream",
          "name": "stderr",
          "text": [
            " 96%|█████████▌| 191/200 [03:49<00:11,  1.29s/it]"
          ]
        },
        {
          "output_type": "stream",
          "name": "stdout",
          "text": [
            "Epoch [191/200] Train loss: 0.09045071185493665 Validation Loss: 0.09176473271462225\n"
          ]
        },
        {
          "output_type": "stream",
          "name": "stderr",
          "text": [
            "100%|██████████| 200/200 [03:59<00:00,  1.20s/it]\n"
          ]
        },
        {
          "output_type": "stream",
          "name": "stdout",
          "text": [
            "====== Training models for LG도서관======\n"
          ]
        },
        {
          "output_type": "stream",
          "name": "stderr",
          "text": [
            "  0%|          | 1/200 [00:01<05:07,  1.54s/it]"
          ]
        },
        {
          "output_type": "stream",
          "name": "stdout",
          "text": [
            "Epoch [1/200] Train loss: 0.14835038060636677 Validation Loss: 0.11575232133749992\n"
          ]
        },
        {
          "output_type": "stream",
          "name": "stderr",
          "text": [
            "  6%|▌         | 11/200 [00:13<03:50,  1.22s/it]"
          ]
        },
        {
          "output_type": "stream",
          "name": "stdout",
          "text": [
            "Epoch [11/200] Train loss: 0.09734613574090809 Validation Loss: 0.0960890511351247\n"
          ]
        },
        {
          "output_type": "stream",
          "name": "stderr",
          "text": [
            " 10%|█         | 21/200 [00:24<03:20,  1.12s/it]"
          ]
        },
        {
          "output_type": "stream",
          "name": "stdout",
          "text": [
            "Epoch [21/200] Train loss: 0.08970054637625384 Validation Loss: 0.09027660565991555\n"
          ]
        },
        {
          "output_type": "stream",
          "name": "stderr",
          "text": [
            " 16%|█▌        | 31/200 [00:36<03:10,  1.12s/it]"
          ]
        },
        {
          "output_type": "stream",
          "name": "stdout",
          "text": [
            "Epoch [31/200] Train loss: 0.08876009736164117 Validation Loss: 0.08971377846694761\n"
          ]
        },
        {
          "output_type": "stream",
          "name": "stderr",
          "text": [
            " 20%|██        | 41/200 [00:49<03:02,  1.15s/it]"
          ]
        },
        {
          "output_type": "stream",
          "name": "stdout",
          "text": [
            "Epoch [41/200] Train loss: 0.08864129052608592 Validation Loss: 0.08963577569492402\n"
          ]
        },
        {
          "output_type": "stream",
          "name": "stderr",
          "text": [
            " 26%|██▌       | 51/200 [01:01<02:51,  1.15s/it]"
          ]
        },
        {
          "output_type": "stream",
          "name": "stdout",
          "text": [
            "Epoch [51/200] Train loss: 0.08864350877548932 Validation Loss: 0.08963220350203975\n"
          ]
        },
        {
          "output_type": "stream",
          "name": "stderr",
          "text": [
            " 30%|███       | 61/200 [01:13<02:44,  1.19s/it]"
          ]
        },
        {
          "output_type": "stream",
          "name": "stdout",
          "text": [
            "Epoch [61/200] Train loss: 0.08859569698940088 Validation Loss: 0.08963181727355526\n"
          ]
        },
        {
          "output_type": "stream",
          "name": "stderr",
          "text": [
            " 36%|███▌      | 71/200 [01:25<02:40,  1.24s/it]"
          ]
        },
        {
          "output_type": "stream",
          "name": "stdout",
          "text": [
            "Epoch [71/200] Train loss: 0.08868579453033675 Validation Loss: 0.08963181462980085\n"
          ]
        },
        {
          "output_type": "stream",
          "name": "stderr",
          "text": [
            " 40%|████      | 81/200 [01:37<02:37,  1.33s/it]"
          ]
        },
        {
          "output_type": "stream",
          "name": "stdout",
          "text": [
            "Epoch [81/200] Train loss: 0.08863834469529336 Validation Loss: 0.08963181414911824\n"
          ]
        },
        {
          "output_type": "stream",
          "name": "stderr",
          "text": [
            " 46%|████▌     | 91/200 [01:49<02:21,  1.30s/it]"
          ]
        },
        {
          "output_type": "stream",
          "name": "stdout",
          "text": [
            "Epoch [91/200] Train loss: 0.08864092937222233 Validation Loss: 0.089631813187753\n"
          ]
        },
        {
          "output_type": "stream",
          "name": "stderr",
          "text": [
            " 50%|█████     | 101/200 [02:00<01:54,  1.16s/it]"
          ]
        },
        {
          "output_type": "stream",
          "name": "stdout",
          "text": [
            "Epoch [101/200] Train loss: 0.08860047787059973 Validation Loss: 0.08963181342809431\n"
          ]
        },
        {
          "output_type": "stream",
          "name": "stderr",
          "text": [
            " 56%|█████▌    | 111/200 [02:12<01:40,  1.13s/it]"
          ]
        },
        {
          "output_type": "stream",
          "name": "stdout",
          "text": [
            "Epoch [111/200] Train loss: 0.08870886588170204 Validation Loss: 0.08963181342809431\n"
          ]
        },
        {
          "output_type": "stream",
          "name": "stderr",
          "text": [
            " 60%|██████    | 121/200 [02:24<01:29,  1.13s/it]"
          ]
        },
        {
          "output_type": "stream",
          "name": "stdout",
          "text": [
            "Epoch [121/200] Train loss: 0.08866189012434257 Validation Loss: 0.08963181342809431\n"
          ]
        },
        {
          "output_type": "stream",
          "name": "stderr",
          "text": [
            " 66%|██████▌   | 131/200 [02:36<01:18,  1.14s/it]"
          ]
        },
        {
          "output_type": "stream",
          "name": "stdout",
          "text": [
            "Epoch [131/200] Train loss: 0.08861939986178904 Validation Loss: 0.08963181342809431\n"
          ]
        },
        {
          "output_type": "stream",
          "name": "stderr",
          "text": [
            " 70%|███████   | 141/200 [02:48<01:08,  1.17s/it]"
          ]
        },
        {
          "output_type": "stream",
          "name": "stdout",
          "text": [
            "Epoch [141/200] Train loss: 0.08864119406712889 Validation Loss: 0.08963181342809431\n"
          ]
        },
        {
          "output_type": "stream",
          "name": "stderr",
          "text": [
            " 76%|███████▌  | 151/200 [03:01<00:59,  1.21s/it]"
          ]
        },
        {
          "output_type": "stream",
          "name": "stdout",
          "text": [
            "Epoch [151/200] Train loss: 0.08864125977327794 Validation Loss: 0.08963181342809431\n"
          ]
        },
        {
          "output_type": "stream",
          "name": "stderr",
          "text": [
            " 80%|████████  | 161/200 [03:13<00:49,  1.27s/it]"
          ]
        },
        {
          "output_type": "stream",
          "name": "stdout",
          "text": [
            "Epoch [161/200] Train loss: 0.08865439643462499 Validation Loss: 0.08963181342809431\n"
          ]
        },
        {
          "output_type": "stream",
          "name": "stderr",
          "text": [
            " 86%|████████▌ | 171/200 [03:25<00:39,  1.36s/it]"
          ]
        },
        {
          "output_type": "stream",
          "name": "stdout",
          "text": [
            "Epoch [171/200] Train loss: 0.08859282100396883 Validation Loss: 0.08963181342809431\n"
          ]
        },
        {
          "output_type": "stream",
          "name": "stderr",
          "text": [
            " 90%|█████████ | 181/200 [03:36<00:23,  1.24s/it]"
          ]
        },
        {
          "output_type": "stream",
          "name": "stdout",
          "text": [
            "Epoch [181/200] Train loss: 0.08863639665974511 Validation Loss: 0.08963181342809431\n"
          ]
        },
        {
          "output_type": "stream",
          "name": "stderr",
          "text": [
            " 96%|█████████▌| 191/200 [03:48<00:10,  1.13s/it]"
          ]
        },
        {
          "output_type": "stream",
          "name": "stdout",
          "text": [
            "Epoch [191/200] Train loss: 0.08867272188879335 Validation Loss: 0.08963181342809431\n"
          ]
        },
        {
          "output_type": "stream",
          "name": "stderr",
          "text": [
            "100%|██████████| 200/200 [03:59<00:00,  1.20s/it]\n"
          ]
        },
        {
          "output_type": "stream",
          "name": "stdout",
          "text": [
            "====== Training models for 학생회관======\n"
          ]
        },
        {
          "output_type": "stream",
          "name": "stderr",
          "text": [
            "  0%|          | 1/200 [00:01<03:42,  1.12s/it]"
          ]
        },
        {
          "output_type": "stream",
          "name": "stdout",
          "text": [
            "Epoch [1/200] Train loss: 0.15247904497041623 Validation Loss: 0.11637967824935913\n"
          ]
        },
        {
          "output_type": "stream",
          "name": "stderr",
          "text": [
            "  6%|▌         | 11/200 [00:13<03:34,  1.14s/it]"
          ]
        },
        {
          "output_type": "stream",
          "name": "stdout",
          "text": [
            "Epoch [11/200] Train loss: 0.09794823064970871 Validation Loss: 0.09796428680419922\n"
          ]
        },
        {
          "output_type": "stream",
          "name": "stderr",
          "text": [
            " 10%|█         | 21/200 [00:25<03:27,  1.16s/it]"
          ]
        },
        {
          "output_type": "stream",
          "name": "stdout",
          "text": [
            "Epoch [21/200] Train loss: 0.08887339426288879 Validation Loss: 0.09047753892598613\n"
          ]
        },
        {
          "output_type": "stream",
          "name": "stderr",
          "text": [
            " 16%|█▌        | 31/200 [00:37<03:21,  1.19s/it]"
          ]
        },
        {
          "output_type": "stream",
          "name": "stdout",
          "text": [
            "Epoch [31/200] Train loss: 0.08794734936682776 Validation Loss: 0.08973801208119239\n"
          ]
        },
        {
          "output_type": "stream",
          "name": "stderr",
          "text": [
            " 20%|██        | 41/200 [00:49<03:14,  1.22s/it]"
          ]
        },
        {
          "output_type": "stream",
          "name": "stdout",
          "text": [
            "Epoch [41/200] Train loss: 0.08776805963781145 Validation Loss: 0.08967050693688854\n"
          ]
        },
        {
          "output_type": "stream",
          "name": "stderr",
          "text": [
            " 26%|██▌       | 51/200 [01:01<03:11,  1.29s/it]"
          ]
        },
        {
          "output_type": "stream",
          "name": "stdout",
          "text": [
            "Epoch [51/200] Train loss: 0.08784914948812728 Validation Loss: 0.08966452219793873\n"
          ]
        },
        {
          "output_type": "stream",
          "name": "stderr",
          "text": [
            " 30%|███       | 61/200 [01:13<03:00,  1.30s/it]"
          ]
        },
        {
          "output_type": "stream",
          "name": "stdout",
          "text": [
            "Epoch [61/200] Train loss: 0.08780594200754362 Validation Loss: 0.0896641376518434\n"
          ]
        },
        {
          "output_type": "stream",
          "name": "stderr",
          "text": [
            " 36%|███▌      | 71/200 [01:24<02:29,  1.16s/it]"
          ]
        },
        {
          "output_type": "stream",
          "name": "stdout",
          "text": [
            "Epoch [71/200] Train loss: 0.08777164462417242 Validation Loss: 0.08966413284501722\n"
          ]
        },
        {
          "output_type": "stream",
          "name": "stderr",
          "text": [
            " 40%|████      | 81/200 [01:36<02:13,  1.12s/it]"
          ]
        },
        {
          "output_type": "stream",
          "name": "stdout",
          "text": [
            "Epoch [81/200] Train loss: 0.08780482356195096 Validation Loss: 0.0896641321239933\n"
          ]
        },
        {
          "output_type": "stream",
          "name": "stderr",
          "text": [
            " 46%|████▌     | 91/200 [01:48<02:03,  1.13s/it]"
          ]
        },
        {
          "output_type": "stream",
          "name": "stdout",
          "text": [
            "Epoch [91/200] Train loss: 0.0878202355631585 Validation Loss: 0.08966413260467591\n"
          ]
        },
        {
          "output_type": "stream",
          "name": "stderr",
          "text": [
            " 50%|█████     | 101/200 [02:01<01:53,  1.14s/it]"
          ]
        },
        {
          "output_type": "stream",
          "name": "stdout",
          "text": [
            "Epoch [101/200] Train loss: 0.08778820686624865 Validation Loss: 0.08966413260467591\n"
          ]
        },
        {
          "output_type": "stream",
          "name": "stderr",
          "text": [
            " 56%|█████▌    | 111/200 [02:13<01:43,  1.17s/it]"
          ]
        },
        {
          "output_type": "stream",
          "name": "stdout",
          "text": [
            "Epoch [111/200] Train loss: 0.08783973146367956 Validation Loss: 0.08966413260467591\n"
          ]
        },
        {
          "output_type": "stream",
          "name": "stderr",
          "text": [
            " 60%|██████    | 121/200 [02:25<01:34,  1.20s/it]"
          ]
        },
        {
          "output_type": "stream",
          "name": "stdout",
          "text": [
            "Epoch [121/200] Train loss: 0.08779241650560755 Validation Loss: 0.08966413260467591\n"
          ]
        },
        {
          "output_type": "stream",
          "name": "stderr",
          "text": [
            " 66%|██████▌   | 131/200 [02:37<01:27,  1.26s/it]"
          ]
        },
        {
          "output_type": "stream",
          "name": "stdout",
          "text": [
            "Epoch [131/200] Train loss: 0.087734538402577 Validation Loss: 0.08966413260467591\n"
          ]
        },
        {
          "output_type": "stream",
          "name": "stderr",
          "text": [
            " 70%|███████   | 141/200 [02:49<01:19,  1.36s/it]"
          ]
        },
        {
          "output_type": "stream",
          "name": "stdout",
          "text": [
            "Epoch [141/200] Train loss: 0.08776515381939617 Validation Loss: 0.08966413260467591\n"
          ]
        },
        {
          "output_type": "stream",
          "name": "stderr",
          "text": [
            " 76%|███████▌  | 151/200 [03:01<01:01,  1.25s/it]"
          ]
        },
        {
          "output_type": "stream",
          "name": "stdout",
          "text": [
            "Epoch [151/200] Train loss: 0.08777870682409271 Validation Loss: 0.08966413260467591\n"
          ]
        },
        {
          "output_type": "stream",
          "name": "stderr",
          "text": [
            " 80%|████████  | 161/200 [03:12<00:43,  1.11s/it]"
          ]
        },
        {
          "output_type": "stream",
          "name": "stdout",
          "text": [
            "Epoch [161/200] Train loss: 0.0878304773826658 Validation Loss: 0.08966413260467591\n"
          ]
        },
        {
          "output_type": "stream",
          "name": "stderr",
          "text": [
            " 86%|████████▌ | 171/200 [03:24<00:32,  1.12s/it]"
          ]
        },
        {
          "output_type": "stream",
          "name": "stdout",
          "text": [
            "Epoch [171/200] Train loss: 0.08780337511389344 Validation Loss: 0.08966413260467591\n"
          ]
        },
        {
          "output_type": "stream",
          "name": "stderr",
          "text": [
            " 90%|█████████ | 181/200 [03:36<00:21,  1.13s/it]"
          ]
        },
        {
          "output_type": "stream",
          "name": "stdout",
          "text": [
            "Epoch [181/200] Train loss: 0.08776520907020373 Validation Loss: 0.08966413260467591\n"
          ]
        },
        {
          "output_type": "stream",
          "name": "stderr",
          "text": [
            " 96%|█████████▌| 191/200 [03:48<00:10,  1.16s/it]"
          ]
        },
        {
          "output_type": "stream",
          "name": "stdout",
          "text": [
            "Epoch [191/200] Train loss: 0.08777900371286604 Validation Loss: 0.08966413260467591\n"
          ]
        },
        {
          "output_type": "stream",
          "name": "stderr",
          "text": [
            "100%|██████████| 200/200 [03:59<00:00,  1.20s/it]\n"
          ]
        },
        {
          "output_type": "stream",
          "name": "stdout",
          "text": [
            "====== Training models for 산업협력관======\n"
          ]
        },
        {
          "output_type": "stream",
          "name": "stderr",
          "text": [
            "  0%|          | 1/200 [00:01<03:29,  1.05s/it]"
          ]
        },
        {
          "output_type": "stream",
          "name": "stdout",
          "text": [
            "Epoch [1/200] Train loss: 0.1463122922620732 Validation Loss: 0.12546878128216185\n"
          ]
        },
        {
          "output_type": "stream",
          "name": "stderr",
          "text": [
            "  6%|▌         | 11/200 [00:12<03:45,  1.20s/it]"
          ]
        },
        {
          "output_type": "stream",
          "name": "stdout",
          "text": [
            "Epoch [11/200] Train loss: 0.06229382453413753 Validation Loss: 0.05963330176369897\n"
          ]
        },
        {
          "output_type": "stream",
          "name": "stderr",
          "text": [
            " 10%|█         | 21/200 [00:23<03:42,  1.25s/it]"
          ]
        },
        {
          "output_type": "stream",
          "name": "stdout",
          "text": [
            "Epoch [21/200] Train loss: 0.05591755255540728 Validation Loss: 0.05671468081659284\n"
          ]
        },
        {
          "output_type": "stream",
          "name": "stderr",
          "text": [
            " 16%|█▌        | 31/200 [00:34<02:59,  1.06s/it]"
          ]
        },
        {
          "output_type": "stream",
          "name": "stdout",
          "text": [
            "Epoch [31/200] Train loss: 0.05558629104972402 Validation Loss: 0.05643309395888756\n"
          ]
        },
        {
          "output_type": "stream",
          "name": "stderr",
          "text": [
            " 20%|██        | 41/200 [00:45<02:49,  1.06s/it]"
          ]
        },
        {
          "output_type": "stream",
          "name": "stdout",
          "text": [
            "Epoch [41/200] Train loss: 0.05553978618669819 Validation Loss: 0.05642233917425419\n"
          ]
        },
        {
          "output_type": "stream",
          "name": "stderr",
          "text": [
            " 26%|██▌       | 51/200 [00:57<02:41,  1.09s/it]"
          ]
        },
        {
          "output_type": "stream",
          "name": "stdout",
          "text": [
            "Epoch [51/200] Train loss: 0.05553888753701598 Validation Loss: 0.056418937984211694\n"
          ]
        },
        {
          "output_type": "stream",
          "name": "stderr",
          "text": [
            " 30%|███       | 61/200 [01:08<02:34,  1.12s/it]"
          ]
        },
        {
          "output_type": "stream",
          "name": "stdout",
          "text": [
            "Epoch [61/200] Train loss: 0.05556032822761701 Validation Loss: 0.05641846230317806\n"
          ]
        },
        {
          "output_type": "stream",
          "name": "stderr",
          "text": [
            " 36%|███▌      | 71/200 [01:20<02:31,  1.17s/it]"
          ]
        },
        {
          "output_type": "stream",
          "name": "stdout",
          "text": [
            "Epoch [71/200] Train loss: 0.055569488829348514 Validation Loss: 0.05641845947709577\n"
          ]
        },
        {
          "output_type": "stream",
          "name": "stderr",
          "text": [
            " 40%|████      | 81/200 [01:31<02:28,  1.25s/it]"
          ]
        },
        {
          "output_type": "stream",
          "name": "stdout",
          "text": [
            "Epoch [81/200] Train loss: 0.05556046541828614 Validation Loss: 0.05641846037630377\n"
          ]
        },
        {
          "output_type": "stream",
          "name": "stderr",
          "text": [
            " 46%|████▌     | 91/200 [01:42<01:56,  1.07s/it]"
          ]
        },
        {
          "output_type": "stream",
          "name": "stdout",
          "text": [
            "Epoch [91/200] Train loss: 0.0555474211449747 Validation Loss: 0.05641845986247063\n"
          ]
        },
        {
          "output_type": "stream",
          "name": "stderr",
          "text": [
            " 50%|█████     | 101/200 [01:53<01:45,  1.06s/it]"
          ]
        },
        {
          "output_type": "stream",
          "name": "stdout",
          "text": [
            "Epoch [101/200] Train loss: 0.055557639406615004 Validation Loss: 0.056418459605554055\n"
          ]
        },
        {
          "output_type": "stream",
          "name": "stderr",
          "text": [
            " 56%|█████▌    | 111/200 [02:05<01:36,  1.08s/it]"
          ]
        },
        {
          "output_type": "stream",
          "name": "stdout",
          "text": [
            "Epoch [111/200] Train loss: 0.05553459540590063 Validation Loss: 0.056418459605554055\n"
          ]
        },
        {
          "output_type": "stream",
          "name": "stderr",
          "text": [
            " 60%|██████    | 121/200 [02:16<01:27,  1.11s/it]"
          ]
        },
        {
          "output_type": "stream",
          "name": "stdout",
          "text": [
            "Epoch [121/200] Train loss: 0.055557490798173015 Validation Loss: 0.056418459605554055\n"
          ]
        },
        {
          "output_type": "stream",
          "name": "stderr",
          "text": [
            " 66%|██████▌   | 131/200 [02:28<01:20,  1.16s/it]"
          ]
        },
        {
          "output_type": "stream",
          "name": "stdout",
          "text": [
            "Epoch [131/200] Train loss: 0.05555660200196427 Validation Loss: 0.056418459605554055\n"
          ]
        },
        {
          "output_type": "stream",
          "name": "stderr",
          "text": [
            " 70%|███████   | 141/200 [02:39<01:14,  1.26s/it]"
          ]
        },
        {
          "output_type": "stream",
          "name": "stdout",
          "text": [
            "Epoch [141/200] Train loss: 0.05554061044346203 Validation Loss: 0.056418459605554055\n"
          ]
        },
        {
          "output_type": "stream",
          "name": "stderr",
          "text": [
            " 76%|███████▌  | 151/200 [02:50<00:53,  1.09s/it]"
          ]
        },
        {
          "output_type": "stream",
          "name": "stdout",
          "text": [
            "Epoch [151/200] Train loss: 0.05553193927391783 Validation Loss: 0.056418459605554055\n"
          ]
        },
        {
          "output_type": "stream",
          "name": "stderr",
          "text": [
            " 80%|████████  | 161/200 [03:01<00:41,  1.06s/it]"
          ]
        },
        {
          "output_type": "stream",
          "name": "stdout",
          "text": [
            "Epoch [161/200] Train loss: 0.055559461960544836 Validation Loss: 0.056418459605554055\n"
          ]
        },
        {
          "output_type": "stream",
          "name": "stderr",
          "text": [
            " 86%|████████▌ | 171/200 [03:12<00:31,  1.08s/it]"
          ]
        },
        {
          "output_type": "stream",
          "name": "stdout",
          "text": [
            "Epoch [171/200] Train loss: 0.055543929483596384 Validation Loss: 0.056418459605554055\n"
          ]
        },
        {
          "output_type": "stream",
          "name": "stderr",
          "text": [
            " 90%|█████████ | 181/200 [03:24<00:21,  1.11s/it]"
          ]
        },
        {
          "output_type": "stream",
          "name": "stdout",
          "text": [
            "Epoch [181/200] Train loss: 0.055539664880924926 Validation Loss: 0.056418459605554055\n"
          ]
        },
        {
          "output_type": "stream",
          "name": "stderr",
          "text": [
            " 96%|█████████▌| 191/200 [03:35<00:10,  1.17s/it]"
          ]
        },
        {
          "output_type": "stream",
          "name": "stdout",
          "text": [
            "Epoch [191/200] Train loss: 0.055541743689672254 Validation Loss: 0.056418459605554055\n"
          ]
        },
        {
          "output_type": "stream",
          "name": "stderr",
          "text": [
            "100%|██████████| 200/200 [03:45<00:00,  1.13s/it]\n"
          ]
        }
      ]
    },
    {
      "cell_type": "markdown",
      "source": [
        "Testing the models..."
      ],
      "metadata": {
        "id": "xx0xr_WNUThE"
      }
    },
    {
      "cell_type": "code",
      "source": [
        "for b in buildings.keys():\n",
        "    model = modelsdict[b]\n",
        "    test_dataloader = test_dict[b]\n",
        "\n",
        "    model.eval()\n",
        "    test_loss = 0.0\n",
        "\n",
        "    with torch.no_grad():\n",
        "        for inputs, labels in test_dataloader:\n",
        "            inputs = inputs.to(device)\n",
        "            labels = labels.to(device)\n",
        "\n",
        "            # Forward pass\n",
        "            outputs = model(inputs)\n",
        "\n",
        "            # Compute loss\n",
        "            loss = torch.sqrt(criterion(outputs, labels))\n",
        "\n",
        "            test_loss += loss.item()\n",
        "\n",
        "    # Print the test loss\n",
        "    test_loss /= len(test_dataloader)\n",
        "    print(f\"[{b}] Test Loss (RSME): {test_loss}\")\n"
      ],
      "metadata": {
        "colab": {
          "base_uri": "https://localhost:8080/"
        },
        "id": "b5XQVfu1UTJw",
        "outputId": "8e60ba28-dd81-4f00-87dd-499764193a83"
      },
      "execution_count": 63,
      "outputs": [
        {
          "output_type": "stream",
          "name": "stdout",
          "text": [
            "[축구장] Test Loss (RSME): 0.21503417866845284\n",
            "[신재생에너지동] Test Loss (RSME): 0.25634345941005215\n",
            "[학사과정] Test Loss (RSME): 0.21603274393466212\n",
            "[시설관리동] Test Loss (RSME): 0.24358502078440883\n",
            "[대학C동] Test Loss (RSME): 0.2683955027211097\n",
            "[다산빌딩] Test Loss (RSME): 0.22735114155277128\n",
            "[삼성환경동] Test Loss (RSME): 0.25139750251846926\n",
            "[중앙도서관] Test Loss (RSME): 0.2372159602180604\n",
            "[기숙사B동] Test Loss (RSME): 0.5252456644485737\n",
            "[동물실험동] Test Loss (RSME): 0.25327025498113326\n",
            "[중앙창고] Test Loss (RSME): 0.23223337146543688\n",
            "[LG도서관] Test Loss (RSME): 0.23420259452635242\n",
            "[학생회관] Test Loss (RSME): 0.2476869023615314\n",
            "[산업협력관] Test Loss (RSME): 0.5057789734725294\n"
          ]
        }
      ]
    },
    {
      "cell_type": "markdown",
      "source": [
        "# The Next 24-hour Prediction"
      ],
      "metadata": {
        "id": "YFP7TaXn_hUo"
      }
    },
    {
      "cell_type": "code",
      "source": [
        "CHECKPOINT_PATH = \"/content/drive/MyDrive/ict-2023/output\""
      ],
      "metadata": {
        "id": "zWCvGBZ5AyzE"
      },
      "execution_count": 40,
      "outputs": []
    },
    {
      "cell_type": "code",
      "source": [
        "glob.glob(CHECKPOINT_PATH+\"/*-checkpoint-*.pt\")[0].split(\"/\")[-1].split(\".\")[0][:-11]"
      ],
      "metadata": {
        "colab": {
          "base_uri": "https://localhost:8080/",
          "height": 37
        },
        "id": "pScOBKlTEtHJ",
        "outputId": "28a47810-74e8-45b1-d93f-80cda45622b3"
      },
      "execution_count": 41,
      "outputs": [
        {
          "output_type": "execute_result",
          "data": {
            "text/plain": [
              "'중앙도서관'"
            ],
            "application/vnd.google.colaboratory.intrinsic+json": {
              "type": "string"
            }
          },
          "metadata": {},
          "execution_count": 41
        }
      ]
    },
    {
      "cell_type": "code",
      "source": [
        "# Load the saved model checkpoint\n",
        "modelsdict = dict()\n",
        "for path in glob.glob(CHECKPOINT_PATH+\"/*-checkpoint-*.pt\"):\n",
        "    building = path.split(\"/\")[-1].split(\".\")[0][:-11]\n",
        "    model = LSTMModel(input_size, hidden_size, num_layers, output_size).to(device)\n",
        "    model.load_state_dict(torch.load(path))\n",
        "    modelsdict[building] = model"
      ],
      "metadata": {
        "id": "s2GlhN1hD30T"
      },
      "execution_count": 42,
      "outputs": []
    },
    {
      "cell_type": "code",
      "source": [
        "modelsdict.keys()"
      ],
      "metadata": {
        "colab": {
          "base_uri": "https://localhost:8080/"
        },
        "id": "Ftsb_d8WNWPE",
        "outputId": "7182267a-4caa-494a-910a-cfb0ecc615fb"
      },
      "execution_count": 43,
      "outputs": [
        {
          "output_type": "execute_result",
          "data": {
            "text/plain": [
              "dict_keys(['중앙도서관', '시설관리동', '산업협력관', '동물실험동', '신재생에너지동', '기숙사B동', '대학C동', 'LG도서관', '중앙창고', '학생회관', '학사과정', '삼성환경동', '축구장', '다산빌딩'])"
            ]
          },
          "metadata": {},
          "execution_count": 43
        }
      ]
    },
    {
      "cell_type": "markdown",
      "source": [
        "The prediction based on the last 7 days' data"
      ],
      "metadata": {
        "id": "b3WZrZAJc65Y"
      }
    },
    {
      "cell_type": "code",
      "source": [
        "pred_PATH = \"/content/drive/MyDrive/ict-2023/pred\"\n",
        "data_all = dict() # dataframe for display\n",
        "for b in modelsdict.keys():\n",
        "    valid_sequences = []\n",
        "    valid_sequences.append(X_dict[b][-24*7:]) # predict based on the last 7 days' data\n",
        "    valid_sequences = torch.stack(valid_sequences)\n",
        "    valid_sequences.shape\n",
        "\n",
        "    model = modelsdict[b]\n",
        "    model.eval()\n",
        "    prediction = model(valid_sequences.to(device))\n",
        "\n",
        "    # Convert the predictions tensor to a numpy array\n",
        "    predictions_array = prediction.detach().cpu().numpy()\n",
        "    prediction_array = scaler.inverse_transform(predictions_array)\n",
        "\n",
        "    #convert negative value to positive\n",
        "    rounded_data = np.maximum(prediction_array, 0.0).reshape(-1,1)\n",
        "\n",
        "    data_all[b] = rounded_data.flatten()\n",
        "\n",
        "    # Create a DataFrame from the predictions array\n",
        "    predictions_df = pd.DataFrame(rounded_data, columns=['Prediction'])\n",
        "    predictions_df.to_csv(os.path.join(pred_PATH, b+\"-revised.csv\"), index=False)"
      ],
      "metadata": {
        "id": "PJANVNKhVSTr"
      },
      "execution_count": 64,
      "outputs": []
    },
    {
      "cell_type": "code",
      "source": [
        "pd.DataFrame(data_all)"
      ],
      "metadata": {
        "colab": {
          "base_uri": "https://localhost:8080/",
          "height": 845
        },
        "id": "B09X0KhcXAbc",
        "outputId": "ef378a29-1298-429c-c06b-27fa0b57ec52"
      },
      "execution_count": 65,
      "outputs": [
        {
          "output_type": "execute_result",
          "data": {
            "text/plain": [
              "     축구장  신재생에너지동  학사과정  시설관리동  대학C동  \\\n",
              "0    1.866336           1.126437    1.392280       1.573860   0.000000   \n",
              "1    2.364634           0.479336    1.708668       0.721285   0.269103   \n",
              "2    1.971907           0.000000    1.334108       1.064272   0.000000   \n",
              "3    1.733098           0.000000    1.270230       0.653245   0.509792   \n",
              "4    1.789875           0.000000    0.772421       0.503603   0.285724   \n",
              "5    2.211731           0.000000    0.000000       0.433303   0.000000   \n",
              "6    2.723249           2.252836    0.994589       1.464828   1.061280   \n",
              "7    5.460021           9.633336    4.997032       3.398059   7.362645   \n",
              "8   10.298738          24.936928   13.791896       6.410751  18.416862   \n",
              "9   15.614820          42.472511   26.080107      12.230748  32.268112   \n",
              "10  21.537348          58.143291   37.503777      18.789061  47.075478   \n",
              "11  26.884655          67.640938   45.767487      24.594955  56.396461   \n",
              "12  28.325195          70.179192   50.255096      27.796593  60.274086   \n",
              "13  27.343655          69.241669   49.651661      28.703938  60.763947   \n",
              "14  23.983898          63.417164   46.953022      26.634758  57.165657   \n",
              "15  19.157801          50.583569   39.666756      21.243561  50.140556   \n",
              "16  13.532311          32.744999   30.046391      15.976488  39.076374   \n",
              "17   8.993731          16.494415   19.171404       9.273162  24.771204   \n",
              "18   5.227980           4.819674   10.488996       4.706281  11.078695   \n",
              "19   3.110004           0.000000    4.570354       2.758741   3.220328   \n",
              "20   1.452640           0.000000    1.695680       0.782545   0.000000   \n",
              "21   1.500621           0.223491    0.423187       0.438606   0.000000   \n",
              "22   1.453861           0.281930    1.019721       0.887718   0.000000   \n",
              "23   1.200765           0.195252    1.308315       0.643006   0.000000   \n",
              "\n",
              "    다산빌딩  삼성환경동  중앙도서관  기숙사B동  동물실험동  \\\n",
              "0      1.515918         0.145057       0.000000    51.279919         0.000000   \n",
              "1      1.946354         0.000000       0.000000    51.358219         0.000000   \n",
              "2      1.630909         0.037323       0.000000    51.482353         0.000000   \n",
              "3      1.486737         0.000000       0.716702    50.988297         0.000000   \n",
              "4      0.968182         0.000000       0.000000    50.939499         0.000000   \n",
              "5      1.345538         0.000000       0.000000    51.001965         0.000000   \n",
              "6      3.978279         0.380708       0.316420    50.803463         0.815486   \n",
              "7      7.431307         3.013373       5.635923    50.946182         5.320480   \n",
              "8     15.322806         7.630166      14.040078    50.714722        14.350310   \n",
              "9     25.488056        13.579660      26.324339    50.881401        25.235195   \n",
              "10    37.721455        20.800669      39.890381    50.774025        36.404079   \n",
              "11    48.151550        25.234224      48.443760    50.877205        44.394142   \n",
              "12    53.995487        26.963760      52.967968    51.090282        46.556461   \n",
              "13    56.814987        26.068314      53.534119    50.994202        44.757496   \n",
              "14    52.971966        21.266863      49.294891    50.860424        40.584908   \n",
              "15    45.398766        15.501357      41.190094    51.274784        33.101257   \n",
              "16    32.209991         8.772547      29.246933    51.021988        21.940125   \n",
              "17    19.376671         2.955070      17.113981    51.048557        12.542379   \n",
              "18     8.994936         0.484372       6.742174    51.243374         4.740214   \n",
              "19     3.550896         0.016671       0.732202    50.959599         1.286362   \n",
              "20     1.183223         0.000000       0.000000    50.597622         0.000000   \n",
              "21     1.260808         0.018917       0.000000    50.566734         0.000000   \n",
              "22     1.222245         0.000000       0.000000    50.761101         0.000000   \n",
              "23     0.705236         0.000000       0.000000    51.091187         0.000000   \n",
              "\n",
              "    중앙창고  LG도서관  학생회관  산업협력관  \n",
              "0      0.000000   0.330292     1.020343        47.790005  \n",
              "1      0.140841   0.282580     1.507836        47.929459  \n",
              "2      0.000000   0.987818     0.685207        47.848301  \n",
              "3      0.296779   0.523401     0.613219        47.647713  \n",
              "4      0.000000   0.000000     1.681623        47.808159  \n",
              "5      0.000000   0.000000     0.781920        47.748642  \n",
              "6      1.294345   0.556001     2.344135        47.778027  \n",
              "7      7.396002   3.956720     8.623003        47.940121  \n",
              "8     18.279020  11.836153    20.585133        47.745602  \n",
              "9     32.734100  23.707222    35.224934        47.906738  \n",
              "10    44.747463  36.653454    48.514709        47.941559  \n",
              "11    50.716888  46.994213    56.251736        47.896214  \n",
              "12    51.589821  53.357944    58.327843        47.990013  \n",
              "13    50.064964  55.002102    56.245991        48.061287  \n",
              "14    44.561817  51.675728    50.816631        47.872818  \n",
              "15    35.338833  43.539894    41.355293        47.796097  \n",
              "16    23.098726  32.910965    28.008242        47.932308  \n",
              "17    12.022082  19.329237    15.081167        47.974339  \n",
              "18     4.919641   9.400997     5.406544        47.691662  \n",
              "19     1.126505   3.703616     1.208430        47.791466  \n",
              "20     0.230563   0.692672     0.122399        47.935432  \n",
              "21     0.000000   0.000000     0.764145        48.101948  \n",
              "22     0.000000   0.000000     0.399265        48.087769  \n",
              "23     0.048991   0.000000     0.926623        48.111725  "
            ],
            "text/html": [
              "\n",
              "\n",
              "  <div id=\"df-b8a7e49b-a141-4698-b21e-85af3c861f6b\">\n",
              "    <div class=\"colab-df-container\">\n",
              "      <div>\n",
              "<style scoped>\n",
              "    .dataframe tbody tr th:only-of-type {\n",
              "        vertical-align: middle;\n",
              "    }\n",
              "\n",
              "    .dataframe tbody tr th {\n",
              "        vertical-align: top;\n",
              "    }\n",
              "\n",
              "    .dataframe thead th {\n",
              "        text-align: right;\n",
              "    }\n",
              "</style>\n",
              "<table border=\"1\" class=\"dataframe\">\n",
              "  <thead>\n",
              "    <tr style=\"text-align: right;\">\n",
              "      <th></th>\n",
              "      <th>축구장</th>\n",
              "      <th>신재생에너지동</th>\n",
              "      <th>학사과정</th>\n",
              "      <th>시설관리동</th>\n",
              "      <th>대학C동</th>\n",
              "      <th>다산빌딩</th>\n",
              "      <th>삼성환경동</th>\n",
              "      <th>중앙도서관</th>\n",
              "      <th>기숙사B동</th>\n",
              "      <th>동물실험동</th>\n",
              "      <th>중앙창고</th>\n",
              "      <th>LG도서관</th>\n",
              "      <th>학생회관</th>\n",
              "      <th>산업협력관</th>\n",
              "    </tr>\n",
              "  </thead>\n",
              "  <tbody>\n",
              "    <tr>\n",
              "      <th>0</th>\n",
              "      <td>1.866336</td>\n",
              "      <td>1.126437</td>\n",
              "      <td>1.392280</td>\n",
              "      <td>1.573860</td>\n",
              "      <td>0.000000</td>\n",
              "      <td>1.515918</td>\n",
              "      <td>0.145057</td>\n",
              "      <td>0.000000</td>\n",
              "      <td>51.279919</td>\n",
              "      <td>0.000000</td>\n",
              "      <td>0.000000</td>\n",
              "      <td>0.330292</td>\n",
              "      <td>1.020343</td>\n",
              "      <td>47.790005</td>\n",
              "    </tr>\n",
              "    <tr>\n",
              "      <th>1</th>\n",
              "      <td>2.364634</td>\n",
              "      <td>0.479336</td>\n",
              "      <td>1.708668</td>\n",
              "      <td>0.721285</td>\n",
              "      <td>0.269103</td>\n",
              "      <td>1.946354</td>\n",
              "      <td>0.000000</td>\n",
              "      <td>0.000000</td>\n",
              "      <td>51.358219</td>\n",
              "      <td>0.000000</td>\n",
              "      <td>0.140841</td>\n",
              "      <td>0.282580</td>\n",
              "      <td>1.507836</td>\n",
              "      <td>47.929459</td>\n",
              "    </tr>\n",
              "    <tr>\n",
              "      <th>2</th>\n",
              "      <td>1.971907</td>\n",
              "      <td>0.000000</td>\n",
              "      <td>1.334108</td>\n",
              "      <td>1.064272</td>\n",
              "      <td>0.000000</td>\n",
              "      <td>1.630909</td>\n",
              "      <td>0.037323</td>\n",
              "      <td>0.000000</td>\n",
              "      <td>51.482353</td>\n",
              "      <td>0.000000</td>\n",
              "      <td>0.000000</td>\n",
              "      <td>0.987818</td>\n",
              "      <td>0.685207</td>\n",
              "      <td>47.848301</td>\n",
              "    </tr>\n",
              "    <tr>\n",
              "      <th>3</th>\n",
              "      <td>1.733098</td>\n",
              "      <td>0.000000</td>\n",
              "      <td>1.270230</td>\n",
              "      <td>0.653245</td>\n",
              "      <td>0.509792</td>\n",
              "      <td>1.486737</td>\n",
              "      <td>0.000000</td>\n",
              "      <td>0.716702</td>\n",
              "      <td>50.988297</td>\n",
              "      <td>0.000000</td>\n",
              "      <td>0.296779</td>\n",
              "      <td>0.523401</td>\n",
              "      <td>0.613219</td>\n",
              "      <td>47.647713</td>\n",
              "    </tr>\n",
              "    <tr>\n",
              "      <th>4</th>\n",
              "      <td>1.789875</td>\n",
              "      <td>0.000000</td>\n",
              "      <td>0.772421</td>\n",
              "      <td>0.503603</td>\n",
              "      <td>0.285724</td>\n",
              "      <td>0.968182</td>\n",
              "      <td>0.000000</td>\n",
              "      <td>0.000000</td>\n",
              "      <td>50.939499</td>\n",
              "      <td>0.000000</td>\n",
              "      <td>0.000000</td>\n",
              "      <td>0.000000</td>\n",
              "      <td>1.681623</td>\n",
              "      <td>47.808159</td>\n",
              "    </tr>\n",
              "    <tr>\n",
              "      <th>5</th>\n",
              "      <td>2.211731</td>\n",
              "      <td>0.000000</td>\n",
              "      <td>0.000000</td>\n",
              "      <td>0.433303</td>\n",
              "      <td>0.000000</td>\n",
              "      <td>1.345538</td>\n",
              "      <td>0.000000</td>\n",
              "      <td>0.000000</td>\n",
              "      <td>51.001965</td>\n",
              "      <td>0.000000</td>\n",
              "      <td>0.000000</td>\n",
              "      <td>0.000000</td>\n",
              "      <td>0.781920</td>\n",
              "      <td>47.748642</td>\n",
              "    </tr>\n",
              "    <tr>\n",
              "      <th>6</th>\n",
              "      <td>2.723249</td>\n",
              "      <td>2.252836</td>\n",
              "      <td>0.994589</td>\n",
              "      <td>1.464828</td>\n",
              "      <td>1.061280</td>\n",
              "      <td>3.978279</td>\n",
              "      <td>0.380708</td>\n",
              "      <td>0.316420</td>\n",
              "      <td>50.803463</td>\n",
              "      <td>0.815486</td>\n",
              "      <td>1.294345</td>\n",
              "      <td>0.556001</td>\n",
              "      <td>2.344135</td>\n",
              "      <td>47.778027</td>\n",
              "    </tr>\n",
              "    <tr>\n",
              "      <th>7</th>\n",
              "      <td>5.460021</td>\n",
              "      <td>9.633336</td>\n",
              "      <td>4.997032</td>\n",
              "      <td>3.398059</td>\n",
              "      <td>7.362645</td>\n",
              "      <td>7.431307</td>\n",
              "      <td>3.013373</td>\n",
              "      <td>5.635923</td>\n",
              "      <td>50.946182</td>\n",
              "      <td>5.320480</td>\n",
              "      <td>7.396002</td>\n",
              "      <td>3.956720</td>\n",
              "      <td>8.623003</td>\n",
              "      <td>47.940121</td>\n",
              "    </tr>\n",
              "    <tr>\n",
              "      <th>8</th>\n",
              "      <td>10.298738</td>\n",
              "      <td>24.936928</td>\n",
              "      <td>13.791896</td>\n",
              "      <td>6.410751</td>\n",
              "      <td>18.416862</td>\n",
              "      <td>15.322806</td>\n",
              "      <td>7.630166</td>\n",
              "      <td>14.040078</td>\n",
              "      <td>50.714722</td>\n",
              "      <td>14.350310</td>\n",
              "      <td>18.279020</td>\n",
              "      <td>11.836153</td>\n",
              "      <td>20.585133</td>\n",
              "      <td>47.745602</td>\n",
              "    </tr>\n",
              "    <tr>\n",
              "      <th>9</th>\n",
              "      <td>15.614820</td>\n",
              "      <td>42.472511</td>\n",
              "      <td>26.080107</td>\n",
              "      <td>12.230748</td>\n",
              "      <td>32.268112</td>\n",
              "      <td>25.488056</td>\n",
              "      <td>13.579660</td>\n",
              "      <td>26.324339</td>\n",
              "      <td>50.881401</td>\n",
              "      <td>25.235195</td>\n",
              "      <td>32.734100</td>\n",
              "      <td>23.707222</td>\n",
              "      <td>35.224934</td>\n",
              "      <td>47.906738</td>\n",
              "    </tr>\n",
              "    <tr>\n",
              "      <th>10</th>\n",
              "      <td>21.537348</td>\n",
              "      <td>58.143291</td>\n",
              "      <td>37.503777</td>\n",
              "      <td>18.789061</td>\n",
              "      <td>47.075478</td>\n",
              "      <td>37.721455</td>\n",
              "      <td>20.800669</td>\n",
              "      <td>39.890381</td>\n",
              "      <td>50.774025</td>\n",
              "      <td>36.404079</td>\n",
              "      <td>44.747463</td>\n",
              "      <td>36.653454</td>\n",
              "      <td>48.514709</td>\n",
              "      <td>47.941559</td>\n",
              "    </tr>\n",
              "    <tr>\n",
              "      <th>11</th>\n",
              "      <td>26.884655</td>\n",
              "      <td>67.640938</td>\n",
              "      <td>45.767487</td>\n",
              "      <td>24.594955</td>\n",
              "      <td>56.396461</td>\n",
              "      <td>48.151550</td>\n",
              "      <td>25.234224</td>\n",
              "      <td>48.443760</td>\n",
              "      <td>50.877205</td>\n",
              "      <td>44.394142</td>\n",
              "      <td>50.716888</td>\n",
              "      <td>46.994213</td>\n",
              "      <td>56.251736</td>\n",
              "      <td>47.896214</td>\n",
              "    </tr>\n",
              "    <tr>\n",
              "      <th>12</th>\n",
              "      <td>28.325195</td>\n",
              "      <td>70.179192</td>\n",
              "      <td>50.255096</td>\n",
              "      <td>27.796593</td>\n",
              "      <td>60.274086</td>\n",
              "      <td>53.995487</td>\n",
              "      <td>26.963760</td>\n",
              "      <td>52.967968</td>\n",
              "      <td>51.090282</td>\n",
              "      <td>46.556461</td>\n",
              "      <td>51.589821</td>\n",
              "      <td>53.357944</td>\n",
              "      <td>58.327843</td>\n",
              "      <td>47.990013</td>\n",
              "    </tr>\n",
              "    <tr>\n",
              "      <th>13</th>\n",
              "      <td>27.343655</td>\n",
              "      <td>69.241669</td>\n",
              "      <td>49.651661</td>\n",
              "      <td>28.703938</td>\n",
              "      <td>60.763947</td>\n",
              "      <td>56.814987</td>\n",
              "      <td>26.068314</td>\n",
              "      <td>53.534119</td>\n",
              "      <td>50.994202</td>\n",
              "      <td>44.757496</td>\n",
              "      <td>50.064964</td>\n",
              "      <td>55.002102</td>\n",
              "      <td>56.245991</td>\n",
              "      <td>48.061287</td>\n",
              "    </tr>\n",
              "    <tr>\n",
              "      <th>14</th>\n",
              "      <td>23.983898</td>\n",
              "      <td>63.417164</td>\n",
              "      <td>46.953022</td>\n",
              "      <td>26.634758</td>\n",
              "      <td>57.165657</td>\n",
              "      <td>52.971966</td>\n",
              "      <td>21.266863</td>\n",
              "      <td>49.294891</td>\n",
              "      <td>50.860424</td>\n",
              "      <td>40.584908</td>\n",
              "      <td>44.561817</td>\n",
              "      <td>51.675728</td>\n",
              "      <td>50.816631</td>\n",
              "      <td>47.872818</td>\n",
              "    </tr>\n",
              "    <tr>\n",
              "      <th>15</th>\n",
              "      <td>19.157801</td>\n",
              "      <td>50.583569</td>\n",
              "      <td>39.666756</td>\n",
              "      <td>21.243561</td>\n",
              "      <td>50.140556</td>\n",
              "      <td>45.398766</td>\n",
              "      <td>15.501357</td>\n",
              "      <td>41.190094</td>\n",
              "      <td>51.274784</td>\n",
              "      <td>33.101257</td>\n",
              "      <td>35.338833</td>\n",
              "      <td>43.539894</td>\n",
              "      <td>41.355293</td>\n",
              "      <td>47.796097</td>\n",
              "    </tr>\n",
              "    <tr>\n",
              "      <th>16</th>\n",
              "      <td>13.532311</td>\n",
              "      <td>32.744999</td>\n",
              "      <td>30.046391</td>\n",
              "      <td>15.976488</td>\n",
              "      <td>39.076374</td>\n",
              "      <td>32.209991</td>\n",
              "      <td>8.772547</td>\n",
              "      <td>29.246933</td>\n",
              "      <td>51.021988</td>\n",
              "      <td>21.940125</td>\n",
              "      <td>23.098726</td>\n",
              "      <td>32.910965</td>\n",
              "      <td>28.008242</td>\n",
              "      <td>47.932308</td>\n",
              "    </tr>\n",
              "    <tr>\n",
              "      <th>17</th>\n",
              "      <td>8.993731</td>\n",
              "      <td>16.494415</td>\n",
              "      <td>19.171404</td>\n",
              "      <td>9.273162</td>\n",
              "      <td>24.771204</td>\n",
              "      <td>19.376671</td>\n",
              "      <td>2.955070</td>\n",
              "      <td>17.113981</td>\n",
              "      <td>51.048557</td>\n",
              "      <td>12.542379</td>\n",
              "      <td>12.022082</td>\n",
              "      <td>19.329237</td>\n",
              "      <td>15.081167</td>\n",
              "      <td>47.974339</td>\n",
              "    </tr>\n",
              "    <tr>\n",
              "      <th>18</th>\n",
              "      <td>5.227980</td>\n",
              "      <td>4.819674</td>\n",
              "      <td>10.488996</td>\n",
              "      <td>4.706281</td>\n",
              "      <td>11.078695</td>\n",
              "      <td>8.994936</td>\n",
              "      <td>0.484372</td>\n",
              "      <td>6.742174</td>\n",
              "      <td>51.243374</td>\n",
              "      <td>4.740214</td>\n",
              "      <td>4.919641</td>\n",
              "      <td>9.400997</td>\n",
              "      <td>5.406544</td>\n",
              "      <td>47.691662</td>\n",
              "    </tr>\n",
              "    <tr>\n",
              "      <th>19</th>\n",
              "      <td>3.110004</td>\n",
              "      <td>0.000000</td>\n",
              "      <td>4.570354</td>\n",
              "      <td>2.758741</td>\n",
              "      <td>3.220328</td>\n",
              "      <td>3.550896</td>\n",
              "      <td>0.016671</td>\n",
              "      <td>0.732202</td>\n",
              "      <td>50.959599</td>\n",
              "      <td>1.286362</td>\n",
              "      <td>1.126505</td>\n",
              "      <td>3.703616</td>\n",
              "      <td>1.208430</td>\n",
              "      <td>47.791466</td>\n",
              "    </tr>\n",
              "    <tr>\n",
              "      <th>20</th>\n",
              "      <td>1.452640</td>\n",
              "      <td>0.000000</td>\n",
              "      <td>1.695680</td>\n",
              "      <td>0.782545</td>\n",
              "      <td>0.000000</td>\n",
              "      <td>1.183223</td>\n",
              "      <td>0.000000</td>\n",
              "      <td>0.000000</td>\n",
              "      <td>50.597622</td>\n",
              "      <td>0.000000</td>\n",
              "      <td>0.230563</td>\n",
              "      <td>0.692672</td>\n",
              "      <td>0.122399</td>\n",
              "      <td>47.935432</td>\n",
              "    </tr>\n",
              "    <tr>\n",
              "      <th>21</th>\n",
              "      <td>1.500621</td>\n",
              "      <td>0.223491</td>\n",
              "      <td>0.423187</td>\n",
              "      <td>0.438606</td>\n",
              "      <td>0.000000</td>\n",
              "      <td>1.260808</td>\n",
              "      <td>0.018917</td>\n",
              "      <td>0.000000</td>\n",
              "      <td>50.566734</td>\n",
              "      <td>0.000000</td>\n",
              "      <td>0.000000</td>\n",
              "      <td>0.000000</td>\n",
              "      <td>0.764145</td>\n",
              "      <td>48.101948</td>\n",
              "    </tr>\n",
              "    <tr>\n",
              "      <th>22</th>\n",
              "      <td>1.453861</td>\n",
              "      <td>0.281930</td>\n",
              "      <td>1.019721</td>\n",
              "      <td>0.887718</td>\n",
              "      <td>0.000000</td>\n",
              "      <td>1.222245</td>\n",
              "      <td>0.000000</td>\n",
              "      <td>0.000000</td>\n",
              "      <td>50.761101</td>\n",
              "      <td>0.000000</td>\n",
              "      <td>0.000000</td>\n",
              "      <td>0.000000</td>\n",
              "      <td>0.399265</td>\n",
              "      <td>48.087769</td>\n",
              "    </tr>\n",
              "    <tr>\n",
              "      <th>23</th>\n",
              "      <td>1.200765</td>\n",
              "      <td>0.195252</td>\n",
              "      <td>1.308315</td>\n",
              "      <td>0.643006</td>\n",
              "      <td>0.000000</td>\n",
              "      <td>0.705236</td>\n",
              "      <td>0.000000</td>\n",
              "      <td>0.000000</td>\n",
              "      <td>51.091187</td>\n",
              "      <td>0.000000</td>\n",
              "      <td>0.048991</td>\n",
              "      <td>0.000000</td>\n",
              "      <td>0.926623</td>\n",
              "      <td>48.111725</td>\n",
              "    </tr>\n",
              "  </tbody>\n",
              "</table>\n",
              "</div>\n",
              "      <button class=\"colab-df-convert\" onclick=\"convertToInteractive('df-b8a7e49b-a141-4698-b21e-85af3c861f6b')\"\n",
              "              title=\"Convert this dataframe to an interactive table.\"\n",
              "              style=\"display:none;\">\n",
              "\n",
              "  <svg xmlns=\"http://www.w3.org/2000/svg\" height=\"24px\"viewBox=\"0 0 24 24\"\n",
              "       width=\"24px\">\n",
              "    <path d=\"M0 0h24v24H0V0z\" fill=\"none\"/>\n",
              "    <path d=\"M18.56 5.44l.94 2.06.94-2.06 2.06-.94-2.06-.94-.94-2.06-.94 2.06-2.06.94zm-11 1L8.5 8.5l.94-2.06 2.06-.94-2.06-.94L8.5 2.5l-.94 2.06-2.06.94zm10 10l.94 2.06.94-2.06 2.06-.94-2.06-.94-.94-2.06-.94 2.06-2.06.94z\"/><path d=\"M17.41 7.96l-1.37-1.37c-.4-.4-.92-.59-1.43-.59-.52 0-1.04.2-1.43.59L10.3 9.45l-7.72 7.72c-.78.78-.78 2.05 0 2.83L4 21.41c.39.39.9.59 1.41.59.51 0 1.02-.2 1.41-.59l7.78-7.78 2.81-2.81c.8-.78.8-2.07 0-2.86zM5.41 20L4 18.59l7.72-7.72 1.47 1.35L5.41 20z\"/>\n",
              "  </svg>\n",
              "      </button>\n",
              "\n",
              "\n",
              "\n",
              "    <div id=\"df-c194555a-8a80-4c29-8d97-70a07929fcfd\">\n",
              "      <button class=\"colab-df-quickchart\" onclick=\"quickchart('df-c194555a-8a80-4c29-8d97-70a07929fcfd')\"\n",
              "              title=\"Suggest charts.\"\n",
              "              style=\"display:none;\">\n",
              "\n",
              "<svg xmlns=\"http://www.w3.org/2000/svg\" height=\"24px\"viewBox=\"0 0 24 24\"\n",
              "     width=\"24px\">\n",
              "    <g>\n",
              "        <path d=\"M19 3H5c-1.1 0-2 .9-2 2v14c0 1.1.9 2 2 2h14c1.1 0 2-.9 2-2V5c0-1.1-.9-2-2-2zM9 17H7v-7h2v7zm4 0h-2V7h2v10zm4 0h-2v-4h2v4z\"/>\n",
              "    </g>\n",
              "</svg>\n",
              "      </button>\n",
              "    </div>\n",
              "\n",
              "<style>\n",
              "  .colab-df-quickchart {\n",
              "    background-color: #E8F0FE;\n",
              "    border: none;\n",
              "    border-radius: 50%;\n",
              "    cursor: pointer;\n",
              "    display: none;\n",
              "    fill: #1967D2;\n",
              "    height: 32px;\n",
              "    padding: 0 0 0 0;\n",
              "    width: 32px;\n",
              "  }\n",
              "\n",
              "  .colab-df-quickchart:hover {\n",
              "    background-color: #E2EBFA;\n",
              "    box-shadow: 0px 1px 2px rgba(60, 64, 67, 0.3), 0px 1px 3px 1px rgba(60, 64, 67, 0.15);\n",
              "    fill: #174EA6;\n",
              "  }\n",
              "\n",
              "  [theme=dark] .colab-df-quickchart {\n",
              "    background-color: #3B4455;\n",
              "    fill: #D2E3FC;\n",
              "  }\n",
              "\n",
              "  [theme=dark] .colab-df-quickchart:hover {\n",
              "    background-color: #434B5C;\n",
              "    box-shadow: 0px 1px 3px 1px rgba(0, 0, 0, 0.15);\n",
              "    filter: drop-shadow(0px 1px 2px rgba(0, 0, 0, 0.3));\n",
              "    fill: #FFFFFF;\n",
              "  }\n",
              "</style>\n",
              "\n",
              "    <script>\n",
              "      async function quickchart(key) {\n",
              "        const containerElement = document.querySelector('#' + key);\n",
              "        const charts = await google.colab.kernel.invokeFunction(\n",
              "            'suggestCharts', [key], {});\n",
              "      }\n",
              "    </script>\n",
              "\n",
              "      <script>\n",
              "\n",
              "function displayQuickchartButton(domScope) {\n",
              "  let quickchartButtonEl =\n",
              "    domScope.querySelector('#df-c194555a-8a80-4c29-8d97-70a07929fcfd button.colab-df-quickchart');\n",
              "  quickchartButtonEl.style.display =\n",
              "    google.colab.kernel.accessAllowed ? 'block' : 'none';\n",
              "}\n",
              "\n",
              "        displayQuickchartButton(document);\n",
              "      </script>\n",
              "      <style>\n",
              "    .colab-df-container {\n",
              "      display:flex;\n",
              "      flex-wrap:wrap;\n",
              "      gap: 12px;\n",
              "    }\n",
              "\n",
              "    .colab-df-convert {\n",
              "      background-color: #E8F0FE;\n",
              "      border: none;\n",
              "      border-radius: 50%;\n",
              "      cursor: pointer;\n",
              "      display: none;\n",
              "      fill: #1967D2;\n",
              "      height: 32px;\n",
              "      padding: 0 0 0 0;\n",
              "      width: 32px;\n",
              "    }\n",
              "\n",
              "    .colab-df-convert:hover {\n",
              "      background-color: #E2EBFA;\n",
              "      box-shadow: 0px 1px 2px rgba(60, 64, 67, 0.3), 0px 1px 3px 1px rgba(60, 64, 67, 0.15);\n",
              "      fill: #174EA6;\n",
              "    }\n",
              "\n",
              "    [theme=dark] .colab-df-convert {\n",
              "      background-color: #3B4455;\n",
              "      fill: #D2E3FC;\n",
              "    }\n",
              "\n",
              "    [theme=dark] .colab-df-convert:hover {\n",
              "      background-color: #434B5C;\n",
              "      box-shadow: 0px 1px 3px 1px rgba(0, 0, 0, 0.15);\n",
              "      filter: drop-shadow(0px 1px 2px rgba(0, 0, 0, 0.3));\n",
              "      fill: #FFFFFF;\n",
              "    }\n",
              "  </style>\n",
              "\n",
              "      <script>\n",
              "        const buttonEl =\n",
              "          document.querySelector('#df-b8a7e49b-a141-4698-b21e-85af3c861f6b button.colab-df-convert');\n",
              "        buttonEl.style.display =\n",
              "          google.colab.kernel.accessAllowed ? 'block' : 'none';\n",
              "\n",
              "        async function convertToInteractive(key) {\n",
              "          const element = document.querySelector('#df-b8a7e49b-a141-4698-b21e-85af3c861f6b');\n",
              "          const dataTable =\n",
              "            await google.colab.kernel.invokeFunction('convertToInteractive',\n",
              "                                                     [key], {});\n",
              "          if (!dataTable) return;\n",
              "\n",
              "          const docLinkHtml = 'Like what you see? Visit the ' +\n",
              "            '<a target=\"_blank\" href=https://colab.research.google.com/notebooks/data_table.ipynb>data table notebook</a>'\n",
              "            + ' to learn more about interactive tables.';\n",
              "          element.innerHTML = '';\n",
              "          dataTable['output_type'] = 'display_data';\n",
              "          await google.colab.output.renderOutput(dataTable, element);\n",
              "          const docLink = document.createElement('div');\n",
              "          docLink.innerHTML = docLinkHtml;\n",
              "          element.appendChild(docLink);\n",
              "        }\n",
              "      </script>\n",
              "    </div>\n",
              "  </div>\n"
            ]
          },
          "metadata": {},
          "execution_count": 65
        }
      ]
    },
    {
      "cell_type": "code",
      "source": [
        "all = pd.DataFrame(data_all)\n",
        "all.to_csv(\"/content/drive/MyDrive/ict-2023/pred/merged.csv\", index=False)"
      ],
      "metadata": {
        "id": "CENYr5vhH64q"
      },
      "execution_count": null,
      "outputs": []
    }
  ]
}