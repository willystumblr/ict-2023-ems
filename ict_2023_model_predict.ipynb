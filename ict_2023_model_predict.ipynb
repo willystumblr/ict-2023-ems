{
  "nbformat": 4,
  "nbformat_minor": 0,
  "metadata": {
    "colab": {
      "provenance": [],
      "gpuType": "V100",
      "authorship_tag": "ABX9TyPb8MNwc7FoYxuMAg1k+kWc",
      "include_colab_link": true
    },
    "kernelspec": {
      "name": "python3",
      "display_name": "Python 3"
    },
    "language_info": {
      "name": "python"
    },
    "accelerator": "GPU"
  },
  "cells": [
    {
      "cell_type": "markdown",
      "metadata": {
        "id": "view-in-github",
        "colab_type": "text"
      },
      "source": [
        "<a href=\"https://colab.research.google.com/github/willystumblr/ict-2023-ems/blob/main/%08ict_2023_model_predict.ipynb\" target=\"_parent\"><img src=\"https://colab.research.google.com/assets/colab-badge.svg\" alt=\"Open In Colab\"/></a>"
      ]
    },
    {
      "cell_type": "code",
      "execution_count": null,
      "metadata": {
        "colab": {
          "base_uri": "https://localhost:8080/"
        },
        "id": "xGb8S-vVpczw",
        "outputId": "37db9e48-dfb8-41ea-9a4c-2429a5e9e291"
      },
      "outputs": [
        {
          "output_type": "stream",
          "name": "stdout",
          "text": [
            "Mounted at /content/drive\n"
          ]
        }
      ],
      "source": [
        "from google.colab import drive\n",
        "drive.mount('/content/drive')"
      ]
    },
    {
      "cell_type": "code",
      "source": [
        "import torch\n",
        "from torch import nn, optim\n",
        "from sklearn.preprocessing import MinMaxScaler\n",
        "from torch.utils.data import DataLoader, Dataset\n",
        "import numpy as np\n",
        "import pandas as pd\n",
        "from torch.utils.data import Dataset, DataLoader\n",
        "from sklearn.preprocessing import StandardScaler, LabelEncoder, MinMaxScaler, OneHotEncoder\n",
        "from sklearn.compose import ColumnTransformer\n",
        "from sklearn.model_selection import train_test_split\n"
      ],
      "metadata": {
        "id": "opZz75PhtqxJ"
      },
      "execution_count": null,
      "outputs": []
    },
    {
      "cell_type": "code",
      "source": [
        "import glob\n",
        "import tqdm\n",
        "import os\n",
        "from collections import defaultdict\n",
        "from datetime import datetime"
      ],
      "metadata": {
        "id": "XKCpSoLPM3bS"
      },
      "execution_count": null,
      "outputs": []
    },
    {
      "cell_type": "code",
      "source": [
        "PATH = \"/content/drive/MyDrive/ict-2023/train\"\n",
        "buildings = defaultdict(pd.DataFrame)\n",
        "def parser(x):\n",
        "    return datetime.strptime(x, '%Y %m %d %H')\n",
        "\n",
        "for path in glob.glob(os.path.join(PATH, \"*.csv\")):\n",
        "    building = path.split(\"/\")[-1][:-4]\n",
        "\n",
        "    data = pd.read_csv(path, index_col=0, parse_dates=[['YEAR', 'MONTH', 'DAY', 'HOUR']], date_parser=parser)\n",
        "    # dataset = read_csv('raw.csv',  parse_dates = [['year', 'month', 'day', 'hour']], index_col=0, date_parser=parse)\n",
        "    t = pd.DataFrame(data.index)\n",
        "    t_h = pd.DataFrame(data=list(t['YEAR_MONTH_DAY_HOUR'].dt.hour), index=data.index, columns=['Hour'])\n",
        "    t_m = pd.DataFrame(data=list(t['YEAR_MONTH_DAY_HOUR'].dt.month), index=data.index, columns=['Month'])\n",
        "    data = pd.concat([data, t_h, t_m], axis=1)\n",
        "    buildings[building] = data\n",
        "\n",
        "buildings[building].describe()"
      ],
      "metadata": {
        "colab": {
          "base_uri": "https://localhost:8080/",
          "height": 381
        },
        "id": "jlo3j6hcG6Bi",
        "outputId": "6f6f8fdb-4768-4a85-deab-4f658110961d"
      },
      "execution_count": null,
      "outputs": [
        {
          "output_type": "execute_result",
          "data": {
            "text/plain": [
              "        시간당발전량(kWh)      수평면(w/㎡)      경사면(w/㎡)       모듈온도(℃)        기온(°C)  \\\n",
              "count  19584.000000  19584.000000  19584.000000  19584.000000  19584.000000   \n",
              "mean       4.376363    161.014042    173.088899     18.004922     16.034860   \n",
              "std        8.000294    254.056141    274.774182     15.093855      9.784289   \n",
              "min       -0.600000      0.000000      0.000000    -19.300000    -13.400000   \n",
              "25%        0.000000      0.000000      0.000000      6.200000      8.100000   \n",
              "50%        0.000000      0.000000      0.000000     18.800000     18.000000   \n",
              "75%        4.600000    245.000000    253.000000     25.800000     24.200000   \n",
              "max       37.400000   1300.000000   1300.000000     63.300000     34.500000   \n",
              "\n",
              "              습도(%)      증기압(hPa)     이슬점온도(°C)     현지기압(hPa)        일조(hr)  \\\n",
              "count  19584.000000  19584.000000  19584.000000  19584.000000  19584.000000   \n",
              "mean      72.786484     15.899280     10.365125   1007.312199      0.252589   \n",
              "std       22.577161     10.345486     11.702137      8.209513      0.396316   \n",
              "min        8.000000      0.600000    -28.800000    975.600000      0.000000   \n",
              "25%       56.000000      6.500000      0.800000   1000.700000      0.000000   \n",
              "50%       76.000000     13.400000     11.300000   1006.700000      0.000000   \n",
              "75%       95.000000     25.000000     21.100000   1013.825000      0.500000   \n",
              "max       99.000000     41.900000     29.800000   1027.500000      1.000000   \n",
              "\n",
              "          일사(MJ/m2)     전운량(10분위)       시정(10m)          Hour         Month  \n",
              "count  19584.000000  19584.000000  19584.000000  19584.000000  19584.000000  \n",
              "mean       0.643958      5.699653   1601.888583     11.500000      6.557598  \n",
              "std        0.932640      3.805323    553.043199      6.922363      3.257671  \n",
              "min        0.000000      0.000000     10.000000      0.000000      1.000000  \n",
              "25%        0.000000      2.000000   1256.000000      5.750000      4.000000  \n",
              "50%        0.080000      7.000000   1946.000000     11.500000      7.000000  \n",
              "75%        1.080000      9.000000   2000.000000     17.250000      9.000000  \n",
              "max        3.880000     10.000000  12000.000000     23.000000     12.000000  "
            ],
            "text/html": [
              "\n",
              "\n",
              "  <div id=\"df-b270d444-13eb-4d3b-9a65-f855302b9a95\">\n",
              "    <div class=\"colab-df-container\">\n",
              "      <div>\n",
              "<style scoped>\n",
              "    .dataframe tbody tr th:only-of-type {\n",
              "        vertical-align: middle;\n",
              "    }\n",
              "\n",
              "    .dataframe tbody tr th {\n",
              "        vertical-align: top;\n",
              "    }\n",
              "\n",
              "    .dataframe thead th {\n",
              "        text-align: right;\n",
              "    }\n",
              "</style>\n",
              "<table border=\"1\" class=\"dataframe\">\n",
              "  <thead>\n",
              "    <tr style=\"text-align: right;\">\n",
              "      <th></th>\n",
              "      <th>시간당발전량(kWh)</th>\n",
              "      <th>수평면(w/㎡)</th>\n",
              "      <th>경사면(w/㎡)</th>\n",
              "      <th>모듈온도(℃)</th>\n",
              "      <th>기온(°C)</th>\n",
              "      <th>습도(%)</th>\n",
              "      <th>증기압(hPa)</th>\n",
              "      <th>이슬점온도(°C)</th>\n",
              "      <th>현지기압(hPa)</th>\n",
              "      <th>일조(hr)</th>\n",
              "      <th>일사(MJ/m2)</th>\n",
              "      <th>전운량(10분위)</th>\n",
              "      <th>시정(10m)</th>\n",
              "      <th>Hour</th>\n",
              "      <th>Month</th>\n",
              "    </tr>\n",
              "  </thead>\n",
              "  <tbody>\n",
              "    <tr>\n",
              "      <th>count</th>\n",
              "      <td>19584.000000</td>\n",
              "      <td>19584.000000</td>\n",
              "      <td>19584.000000</td>\n",
              "      <td>19584.000000</td>\n",
              "      <td>19584.000000</td>\n",
              "      <td>19584.000000</td>\n",
              "      <td>19584.000000</td>\n",
              "      <td>19584.000000</td>\n",
              "      <td>19584.000000</td>\n",
              "      <td>19584.000000</td>\n",
              "      <td>19584.000000</td>\n",
              "      <td>19584.000000</td>\n",
              "      <td>19584.000000</td>\n",
              "      <td>19584.000000</td>\n",
              "      <td>19584.000000</td>\n",
              "    </tr>\n",
              "    <tr>\n",
              "      <th>mean</th>\n",
              "      <td>4.376363</td>\n",
              "      <td>161.014042</td>\n",
              "      <td>173.088899</td>\n",
              "      <td>18.004922</td>\n",
              "      <td>16.034860</td>\n",
              "      <td>72.786484</td>\n",
              "      <td>15.899280</td>\n",
              "      <td>10.365125</td>\n",
              "      <td>1007.312199</td>\n",
              "      <td>0.252589</td>\n",
              "      <td>0.643958</td>\n",
              "      <td>5.699653</td>\n",
              "      <td>1601.888583</td>\n",
              "      <td>11.500000</td>\n",
              "      <td>6.557598</td>\n",
              "    </tr>\n",
              "    <tr>\n",
              "      <th>std</th>\n",
              "      <td>8.000294</td>\n",
              "      <td>254.056141</td>\n",
              "      <td>274.774182</td>\n",
              "      <td>15.093855</td>\n",
              "      <td>9.784289</td>\n",
              "      <td>22.577161</td>\n",
              "      <td>10.345486</td>\n",
              "      <td>11.702137</td>\n",
              "      <td>8.209513</td>\n",
              "      <td>0.396316</td>\n",
              "      <td>0.932640</td>\n",
              "      <td>3.805323</td>\n",
              "      <td>553.043199</td>\n",
              "      <td>6.922363</td>\n",
              "      <td>3.257671</td>\n",
              "    </tr>\n",
              "    <tr>\n",
              "      <th>min</th>\n",
              "      <td>-0.600000</td>\n",
              "      <td>0.000000</td>\n",
              "      <td>0.000000</td>\n",
              "      <td>-19.300000</td>\n",
              "      <td>-13.400000</td>\n",
              "      <td>8.000000</td>\n",
              "      <td>0.600000</td>\n",
              "      <td>-28.800000</td>\n",
              "      <td>975.600000</td>\n",
              "      <td>0.000000</td>\n",
              "      <td>0.000000</td>\n",
              "      <td>0.000000</td>\n",
              "      <td>10.000000</td>\n",
              "      <td>0.000000</td>\n",
              "      <td>1.000000</td>\n",
              "    </tr>\n",
              "    <tr>\n",
              "      <th>25%</th>\n",
              "      <td>0.000000</td>\n",
              "      <td>0.000000</td>\n",
              "      <td>0.000000</td>\n",
              "      <td>6.200000</td>\n",
              "      <td>8.100000</td>\n",
              "      <td>56.000000</td>\n",
              "      <td>6.500000</td>\n",
              "      <td>0.800000</td>\n",
              "      <td>1000.700000</td>\n",
              "      <td>0.000000</td>\n",
              "      <td>0.000000</td>\n",
              "      <td>2.000000</td>\n",
              "      <td>1256.000000</td>\n",
              "      <td>5.750000</td>\n",
              "      <td>4.000000</td>\n",
              "    </tr>\n",
              "    <tr>\n",
              "      <th>50%</th>\n",
              "      <td>0.000000</td>\n",
              "      <td>0.000000</td>\n",
              "      <td>0.000000</td>\n",
              "      <td>18.800000</td>\n",
              "      <td>18.000000</td>\n",
              "      <td>76.000000</td>\n",
              "      <td>13.400000</td>\n",
              "      <td>11.300000</td>\n",
              "      <td>1006.700000</td>\n",
              "      <td>0.000000</td>\n",
              "      <td>0.080000</td>\n",
              "      <td>7.000000</td>\n",
              "      <td>1946.000000</td>\n",
              "      <td>11.500000</td>\n",
              "      <td>7.000000</td>\n",
              "    </tr>\n",
              "    <tr>\n",
              "      <th>75%</th>\n",
              "      <td>4.600000</td>\n",
              "      <td>245.000000</td>\n",
              "      <td>253.000000</td>\n",
              "      <td>25.800000</td>\n",
              "      <td>24.200000</td>\n",
              "      <td>95.000000</td>\n",
              "      <td>25.000000</td>\n",
              "      <td>21.100000</td>\n",
              "      <td>1013.825000</td>\n",
              "      <td>0.500000</td>\n",
              "      <td>1.080000</td>\n",
              "      <td>9.000000</td>\n",
              "      <td>2000.000000</td>\n",
              "      <td>17.250000</td>\n",
              "      <td>9.000000</td>\n",
              "    </tr>\n",
              "    <tr>\n",
              "      <th>max</th>\n",
              "      <td>37.400000</td>\n",
              "      <td>1300.000000</td>\n",
              "      <td>1300.000000</td>\n",
              "      <td>63.300000</td>\n",
              "      <td>34.500000</td>\n",
              "      <td>99.000000</td>\n",
              "      <td>41.900000</td>\n",
              "      <td>29.800000</td>\n",
              "      <td>1027.500000</td>\n",
              "      <td>1.000000</td>\n",
              "      <td>3.880000</td>\n",
              "      <td>10.000000</td>\n",
              "      <td>12000.000000</td>\n",
              "      <td>23.000000</td>\n",
              "      <td>12.000000</td>\n",
              "    </tr>\n",
              "  </tbody>\n",
              "</table>\n",
              "</div>\n",
              "      <button class=\"colab-df-convert\" onclick=\"convertToInteractive('df-b270d444-13eb-4d3b-9a65-f855302b9a95')\"\n",
              "              title=\"Convert this dataframe to an interactive table.\"\n",
              "              style=\"display:none;\">\n",
              "\n",
              "  <svg xmlns=\"http://www.w3.org/2000/svg\" height=\"24px\"viewBox=\"0 0 24 24\"\n",
              "       width=\"24px\">\n",
              "    <path d=\"M0 0h24v24H0V0z\" fill=\"none\"/>\n",
              "    <path d=\"M18.56 5.44l.94 2.06.94-2.06 2.06-.94-2.06-.94-.94-2.06-.94 2.06-2.06.94zm-11 1L8.5 8.5l.94-2.06 2.06-.94-2.06-.94L8.5 2.5l-.94 2.06-2.06.94zm10 10l.94 2.06.94-2.06 2.06-.94-2.06-.94-.94-2.06-.94 2.06-2.06.94z\"/><path d=\"M17.41 7.96l-1.37-1.37c-.4-.4-.92-.59-1.43-.59-.52 0-1.04.2-1.43.59L10.3 9.45l-7.72 7.72c-.78.78-.78 2.05 0 2.83L4 21.41c.39.39.9.59 1.41.59.51 0 1.02-.2 1.41-.59l7.78-7.78 2.81-2.81c.8-.78.8-2.07 0-2.86zM5.41 20L4 18.59l7.72-7.72 1.47 1.35L5.41 20z\"/>\n",
              "  </svg>\n",
              "      </button>\n",
              "\n",
              "\n",
              "\n",
              "    <div id=\"df-892caf59-cc6b-40d8-8474-9d1fca37988f\">\n",
              "      <button class=\"colab-df-quickchart\" onclick=\"quickchart('df-892caf59-cc6b-40d8-8474-9d1fca37988f')\"\n",
              "              title=\"Suggest charts.\"\n",
              "              style=\"display:none;\">\n",
              "\n",
              "<svg xmlns=\"http://www.w3.org/2000/svg\" height=\"24px\"viewBox=\"0 0 24 24\"\n",
              "     width=\"24px\">\n",
              "    <g>\n",
              "        <path d=\"M19 3H5c-1.1 0-2 .9-2 2v14c0 1.1.9 2 2 2h14c1.1 0 2-.9 2-2V5c0-1.1-.9-2-2-2zM9 17H7v-7h2v7zm4 0h-2V7h2v10zm4 0h-2v-4h2v4z\"/>\n",
              "    </g>\n",
              "</svg>\n",
              "      </button>\n",
              "    </div>\n",
              "\n",
              "<style>\n",
              "  .colab-df-quickchart {\n",
              "    background-color: #E8F0FE;\n",
              "    border: none;\n",
              "    border-radius: 50%;\n",
              "    cursor: pointer;\n",
              "    display: none;\n",
              "    fill: #1967D2;\n",
              "    height: 32px;\n",
              "    padding: 0 0 0 0;\n",
              "    width: 32px;\n",
              "  }\n",
              "\n",
              "  .colab-df-quickchart:hover {\n",
              "    background-color: #E2EBFA;\n",
              "    box-shadow: 0px 1px 2px rgba(60, 64, 67, 0.3), 0px 1px 3px 1px rgba(60, 64, 67, 0.15);\n",
              "    fill: #174EA6;\n",
              "  }\n",
              "\n",
              "  [theme=dark] .colab-df-quickchart {\n",
              "    background-color: #3B4455;\n",
              "    fill: #D2E3FC;\n",
              "  }\n",
              "\n",
              "  [theme=dark] .colab-df-quickchart:hover {\n",
              "    background-color: #434B5C;\n",
              "    box-shadow: 0px 1px 3px 1px rgba(0, 0, 0, 0.15);\n",
              "    filter: drop-shadow(0px 1px 2px rgba(0, 0, 0, 0.3));\n",
              "    fill: #FFFFFF;\n",
              "  }\n",
              "</style>\n",
              "\n",
              "    <script>\n",
              "      async function quickchart(key) {\n",
              "        const containerElement = document.querySelector('#' + key);\n",
              "        const charts = await google.colab.kernel.invokeFunction(\n",
              "            'suggestCharts', [key], {});\n",
              "      }\n",
              "    </script>\n",
              "\n",
              "      <script>\n",
              "\n",
              "function displayQuickchartButton(domScope) {\n",
              "  let quickchartButtonEl =\n",
              "    domScope.querySelector('#df-892caf59-cc6b-40d8-8474-9d1fca37988f button.colab-df-quickchart');\n",
              "  quickchartButtonEl.style.display =\n",
              "    google.colab.kernel.accessAllowed ? 'block' : 'none';\n",
              "}\n",
              "\n",
              "        displayQuickchartButton(document);\n",
              "      </script>\n",
              "      <style>\n",
              "    .colab-df-container {\n",
              "      display:flex;\n",
              "      flex-wrap:wrap;\n",
              "      gap: 12px;\n",
              "    }\n",
              "\n",
              "    .colab-df-convert {\n",
              "      background-color: #E8F0FE;\n",
              "      border: none;\n",
              "      border-radius: 50%;\n",
              "      cursor: pointer;\n",
              "      display: none;\n",
              "      fill: #1967D2;\n",
              "      height: 32px;\n",
              "      padding: 0 0 0 0;\n",
              "      width: 32px;\n",
              "    }\n",
              "\n",
              "    .colab-df-convert:hover {\n",
              "      background-color: #E2EBFA;\n",
              "      box-shadow: 0px 1px 2px rgba(60, 64, 67, 0.3), 0px 1px 3px 1px rgba(60, 64, 67, 0.15);\n",
              "      fill: #174EA6;\n",
              "    }\n",
              "\n",
              "    [theme=dark] .colab-df-convert {\n",
              "      background-color: #3B4455;\n",
              "      fill: #D2E3FC;\n",
              "    }\n",
              "\n",
              "    [theme=dark] .colab-df-convert:hover {\n",
              "      background-color: #434B5C;\n",
              "      box-shadow: 0px 1px 3px 1px rgba(0, 0, 0, 0.15);\n",
              "      filter: drop-shadow(0px 1px 2px rgba(0, 0, 0, 0.3));\n",
              "      fill: #FFFFFF;\n",
              "    }\n",
              "  </style>\n",
              "\n",
              "      <script>\n",
              "        const buttonEl =\n",
              "          document.querySelector('#df-b270d444-13eb-4d3b-9a65-f855302b9a95 button.colab-df-convert');\n",
              "        buttonEl.style.display =\n",
              "          google.colab.kernel.accessAllowed ? 'block' : 'none';\n",
              "\n",
              "        async function convertToInteractive(key) {\n",
              "          const element = document.querySelector('#df-b270d444-13eb-4d3b-9a65-f855302b9a95');\n",
              "          const dataTable =\n",
              "            await google.colab.kernel.invokeFunction('convertToInteractive',\n",
              "                                                     [key], {});\n",
              "          if (!dataTable) return;\n",
              "\n",
              "          const docLinkHtml = 'Like what you see? Visit the ' +\n",
              "            '<a target=\"_blank\" href=https://colab.research.google.com/notebooks/data_table.ipynb>data table notebook</a>'\n",
              "            + ' to learn more about interactive tables.';\n",
              "          element.innerHTML = '';\n",
              "          dataTable['output_type'] = 'display_data';\n",
              "          await google.colab.output.renderOutput(dataTable, element);\n",
              "          const docLink = document.createElement('div');\n",
              "          docLink.innerHTML = docLinkHtml;\n",
              "          element.appendChild(docLink);\n",
              "        }\n",
              "      </script>\n",
              "    </div>\n",
              "  </div>\n"
            ]
          },
          "metadata": {},
          "execution_count": 4
        }
      ]
    },
    {
      "cell_type": "markdown",
      "source": [
        "# Data preprocessing"
      ],
      "metadata": {
        "id": "Fwk0Hh1VAxST"
      }
    },
    {
      "cell_type": "markdown",
      "source": [
        "We first check the reformatted dataset combined with meteorological data."
      ],
      "metadata": {
        "id": "wS3tPKppO4ed"
      }
    },
    {
      "cell_type": "code",
      "source": [
        "data.head()"
      ],
      "metadata": {
        "colab": {
          "base_uri": "https://localhost:8080/",
          "height": 371
        },
        "id": "55l6BUiOELVn",
        "outputId": "408c1426-4c4f-41ba-c9a0-898c4382173b"
      },
      "execution_count": null,
      "outputs": [
        {
          "output_type": "execute_result",
          "data": {
            "text/plain": [
              "                     시간당발전량(kWh)  수평면(w/㎡)  경사면(w/㎡)  모듈온도(℃)  기온(°C)  습도(%)  \\\n",
              "YEAR_MONTH_DAY_HOUR                                                            \n",
              "2020-06-01 00:00:00          0.0       0.0       0.0     19.0    19.5   89.0   \n",
              "2020-06-01 01:00:00          0.0       0.0       0.0     18.9    19.3   93.0   \n",
              "2020-06-01 02:00:00          0.0       0.0       0.0     18.7    19.2   94.0   \n",
              "2020-06-01 03:00:00          0.0       0.0       0.0     18.7    19.1   96.0   \n",
              "2020-06-01 04:00:00          0.0       0.0       0.0     17.5    18.6   98.0   \n",
              "\n",
              "                     증기압(hPa)  이슬점온도(°C)  현지기압(hPa)  일조(hr)  일사(MJ/m2)  \\\n",
              "YEAR_MONTH_DAY_HOUR                                                      \n",
              "2020-06-01 00:00:00      20.1       17.6     1002.9     0.0        0.0   \n",
              "2020-06-01 01:00:00      20.8       18.1     1003.1     0.0        0.0   \n",
              "2020-06-01 02:00:00      20.9       18.2     1002.8     0.0        0.0   \n",
              "2020-06-01 03:00:00      21.2       18.4     1002.7     0.0        0.0   \n",
              "2020-06-01 04:00:00      20.9       18.2     1002.6     0.0        0.0   \n",
              "\n",
              "                     전운량(10분위)  시정(10m)  Hour  Month  \n",
              "YEAR_MONTH_DAY_HOUR                                   \n",
              "2020-06-01 00:00:00       10.0   1652.0     0      6  \n",
              "2020-06-01 01:00:00       10.0   1395.0     1      6  \n",
              "2020-06-01 02:00:00       10.0   1162.0     2      6  \n",
              "2020-06-01 03:00:00       10.0    747.0     3      6  \n",
              "2020-06-01 04:00:00       10.0    509.0     4      6  "
            ],
            "text/html": [
              "\n",
              "\n",
              "  <div id=\"df-267cc350-e122-4e6b-a7d7-095d0ade2cd6\">\n",
              "    <div class=\"colab-df-container\">\n",
              "      <div>\n",
              "<style scoped>\n",
              "    .dataframe tbody tr th:only-of-type {\n",
              "        vertical-align: middle;\n",
              "    }\n",
              "\n",
              "    .dataframe tbody tr th {\n",
              "        vertical-align: top;\n",
              "    }\n",
              "\n",
              "    .dataframe thead th {\n",
              "        text-align: right;\n",
              "    }\n",
              "</style>\n",
              "<table border=\"1\" class=\"dataframe\">\n",
              "  <thead>\n",
              "    <tr style=\"text-align: right;\">\n",
              "      <th></th>\n",
              "      <th>시간당발전량(kWh)</th>\n",
              "      <th>수평면(w/㎡)</th>\n",
              "      <th>경사면(w/㎡)</th>\n",
              "      <th>모듈온도(℃)</th>\n",
              "      <th>기온(°C)</th>\n",
              "      <th>습도(%)</th>\n",
              "      <th>증기압(hPa)</th>\n",
              "      <th>이슬점온도(°C)</th>\n",
              "      <th>현지기압(hPa)</th>\n",
              "      <th>일조(hr)</th>\n",
              "      <th>일사(MJ/m2)</th>\n",
              "      <th>전운량(10분위)</th>\n",
              "      <th>시정(10m)</th>\n",
              "      <th>Hour</th>\n",
              "      <th>Month</th>\n",
              "    </tr>\n",
              "    <tr>\n",
              "      <th>YEAR_MONTH_DAY_HOUR</th>\n",
              "      <th></th>\n",
              "      <th></th>\n",
              "      <th></th>\n",
              "      <th></th>\n",
              "      <th></th>\n",
              "      <th></th>\n",
              "      <th></th>\n",
              "      <th></th>\n",
              "      <th></th>\n",
              "      <th></th>\n",
              "      <th></th>\n",
              "      <th></th>\n",
              "      <th></th>\n",
              "      <th></th>\n",
              "      <th></th>\n",
              "    </tr>\n",
              "  </thead>\n",
              "  <tbody>\n",
              "    <tr>\n",
              "      <th>2020-06-01 00:00:00</th>\n",
              "      <td>0.0</td>\n",
              "      <td>0.0</td>\n",
              "      <td>0.0</td>\n",
              "      <td>19.0</td>\n",
              "      <td>19.5</td>\n",
              "      <td>89.0</td>\n",
              "      <td>20.1</td>\n",
              "      <td>17.6</td>\n",
              "      <td>1002.9</td>\n",
              "      <td>0.0</td>\n",
              "      <td>0.0</td>\n",
              "      <td>10.0</td>\n",
              "      <td>1652.0</td>\n",
              "      <td>0</td>\n",
              "      <td>6</td>\n",
              "    </tr>\n",
              "    <tr>\n",
              "      <th>2020-06-01 01:00:00</th>\n",
              "      <td>0.0</td>\n",
              "      <td>0.0</td>\n",
              "      <td>0.0</td>\n",
              "      <td>18.9</td>\n",
              "      <td>19.3</td>\n",
              "      <td>93.0</td>\n",
              "      <td>20.8</td>\n",
              "      <td>18.1</td>\n",
              "      <td>1003.1</td>\n",
              "      <td>0.0</td>\n",
              "      <td>0.0</td>\n",
              "      <td>10.0</td>\n",
              "      <td>1395.0</td>\n",
              "      <td>1</td>\n",
              "      <td>6</td>\n",
              "    </tr>\n",
              "    <tr>\n",
              "      <th>2020-06-01 02:00:00</th>\n",
              "      <td>0.0</td>\n",
              "      <td>0.0</td>\n",
              "      <td>0.0</td>\n",
              "      <td>18.7</td>\n",
              "      <td>19.2</td>\n",
              "      <td>94.0</td>\n",
              "      <td>20.9</td>\n",
              "      <td>18.2</td>\n",
              "      <td>1002.8</td>\n",
              "      <td>0.0</td>\n",
              "      <td>0.0</td>\n",
              "      <td>10.0</td>\n",
              "      <td>1162.0</td>\n",
              "      <td>2</td>\n",
              "      <td>6</td>\n",
              "    </tr>\n",
              "    <tr>\n",
              "      <th>2020-06-01 03:00:00</th>\n",
              "      <td>0.0</td>\n",
              "      <td>0.0</td>\n",
              "      <td>0.0</td>\n",
              "      <td>18.7</td>\n",
              "      <td>19.1</td>\n",
              "      <td>96.0</td>\n",
              "      <td>21.2</td>\n",
              "      <td>18.4</td>\n",
              "      <td>1002.7</td>\n",
              "      <td>0.0</td>\n",
              "      <td>0.0</td>\n",
              "      <td>10.0</td>\n",
              "      <td>747.0</td>\n",
              "      <td>3</td>\n",
              "      <td>6</td>\n",
              "    </tr>\n",
              "    <tr>\n",
              "      <th>2020-06-01 04:00:00</th>\n",
              "      <td>0.0</td>\n",
              "      <td>0.0</td>\n",
              "      <td>0.0</td>\n",
              "      <td>17.5</td>\n",
              "      <td>18.6</td>\n",
              "      <td>98.0</td>\n",
              "      <td>20.9</td>\n",
              "      <td>18.2</td>\n",
              "      <td>1002.6</td>\n",
              "      <td>0.0</td>\n",
              "      <td>0.0</td>\n",
              "      <td>10.0</td>\n",
              "      <td>509.0</td>\n",
              "      <td>4</td>\n",
              "      <td>6</td>\n",
              "    </tr>\n",
              "  </tbody>\n",
              "</table>\n",
              "</div>\n",
              "      <button class=\"colab-df-convert\" onclick=\"convertToInteractive('df-267cc350-e122-4e6b-a7d7-095d0ade2cd6')\"\n",
              "              title=\"Convert this dataframe to an interactive table.\"\n",
              "              style=\"display:none;\">\n",
              "\n",
              "  <svg xmlns=\"http://www.w3.org/2000/svg\" height=\"24px\"viewBox=\"0 0 24 24\"\n",
              "       width=\"24px\">\n",
              "    <path d=\"M0 0h24v24H0V0z\" fill=\"none\"/>\n",
              "    <path d=\"M18.56 5.44l.94 2.06.94-2.06 2.06-.94-2.06-.94-.94-2.06-.94 2.06-2.06.94zm-11 1L8.5 8.5l.94-2.06 2.06-.94-2.06-.94L8.5 2.5l-.94 2.06-2.06.94zm10 10l.94 2.06.94-2.06 2.06-.94-2.06-.94-.94-2.06-.94 2.06-2.06.94z\"/><path d=\"M17.41 7.96l-1.37-1.37c-.4-.4-.92-.59-1.43-.59-.52 0-1.04.2-1.43.59L10.3 9.45l-7.72 7.72c-.78.78-.78 2.05 0 2.83L4 21.41c.39.39.9.59 1.41.59.51 0 1.02-.2 1.41-.59l7.78-7.78 2.81-2.81c.8-.78.8-2.07 0-2.86zM5.41 20L4 18.59l7.72-7.72 1.47 1.35L5.41 20z\"/>\n",
              "  </svg>\n",
              "      </button>\n",
              "\n",
              "\n",
              "\n",
              "    <div id=\"df-689a3547-1323-45ff-ad46-33ce8cd27c3b\">\n",
              "      <button class=\"colab-df-quickchart\" onclick=\"quickchart('df-689a3547-1323-45ff-ad46-33ce8cd27c3b')\"\n",
              "              title=\"Suggest charts.\"\n",
              "              style=\"display:none;\">\n",
              "\n",
              "<svg xmlns=\"http://www.w3.org/2000/svg\" height=\"24px\"viewBox=\"0 0 24 24\"\n",
              "     width=\"24px\">\n",
              "    <g>\n",
              "        <path d=\"M19 3H5c-1.1 0-2 .9-2 2v14c0 1.1.9 2 2 2h14c1.1 0 2-.9 2-2V5c0-1.1-.9-2-2-2zM9 17H7v-7h2v7zm4 0h-2V7h2v10zm4 0h-2v-4h2v4z\"/>\n",
              "    </g>\n",
              "</svg>\n",
              "      </button>\n",
              "    </div>\n",
              "\n",
              "<style>\n",
              "  .colab-df-quickchart {\n",
              "    background-color: #E8F0FE;\n",
              "    border: none;\n",
              "    border-radius: 50%;\n",
              "    cursor: pointer;\n",
              "    display: none;\n",
              "    fill: #1967D2;\n",
              "    height: 32px;\n",
              "    padding: 0 0 0 0;\n",
              "    width: 32px;\n",
              "  }\n",
              "\n",
              "  .colab-df-quickchart:hover {\n",
              "    background-color: #E2EBFA;\n",
              "    box-shadow: 0px 1px 2px rgba(60, 64, 67, 0.3), 0px 1px 3px 1px rgba(60, 64, 67, 0.15);\n",
              "    fill: #174EA6;\n",
              "  }\n",
              "\n",
              "  [theme=dark] .colab-df-quickchart {\n",
              "    background-color: #3B4455;\n",
              "    fill: #D2E3FC;\n",
              "  }\n",
              "\n",
              "  [theme=dark] .colab-df-quickchart:hover {\n",
              "    background-color: #434B5C;\n",
              "    box-shadow: 0px 1px 3px 1px rgba(0, 0, 0, 0.15);\n",
              "    filter: drop-shadow(0px 1px 2px rgba(0, 0, 0, 0.3));\n",
              "    fill: #FFFFFF;\n",
              "  }\n",
              "</style>\n",
              "\n",
              "    <script>\n",
              "      async function quickchart(key) {\n",
              "        const containerElement = document.querySelector('#' + key);\n",
              "        const charts = await google.colab.kernel.invokeFunction(\n",
              "            'suggestCharts', [key], {});\n",
              "      }\n",
              "    </script>\n",
              "\n",
              "      <script>\n",
              "\n",
              "function displayQuickchartButton(domScope) {\n",
              "  let quickchartButtonEl =\n",
              "    domScope.querySelector('#df-689a3547-1323-45ff-ad46-33ce8cd27c3b button.colab-df-quickchart');\n",
              "  quickchartButtonEl.style.display =\n",
              "    google.colab.kernel.accessAllowed ? 'block' : 'none';\n",
              "}\n",
              "\n",
              "        displayQuickchartButton(document);\n",
              "      </script>\n",
              "      <style>\n",
              "    .colab-df-container {\n",
              "      display:flex;\n",
              "      flex-wrap:wrap;\n",
              "      gap: 12px;\n",
              "    }\n",
              "\n",
              "    .colab-df-convert {\n",
              "      background-color: #E8F0FE;\n",
              "      border: none;\n",
              "      border-radius: 50%;\n",
              "      cursor: pointer;\n",
              "      display: none;\n",
              "      fill: #1967D2;\n",
              "      height: 32px;\n",
              "      padding: 0 0 0 0;\n",
              "      width: 32px;\n",
              "    }\n",
              "\n",
              "    .colab-df-convert:hover {\n",
              "      background-color: #E2EBFA;\n",
              "      box-shadow: 0px 1px 2px rgba(60, 64, 67, 0.3), 0px 1px 3px 1px rgba(60, 64, 67, 0.15);\n",
              "      fill: #174EA6;\n",
              "    }\n",
              "\n",
              "    [theme=dark] .colab-df-convert {\n",
              "      background-color: #3B4455;\n",
              "      fill: #D2E3FC;\n",
              "    }\n",
              "\n",
              "    [theme=dark] .colab-df-convert:hover {\n",
              "      background-color: #434B5C;\n",
              "      box-shadow: 0px 1px 3px 1px rgba(0, 0, 0, 0.15);\n",
              "      filter: drop-shadow(0px 1px 2px rgba(0, 0, 0, 0.3));\n",
              "      fill: #FFFFFF;\n",
              "    }\n",
              "  </style>\n",
              "\n",
              "      <script>\n",
              "        const buttonEl =\n",
              "          document.querySelector('#df-267cc350-e122-4e6b-a7d7-095d0ade2cd6 button.colab-df-convert');\n",
              "        buttonEl.style.display =\n",
              "          google.colab.kernel.accessAllowed ? 'block' : 'none';\n",
              "\n",
              "        async function convertToInteractive(key) {\n",
              "          const element = document.querySelector('#df-267cc350-e122-4e6b-a7d7-095d0ade2cd6');\n",
              "          const dataTable =\n",
              "            await google.colab.kernel.invokeFunction('convertToInteractive',\n",
              "                                                     [key], {});\n",
              "          if (!dataTable) return;\n",
              "\n",
              "          const docLinkHtml = 'Like what you see? Visit the ' +\n",
              "            '<a target=\"_blank\" href=https://colab.research.google.com/notebooks/data_table.ipynb>data table notebook</a>'\n",
              "            + ' to learn more about interactive tables.';\n",
              "          element.innerHTML = '';\n",
              "          dataTable['output_type'] = 'display_data';\n",
              "          await google.colab.output.renderOutput(dataTable, element);\n",
              "          const docLink = document.createElement('div');\n",
              "          docLink.innerHTML = docLinkHtml;\n",
              "          element.appendChild(docLink);\n",
              "        }\n",
              "      </script>\n",
              "    </div>\n",
              "  </div>\n"
            ]
          },
          "metadata": {},
          "execution_count": 12
        }
      ]
    },
    {
      "cell_type": "code",
      "source": [
        "data.shape"
      ],
      "metadata": {
        "colab": {
          "base_uri": "https://localhost:8080/"
        },
        "id": "TGZXJ5Oon5DN",
        "outputId": "6f0fd11f-bd92-480a-9ffb-89cc800a7d1d"
      },
      "execution_count": null,
      "outputs": [
        {
          "output_type": "execute_result",
          "data": {
            "text/plain": [
              "(19584, 15)"
            ]
          },
          "metadata": {},
          "execution_count": 13
        }
      ]
    },
    {
      "cell_type": "markdown",
      "source": [
        "We apply different encoding strategies to features according to their types; MinMaxScaler() for numerical; LabelEncoder() for categorical; and cyclic encoding for cyclic features."
      ],
      "metadata": {
        "id": "6PL_qpKYPKGR"
      }
    },
    {
      "cell_type": "code",
      "source": [
        "# Separate numerical and categorical features\n",
        "numerical_features = ['시간당발전량(kWh)', '수평면(w/㎡)', '경사면(w/㎡)', '모듈온도(℃)', '기온(°C)', '습도(%)',\n",
        "                           '증기압(hPa)', '이슬점온도(°C)', '현지기압(hPa)', '일조(hr)',\n",
        "                           '일사(MJ/m2)', '시정(10m)']\n",
        "categorical_features = ['전운량(10분위)']\n",
        "cyclic_features = ['Hour', 'Month']\n",
        "\n",
        "\n",
        "preprocessor = ColumnTransformer(\n",
        "    transformers=[\n",
        "        ('num', MinMaxScaler(), numerical_features),\n",
        "        ('cyc', 'passthrough', [f + '_sin' for f in cyclic_features] + [f + '_cos' for f in cyclic_features]),\n",
        "        ('cat', 'passthrough', categorical_features)\n",
        "    ])"
      ],
      "metadata": {
        "id": "7BkKJJ77nozQ"
      },
      "execution_count": null,
      "outputs": []
    },
    {
      "cell_type": "code",
      "source": [
        "# Perform cyclical encoding for cyclic features\n",
        "def cyclical_encode(df, feature, max_val):\n",
        "    df[feature + '_sin'] = np.sin(2 * np.pi * df[feature] / max_val)\n",
        "    df[feature + '_cos'] = np.cos(2 * np.pi * df[feature] / max_val)\n",
        "    df = df.drop(feature, axis=1)\n",
        "    return df"
      ],
      "metadata": {
        "id": "xAovQ9lMjy4w"
      },
      "execution_count": null,
      "outputs": []
    },
    {
      "cell_type": "code",
      "source": [
        "# Separate input features and target variable\n",
        "X_dict = dict()\n",
        "y_dict = dict()\n",
        "for b, data in buildings.items():\n",
        "    # Apply cyclical encoding for each cyclic feature\n",
        "    for feature in cyclic_features:\n",
        "        max_val = data[feature].max()\n",
        "        buildings[b] = cyclical_encode(data, feature, max_val)\n",
        "\n",
        "    X = data[numerical_features + categorical_features + [f + '_sin' for f in cyclic_features] + [f + '_cos' for f in cyclic_features]]\n",
        "    y = data['시간당발전량(kWh)']\n",
        "\n",
        "    # Create the ColumnTransformer for preprocessing\n",
        "    # One-hot encoding for categorical features\n",
        "    # Keep the numerical and cyclical features as they are\n",
        "    label_encoder = LabelEncoder()\n",
        "    X['전운량(10분위)'] = label_encoder.fit_transform(data.loc[:, '전운량(10분위)'])\n",
        "    # Apply the preprocessing to the input features\n",
        "    X_preprocessed = preprocessor.fit_transform(X)\n",
        "\n",
        "    # Print the preprocessed shape\n",
        "    print(\"Preprocessed shape:\", X_preprocessed.shape)\n",
        "\n",
        "    # Convert the preprocessed data into a PyTorch tensor\n",
        "    X_tensor = torch.tensor(X_preprocessed, dtype=torch.float32)\n",
        "    y_tensor = torch.tensor(y, dtype=torch.float32)\n",
        "\n",
        "    X_dict[b] = X_tensor\n",
        "    y_dict[b] = y_tensor"
      ],
      "metadata": {
        "id": "CkTrHzfYKFIc",
        "colab": {
          "base_uri": "https://localhost:8080/"
        },
        "outputId": "1dab8ca8-d8eb-4087-c93e-fde5887ed684"
      },
      "execution_count": null,
      "outputs": [
        {
          "output_type": "stream",
          "name": "stderr",
          "text": [
            "<ipython-input-7-f0c433e4a07a>:17: SettingWithCopyWarning: \n",
            "A value is trying to be set on a copy of a slice from a DataFrame.\n",
            "Try using .loc[row_indexer,col_indexer] = value instead\n",
            "\n",
            "See the caveats in the documentation: https://pandas.pydata.org/pandas-docs/stable/user_guide/indexing.html#returning-a-view-versus-a-copy\n",
            "  X['전운량(10분위)'] = label_encoder.fit_transform(data.loc[:, '전운량(10분위)'])\n",
            "<ipython-input-7-f0c433e4a07a>:17: SettingWithCopyWarning: \n",
            "A value is trying to be set on a copy of a slice from a DataFrame.\n",
            "Try using .loc[row_indexer,col_indexer] = value instead\n",
            "\n",
            "See the caveats in the documentation: https://pandas.pydata.org/pandas-docs/stable/user_guide/indexing.html#returning-a-view-versus-a-copy\n",
            "  X['전운량(10분위)'] = label_encoder.fit_transform(data.loc[:, '전운량(10분위)'])\n",
            "<ipython-input-7-f0c433e4a07a>:17: SettingWithCopyWarning: \n",
            "A value is trying to be set on a copy of a slice from a DataFrame.\n",
            "Try using .loc[row_indexer,col_indexer] = value instead\n",
            "\n",
            "See the caveats in the documentation: https://pandas.pydata.org/pandas-docs/stable/user_guide/indexing.html#returning-a-view-versus-a-copy\n",
            "  X['전운량(10분위)'] = label_encoder.fit_transform(data.loc[:, '전운량(10분위)'])\n",
            "<ipython-input-7-f0c433e4a07a>:17: SettingWithCopyWarning: \n",
            "A value is trying to be set on a copy of a slice from a DataFrame.\n",
            "Try using .loc[row_indexer,col_indexer] = value instead\n",
            "\n",
            "See the caveats in the documentation: https://pandas.pydata.org/pandas-docs/stable/user_guide/indexing.html#returning-a-view-versus-a-copy\n",
            "  X['전운량(10분위)'] = label_encoder.fit_transform(data.loc[:, '전운량(10분위)'])\n",
            "<ipython-input-7-f0c433e4a07a>:17: SettingWithCopyWarning: \n",
            "A value is trying to be set on a copy of a slice from a DataFrame.\n",
            "Try using .loc[row_indexer,col_indexer] = value instead\n",
            "\n",
            "See the caveats in the documentation: https://pandas.pydata.org/pandas-docs/stable/user_guide/indexing.html#returning-a-view-versus-a-copy\n",
            "  X['전운량(10분위)'] = label_encoder.fit_transform(data.loc[:, '전운량(10분위)'])\n",
            "<ipython-input-7-f0c433e4a07a>:17: SettingWithCopyWarning: \n",
            "A value is trying to be set on a copy of a slice from a DataFrame.\n",
            "Try using .loc[row_indexer,col_indexer] = value instead\n",
            "\n",
            "See the caveats in the documentation: https://pandas.pydata.org/pandas-docs/stable/user_guide/indexing.html#returning-a-view-versus-a-copy\n",
            "  X['전운량(10분위)'] = label_encoder.fit_transform(data.loc[:, '전운량(10분위)'])\n"
          ]
        },
        {
          "output_type": "stream",
          "name": "stdout",
          "text": [
            "Preprocessed shape: (19584, 17)\n",
            "Preprocessed shape: (19584, 17)\n",
            "Preprocessed shape: (18672, 17)\n",
            "Preprocessed shape: (19584, 17)\n",
            "Preprocessed shape: (19584, 17)\n",
            "Preprocessed shape: (18672, 17)\n",
            "Preprocessed shape: (19584, 17)\n",
            "Preprocessed shape: (19584, 17)\n",
            "Preprocessed shape: (19584, 17)\n",
            "Preprocessed shape: (19584, 17)\n",
            "Preprocessed shape: (19584, 17)\n",
            "Preprocessed shape: (19584, 17)\n",
            "Preprocessed shape: (19584, 17)\n",
            "Preprocessed shape: (19584, 17)\n"
          ]
        },
        {
          "output_type": "stream",
          "name": "stderr",
          "text": [
            "<ipython-input-7-f0c433e4a07a>:17: SettingWithCopyWarning: \n",
            "A value is trying to be set on a copy of a slice from a DataFrame.\n",
            "Try using .loc[row_indexer,col_indexer] = value instead\n",
            "\n",
            "See the caveats in the documentation: https://pandas.pydata.org/pandas-docs/stable/user_guide/indexing.html#returning-a-view-versus-a-copy\n",
            "  X['전운량(10분위)'] = label_encoder.fit_transform(data.loc[:, '전운량(10분위)'])\n",
            "<ipython-input-7-f0c433e4a07a>:17: SettingWithCopyWarning: \n",
            "A value is trying to be set on a copy of a slice from a DataFrame.\n",
            "Try using .loc[row_indexer,col_indexer] = value instead\n",
            "\n",
            "See the caveats in the documentation: https://pandas.pydata.org/pandas-docs/stable/user_guide/indexing.html#returning-a-view-versus-a-copy\n",
            "  X['전운량(10분위)'] = label_encoder.fit_transform(data.loc[:, '전운량(10분위)'])\n",
            "<ipython-input-7-f0c433e4a07a>:17: SettingWithCopyWarning: \n",
            "A value is trying to be set on a copy of a slice from a DataFrame.\n",
            "Try using .loc[row_indexer,col_indexer] = value instead\n",
            "\n",
            "See the caveats in the documentation: https://pandas.pydata.org/pandas-docs/stable/user_guide/indexing.html#returning-a-view-versus-a-copy\n",
            "  X['전운량(10분위)'] = label_encoder.fit_transform(data.loc[:, '전운량(10분위)'])\n",
            "<ipython-input-7-f0c433e4a07a>:17: SettingWithCopyWarning: \n",
            "A value is trying to be set on a copy of a slice from a DataFrame.\n",
            "Try using .loc[row_indexer,col_indexer] = value instead\n",
            "\n",
            "See the caveats in the documentation: https://pandas.pydata.org/pandas-docs/stable/user_guide/indexing.html#returning-a-view-versus-a-copy\n",
            "  X['전운량(10분위)'] = label_encoder.fit_transform(data.loc[:, '전운량(10분위)'])\n",
            "<ipython-input-7-f0c433e4a07a>:17: SettingWithCopyWarning: \n",
            "A value is trying to be set on a copy of a slice from a DataFrame.\n",
            "Try using .loc[row_indexer,col_indexer] = value instead\n",
            "\n",
            "See the caveats in the documentation: https://pandas.pydata.org/pandas-docs/stable/user_guide/indexing.html#returning-a-view-versus-a-copy\n",
            "  X['전운량(10분위)'] = label_encoder.fit_transform(data.loc[:, '전운량(10분위)'])\n",
            "<ipython-input-7-f0c433e4a07a>:17: SettingWithCopyWarning: \n",
            "A value is trying to be set on a copy of a slice from a DataFrame.\n",
            "Try using .loc[row_indexer,col_indexer] = value instead\n",
            "\n",
            "See the caveats in the documentation: https://pandas.pydata.org/pandas-docs/stable/user_guide/indexing.html#returning-a-view-versus-a-copy\n",
            "  X['전운량(10분위)'] = label_encoder.fit_transform(data.loc[:, '전운량(10분위)'])\n",
            "<ipython-input-7-f0c433e4a07a>:17: SettingWithCopyWarning: \n",
            "A value is trying to be set on a copy of a slice from a DataFrame.\n",
            "Try using .loc[row_indexer,col_indexer] = value instead\n",
            "\n",
            "See the caveats in the documentation: https://pandas.pydata.org/pandas-docs/stable/user_guide/indexing.html#returning-a-view-versus-a-copy\n",
            "  X['전운량(10분위)'] = label_encoder.fit_transform(data.loc[:, '전운량(10분위)'])\n",
            "<ipython-input-7-f0c433e4a07a>:17: SettingWithCopyWarning: \n",
            "A value is trying to be set on a copy of a slice from a DataFrame.\n",
            "Try using .loc[row_indexer,col_indexer] = value instead\n",
            "\n",
            "See the caveats in the documentation: https://pandas.pydata.org/pandas-docs/stable/user_guide/indexing.html#returning-a-view-versus-a-copy\n",
            "  X['전운량(10분위)'] = label_encoder.fit_transform(data.loc[:, '전운량(10분위)'])\n"
          ]
        }
      ]
    },
    {
      "cell_type": "markdown",
      "source": [
        "Shape checking"
      ],
      "metadata": {
        "id": "VAfVfYJhRcCo"
      }
    },
    {
      "cell_type": "code",
      "source": [
        "X_tensor.shape"
      ],
      "metadata": {
        "colab": {
          "base_uri": "https://localhost:8080/"
        },
        "id": "iK-PSKk8PLMj",
        "outputId": "24203bf7-be54-4103-8e36-a873936259a6"
      },
      "execution_count": null,
      "outputs": [
        {
          "output_type": "execute_result",
          "data": {
            "text/plain": [
              "torch.Size([19584, 17])"
            ]
          },
          "metadata": {},
          "execution_count": 18
        }
      ]
    },
    {
      "cell_type": "code",
      "source": [
        "y_tensor.shape"
      ],
      "metadata": {
        "colab": {
          "base_uri": "https://localhost:8080/"
        },
        "id": "Xh7S42PaRkjF",
        "outputId": "fff506c1-2486-48de-a116-acbc6225b0b0"
      },
      "execution_count": null,
      "outputs": [
        {
          "output_type": "execute_result",
          "data": {
            "text/plain": [
              "torch.Size([19584])"
            ]
          },
          "metadata": {},
          "execution_count": 19
        }
      ]
    },
    {
      "cell_type": "markdown",
      "source": [
        "Since we are using LSTM for the prediction, we create sequences for training. We use the past 7 days' data to predict the next 24-hour solar power generation."
      ],
      "metadata": {
        "id": "UbVQ4qgiQds4"
      }
    },
    {
      "cell_type": "code",
      "source": [
        "# Define the sequence length (past week's data)\n",
        "sequence_length = 24 * 7  # 24 hours * 7 days\n",
        "\n",
        "seq_dict = defaultdict(list)\n",
        "lab_dict = defaultdict(list)\n",
        "for b in buildings.keys():\n",
        "    X_tensor = X_dict[b]\n",
        "    y_tensor = y_dict[b]\n",
        "    # Create sequences and labels\n",
        "    sequences = []\n",
        "    labels = []\n",
        "    for i in range(len(X_tensor) - sequence_length - 24):  # Subtract 24 to account for predicting the next 24 hours\n",
        "        seq = X_tensor[i:i+sequence_length]\n",
        "        label = y_tensor[i+sequence_length:i+sequence_length+24]  # Next 24 hours\n",
        "        sequences.append(seq)\n",
        "        labels.append(label)\n",
        "\n",
        "    seq_dict[b] = torch.stack(sequences)\n",
        "    lab_dict[b] = torch.stack(labels)"
      ],
      "metadata": {
        "id": "kA6N54DNt390"
      },
      "execution_count": null,
      "outputs": []
    },
    {
      "cell_type": "markdown",
      "source": [
        "Shape checking"
      ],
      "metadata": {
        "id": "ZhMi1B6gRfYA"
      }
    },
    {
      "cell_type": "code",
      "source": [
        "seq_dict[b].shape, lab_dict[b].shape"
      ],
      "metadata": {
        "colab": {
          "base_uri": "https://localhost:8080/"
        },
        "id": "CoHtNL0k-xBm",
        "outputId": "d607a374-0562-410e-b267-579650db498d"
      },
      "execution_count": null,
      "outputs": [
        {
          "output_type": "execute_result",
          "data": {
            "text/plain": [
              "(torch.Size([19392, 168, 17]), torch.Size([19392, 24]))"
            ]
          },
          "metadata": {},
          "execution_count": 9
        }
      ]
    },
    {
      "cell_type": "markdown",
      "source": [
        "# Build Model"
      ],
      "metadata": {
        "id": "6StxCiQ-KJdX"
      }
    },
    {
      "cell_type": "markdown",
      "source": [
        "We first define custom PyTorch dataset and build model for this task."
      ],
      "metadata": {
        "id": "NMxKEYX1RkwF"
      }
    },
    {
      "cell_type": "code",
      "source": [
        "# Define a custom PyTorch dataset\n",
        "class SolarDataset(Dataset):\n",
        "    def __init__(self, sequences, labels):\n",
        "        self.sequences = sequences\n",
        "        self.labels = labels\n",
        "\n",
        "    def __len__(self):\n",
        "        return len(self.sequences)\n",
        "\n",
        "    def __getitem__(self, idx):\n",
        "        return self.sequences[idx], self.labels[idx]"
      ],
      "metadata": {
        "id": "1POqNyFAuOPH"
      },
      "execution_count": null,
      "outputs": []
    },
    {
      "cell_type": "code",
      "source": [
        "# Define the LSTM model\n",
        "class LSTMModel(nn.Module):\n",
        "    def __init__(self, input_size, hidden_size, num_layers, output_size):\n",
        "        super(LSTMModel, self).__init__()\n",
        "        self.hidden_size = hidden_size\n",
        "        self.num_layers = num_layers\n",
        "        self.lstm = nn.LSTM(input_size, hidden_size, num_layers, batch_first=True)\n",
        "        self.fc = nn.Linear(hidden_size, output_size)\n",
        "\n",
        "    def forward(self, x):\n",
        "        h0 = torch.zeros(self.num_layers, x.size(0), self.hidden_size).to(x.device)\n",
        "        c0 = torch.zeros(self.num_layers, x.size(0), self.hidden_size).to(x.device)\n",
        "        out, _ = self.lstm(x, (h0, c0))\n",
        "        out = self.fc(out[:, -1, :])\n",
        "        return out"
      ],
      "metadata": {
        "id": "wPrXcg358C7E"
      },
      "execution_count": null,
      "outputs": []
    },
    {
      "cell_type": "markdown",
      "source": [
        "Set hyperparameters for the model."
      ],
      "metadata": {
        "id": "oIU8j6cwRusq"
      }
    },
    {
      "cell_type": "code",
      "source": [
        "# Set the device for training (GPU if available, otherwise CPU)\n",
        "device = torch.device(\"cuda\" if torch.cuda.is_available() else \"cpu\")\n",
        "\n",
        "# Define the hyperparameters\n",
        "batch_size = 64\n",
        "num_epochs = 100\n",
        "input_size = 17  # Number of features\n",
        "hidden_size = 64\n",
        "num_layers = 5\n",
        "output_size = 24  # Single value prediction"
      ],
      "metadata": {
        "id": "JnplblAi8Gr1"
      },
      "execution_count": null,
      "outputs": []
    },
    {
      "cell_type": "markdown",
      "source": [
        "Set the criterion as MSELoss() to get RSME error."
      ],
      "metadata": {
        "id": "a9vCJMXSSKPl"
      }
    },
    {
      "cell_type": "code",
      "source": [
        "PATH = \"/content/drive/MyDrive/ict-2023/output\"\n",
        "modelsdict = dict()\n",
        "optimizers = dict()\n",
        "# Define the loss function and optimizer\n",
        "criterion = nn.MSELoss()\n",
        "\n",
        "for b in buildings.keys():\n",
        "    modelsdict[b] = LSTMModel(input_size, hidden_size, num_layers, output_size).to(device)\n",
        "    optimizers[b] = optim.Adam(modelsdict[b].parameters(), lr=0.001)"
      ],
      "metadata": {
        "id": "13DFasnv-0nb"
      },
      "execution_count": null,
      "outputs": []
    },
    {
      "cell_type": "markdown",
      "source": [
        "Now, we split the dataset into train and test set. We store each train-test sets pair to a seperate dictionary for convenience."
      ],
      "metadata": {
        "id": "PRD6tMmaBCP6"
      }
    },
    {
      "cell_type": "code",
      "source": [
        "train_dict = dict()\n",
        "val_dict = dict()\n",
        "test_dict = dict()\n",
        "\n",
        "for b in buildings.keys():\n",
        "    # Split the data into train, validate and test sets (8:1:1)\n",
        "    X_train, X_test, y_train, y_test = train_test_split(seq_dict[b], lab_dict[b], test_size=0.2, random_state=42)\n",
        "    X_test, X_val, y_test, y_val = train_test_split(X_test, y_test, test_size=0.5, random_state=42)\n",
        "\n",
        "    # Create instances of the custom dataset for train and test sets\n",
        "    train_dataset = SolarDataset(X_train, y_train)\n",
        "    val_dataset = SolarDataset(X_val, y_val)\n",
        "    test_dataset = SolarDataset(X_test, torch.zeros_like(y_test))  # Use zero-filled labels for the test set\n",
        "\n",
        "    # Create PyTorch DataLoaders for train and test sets\n",
        "    train_dict[b] = DataLoader(train_dataset, batch_size=batch_size, shuffle=True)\n",
        "    test_dict[b] = DataLoader(test_dataset, batch_size=batch_size)\n",
        "    val_dict[b] = DataLoader(val_dataset, batch_size=batch_size)\n"
      ],
      "metadata": {
        "id": "BnTUJnvVTi34"
      },
      "execution_count": null,
      "outputs": []
    },
    {
      "cell_type": "code",
      "source": [
        "for b in buildings.keys():\n",
        "    print(f\"====== Training models for {b}======\")\n",
        "\n",
        "    # dataloaders, model, and optimzer for each builing\n",
        "    train_dataloader = train_dict[b]\n",
        "    val_dataloader = val_dict[b]\n",
        "\n",
        "    model = modelsdict[b]\n",
        "    optimizer = optimizers[b]\n",
        "\n",
        "\n",
        "    checkpoint_path = os.path.join(PATH, b+'-checkpoint.pt')\n",
        "    for epoch in tqdm.tqdm(range(0, num_epochs)):\n",
        "        model.train()\n",
        "        running_loss = 0.0\n",
        "        for inputs, labels in train_dataloader:\n",
        "            inputs = inputs.to(device)\n",
        "            labels = labels.to(device)\n",
        "\n",
        "            # Forward pass\n",
        "            outputs = model(inputs)\n",
        "\n",
        "            # Compute loss\n",
        "            loss = torch.sqrt(criterion(outputs, labels)) #RMSE Loss\n",
        "\n",
        "            # Backward pass and optimization\n",
        "            optimizer.zero_grad()\n",
        "            loss.backward()\n",
        "            optimizer.step()\n",
        "\n",
        "            running_loss += loss.item()\n",
        "\n",
        "        # Print the average loss for the epoch\n",
        "        train_loss = running_loss / len(train_dataloader)\n",
        "\n",
        "        model.eval()\n",
        "        running_loss = 0.0\n",
        "\n",
        "        with torch.no_grad():\n",
        "            for inputs, labels in val_dataloader:\n",
        "                inputs = inputs.to(device)\n",
        "                labels = labels.to(device)\n",
        "\n",
        "                # Forward pass\n",
        "                outputs = model(inputs)\n",
        "\n",
        "                # Compute loss\n",
        "                loss = torch.sqrt(criterion(outputs, labels))\n",
        "\n",
        "                running_loss += loss.item()\n",
        "        val_loss = running_loss / len(val_dataloader)\n",
        "\n",
        "        if epoch%10==0:\n",
        "            print(f\"Epoch [{epoch+1}/{num_epochs}] Train loss: {train_loss} Validation Loss: {val_loss}\")\n",
        "\n",
        "\n",
        "    # Save the model checkpoint\n",
        "    torch.save(model.state_dict(), checkpoint_path)\n",
        "    modelsdict[b] = model\n"
      ],
      "metadata": {
        "colab": {
          "base_uri": "https://localhost:8080/"
        },
        "id": "EXXd8Vwa-Duf",
        "outputId": "e3fda3fa-22b5-461d-d6fa-79b2c7d54f82"
      },
      "execution_count": null,
      "outputs": [
        {
          "output_type": "stream",
          "name": "stdout",
          "text": [
            "====== Training models for 중앙도서관======\n"
          ]
        },
        {
          "output_type": "stream",
          "name": "stderr",
          "text": [
            "  1%|          | 1/100 [00:01<01:49,  1.11s/it]"
          ]
        },
        {
          "output_type": "stream",
          "name": "stdout",
          "text": [
            "Epoch [1/100] Train loss: 1.9476096497641668 Validation Loss: 1.967868697258734\n"
          ]
        },
        {
          "output_type": "stream",
          "name": "stderr",
          "text": [
            " 11%|█         | 11/100 [00:12<01:53,  1.28s/it]"
          ]
        },
        {
          "output_type": "stream",
          "name": "stdout",
          "text": [
            "Epoch [11/100] Train loss: 1.8497571724432487 Validation Loss: 1.8752331541430565\n"
          ]
        },
        {
          "output_type": "stream",
          "name": "stderr",
          "text": [
            " 21%|██        | 21/100 [00:23<01:27,  1.11s/it]"
          ]
        },
        {
          "output_type": "stream",
          "name": "stdout",
          "text": [
            "Epoch [21/100] Train loss: 1.771485271277251 Validation Loss: 1.8097391974541448\n"
          ]
        },
        {
          "output_type": "stream",
          "name": "stderr",
          "text": [
            " 31%|███       | 31/100 [00:35<01:15,  1.09s/it]"
          ]
        },
        {
          "output_type": "stream",
          "name": "stdout",
          "text": [
            "Epoch [31/100] Train loss: 1.6868680117061599 Validation Loss: 1.7076571679884387\n"
          ]
        },
        {
          "output_type": "stream",
          "name": "stderr",
          "text": [
            " 41%|████      | 41/100 [00:46<01:05,  1.10s/it]"
          ]
        },
        {
          "output_type": "stream",
          "name": "stdout",
          "text": [
            "Epoch [41/100] Train loss: 1.6069469211523424 Validation Loss: 1.6212495642323648\n"
          ]
        },
        {
          "output_type": "stream",
          "name": "stderr",
          "text": [
            " 51%|█████     | 51/100 [00:59<00:56,  1.15s/it]"
          ]
        },
        {
          "output_type": "stream",
          "name": "stdout",
          "text": [
            "Epoch [51/100] Train loss: 1.5313698077888647 Validation Loss: 1.548083205376902\n"
          ]
        },
        {
          "output_type": "stream",
          "name": "stderr",
          "text": [
            " 61%|██████    | 61/100 [01:10<00:45,  1.16s/it]"
          ]
        },
        {
          "output_type": "stream",
          "name": "stdout",
          "text": [
            "Epoch [61/100] Train loss: 1.4637368441609198 Validation Loss: 1.4972954642388128\n"
          ]
        },
        {
          "output_type": "stream",
          "name": "stderr",
          "text": [
            " 71%|███████   | 71/100 [01:22<00:35,  1.24s/it]"
          ]
        },
        {
          "output_type": "stream",
          "name": "stdout",
          "text": [
            "Epoch [71/100] Train loss: 1.41929609834412 Validation Loss: 1.3916118221898233\n"
          ]
        },
        {
          "output_type": "stream",
          "name": "stderr",
          "text": [
            " 81%|████████  | 81/100 [01:34<00:24,  1.27s/it]"
          ]
        },
        {
          "output_type": "stream",
          "name": "stdout",
          "text": [
            "Epoch [81/100] Train loss: 1.3432644885263325 Validation Loss: 1.7599073609998148\n"
          ]
        },
        {
          "output_type": "stream",
          "name": "stderr",
          "text": [
            " 91%|█████████ | 91/100 [01:45<00:09,  1.08s/it]"
          ]
        },
        {
          "output_type": "stream",
          "name": "stdout",
          "text": [
            "Epoch [91/100] Train loss: 1.2102372840108204 Validation Loss: 1.2262276603329567\n"
          ]
        },
        {
          "output_type": "stream",
          "name": "stderr",
          "text": [
            "100%|██████████| 100/100 [01:55<00:00,  1.16s/it]\n"
          ]
        },
        {
          "output_type": "stream",
          "name": "stdout",
          "text": [
            "====== Training models for 시설관리동======\n"
          ]
        },
        {
          "output_type": "stream",
          "name": "stderr",
          "text": [
            "  1%|          | 1/100 [00:01<01:45,  1.07s/it]"
          ]
        },
        {
          "output_type": "stream",
          "name": "stdout",
          "text": [
            "Epoch [1/100] Train loss: 28.359439473093293 Validation Loss: 27.191122916436964\n"
          ]
        },
        {
          "output_type": "stream",
          "name": "stderr",
          "text": [
            " 11%|█         | 11/100 [00:12<01:37,  1.10s/it]"
          ]
        },
        {
          "output_type": "stream",
          "name": "stdout",
          "text": [
            "Epoch [11/100] Train loss: 26.739246957096054 Validation Loss: 26.984332053892075\n"
          ]
        },
        {
          "output_type": "stream",
          "name": "stderr",
          "text": [
            " 21%|██        | 21/100 [00:24<01:28,  1.12s/it]"
          ]
        },
        {
          "output_type": "stream",
          "name": "stdout",
          "text": [
            "Epoch [21/100] Train loss: 26.728254749941726 Validation Loss: 26.984287200435514\n"
          ]
        },
        {
          "output_type": "stream",
          "name": "stderr",
          "text": [
            " 31%|███       | 31/100 [00:36<01:19,  1.15s/it]"
          ]
        },
        {
          "output_type": "stream",
          "name": "stdout",
          "text": [
            "Epoch [31/100] Train loss: 26.734792513121302 Validation Loss: 26.988591778662897\n"
          ]
        },
        {
          "output_type": "stream",
          "name": "stderr",
          "text": [
            " 41%|████      | 41/100 [00:48<01:11,  1.22s/it]"
          ]
        },
        {
          "output_type": "stream",
          "name": "stdout",
          "text": [
            "Epoch [41/100] Train loss: 18.304319193333754 Validation Loss: 17.794639095183342\n"
          ]
        },
        {
          "output_type": "stream",
          "name": "stderr",
          "text": [
            " 51%|█████     | 51/100 [01:00<01:04,  1.32s/it]"
          ]
        },
        {
          "output_type": "stream",
          "name": "stdout",
          "text": [
            "Epoch [51/100] Train loss: 10.880494981145663 Validation Loss: 10.809059573758033\n"
          ]
        },
        {
          "output_type": "stream",
          "name": "stderr",
          "text": [
            " 61%|██████    | 61/100 [01:10<00:44,  1.14s/it]"
          ]
        },
        {
          "output_type": "stream",
          "name": "stdout",
          "text": [
            "Epoch [61/100] Train loss: 9.035049242247279 Validation Loss: 9.092347944936444\n"
          ]
        },
        {
          "output_type": "stream",
          "name": "stderr",
          "text": [
            " 71%|███████   | 71/100 [01:22<00:31,  1.09s/it]"
          ]
        },
        {
          "output_type": "stream",
          "name": "stdout",
          "text": [
            "Epoch [71/100] Train loss: 8.241675879239056 Validation Loss: 8.332252902369346\n"
          ]
        },
        {
          "output_type": "stream",
          "name": "stderr",
          "text": [
            " 81%|████████  | 81/100 [01:34<00:20,  1.09s/it]"
          ]
        },
        {
          "output_type": "stream",
          "name": "stdout",
          "text": [
            "Epoch [81/100] Train loss: 7.801002836031188 Validation Loss: 7.895886144330425\n"
          ]
        },
        {
          "output_type": "stream",
          "name": "stderr",
          "text": [
            " 91%|█████████ | 91/100 [01:45<00:10,  1.13s/it]"
          ]
        },
        {
          "output_type": "stream",
          "name": "stdout",
          "text": [
            "Epoch [91/100] Train loss: 7.363505787319607 Validation Loss: 7.455100828601468\n"
          ]
        },
        {
          "output_type": "stream",
          "name": "stderr",
          "text": [
            "100%|██████████| 100/100 [01:56<00:00,  1.17s/it]\n"
          ]
        },
        {
          "output_type": "stream",
          "name": "stdout",
          "text": [
            "====== Training models for 산업협력관======\n"
          ]
        },
        {
          "output_type": "stream",
          "name": "stderr",
          "text": [
            "  1%|          | 1/100 [00:01<01:41,  1.02s/it]"
          ]
        },
        {
          "output_type": "stream",
          "name": "stdout",
          "text": [
            "Epoch [1/100] Train loss: 25.450563273904642 Validation Loss: 24.708079765582905\n"
          ]
        },
        {
          "output_type": "stream",
          "name": "stderr",
          "text": [
            " 11%|█         | 11/100 [00:12<01:46,  1.20s/it]"
          ]
        },
        {
          "output_type": "stream",
          "name": "stdout",
          "text": [
            "Epoch [11/100] Train loss: 24.674596794755946 Validation Loss: 24.680116916524952\n"
          ]
        },
        {
          "output_type": "stream",
          "name": "stderr",
          "text": [
            " 21%|██        | 21/100 [00:22<01:28,  1.12s/it]"
          ]
        },
        {
          "output_type": "stream",
          "name": "stdout",
          "text": [
            "Epoch [21/100] Train loss: 24.671706352399024 Validation Loss: 24.67902183532715\n"
          ]
        },
        {
          "output_type": "stream",
          "name": "stderr",
          "text": [
            " 31%|███       | 31/100 [00:33<01:11,  1.03s/it]"
          ]
        },
        {
          "output_type": "stream",
          "name": "stdout",
          "text": [
            "Epoch [31/100] Train loss: 24.676949232687683 Validation Loss: 24.680398612186828\n"
          ]
        },
        {
          "output_type": "stream",
          "name": "stderr",
          "text": [
            " 41%|████      | 41/100 [00:44<01:01,  1.05s/it]"
          ]
        },
        {
          "output_type": "stream",
          "name": "stdout",
          "text": [
            "Epoch [41/100] Train loss: 24.674635684851445 Validation Loss: 24.68218836291083\n"
          ]
        },
        {
          "output_type": "stream",
          "name": "stderr",
          "text": [
            " 51%|█████     | 51/100 [00:55<00:53,  1.08s/it]"
          ]
        },
        {
          "output_type": "stream",
          "name": "stdout",
          "text": [
            "Epoch [51/100] Train loss: 24.67651201223398 Validation Loss: 24.67882070870235\n"
          ]
        },
        {
          "output_type": "stream",
          "name": "stderr",
          "text": [
            " 61%|██████    | 61/100 [01:06<00:46,  1.18s/it]"
          ]
        },
        {
          "output_type": "stream",
          "name": "stdout",
          "text": [
            "Epoch [61/100] Train loss: 24.674347080709616 Validation Loss: 24.679357660227808\n"
          ]
        },
        {
          "output_type": "stream",
          "name": "stderr",
          "text": [
            " 71%|███████   | 71/100 [01:17<00:33,  1.15s/it]"
          ]
        },
        {
          "output_type": "stream",
          "name": "stdout",
          "text": [
            "Epoch [71/100] Train loss: 24.673871738054018 Validation Loss: 24.6795324785956\n"
          ]
        },
        {
          "output_type": "stream",
          "name": "stderr",
          "text": [
            " 81%|████████  | 81/100 [01:28<00:19,  1.03s/it]"
          ]
        },
        {
          "output_type": "stream",
          "name": "stdout",
          "text": [
            "Epoch [81/100] Train loss: 24.48341449721035 Validation Loss: 24.311767709666285\n"
          ]
        },
        {
          "output_type": "stream",
          "name": "stderr",
          "text": [
            " 91%|█████████ | 91/100 [01:39<00:09,  1.05s/it]"
          ]
        },
        {
          "output_type": "stream",
          "name": "stdout",
          "text": [
            "Epoch [91/100] Train loss: 23.714428377357912 Validation Loss: 23.60159867385338\n"
          ]
        },
        {
          "output_type": "stream",
          "name": "stderr",
          "text": [
            "100%|██████████| 100/100 [01:49<00:00,  1.09s/it]\n"
          ]
        },
        {
          "output_type": "stream",
          "name": "stdout",
          "text": [
            "====== Training models for 동물실험동======\n"
          ]
        },
        {
          "output_type": "stream",
          "name": "stderr",
          "text": [
            "  1%|          | 1/100 [00:01<01:47,  1.09s/it]"
          ]
        },
        {
          "output_type": "stream",
          "name": "stdout",
          "text": [
            "Epoch [1/100] Train loss: 9.292155787777999 Validation Loss: 9.080886902347688\n"
          ]
        },
        {
          "output_type": "stream",
          "name": "stderr",
          "text": [
            " 11%|█         | 11/100 [00:12<01:43,  1.16s/it]"
          ]
        },
        {
          "output_type": "stream",
          "name": "stdout",
          "text": [
            "Epoch [11/100] Train loss: 9.048583890184943 Validation Loss: 9.080961381235431\n"
          ]
        },
        {
          "output_type": "stream",
          "name": "stderr",
          "text": [
            " 21%|██        | 21/100 [00:24<01:40,  1.28s/it]"
          ]
        },
        {
          "output_type": "stream",
          "name": "stdout",
          "text": [
            "Epoch [21/100] Train loss: 4.234975743195648 Validation Loss: 4.230758413191764\n"
          ]
        },
        {
          "output_type": "stream",
          "name": "stderr",
          "text": [
            " 31%|███       | 31/100 [00:35<01:22,  1.19s/it]"
          ]
        },
        {
          "output_type": "stream",
          "name": "stdout",
          "text": [
            "Epoch [31/100] Train loss: 3.1641493098725997 Validation Loss: 3.161815966329267\n"
          ]
        },
        {
          "output_type": "stream",
          "name": "stderr",
          "text": [
            " 41%|████      | 41/100 [00:46<01:03,  1.07s/it]"
          ]
        },
        {
          "output_type": "stream",
          "name": "stdout",
          "text": [
            "Epoch [41/100] Train loss: 2.831257281480012 Validation Loss: 2.870013952255249\n"
          ]
        },
        {
          "output_type": "stream",
          "name": "stderr",
          "text": [
            " 51%|█████     | 51/100 [00:58<00:53,  1.09s/it]"
          ]
        },
        {
          "output_type": "stream",
          "name": "stdout",
          "text": [
            "Epoch [51/100] Train loss: 2.671343815179519 Validation Loss: 2.708067055671446\n"
          ]
        },
        {
          "output_type": "stream",
          "name": "stderr",
          "text": [
            " 61%|██████    | 61/100 [01:09<00:43,  1.10s/it]"
          ]
        },
        {
          "output_type": "stream",
          "name": "stdout",
          "text": [
            "Epoch [61/100] Train loss: 2.538308165200944 Validation Loss: 2.5802938476685555\n"
          ]
        },
        {
          "output_type": "stream",
          "name": "stderr",
          "text": [
            " 71%|███████   | 71/100 [01:21<00:33,  1.15s/it]"
          ]
        },
        {
          "output_type": "stream",
          "name": "stdout",
          "text": [
            "Epoch [71/100] Train loss: 2.4091333548227944 Validation Loss: 2.4239115868845293\n"
          ]
        },
        {
          "output_type": "stream",
          "name": "stderr",
          "text": [
            " 81%|████████  | 81/100 [01:33<00:23,  1.22s/it]"
          ]
        },
        {
          "output_type": "stream",
          "name": "stdout",
          "text": [
            "Epoch [81/100] Train loss: 2.2781665604791526 Validation Loss: 2.2982721828645274\n"
          ]
        },
        {
          "output_type": "stream",
          "name": "stderr",
          "text": [
            " 91%|█████████ | 91/100 [01:44<00:11,  1.29s/it]"
          ]
        },
        {
          "output_type": "stream",
          "name": "stdout",
          "text": [
            "Epoch [91/100] Train loss: 2.191280541106016 Validation Loss: 2.2194693165440715\n"
          ]
        },
        {
          "output_type": "stream",
          "name": "stderr",
          "text": [
            "100%|██████████| 100/100 [01:54<00:00,  1.15s/it]\n"
          ]
        },
        {
          "output_type": "stream",
          "name": "stdout",
          "text": [
            "====== Training models for 신재생에너지동======\n"
          ]
        },
        {
          "output_type": "stream",
          "name": "stderr",
          "text": [
            "  1%|          | 1/100 [00:01<02:25,  1.47s/it]"
          ]
        },
        {
          "output_type": "stream",
          "name": "stdout",
          "text": [
            "Epoch [1/100] Train loss: 16.172198480048788 Validation Loss: 15.59179635201731\n"
          ]
        },
        {
          "output_type": "stream",
          "name": "stderr",
          "text": [
            " 11%|█         | 11/100 [00:12<01:36,  1.08s/it]"
          ]
        },
        {
          "output_type": "stream",
          "name": "stdout",
          "text": [
            "Epoch [11/100] Train loss: 15.52023953174858 Validation Loss: 15.58741012696297\n"
          ]
        },
        {
          "output_type": "stream",
          "name": "stderr",
          "text": [
            " 21%|██        | 21/100 [00:27<01:31,  1.16s/it]"
          ]
        },
        {
          "output_type": "stream",
          "name": "stdout",
          "text": [
            "Epoch [21/100] Train loss: 15.522279821796182 Validation Loss: 15.58572276946037\n"
          ]
        },
        {
          "output_type": "stream",
          "name": "stderr",
          "text": [
            " 31%|███       | 31/100 [00:39<01:15,  1.09s/it]"
          ]
        },
        {
          "output_type": "stream",
          "name": "stdout",
          "text": [
            "Epoch [31/100] Train loss: 8.418816362388831 Validation Loss: 8.133716075651106\n"
          ]
        },
        {
          "output_type": "stream",
          "name": "stderr",
          "text": [
            " 41%|████      | 41/100 [00:50<01:05,  1.11s/it]"
          ]
        },
        {
          "output_type": "stream",
          "name": "stdout",
          "text": [
            "Epoch [41/100] Train loss: 6.052804161982281 Validation Loss: 6.081232363177884\n"
          ]
        },
        {
          "output_type": "stream",
          "name": "stderr",
          "text": [
            " 51%|█████     | 51/100 [01:02<00:55,  1.14s/it]"
          ]
        },
        {
          "output_type": "stream",
          "name": "stdout",
          "text": [
            "Epoch [51/100] Train loss: 5.0637310797294965 Validation Loss: 5.006501290106004\n"
          ]
        },
        {
          "output_type": "stream",
          "name": "stderr",
          "text": [
            " 61%|██████    | 61/100 [01:14<00:46,  1.20s/it]"
          ]
        },
        {
          "output_type": "stream",
          "name": "stdout",
          "text": [
            "Epoch [61/100] Train loss: 4.739870581607269 Validation Loss: 4.715910157849712\n"
          ]
        },
        {
          "output_type": "stream",
          "name": "stderr",
          "text": [
            " 71%|███████   | 71/100 [01:25<00:36,  1.26s/it]"
          ]
        },
        {
          "output_type": "stream",
          "name": "stdout",
          "text": [
            "Epoch [71/100] Train loss: 4.537697487897834 Validation Loss: 4.5404373984183035\n"
          ]
        },
        {
          "output_type": "stream",
          "name": "stderr",
          "text": [
            " 81%|████████  | 81/100 [01:36<00:21,  1.12s/it]"
          ]
        },
        {
          "output_type": "stream",
          "name": "stdout",
          "text": [
            "Epoch [81/100] Train loss: 4.358043860015555 Validation Loss: 4.388947494568363\n"
          ]
        },
        {
          "output_type": "stream",
          "name": "stderr",
          "text": [
            " 91%|█████████ | 91/100 [01:48<00:09,  1.09s/it]"
          ]
        },
        {
          "output_type": "stream",
          "name": "stdout",
          "text": [
            "Epoch [91/100] Train loss: 4.166887923032658 Validation Loss: 4.173185071637554\n"
          ]
        },
        {
          "output_type": "stream",
          "name": "stderr",
          "text": [
            "100%|██████████| 100/100 [01:58<00:00,  1.19s/it]\n"
          ]
        },
        {
          "output_type": "stream",
          "name": "stdout",
          "text": [
            "====== Training models for 기숙사B동======\n"
          ]
        },
        {
          "output_type": "stream",
          "name": "stderr",
          "text": [
            "  1%|          | 1/100 [00:01<01:40,  1.02s/it]"
          ]
        },
        {
          "output_type": "stream",
          "name": "stdout",
          "text": [
            "Epoch [1/100] Train loss: 11.536205774777896 Validation Loss: 11.351814138478247\n"
          ]
        },
        {
          "output_type": "stream",
          "name": "stderr",
          "text": [
            " 11%|█         | 11/100 [00:12<01:35,  1.07s/it]"
          ]
        },
        {
          "output_type": "stream",
          "name": "stdout",
          "text": [
            "Epoch [11/100] Train loss: 11.376581212658904 Validation Loss: 11.351784771886365\n"
          ]
        },
        {
          "output_type": "stream",
          "name": "stderr",
          "text": [
            " 21%|██        | 21/100 [00:23<01:29,  1.14s/it]"
          ]
        },
        {
          "output_type": "stream",
          "name": "stdout",
          "text": [
            "Epoch [21/100] Train loss: 7.758980815028732 Validation Loss: 7.350659649947594\n"
          ]
        },
        {
          "output_type": "stream",
          "name": "stderr",
          "text": [
            " 31%|███       | 31/100 [00:34<01:24,  1.22s/it]"
          ]
        },
        {
          "output_type": "stream",
          "name": "stdout",
          "text": [
            "Epoch [31/100] Train loss: 5.578533752656086 Validation Loss: 5.49460480130952\n"
          ]
        },
        {
          "output_type": "stream",
          "name": "stderr",
          "text": [
            " 41%|████      | 41/100 [00:44<00:59,  1.02s/it]"
          ]
        },
        {
          "output_type": "stream",
          "name": "stdout",
          "text": [
            "Epoch [41/100] Train loss: 4.597893282448575 Validation Loss: 4.630917368264034\n"
          ]
        },
        {
          "output_type": "stream",
          "name": "stderr",
          "text": [
            " 51%|█████     | 51/100 [00:55<00:50,  1.03s/it]"
          ]
        },
        {
          "output_type": "stream",
          "name": "stdout",
          "text": [
            "Epoch [51/100] Train loss: 3.9161885796171245 Validation Loss: 4.018570423126221\n"
          ]
        },
        {
          "output_type": "stream",
          "name": "stderr",
          "text": [
            " 61%|██████    | 61/100 [01:06<00:41,  1.06s/it]"
          ]
        },
        {
          "output_type": "stream",
          "name": "stdout",
          "text": [
            "Epoch [61/100] Train loss: 3.5735813425732896 Validation Loss: 3.6422291870774894\n"
          ]
        },
        {
          "output_type": "stream",
          "name": "stderr",
          "text": [
            " 71%|███████   | 71/100 [01:17<00:32,  1.12s/it]"
          ]
        },
        {
          "output_type": "stream",
          "name": "stdout",
          "text": [
            "Epoch [71/100] Train loss: 3.2902123721647056 Validation Loss: 3.4040029048919678\n"
          ]
        },
        {
          "output_type": "stream",
          "name": "stderr",
          "text": [
            " 81%|████████  | 81/100 [01:28<00:23,  1.21s/it]"
          ]
        },
        {
          "output_type": "stream",
          "name": "stdout",
          "text": [
            "Epoch [81/100] Train loss: 3.1258290546797056 Validation Loss: 3.2346534729003906\n"
          ]
        },
        {
          "output_type": "stream",
          "name": "stderr",
          "text": [
            " 91%|█████████ | 91/100 [01:38<00:09,  1.02s/it]"
          ]
        },
        {
          "output_type": "stream",
          "name": "stdout",
          "text": [
            "Epoch [91/100] Train loss: 3.029198559847745 Validation Loss: 3.141860139781031\n"
          ]
        },
        {
          "output_type": "stream",
          "name": "stderr",
          "text": [
            "100%|██████████| 100/100 [01:49<00:00,  1.09s/it]\n"
          ]
        },
        {
          "output_type": "stream",
          "name": "stdout",
          "text": [
            "====== Training models for 대학C동======\n"
          ]
        },
        {
          "output_type": "stream",
          "name": "stderr",
          "text": [
            "  1%|          | 1/100 [00:01<01:45,  1.07s/it]"
          ]
        },
        {
          "output_type": "stream",
          "name": "stdout",
          "text": [
            "Epoch [1/100] Train loss: 3.2734160933474943 Validation Loss: 3.249372128517397\n"
          ]
        },
        {
          "output_type": "stream",
          "name": "stderr",
          "text": [
            " 11%|█         | 11/100 [00:12<01:38,  1.10s/it]"
          ]
        },
        {
          "output_type": "stream",
          "name": "stdout",
          "text": [
            "Epoch [11/100] Train loss: 1.5955247888839785 Validation Loss: 1.583003851675218\n"
          ]
        },
        {
          "output_type": "stream",
          "name": "stderr",
          "text": [
            " 21%|██        | 21/100 [00:24<01:29,  1.13s/it]"
          ]
        },
        {
          "output_type": "stream",
          "name": "stdout",
          "text": [
            "Epoch [21/100] Train loss: 1.2023296297332386 Validation Loss: 1.1966316161617156\n"
          ]
        },
        {
          "output_type": "stream",
          "name": "stderr",
          "text": [
            " 31%|███       | 31/100 [00:35<01:21,  1.18s/it]"
          ]
        },
        {
          "output_type": "stream",
          "name": "stdout",
          "text": [
            "Epoch [31/100] Train loss: 1.0334307556289704 Validation Loss: 1.0347392578278818\n"
          ]
        },
        {
          "output_type": "stream",
          "name": "stderr",
          "text": [
            " 41%|████      | 41/100 [00:47<01:16,  1.29s/it]"
          ]
        },
        {
          "output_type": "stream",
          "name": "stdout",
          "text": [
            "Epoch [41/100] Train loss: 0.9426039754117957 Validation Loss: 0.9330136179924011\n"
          ]
        },
        {
          "output_type": "stream",
          "name": "stderr",
          "text": [
            " 51%|█████     | 51/100 [00:58<00:56,  1.15s/it]"
          ]
        },
        {
          "output_type": "stream",
          "name": "stdout",
          "text": [
            "Epoch [51/100] Train loss: 0.8809757975884426 Validation Loss: 0.8706657309685985\n"
          ]
        },
        {
          "output_type": "stream",
          "name": "stderr",
          "text": [
            " 61%|██████    | 61/100 [01:10<00:42,  1.10s/it]"
          ]
        },
        {
          "output_type": "stream",
          "name": "stdout",
          "text": [
            "Epoch [61/100] Train loss: 0.8336730368833973 Validation Loss: 0.8192214908138398\n"
          ]
        },
        {
          "output_type": "stream",
          "name": "stderr",
          "text": [
            " 71%|███████   | 71/100 [01:21<00:31,  1.10s/it]"
          ]
        },
        {
          "output_type": "stream",
          "name": "stdout",
          "text": [
            "Epoch [71/100] Train loss: 0.7798526331230446 Validation Loss: 0.7812903504217824\n"
          ]
        },
        {
          "output_type": "stream",
          "name": "stderr",
          "text": [
            " 81%|████████  | 81/100 [01:33<00:21,  1.13s/it]"
          ]
        },
        {
          "output_type": "stream",
          "name": "stdout",
          "text": [
            "Epoch [81/100] Train loss: 0.7442082963853216 Validation Loss: 0.7435527943795727\n"
          ]
        },
        {
          "output_type": "stream",
          "name": "stderr",
          "text": [
            " 91%|█████████ | 91/100 [01:45<00:10,  1.15s/it]"
          ]
        },
        {
          "output_type": "stream",
          "name": "stdout",
          "text": [
            "Epoch [91/100] Train loss: 0.716123850502595 Validation Loss: 0.7220429758871755\n"
          ]
        },
        {
          "output_type": "stream",
          "name": "stderr",
          "text": [
            "100%|██████████| 100/100 [01:55<00:00,  1.16s/it]\n"
          ]
        },
        {
          "output_type": "stream",
          "name": "stdout",
          "text": [
            "====== Training models for LG도서관======\n"
          ]
        },
        {
          "output_type": "stream",
          "name": "stderr",
          "text": [
            "  1%|          | 1/100 [00:01<01:46,  1.08s/it]"
          ]
        },
        {
          "output_type": "stream",
          "name": "stdout",
          "text": [
            "Epoch [1/100] Train loss: 10.006093044830449 Validation Loss: 9.839033926686932\n"
          ]
        },
        {
          "output_type": "stream",
          "name": "stderr",
          "text": [
            " 11%|█         | 11/100 [00:12<01:57,  1.32s/it]"
          ]
        },
        {
          "output_type": "stream",
          "name": "stdout",
          "text": [
            "Epoch [11/100] Train loss: 9.768187365904756 Validation Loss: 9.84208805330338\n"
          ]
        },
        {
          "output_type": "stream",
          "name": "stderr",
          "text": [
            " 21%|██        | 21/100 [00:23<01:30,  1.14s/it]"
          ]
        },
        {
          "output_type": "stream",
          "name": "stdout",
          "text": [
            "Epoch [21/100] Train loss: 4.865167947463047 Validation Loss: 4.829476802579818\n"
          ]
        },
        {
          "output_type": "stream",
          "name": "stderr",
          "text": [
            " 31%|███       | 31/100 [00:35<01:14,  1.08s/it]"
          ]
        },
        {
          "output_type": "stream",
          "name": "stdout",
          "text": [
            "Epoch [31/100] Train loss: 3.504364874137282 Validation Loss: 3.472163515706216\n"
          ]
        },
        {
          "output_type": "stream",
          "name": "stderr",
          "text": [
            " 41%|████      | 41/100 [00:46<01:04,  1.09s/it]"
          ]
        },
        {
          "output_type": "stream",
          "name": "stdout",
          "text": [
            "Epoch [41/100] Train loss: 3.1012963061470065 Validation Loss: 3.1215397850159676\n"
          ]
        },
        {
          "output_type": "stream",
          "name": "stderr",
          "text": [
            " 51%|█████     | 51/100 [00:58<00:54,  1.12s/it]"
          ]
        },
        {
          "output_type": "stream",
          "name": "stdout",
          "text": [
            "Epoch [51/100] Train loss: 2.9188398029578564 Validation Loss: 2.9594067988857145\n"
          ]
        },
        {
          "output_type": "stream",
          "name": "stderr",
          "text": [
            " 61%|██████    | 61/100 [01:10<00:45,  1.16s/it]"
          ]
        },
        {
          "output_type": "stream",
          "name": "stdout",
          "text": [
            "Epoch [61/100] Train loss: 2.776027598008207 Validation Loss: 2.7857147416760846\n"
          ]
        },
        {
          "output_type": "stream",
          "name": "stderr",
          "text": [
            " 71%|███████   | 71/100 [01:21<00:36,  1.26s/it]"
          ]
        },
        {
          "output_type": "stream",
          "name": "stdout",
          "text": [
            "Epoch [71/100] Train loss: 2.6249275138839283 Validation Loss: 2.676490145344888\n"
          ]
        },
        {
          "output_type": "stream",
          "name": "stderr",
          "text": [
            " 81%|████████  | 81/100 [01:33<00:23,  1.23s/it]"
          ]
        },
        {
          "output_type": "stream",
          "name": "stdout",
          "text": [
            "Epoch [81/100] Train loss: 2.490155957853843 Validation Loss: 2.5162883035598265\n"
          ]
        },
        {
          "output_type": "stream",
          "name": "stderr",
          "text": [
            " 91%|█████████ | 91/100 [01:44<00:09,  1.07s/it]"
          ]
        },
        {
          "output_type": "stream",
          "name": "stdout",
          "text": [
            "Epoch [91/100] Train loss: 2.3716036169617265 Validation Loss: 2.418218666507352\n"
          ]
        },
        {
          "output_type": "stream",
          "name": "stderr",
          "text": [
            "100%|██████████| 100/100 [01:54<00:00,  1.15s/it]\n"
          ]
        },
        {
          "output_type": "stream",
          "name": "stdout",
          "text": [
            "====== Training models for 중앙창고======\n"
          ]
        },
        {
          "output_type": "stream",
          "name": "stderr",
          "text": [
            "  1%|          | 1/100 [00:01<01:46,  1.07s/it]"
          ]
        },
        {
          "output_type": "stream",
          "name": "stdout",
          "text": [
            "Epoch [1/100] Train loss: 6.939121385660681 Validation Loss: 6.876563702860186\n"
          ]
        },
        {
          "output_type": "stream",
          "name": "stderr",
          "text": [
            " 11%|█         | 11/100 [00:12<01:39,  1.12s/it]"
          ]
        },
        {
          "output_type": "stream",
          "name": "stdout",
          "text": [
            "Epoch [11/100] Train loss: 3.978659654350438 Validation Loss: 3.8078930762506302\n"
          ]
        },
        {
          "output_type": "stream",
          "name": "stderr",
          "text": [
            " 21%|██        | 21/100 [00:24<01:29,  1.13s/it]"
          ]
        },
        {
          "output_type": "stream",
          "name": "stdout",
          "text": [
            "Epoch [21/100] Train loss: 3.1466428850903925 Validation Loss: 3.098840667355445\n"
          ]
        },
        {
          "output_type": "stream",
          "name": "stderr",
          "text": [
            " 31%|███       | 31/100 [00:36<01:21,  1.18s/it]"
          ]
        },
        {
          "output_type": "stream",
          "name": "stdout",
          "text": [
            "Epoch [31/100] Train loss: 2.3136611141785672 Validation Loss: 2.3054314967124694\n"
          ]
        },
        {
          "output_type": "stream",
          "name": "stderr",
          "text": [
            " 41%|████      | 41/100 [00:47<01:15,  1.27s/it]"
          ]
        },
        {
          "output_type": "stream",
          "name": "stdout",
          "text": [
            "Epoch [41/100] Train loss: 2.058087235125004 Validation Loss: 2.05769335069964\n"
          ]
        },
        {
          "output_type": "stream",
          "name": "stderr",
          "text": [
            " 51%|█████     | 51/100 [00:59<00:58,  1.19s/it]"
          ]
        },
        {
          "output_type": "stream",
          "name": "stdout",
          "text": [
            "Epoch [51/100] Train loss: 1.9348669537791499 Validation Loss: 1.9485384264299948\n"
          ]
        },
        {
          "output_type": "stream",
          "name": "stderr",
          "text": [
            " 61%|██████    | 61/100 [01:10<00:41,  1.08s/it]"
          ]
        },
        {
          "output_type": "stream",
          "name": "stdout",
          "text": [
            "Epoch [61/100] Train loss: 1.8251520969249584 Validation Loss: 1.8405360944809452\n"
          ]
        },
        {
          "output_type": "stream",
          "name": "stderr",
          "text": [
            " 71%|███████   | 71/100 [01:22<00:31,  1.10s/it]"
          ]
        },
        {
          "output_type": "stream",
          "name": "stdout",
          "text": [
            "Epoch [71/100] Train loss: 1.7384419323485574 Validation Loss: 1.7613757425738918\n"
          ]
        },
        {
          "output_type": "stream",
          "name": "stderr",
          "text": [
            " 81%|████████  | 81/100 [01:33<00:21,  1.11s/it]"
          ]
        },
        {
          "output_type": "stream",
          "name": "stdout",
          "text": [
            "Epoch [81/100] Train loss: 1.659780828059946 Validation Loss: 1.6712522737441524\n"
          ]
        },
        {
          "output_type": "stream",
          "name": "stderr",
          "text": [
            " 91%|█████████ | 91/100 [01:45<00:10,  1.15s/it]"
          ]
        },
        {
          "output_type": "stream",
          "name": "stdout",
          "text": [
            "Epoch [91/100] Train loss: 1.5925314701143116 Validation Loss: 1.6058848711752123\n"
          ]
        },
        {
          "output_type": "stream",
          "name": "stderr",
          "text": [
            "100%|██████████| 100/100 [01:56<00:00,  1.16s/it]\n"
          ]
        },
        {
          "output_type": "stream",
          "name": "stdout",
          "text": [
            "====== Training models for 학생회관======\n"
          ]
        },
        {
          "output_type": "stream",
          "name": "stderr",
          "text": [
            "  1%|          | 1/100 [00:01<01:59,  1.21s/it]"
          ]
        },
        {
          "output_type": "stream",
          "name": "stdout",
          "text": [
            "Epoch [1/100] Train loss: 10.255650712629405 Validation Loss: 10.049830775107107\n"
          ]
        },
        {
          "output_type": "stream",
          "name": "stderr",
          "text": [
            " 11%|█         | 11/100 [00:13<01:56,  1.31s/it]"
          ]
        },
        {
          "output_type": "stream",
          "name": "stdout",
          "text": [
            "Epoch [11/100] Train loss: 9.98602955822101 Validation Loss: 10.046283260468513\n"
          ]
        },
        {
          "output_type": "stream",
          "name": "stderr",
          "text": [
            " 21%|██        | 21/100 [00:24<01:37,  1.24s/it]"
          ]
        },
        {
          "output_type": "stream",
          "name": "stdout",
          "text": [
            "Epoch [21/100] Train loss: 4.914335566783638 Validation Loss: 4.793651580810547\n"
          ]
        },
        {
          "output_type": "stream",
          "name": "stderr",
          "text": [
            " 31%|███       | 31/100 [00:35<01:16,  1.10s/it]"
          ]
        },
        {
          "output_type": "stream",
          "name": "stdout",
          "text": [
            "Epoch [31/100] Train loss: 3.3976031409369574 Validation Loss: 3.3831896551193728\n"
          ]
        },
        {
          "output_type": "stream",
          "name": "stderr",
          "text": [
            " 41%|████      | 41/100 [00:47<01:05,  1.10s/it]"
          ]
        },
        {
          "output_type": "stream",
          "name": "stdout",
          "text": [
            "Epoch [41/100] Train loss: 3.0391660482304577 Validation Loss: 3.063469586833831\n"
          ]
        },
        {
          "output_type": "stream",
          "name": "stderr",
          "text": [
            " 51%|█████     | 51/100 [00:59<00:54,  1.11s/it]"
          ]
        },
        {
          "output_type": "stream",
          "name": "stdout",
          "text": [
            "Epoch [51/100] Train loss: 2.809672914905313 Validation Loss: 2.854119969952491\n"
          ]
        },
        {
          "output_type": "stream",
          "name": "stderr",
          "text": [
            " 61%|██████    | 61/100 [01:11<00:44,  1.14s/it]"
          ]
        },
        {
          "output_type": "stream",
          "name": "stdout",
          "text": [
            "Epoch [61/100] Train loss: 2.628417948145925 Validation Loss: 2.678587129039149\n"
          ]
        },
        {
          "output_type": "stream",
          "name": "stderr",
          "text": [
            " 71%|███████   | 71/100 [01:23<00:34,  1.20s/it]"
          ]
        },
        {
          "output_type": "stream",
          "name": "stdout",
          "text": [
            "Epoch [71/100] Train loss: 2.4654784810886463 Validation Loss: 2.511443699559858\n"
          ]
        },
        {
          "output_type": "stream",
          "name": "stderr",
          "text": [
            " 81%|████████  | 81/100 [01:34<00:24,  1.30s/it]"
          ]
        },
        {
          "output_type": "stream",
          "name": "stdout",
          "text": [
            "Epoch [81/100] Train loss: 2.3264540738039057 Validation Loss: 2.37730896857477\n"
          ]
        },
        {
          "output_type": "stream",
          "name": "stderr",
          "text": [
            " 91%|█████████ | 91/100 [01:45<00:10,  1.16s/it]"
          ]
        },
        {
          "output_type": "stream",
          "name": "stdout",
          "text": [
            "Epoch [91/100] Train loss: 2.2048807791721674 Validation Loss: 2.287696942206352\n"
          ]
        },
        {
          "output_type": "stream",
          "name": "stderr",
          "text": [
            "100%|██████████| 100/100 [01:56<00:00,  1.16s/it]\n"
          ]
        },
        {
          "output_type": "stream",
          "name": "stdout",
          "text": [
            "====== Training models for 학사과정======\n"
          ]
        },
        {
          "output_type": "stream",
          "name": "stderr",
          "text": [
            "  1%|          | 1/100 [00:01<01:47,  1.08s/it]"
          ]
        },
        {
          "output_type": "stream",
          "name": "stdout",
          "text": [
            "Epoch [1/100] Train loss: 5.140788339293052 Validation Loss: 5.086301065260364\n"
          ]
        },
        {
          "output_type": "stream",
          "name": "stderr",
          "text": [
            " 11%|█         | 11/100 [00:12<01:37,  1.09s/it]"
          ]
        },
        {
          "output_type": "stream",
          "name": "stdout",
          "text": [
            "Epoch [11/100] Train loss: 2.535921566770891 Validation Loss: 2.455298923677014\n"
          ]
        },
        {
          "output_type": "stream",
          "name": "stderr",
          "text": [
            " 21%|██        | 21/100 [00:24<01:28,  1.12s/it]"
          ]
        },
        {
          "output_type": "stream",
          "name": "stdout",
          "text": [
            "Epoch [21/100] Train loss: 1.83034729565122 Validation Loss: 1.8444312080260246\n"
          ]
        },
        {
          "output_type": "stream",
          "name": "stderr",
          "text": [
            " 31%|███       | 31/100 [00:36<01:20,  1.16s/it]"
          ]
        },
        {
          "output_type": "stream",
          "name": "stdout",
          "text": [
            "Epoch [31/100] Train loss: 1.5503534466150857 Validation Loss: 1.5606263991325133\n"
          ]
        },
        {
          "output_type": "stream",
          "name": "stderr",
          "text": [
            " 41%|████      | 41/100 [00:48<01:12,  1.23s/it]"
          ]
        },
        {
          "output_type": "stream",
          "name": "stdout",
          "text": [
            "Epoch [41/100] Train loss: 1.435667999487355 Validation Loss: 1.464049800749748\n"
          ]
        },
        {
          "output_type": "stream",
          "name": "stderr",
          "text": [
            " 51%|█████     | 51/100 [01:00<01:03,  1.29s/it]"
          ]
        },
        {
          "output_type": "stream",
          "name": "stdout",
          "text": [
            "Epoch [51/100] Train loss: 1.366408312762225 Validation Loss: 1.411635652665169\n"
          ]
        },
        {
          "output_type": "stream",
          "name": "stderr",
          "text": [
            " 61%|██████    | 61/100 [01:11<00:44,  1.14s/it]"
          ]
        },
        {
          "output_type": "stream",
          "name": "stdout",
          "text": [
            "Epoch [61/100] Train loss: 1.2893121154220015 Validation Loss: 1.2989071607589722\n"
          ]
        },
        {
          "output_type": "stream",
          "name": "stderr",
          "text": [
            " 71%|███████   | 71/100 [01:22<00:31,  1.08s/it]"
          ]
        },
        {
          "output_type": "stream",
          "name": "stdout",
          "text": [
            "Epoch [71/100] Train loss: 1.2152315829516438 Validation Loss: 1.2382052348506065\n"
          ]
        },
        {
          "output_type": "stream",
          "name": "stderr",
          "text": [
            " 81%|████████  | 81/100 [01:34<00:20,  1.10s/it]"
          ]
        },
        {
          "output_type": "stream",
          "name": "stdout",
          "text": [
            "Epoch [81/100] Train loss: 1.1674031342989133 Validation Loss: 1.1864571936668888\n"
          ]
        },
        {
          "output_type": "stream",
          "name": "stderr",
          "text": [
            " 91%|█████████ | 91/100 [01:45<00:10,  1.12s/it]"
          ]
        },
        {
          "output_type": "stream",
          "name": "stdout",
          "text": [
            "Epoch [91/100] Train loss: 1.146419125819893 Validation Loss: 1.1457132850923846\n"
          ]
        },
        {
          "output_type": "stream",
          "name": "stderr",
          "text": [
            "100%|██████████| 100/100 [01:56<00:00,  1.17s/it]\n"
          ]
        },
        {
          "output_type": "stream",
          "name": "stdout",
          "text": [
            "====== Training models for 삼성환경동======\n"
          ]
        },
        {
          "output_type": "stream",
          "name": "stderr",
          "text": [
            "  1%|          | 1/100 [00:01<01:47,  1.09s/it]"
          ]
        },
        {
          "output_type": "stream",
          "name": "stdout",
          "text": [
            "Epoch [1/100] Train loss: 14.646311991499285 Validation Loss: 14.21102834516956\n"
          ]
        },
        {
          "output_type": "stream",
          "name": "stderr",
          "text": [
            " 11%|█         | 11/100 [00:12<01:48,  1.22s/it]"
          ]
        },
        {
          "output_type": "stream",
          "name": "stdout",
          "text": [
            "Epoch [11/100] Train loss: 14.130025600700222 Validation Loss: 14.208807637614589\n"
          ]
        },
        {
          "output_type": "stream",
          "name": "stderr",
          "text": [
            " 21%|██        | 21/100 [00:24<01:39,  1.26s/it]"
          ]
        },
        {
          "output_type": "stream",
          "name": "stdout",
          "text": [
            "Epoch [21/100] Train loss: 9.322542398554798 Validation Loss: 8.796078251254174\n"
          ]
        },
        {
          "output_type": "stream",
          "name": "stderr",
          "text": [
            " 31%|███       | 31/100 [00:35<01:15,  1.09s/it]"
          ]
        },
        {
          "output_type": "stream",
          "name": "stdout",
          "text": [
            "Epoch [31/100] Train loss: 5.870313128326165 Validation Loss: 5.806207026204755\n"
          ]
        },
        {
          "output_type": "stream",
          "name": "stderr",
          "text": [
            " 41%|████      | 41/100 [00:46<01:04,  1.09s/it]"
          ]
        },
        {
          "output_type": "stream",
          "name": "stdout",
          "text": [
            "Epoch [41/100] Train loss: 4.8079004091490445 Validation Loss: 4.80038361395559\n"
          ]
        },
        {
          "output_type": "stream",
          "name": "stderr",
          "text": [
            " 51%|█████     | 51/100 [00:58<00:53,  1.10s/it]"
          ]
        },
        {
          "output_type": "stream",
          "name": "stdout",
          "text": [
            "Epoch [51/100] Train loss: 4.375277218995271 Validation Loss: 4.426837328941591\n"
          ]
        },
        {
          "output_type": "stream",
          "name": "stderr",
          "text": [
            " 61%|██████    | 61/100 [01:10<00:43,  1.12s/it]"
          ]
        },
        {
          "output_type": "stream",
          "name": "stdout",
          "text": [
            "Epoch [61/100] Train loss: 4.147871643427468 Validation Loss: 4.1901605744515695\n"
          ]
        },
        {
          "output_type": "stream",
          "name": "stderr",
          "text": [
            " 71%|███████   | 71/100 [01:22<00:34,  1.17s/it]"
          ]
        },
        {
          "output_type": "stream",
          "name": "stdout",
          "text": [
            "Epoch [71/100] Train loss: 3.9364751219258878 Validation Loss: 4.015374760473928\n"
          ]
        },
        {
          "output_type": "stream",
          "name": "stderr",
          "text": [
            " 81%|████████  | 81/100 [01:33<00:24,  1.28s/it]"
          ]
        },
        {
          "output_type": "stream",
          "name": "stdout",
          "text": [
            "Epoch [81/100] Train loss: 3.7253408196531694 Validation Loss: 3.792158903614167\n"
          ]
        },
        {
          "output_type": "stream",
          "name": "stderr",
          "text": [
            " 91%|█████████ | 91/100 [01:44<00:11,  1.22s/it]"
          ]
        },
        {
          "output_type": "stream",
          "name": "stdout",
          "text": [
            "Epoch [91/100] Train loss: 3.6367296083473866 Validation Loss: 3.6545652574108494\n"
          ]
        },
        {
          "output_type": "stream",
          "name": "stderr",
          "text": [
            "100%|██████████| 100/100 [01:55<00:00,  1.15s/it]\n"
          ]
        },
        {
          "output_type": "stream",
          "name": "stdout",
          "text": [
            "====== Training models for 축구장======\n"
          ]
        },
        {
          "output_type": "stream",
          "name": "stderr",
          "text": [
            "  1%|          | 1/100 [00:01<01:45,  1.06s/it]"
          ]
        },
        {
          "output_type": "stream",
          "name": "stdout",
          "text": [
            "Epoch [1/100] Train loss: 32.123350653628755 Validation Loss: 30.61333422507009\n"
          ]
        },
        {
          "output_type": "stream",
          "name": "stderr",
          "text": [
            " 11%|█         | 11/100 [00:12<01:36,  1.09s/it]"
          ]
        },
        {
          "output_type": "stream",
          "name": "stdout",
          "text": [
            "Epoch [11/100] Train loss: 30.290763588108643 Validation Loss: 30.331150670205393\n"
          ]
        },
        {
          "output_type": "stream",
          "name": "stderr",
          "text": [
            " 21%|██        | 21/100 [00:24<01:25,  1.08s/it]"
          ]
        },
        {
          "output_type": "stream",
          "name": "stdout",
          "text": [
            "Epoch [21/100] Train loss: 30.27882313826447 Validation Loss: 30.332266223046087\n"
          ]
        },
        {
          "output_type": "stream",
          "name": "stderr",
          "text": [
            " 31%|███       | 31/100 [00:36<01:18,  1.14s/it]"
          ]
        },
        {
          "output_type": "stream",
          "name": "stdout",
          "text": [
            "Epoch [31/100] Train loss: 30.274659772959264 Validation Loss: 30.331547706357895\n"
          ]
        },
        {
          "output_type": "stream",
          "name": "stderr",
          "text": [
            " 41%|████      | 41/100 [00:47<01:10,  1.20s/it]"
          ]
        },
        {
          "output_type": "stream",
          "name": "stdout",
          "text": [
            "Epoch [41/100] Train loss: 21.71869427873274 Validation Loss: 20.88638428718813\n"
          ]
        },
        {
          "output_type": "stream",
          "name": "stderr",
          "text": [
            " 51%|█████     | 51/100 [00:59<01:03,  1.29s/it]"
          ]
        },
        {
          "output_type": "stream",
          "name": "stdout",
          "text": [
            "Epoch [51/100] Train loss: 12.904169486873926 Validation Loss: 12.68585438882151\n"
          ]
        },
        {
          "output_type": "stream",
          "name": "stderr",
          "text": [
            " 61%|██████    | 61/100 [01:10<00:44,  1.15s/it]"
          ]
        },
        {
          "output_type": "stream",
          "name": "stdout",
          "text": [
            "Epoch [61/100] Train loss: 10.711884537842048 Validation Loss: 10.45528402636128\n"
          ]
        },
        {
          "output_type": "stream",
          "name": "stderr",
          "text": [
            " 71%|███████   | 71/100 [01:21<00:31,  1.09s/it]"
          ]
        },
        {
          "output_type": "stream",
          "name": "stdout",
          "text": [
            "Epoch [71/100] Train loss: 9.199116200576594 Validation Loss: 9.190658538572249\n"
          ]
        },
        {
          "output_type": "stream",
          "name": "stderr",
          "text": [
            " 81%|████████  | 81/100 [01:33<00:21,  1.11s/it]"
          ]
        },
        {
          "output_type": "stream",
          "name": "stdout",
          "text": [
            "Epoch [81/100] Train loss: 8.657193176049754 Validation Loss: 8.763729218513735\n"
          ]
        },
        {
          "output_type": "stream",
          "name": "stderr",
          "text": [
            " 91%|█████████ | 91/100 [01:45<00:10,  1.12s/it]"
          ]
        },
        {
          "output_type": "stream",
          "name": "stdout",
          "text": [
            "Epoch [91/100] Train loss: 8.308240535327927 Validation Loss: 8.267715792502127\n"
          ]
        },
        {
          "output_type": "stream",
          "name": "stderr",
          "text": [
            "100%|██████████| 100/100 [01:56<00:00,  1.16s/it]\n"
          ]
        },
        {
          "output_type": "stream",
          "name": "stdout",
          "text": [
            "====== Training models for 다산빌딩======\n"
          ]
        },
        {
          "output_type": "stream",
          "name": "stderr",
          "text": [
            "  1%|          | 1/100 [00:01<01:48,  1.09s/it]"
          ]
        },
        {
          "output_type": "stream",
          "name": "stdout",
          "text": [
            "Epoch [1/100] Train loss: 8.093239903940585 Validation Loss: 8.005698188658684\n"
          ]
        },
        {
          "output_type": "stream",
          "name": "stderr",
          "text": [
            " 11%|█         | 11/100 [00:12<01:55,  1.30s/it]"
          ]
        },
        {
          "output_type": "stream",
          "name": "stdout",
          "text": [
            "Epoch [11/100] Train loss: 7.975708145172998 Validation Loss: 8.00519997073758\n"
          ]
        },
        {
          "output_type": "stream",
          "name": "stderr",
          "text": [
            " 21%|██        | 21/100 [00:23<01:26,  1.09s/it]"
          ]
        },
        {
          "output_type": "stream",
          "name": "stdout",
          "text": [
            "Epoch [21/100] Train loss: 7.975748480102162 Validation Loss: 8.007758694310342\n"
          ]
        },
        {
          "output_type": "stream",
          "name": "stderr",
          "text": [
            " 31%|███       | 31/100 [00:35<01:16,  1.10s/it]"
          ]
        },
        {
          "output_type": "stream",
          "name": "stdout",
          "text": [
            "Epoch [31/100] Train loss: 7.978061000996656 Validation Loss: 8.005746149247692\n"
          ]
        },
        {
          "output_type": "stream",
          "name": "stderr",
          "text": [
            " 41%|████      | 41/100 [00:47<01:05,  1.10s/it]"
          ]
        },
        {
          "output_type": "stream",
          "name": "stdout",
          "text": [
            "Epoch [41/100] Train loss: 7.975542058669981 Validation Loss: 8.006677027671568\n"
          ]
        },
        {
          "output_type": "stream",
          "name": "stderr",
          "text": [
            " 51%|█████     | 51/100 [00:59<00:55,  1.13s/it]"
          ]
        },
        {
          "output_type": "stream",
          "name": "stdout",
          "text": [
            "Epoch [51/100] Train loss: 7.976836657818453 Validation Loss: 8.008459229623117\n"
          ]
        },
        {
          "output_type": "stream",
          "name": "stderr",
          "text": [
            " 61%|██████    | 61/100 [01:10<00:45,  1.17s/it]"
          ]
        },
        {
          "output_type": "stream",
          "name": "stdout",
          "text": [
            "Epoch [61/100] Train loss: 7.9788716045426735 Validation Loss: 8.006855026368171\n"
          ]
        },
        {
          "output_type": "stream",
          "name": "stderr",
          "text": [
            " 71%|███████   | 71/100 [01:22<00:36,  1.26s/it]"
          ]
        },
        {
          "output_type": "stream",
          "name": "stdout",
          "text": [
            "Epoch [71/100] Train loss: 7.9771045402244285 Validation Loss: 8.005357419290851\n"
          ]
        },
        {
          "output_type": "stream",
          "name": "stderr",
          "text": [
            " 81%|████████  | 81/100 [01:34<00:24,  1.27s/it]"
          ]
        },
        {
          "output_type": "stream",
          "name": "stdout",
          "text": [
            "Epoch [81/100] Train loss: 7.9742134137408724 Validation Loss: 8.005388690579322\n"
          ]
        },
        {
          "output_type": "stream",
          "name": "stderr",
          "text": [
            " 91%|█████████ | 91/100 [01:45<00:09,  1.09s/it]"
          ]
        },
        {
          "output_type": "stream",
          "name": "stdout",
          "text": [
            "Epoch [91/100] Train loss: 7.976165922580923 Validation Loss: 8.00676575014668\n"
          ]
        },
        {
          "output_type": "stream",
          "name": "stderr",
          "text": [
            "100%|██████████| 100/100 [01:55<00:00,  1.16s/it]\n"
          ]
        }
      ]
    },
    {
      "cell_type": "markdown",
      "source": [
        "Testing the models..."
      ],
      "metadata": {
        "id": "xx0xr_WNUThE"
      }
    },
    {
      "cell_type": "code",
      "source": [
        "for b in buildings.keys():\n",
        "    model = modelsdict[b]\n",
        "    test_dataloader = test_dict[b]\n",
        "\n",
        "    model.eval()\n",
        "    test_loss = 0.0\n",
        "\n",
        "    with torch.no_grad():\n",
        "        for inputs, labels in test_dataloader:\n",
        "            inputs = inputs.to(device)\n",
        "            labels = labels.to(device)\n",
        "\n",
        "            # Forward pass\n",
        "            outputs = model(inputs)\n",
        "\n",
        "            # Compute loss\n",
        "            loss = torch.sqrt(criterion(outputs, labels))\n",
        "\n",
        "            test_loss += loss.item()\n",
        "\n",
        "    # Print the test loss\n",
        "    test_loss /= len(test_dataloader)\n",
        "    print(f\"[{b}] Test Loss (RSME): {test_loss}\")\n"
      ],
      "metadata": {
        "colab": {
          "base_uri": "https://localhost:8080/"
        },
        "id": "b5XQVfu1UTJw",
        "outputId": "2d89c12a-5c6c-499c-bba9-fc6255b7d2aa"
      },
      "execution_count": null,
      "outputs": [
        {
          "output_type": "stream",
          "name": "stdout",
          "text": [
            "[중앙도서관] Test Loss (RSME): 8.266879927727484\n",
            "[시설관리동] Test Loss (RSME): 30.730585036739225\n",
            "[산업협력관] Test Loss (RSME): 14.933247796420392\n",
            "[동물실험동] Test Loss (RSME): 10.406225173704085\n",
            "[신재생에너지동] Test Loss (RSME): 17.96331282584898\n",
            "[기숙사B동] Test Loss (RSME): 12.032811921218347\n",
            "[대학C동] Test Loss (RSME): 3.807737696555353\n",
            "[LG도서관] Test Loss (RSME): 11.110817847713347\n",
            "[중앙창고] Test Loss (RSME): 7.6594174292779735\n",
            "[학생회관] Test Loss (RSME): 11.639562883684713\n",
            "[학사과정] Test Loss (RSME): 5.748942590528919\n",
            "[삼성환경동] Test Loss (RSME): 16.105365291718513\n",
            "[축구장] Test Loss (RSME): 34.38519237887475\n",
            "[다산빌딩] Test Loss (RSME): 4.416617885712655\n"
          ]
        }
      ]
    },
    {
      "cell_type": "markdown",
      "source": [
        "# The Next 24-hour Prediction"
      ],
      "metadata": {
        "id": "YFP7TaXn_hUo"
      }
    },
    {
      "cell_type": "code",
      "source": [
        "CHECKPOINT_PATH = \"/content/drive/MyDrive/ict-2023/output\""
      ],
      "metadata": {
        "id": "zWCvGBZ5AyzE"
      },
      "execution_count": null,
      "outputs": []
    },
    {
      "cell_type": "code",
      "source": [
        "glob.glob(CHECKPOINT_PATH+\"/*-checkpoint.pt\")[0].split(\"/\")[-1].split(\".\")[0][:-11]"
      ],
      "metadata": {
        "colab": {
          "base_uri": "https://localhost:8080/",
          "height": 37
        },
        "id": "pScOBKlTEtHJ",
        "outputId": "18081d84-8fcc-44e2-f00c-7e8f5d2f3b80"
      },
      "execution_count": null,
      "outputs": [
        {
          "output_type": "execute_result",
          "data": {
            "text/plain": [
              "'중앙도서관'"
            ],
            "application/vnd.google.colaboratory.intrinsic+json": {
              "type": "string"
            }
          },
          "metadata": {},
          "execution_count": 21
        }
      ]
    },
    {
      "cell_type": "code",
      "source": [
        "# Load the saved model checkpoint\n",
        "model_dict = dict()\n",
        "for path in glob.glob(CHECKPOINT_PATH+\"/*-checkpoint.pt\"):\n",
        "    building = path.split(\"/\")[-1].split(\".\")[0][:-11]\n",
        "    model = LSTMModel(input_size, hidden_size, num_layers, output_size).to(device)\n",
        "    model.load_state_dict(torch.load(path))\n",
        "    model_dict[building] = model"
      ],
      "metadata": {
        "id": "s2GlhN1hD30T"
      },
      "execution_count": null,
      "outputs": []
    },
    {
      "cell_type": "code",
      "source": [
        "model_dict.keys()"
      ],
      "metadata": {
        "colab": {
          "base_uri": "https://localhost:8080/"
        },
        "id": "Ftsb_d8WNWPE",
        "outputId": "9f63c7b5-f144-41b1-e8d6-21a58d9504ea"
      },
      "execution_count": null,
      "outputs": [
        {
          "output_type": "execute_result",
          "data": {
            "text/plain": [
              "dict_keys(['중앙도서관', '시설관리동', '산업협력관', '동물실험동', '신재생에너지동', '기숙사B동', '대학C동', 'LG도서관', '중앙창고', '학생회관', '학사과정', '삼성환경동', '축구장', '다산빌딩'])"
            ]
          },
          "metadata": {},
          "execution_count": 24
        }
      ]
    },
    {
      "cell_type": "markdown",
      "source": [
        "The prediction based on the last 7 days' data"
      ],
      "metadata": {
        "id": "b3WZrZAJc65Y"
      }
    },
    {
      "cell_type": "code",
      "source": [
        "pred_PATH = \"/content/drive/MyDrive/ict-2023/pred\"\n",
        "data_all = dict() # dataframe for display\n",
        "for b in buildings.keys():\n",
        "    valid_sequences = []\n",
        "    valid_sequences.append(X_dict[b][-24*7:]) # predict based on the last 7 days' data\n",
        "    valid_sequences = torch.stack(valid_sequences)\n",
        "    valid_sequences.shape\n",
        "\n",
        "    model = model_dict[b]\n",
        "    model.eval()\n",
        "    prediction = model(valid_sequences.to(device))\n",
        "\n",
        "    # Convert the predictions tensor to a numpy array\n",
        "    predictions_array = prediction.detach().cpu().numpy()\n",
        "\n",
        "    #convert negative value to positive\n",
        "    rounded_data = np.maximum(predictions_array, 0.0).reshape(-1,1)\n",
        "\n",
        "    data_all[b] = rounded_data.flatten()\n",
        "\n",
        "    # Create a DataFrame from the predictions array\n",
        "    predictions_df = pd.DataFrame(rounded_data, columns=['Prediction'])\n",
        "    predictions_df.to_csv(os.path.join(pred_PATH, b+\".csv\"), index=False)"
      ],
      "metadata": {
        "id": "PJANVNKhVSTr"
      },
      "execution_count": null,
      "outputs": []
    },
    {
      "cell_type": "code",
      "source": [
        "pd.DataFrame(data_all)"
      ],
      "metadata": {
        "colab": {
          "base_uri": "https://localhost:8080/",
          "height": 883
        },
        "id": "B09X0KhcXAbc",
        "outputId": "aab45566-bc47-4b05-97dd-88b8fa484a3e"
      },
      "execution_count": null,
      "outputs": [
        {
          "output_type": "execute_result",
          "data": {
            "text/plain": [
              "    중앙도서관  시설관리동  산업협력관  동물실험동  \\\n",
              "0        0.410308       0.000000         1.598031         0.314666   \n",
              "1        0.000000       0.858850         1.589110         0.194358   \n",
              "2        0.050798       0.928114         2.304653         0.239095   \n",
              "3        0.386372       0.636801         4.032032         0.236660   \n",
              "4        0.172708       0.529407         6.430432         0.000000   \n",
              "5        0.040247       0.468408         9.285086         0.000000   \n",
              "6        0.634839       0.000000        11.668193         0.022809   \n",
              "7        3.007630       0.000000        14.242100         1.581088   \n",
              "8        5.813304       0.000000        16.963636         3.647962   \n",
              "9        9.215339       8.666004        19.673069         8.344604   \n",
              "10      18.015621      25.710466        22.247387        16.427094   \n",
              "11      20.502213      42.743839        23.977821        24.317848   \n",
              "12      13.198306      50.672176        24.896065        25.873096   \n",
              "13      10.349426      46.598843        25.441841        21.958363   \n",
              "14       9.690381      34.689579        24.440954        19.424837   \n",
              "15      11.457840      23.270231        22.495726        19.339233   \n",
              "16      12.537859      14.784594        19.913345        17.171450   \n",
              "17       3.972135      10.329678        17.183434        10.717029   \n",
              "18       0.000000       6.893184        13.872477         4.063740   \n",
              "19       0.715435       3.226997        10.922980         1.179019   \n",
              "20       0.000000       0.748285         8.585203         0.840917   \n",
              "21       0.000000       0.000000         5.927787         0.576363   \n",
              "22       0.339502       0.000000         3.682655         0.208827   \n",
              "23       0.066400       0.922342         2.079407         0.066617   \n",
              "\n",
              "    신재생에너지동  기숙사B동  대학C동  LG도서관  중앙창고  \\\n",
              "0            0.000000     0.212535   0.000000   0.094003     0.000000   \n",
              "1            1.230512     0.409028   0.101958   0.162911     0.000000   \n",
              "2            1.982867     0.414361   0.000000   0.546031     0.000000   \n",
              "3            0.812991     0.148456   0.000000   0.435896     0.000000   \n",
              "4            0.000000     0.000000   0.000000   0.000000     0.000000   \n",
              "5            0.000000     0.000000   0.000000   0.000000     0.000000   \n",
              "6            1.277623     0.420197   0.000000   0.985478     0.000000   \n",
              "7            5.849726     4.070512   0.598521   2.834999     0.964635   \n",
              "8           11.262098    10.315152   1.951701   6.311241     2.101328   \n",
              "9           16.117104    17.195417   2.825405  13.639823     2.958558   \n",
              "10          19.672283    23.583138   4.247150  22.063820     5.071239   \n",
              "11          22.351444    28.303291   7.199433  26.429161     9.904640   \n",
              "12          25.409147    30.957811   8.915325  25.900497    14.973495   \n",
              "13          28.704081    30.944557   7.475502  26.278458    15.837802   \n",
              "14          29.602039    28.636671   5.304485  30.109962    11.052470   \n",
              "15          25.099226    23.475327   5.077905  31.332865     6.675060   \n",
              "16          16.248446    16.608807   5.623010  24.043358     4.818145   \n",
              "17           7.068494     9.780624   4.168266  11.677522     4.495751   \n",
              "18           1.116130     4.110558   1.545392   2.702008     2.442126   \n",
              "19           0.000000     0.741952   0.000000   0.172011     0.025174   \n",
              "20           0.000000     0.000000   0.000000   0.148036     0.000000   \n",
              "21           0.000000     0.000000   0.000000   0.000000     0.000000   \n",
              "22           0.000000     0.501133   0.043960   0.000000     0.000000   \n",
              "23           0.000000     0.335981   0.000000   0.000000     0.000000   \n",
              "\n",
              "    학생회관  학사과정  삼성환경동   축구장  다산빌딩  \n",
              "0      0.625985    0.000000         0.775297   0.127578     4.225000  \n",
              "1      0.000000    0.000000         0.272356   0.342777     4.284652  \n",
              "2      0.131131    0.000000         0.000000   0.572446     4.360099  \n",
              "3      0.000000    0.450174         0.553008   0.000000     4.536553  \n",
              "4      0.000000    0.712194         2.004209   0.000000     4.396126  \n",
              "5      0.006950    0.261864         1.355920   0.000000     4.501468  \n",
              "6      0.516268    0.012003         0.000000   0.000000     4.429533  \n",
              "7      0.967814    0.451629         0.069635   2.634092     4.544599  \n",
              "8      5.836489    2.236648         6.008681  10.012327     4.591637  \n",
              "9     15.999930    5.418149        14.827602  19.331207     4.645003  \n",
              "10    23.809170    7.853801        20.839092  28.220467     4.688374  \n",
              "11    22.892427    8.585010        20.274422  34.332870     4.637402  \n",
              "12    18.263470    8.881737        17.175800  36.308784     4.547470  \n",
              "13    16.849403    9.318190        18.750429  34.110062     4.506406  \n",
              "14    16.576210    8.319660        26.774963  29.088736     4.427172  \n",
              "15    14.590573    5.945969        32.244797  23.253948     4.310400  \n",
              "16    10.805133    3.979959        26.555752  17.015619     4.436272  \n",
              "17     7.239998    3.375199        12.997563  11.393618     4.419439  \n",
              "18     4.060003    2.708532         2.493891   5.886525     4.376604  \n",
              "19     0.897709    0.992204         0.183985   1.485078     4.326505  \n",
              "20     0.000000    0.000000         1.029425   0.000000     4.243916  \n",
              "21     0.000000    0.000000         0.000000   0.376224     4.210794  \n",
              "22     0.188511    0.000000         0.000000   1.685985     4.199929  \n",
              "23     0.223230    0.000000         0.000000   2.291023     4.088411  "
            ],
            "text/html": [
              "\n",
              "\n",
              "  <div id=\"df-5c9e9641-1712-4ec6-a0f9-68853bba4067\">\n",
              "    <div class=\"colab-df-container\">\n",
              "      <div>\n",
              "<style scoped>\n",
              "    .dataframe tbody tr th:only-of-type {\n",
              "        vertical-align: middle;\n",
              "    }\n",
              "\n",
              "    .dataframe tbody tr th {\n",
              "        vertical-align: top;\n",
              "    }\n",
              "\n",
              "    .dataframe thead th {\n",
              "        text-align: right;\n",
              "    }\n",
              "</style>\n",
              "<table border=\"1\" class=\"dataframe\">\n",
              "  <thead>\n",
              "    <tr style=\"text-align: right;\">\n",
              "      <th></th>\n",
              "      <th>중앙도서관</th>\n",
              "      <th>시설관리동</th>\n",
              "      <th>산업협력관</th>\n",
              "      <th>동물실험동</th>\n",
              "      <th>신재생에너지동</th>\n",
              "      <th>기숙사B동</th>\n",
              "      <th>대학C동</th>\n",
              "      <th>LG도서관</th>\n",
              "      <th>중앙창고</th>\n",
              "      <th>학생회관</th>\n",
              "      <th>학사과정</th>\n",
              "      <th>삼성환경동</th>\n",
              "      <th>축구장</th>\n",
              "      <th>다산빌딩</th>\n",
              "    </tr>\n",
              "  </thead>\n",
              "  <tbody>\n",
              "    <tr>\n",
              "      <th>0</th>\n",
              "      <td>0.410308</td>\n",
              "      <td>0.000000</td>\n",
              "      <td>1.598031</td>\n",
              "      <td>0.314666</td>\n",
              "      <td>0.000000</td>\n",
              "      <td>0.212535</td>\n",
              "      <td>0.000000</td>\n",
              "      <td>0.094003</td>\n",
              "      <td>0.000000</td>\n",
              "      <td>0.625985</td>\n",
              "      <td>0.000000</td>\n",
              "      <td>0.775297</td>\n",
              "      <td>0.127578</td>\n",
              "      <td>4.225000</td>\n",
              "    </tr>\n",
              "    <tr>\n",
              "      <th>1</th>\n",
              "      <td>0.000000</td>\n",
              "      <td>0.858850</td>\n",
              "      <td>1.589110</td>\n",
              "      <td>0.194358</td>\n",
              "      <td>1.230512</td>\n",
              "      <td>0.409028</td>\n",
              "      <td>0.101958</td>\n",
              "      <td>0.162911</td>\n",
              "      <td>0.000000</td>\n",
              "      <td>0.000000</td>\n",
              "      <td>0.000000</td>\n",
              "      <td>0.272356</td>\n",
              "      <td>0.342777</td>\n",
              "      <td>4.284652</td>\n",
              "    </tr>\n",
              "    <tr>\n",
              "      <th>2</th>\n",
              "      <td>0.050798</td>\n",
              "      <td>0.928114</td>\n",
              "      <td>2.304653</td>\n",
              "      <td>0.239095</td>\n",
              "      <td>1.982867</td>\n",
              "      <td>0.414361</td>\n",
              "      <td>0.000000</td>\n",
              "      <td>0.546031</td>\n",
              "      <td>0.000000</td>\n",
              "      <td>0.131131</td>\n",
              "      <td>0.000000</td>\n",
              "      <td>0.000000</td>\n",
              "      <td>0.572446</td>\n",
              "      <td>4.360099</td>\n",
              "    </tr>\n",
              "    <tr>\n",
              "      <th>3</th>\n",
              "      <td>0.386372</td>\n",
              "      <td>0.636801</td>\n",
              "      <td>4.032032</td>\n",
              "      <td>0.236660</td>\n",
              "      <td>0.812991</td>\n",
              "      <td>0.148456</td>\n",
              "      <td>0.000000</td>\n",
              "      <td>0.435896</td>\n",
              "      <td>0.000000</td>\n",
              "      <td>0.000000</td>\n",
              "      <td>0.450174</td>\n",
              "      <td>0.553008</td>\n",
              "      <td>0.000000</td>\n",
              "      <td>4.536553</td>\n",
              "    </tr>\n",
              "    <tr>\n",
              "      <th>4</th>\n",
              "      <td>0.172708</td>\n",
              "      <td>0.529407</td>\n",
              "      <td>6.430432</td>\n",
              "      <td>0.000000</td>\n",
              "      <td>0.000000</td>\n",
              "      <td>0.000000</td>\n",
              "      <td>0.000000</td>\n",
              "      <td>0.000000</td>\n",
              "      <td>0.000000</td>\n",
              "      <td>0.000000</td>\n",
              "      <td>0.712194</td>\n",
              "      <td>2.004209</td>\n",
              "      <td>0.000000</td>\n",
              "      <td>4.396126</td>\n",
              "    </tr>\n",
              "    <tr>\n",
              "      <th>5</th>\n",
              "      <td>0.040247</td>\n",
              "      <td>0.468408</td>\n",
              "      <td>9.285086</td>\n",
              "      <td>0.000000</td>\n",
              "      <td>0.000000</td>\n",
              "      <td>0.000000</td>\n",
              "      <td>0.000000</td>\n",
              "      <td>0.000000</td>\n",
              "      <td>0.000000</td>\n",
              "      <td>0.006950</td>\n",
              "      <td>0.261864</td>\n",
              "      <td>1.355920</td>\n",
              "      <td>0.000000</td>\n",
              "      <td>4.501468</td>\n",
              "    </tr>\n",
              "    <tr>\n",
              "      <th>6</th>\n",
              "      <td>0.634839</td>\n",
              "      <td>0.000000</td>\n",
              "      <td>11.668193</td>\n",
              "      <td>0.022809</td>\n",
              "      <td>1.277623</td>\n",
              "      <td>0.420197</td>\n",
              "      <td>0.000000</td>\n",
              "      <td>0.985478</td>\n",
              "      <td>0.000000</td>\n",
              "      <td>0.516268</td>\n",
              "      <td>0.012003</td>\n",
              "      <td>0.000000</td>\n",
              "      <td>0.000000</td>\n",
              "      <td>4.429533</td>\n",
              "    </tr>\n",
              "    <tr>\n",
              "      <th>7</th>\n",
              "      <td>3.007630</td>\n",
              "      <td>0.000000</td>\n",
              "      <td>14.242100</td>\n",
              "      <td>1.581088</td>\n",
              "      <td>5.849726</td>\n",
              "      <td>4.070512</td>\n",
              "      <td>0.598521</td>\n",
              "      <td>2.834999</td>\n",
              "      <td>0.964635</td>\n",
              "      <td>0.967814</td>\n",
              "      <td>0.451629</td>\n",
              "      <td>0.069635</td>\n",
              "      <td>2.634092</td>\n",
              "      <td>4.544599</td>\n",
              "    </tr>\n",
              "    <tr>\n",
              "      <th>8</th>\n",
              "      <td>5.813304</td>\n",
              "      <td>0.000000</td>\n",
              "      <td>16.963636</td>\n",
              "      <td>3.647962</td>\n",
              "      <td>11.262098</td>\n",
              "      <td>10.315152</td>\n",
              "      <td>1.951701</td>\n",
              "      <td>6.311241</td>\n",
              "      <td>2.101328</td>\n",
              "      <td>5.836489</td>\n",
              "      <td>2.236648</td>\n",
              "      <td>6.008681</td>\n",
              "      <td>10.012327</td>\n",
              "      <td>4.591637</td>\n",
              "    </tr>\n",
              "    <tr>\n",
              "      <th>9</th>\n",
              "      <td>9.215339</td>\n",
              "      <td>8.666004</td>\n",
              "      <td>19.673069</td>\n",
              "      <td>8.344604</td>\n",
              "      <td>16.117104</td>\n",
              "      <td>17.195417</td>\n",
              "      <td>2.825405</td>\n",
              "      <td>13.639823</td>\n",
              "      <td>2.958558</td>\n",
              "      <td>15.999930</td>\n",
              "      <td>5.418149</td>\n",
              "      <td>14.827602</td>\n",
              "      <td>19.331207</td>\n",
              "      <td>4.645003</td>\n",
              "    </tr>\n",
              "    <tr>\n",
              "      <th>10</th>\n",
              "      <td>18.015621</td>\n",
              "      <td>25.710466</td>\n",
              "      <td>22.247387</td>\n",
              "      <td>16.427094</td>\n",
              "      <td>19.672283</td>\n",
              "      <td>23.583138</td>\n",
              "      <td>4.247150</td>\n",
              "      <td>22.063820</td>\n",
              "      <td>5.071239</td>\n",
              "      <td>23.809170</td>\n",
              "      <td>7.853801</td>\n",
              "      <td>20.839092</td>\n",
              "      <td>28.220467</td>\n",
              "      <td>4.688374</td>\n",
              "    </tr>\n",
              "    <tr>\n",
              "      <th>11</th>\n",
              "      <td>20.502213</td>\n",
              "      <td>42.743839</td>\n",
              "      <td>23.977821</td>\n",
              "      <td>24.317848</td>\n",
              "      <td>22.351444</td>\n",
              "      <td>28.303291</td>\n",
              "      <td>7.199433</td>\n",
              "      <td>26.429161</td>\n",
              "      <td>9.904640</td>\n",
              "      <td>22.892427</td>\n",
              "      <td>8.585010</td>\n",
              "      <td>20.274422</td>\n",
              "      <td>34.332870</td>\n",
              "      <td>4.637402</td>\n",
              "    </tr>\n",
              "    <tr>\n",
              "      <th>12</th>\n",
              "      <td>13.198306</td>\n",
              "      <td>50.672176</td>\n",
              "      <td>24.896065</td>\n",
              "      <td>25.873096</td>\n",
              "      <td>25.409147</td>\n",
              "      <td>30.957811</td>\n",
              "      <td>8.915325</td>\n",
              "      <td>25.900497</td>\n",
              "      <td>14.973495</td>\n",
              "      <td>18.263470</td>\n",
              "      <td>8.881737</td>\n",
              "      <td>17.175800</td>\n",
              "      <td>36.308784</td>\n",
              "      <td>4.547470</td>\n",
              "    </tr>\n",
              "    <tr>\n",
              "      <th>13</th>\n",
              "      <td>10.349426</td>\n",
              "      <td>46.598843</td>\n",
              "      <td>25.441841</td>\n",
              "      <td>21.958363</td>\n",
              "      <td>28.704081</td>\n",
              "      <td>30.944557</td>\n",
              "      <td>7.475502</td>\n",
              "      <td>26.278458</td>\n",
              "      <td>15.837802</td>\n",
              "      <td>16.849403</td>\n",
              "      <td>9.318190</td>\n",
              "      <td>18.750429</td>\n",
              "      <td>34.110062</td>\n",
              "      <td>4.506406</td>\n",
              "    </tr>\n",
              "    <tr>\n",
              "      <th>14</th>\n",
              "      <td>9.690381</td>\n",
              "      <td>34.689579</td>\n",
              "      <td>24.440954</td>\n",
              "      <td>19.424837</td>\n",
              "      <td>29.602039</td>\n",
              "      <td>28.636671</td>\n",
              "      <td>5.304485</td>\n",
              "      <td>30.109962</td>\n",
              "      <td>11.052470</td>\n",
              "      <td>16.576210</td>\n",
              "      <td>8.319660</td>\n",
              "      <td>26.774963</td>\n",
              "      <td>29.088736</td>\n",
              "      <td>4.427172</td>\n",
              "    </tr>\n",
              "    <tr>\n",
              "      <th>15</th>\n",
              "      <td>11.457840</td>\n",
              "      <td>23.270231</td>\n",
              "      <td>22.495726</td>\n",
              "      <td>19.339233</td>\n",
              "      <td>25.099226</td>\n",
              "      <td>23.475327</td>\n",
              "      <td>5.077905</td>\n",
              "      <td>31.332865</td>\n",
              "      <td>6.675060</td>\n",
              "      <td>14.590573</td>\n",
              "      <td>5.945969</td>\n",
              "      <td>32.244797</td>\n",
              "      <td>23.253948</td>\n",
              "      <td>4.310400</td>\n",
              "    </tr>\n",
              "    <tr>\n",
              "      <th>16</th>\n",
              "      <td>12.537859</td>\n",
              "      <td>14.784594</td>\n",
              "      <td>19.913345</td>\n",
              "      <td>17.171450</td>\n",
              "      <td>16.248446</td>\n",
              "      <td>16.608807</td>\n",
              "      <td>5.623010</td>\n",
              "      <td>24.043358</td>\n",
              "      <td>4.818145</td>\n",
              "      <td>10.805133</td>\n",
              "      <td>3.979959</td>\n",
              "      <td>26.555752</td>\n",
              "      <td>17.015619</td>\n",
              "      <td>4.436272</td>\n",
              "    </tr>\n",
              "    <tr>\n",
              "      <th>17</th>\n",
              "      <td>3.972135</td>\n",
              "      <td>10.329678</td>\n",
              "      <td>17.183434</td>\n",
              "      <td>10.717029</td>\n",
              "      <td>7.068494</td>\n",
              "      <td>9.780624</td>\n",
              "      <td>4.168266</td>\n",
              "      <td>11.677522</td>\n",
              "      <td>4.495751</td>\n",
              "      <td>7.239998</td>\n",
              "      <td>3.375199</td>\n",
              "      <td>12.997563</td>\n",
              "      <td>11.393618</td>\n",
              "      <td>4.419439</td>\n",
              "    </tr>\n",
              "    <tr>\n",
              "      <th>18</th>\n",
              "      <td>0.000000</td>\n",
              "      <td>6.893184</td>\n",
              "      <td>13.872477</td>\n",
              "      <td>4.063740</td>\n",
              "      <td>1.116130</td>\n",
              "      <td>4.110558</td>\n",
              "      <td>1.545392</td>\n",
              "      <td>2.702008</td>\n",
              "      <td>2.442126</td>\n",
              "      <td>4.060003</td>\n",
              "      <td>2.708532</td>\n",
              "      <td>2.493891</td>\n",
              "      <td>5.886525</td>\n",
              "      <td>4.376604</td>\n",
              "    </tr>\n",
              "    <tr>\n",
              "      <th>19</th>\n",
              "      <td>0.715435</td>\n",
              "      <td>3.226997</td>\n",
              "      <td>10.922980</td>\n",
              "      <td>1.179019</td>\n",
              "      <td>0.000000</td>\n",
              "      <td>0.741952</td>\n",
              "      <td>0.000000</td>\n",
              "      <td>0.172011</td>\n",
              "      <td>0.025174</td>\n",
              "      <td>0.897709</td>\n",
              "      <td>0.992204</td>\n",
              "      <td>0.183985</td>\n",
              "      <td>1.485078</td>\n",
              "      <td>4.326505</td>\n",
              "    </tr>\n",
              "    <tr>\n",
              "      <th>20</th>\n",
              "      <td>0.000000</td>\n",
              "      <td>0.748285</td>\n",
              "      <td>8.585203</td>\n",
              "      <td>0.840917</td>\n",
              "      <td>0.000000</td>\n",
              "      <td>0.000000</td>\n",
              "      <td>0.000000</td>\n",
              "      <td>0.148036</td>\n",
              "      <td>0.000000</td>\n",
              "      <td>0.000000</td>\n",
              "      <td>0.000000</td>\n",
              "      <td>1.029425</td>\n",
              "      <td>0.000000</td>\n",
              "      <td>4.243916</td>\n",
              "    </tr>\n",
              "    <tr>\n",
              "      <th>21</th>\n",
              "      <td>0.000000</td>\n",
              "      <td>0.000000</td>\n",
              "      <td>5.927787</td>\n",
              "      <td>0.576363</td>\n",
              "      <td>0.000000</td>\n",
              "      <td>0.000000</td>\n",
              "      <td>0.000000</td>\n",
              "      <td>0.000000</td>\n",
              "      <td>0.000000</td>\n",
              "      <td>0.000000</td>\n",
              "      <td>0.000000</td>\n",
              "      <td>0.000000</td>\n",
              "      <td>0.376224</td>\n",
              "      <td>4.210794</td>\n",
              "    </tr>\n",
              "    <tr>\n",
              "      <th>22</th>\n",
              "      <td>0.339502</td>\n",
              "      <td>0.000000</td>\n",
              "      <td>3.682655</td>\n",
              "      <td>0.208827</td>\n",
              "      <td>0.000000</td>\n",
              "      <td>0.501133</td>\n",
              "      <td>0.043960</td>\n",
              "      <td>0.000000</td>\n",
              "      <td>0.000000</td>\n",
              "      <td>0.188511</td>\n",
              "      <td>0.000000</td>\n",
              "      <td>0.000000</td>\n",
              "      <td>1.685985</td>\n",
              "      <td>4.199929</td>\n",
              "    </tr>\n",
              "    <tr>\n",
              "      <th>23</th>\n",
              "      <td>0.066400</td>\n",
              "      <td>0.922342</td>\n",
              "      <td>2.079407</td>\n",
              "      <td>0.066617</td>\n",
              "      <td>0.000000</td>\n",
              "      <td>0.335981</td>\n",
              "      <td>0.000000</td>\n",
              "      <td>0.000000</td>\n",
              "      <td>0.000000</td>\n",
              "      <td>0.223230</td>\n",
              "      <td>0.000000</td>\n",
              "      <td>0.000000</td>\n",
              "      <td>2.291023</td>\n",
              "      <td>4.088411</td>\n",
              "    </tr>\n",
              "  </tbody>\n",
              "</table>\n",
              "</div>\n",
              "      <button class=\"colab-df-convert\" onclick=\"convertToInteractive('df-5c9e9641-1712-4ec6-a0f9-68853bba4067')\"\n",
              "              title=\"Convert this dataframe to an interactive table.\"\n",
              "              style=\"display:none;\">\n",
              "\n",
              "  <svg xmlns=\"http://www.w3.org/2000/svg\" height=\"24px\"viewBox=\"0 0 24 24\"\n",
              "       width=\"24px\">\n",
              "    <path d=\"M0 0h24v24H0V0z\" fill=\"none\"/>\n",
              "    <path d=\"M18.56 5.44l.94 2.06.94-2.06 2.06-.94-2.06-.94-.94-2.06-.94 2.06-2.06.94zm-11 1L8.5 8.5l.94-2.06 2.06-.94-2.06-.94L8.5 2.5l-.94 2.06-2.06.94zm10 10l.94 2.06.94-2.06 2.06-.94-2.06-.94-.94-2.06-.94 2.06-2.06.94z\"/><path d=\"M17.41 7.96l-1.37-1.37c-.4-.4-.92-.59-1.43-.59-.52 0-1.04.2-1.43.59L10.3 9.45l-7.72 7.72c-.78.78-.78 2.05 0 2.83L4 21.41c.39.39.9.59 1.41.59.51 0 1.02-.2 1.41-.59l7.78-7.78 2.81-2.81c.8-.78.8-2.07 0-2.86zM5.41 20L4 18.59l7.72-7.72 1.47 1.35L5.41 20z\"/>\n",
              "  </svg>\n",
              "      </button>\n",
              "\n",
              "\n",
              "\n",
              "    <div id=\"df-ad57abae-dd23-4916-b7b0-ef61fd68b6ad\">\n",
              "      <button class=\"colab-df-quickchart\" onclick=\"quickchart('df-ad57abae-dd23-4916-b7b0-ef61fd68b6ad')\"\n",
              "              title=\"Suggest charts.\"\n",
              "              style=\"display:none;\">\n",
              "\n",
              "<svg xmlns=\"http://www.w3.org/2000/svg\" height=\"24px\"viewBox=\"0 0 24 24\"\n",
              "     width=\"24px\">\n",
              "    <g>\n",
              "        <path d=\"M19 3H5c-1.1 0-2 .9-2 2v14c0 1.1.9 2 2 2h14c1.1 0 2-.9 2-2V5c0-1.1-.9-2-2-2zM9 17H7v-7h2v7zm4 0h-2V7h2v10zm4 0h-2v-4h2v4z\"/>\n",
              "    </g>\n",
              "</svg>\n",
              "      </button>\n",
              "    </div>\n",
              "\n",
              "<style>\n",
              "  .colab-df-quickchart {\n",
              "    background-color: #E8F0FE;\n",
              "    border: none;\n",
              "    border-radius: 50%;\n",
              "    cursor: pointer;\n",
              "    display: none;\n",
              "    fill: #1967D2;\n",
              "    height: 32px;\n",
              "    padding: 0 0 0 0;\n",
              "    width: 32px;\n",
              "  }\n",
              "\n",
              "  .colab-df-quickchart:hover {\n",
              "    background-color: #E2EBFA;\n",
              "    box-shadow: 0px 1px 2px rgba(60, 64, 67, 0.3), 0px 1px 3px 1px rgba(60, 64, 67, 0.15);\n",
              "    fill: #174EA6;\n",
              "  }\n",
              "\n",
              "  [theme=dark] .colab-df-quickchart {\n",
              "    background-color: #3B4455;\n",
              "    fill: #D2E3FC;\n",
              "  }\n",
              "\n",
              "  [theme=dark] .colab-df-quickchart:hover {\n",
              "    background-color: #434B5C;\n",
              "    box-shadow: 0px 1px 3px 1px rgba(0, 0, 0, 0.15);\n",
              "    filter: drop-shadow(0px 1px 2px rgba(0, 0, 0, 0.3));\n",
              "    fill: #FFFFFF;\n",
              "  }\n",
              "</style>\n",
              "\n",
              "    <script>\n",
              "      async function quickchart(key) {\n",
              "        const containerElement = document.querySelector('#' + key);\n",
              "        const charts = await google.colab.kernel.invokeFunction(\n",
              "            'suggestCharts', [key], {});\n",
              "      }\n",
              "    </script>\n",
              "\n",
              "      <script>\n",
              "\n",
              "function displayQuickchartButton(domScope) {\n",
              "  let quickchartButtonEl =\n",
              "    domScope.querySelector('#df-ad57abae-dd23-4916-b7b0-ef61fd68b6ad button.colab-df-quickchart');\n",
              "  quickchartButtonEl.style.display =\n",
              "    google.colab.kernel.accessAllowed ? 'block' : 'none';\n",
              "}\n",
              "\n",
              "        displayQuickchartButton(document);\n",
              "      </script>\n",
              "      <style>\n",
              "    .colab-df-container {\n",
              "      display:flex;\n",
              "      flex-wrap:wrap;\n",
              "      gap: 12px;\n",
              "    }\n",
              "\n",
              "    .colab-df-convert {\n",
              "      background-color: #E8F0FE;\n",
              "      border: none;\n",
              "      border-radius: 50%;\n",
              "      cursor: pointer;\n",
              "      display: none;\n",
              "      fill: #1967D2;\n",
              "      height: 32px;\n",
              "      padding: 0 0 0 0;\n",
              "      width: 32px;\n",
              "    }\n",
              "\n",
              "    .colab-df-convert:hover {\n",
              "      background-color: #E2EBFA;\n",
              "      box-shadow: 0px 1px 2px rgba(60, 64, 67, 0.3), 0px 1px 3px 1px rgba(60, 64, 67, 0.15);\n",
              "      fill: #174EA6;\n",
              "    }\n",
              "\n",
              "    [theme=dark] .colab-df-convert {\n",
              "      background-color: #3B4455;\n",
              "      fill: #D2E3FC;\n",
              "    }\n",
              "\n",
              "    [theme=dark] .colab-df-convert:hover {\n",
              "      background-color: #434B5C;\n",
              "      box-shadow: 0px 1px 3px 1px rgba(0, 0, 0, 0.15);\n",
              "      filter: drop-shadow(0px 1px 2px rgba(0, 0, 0, 0.3));\n",
              "      fill: #FFFFFF;\n",
              "    }\n",
              "  </style>\n",
              "\n",
              "      <script>\n",
              "        const buttonEl =\n",
              "          document.querySelector('#df-5c9e9641-1712-4ec6-a0f9-68853bba4067 button.colab-df-convert');\n",
              "        buttonEl.style.display =\n",
              "          google.colab.kernel.accessAllowed ? 'block' : 'none';\n",
              "\n",
              "        async function convertToInteractive(key) {\n",
              "          const element = document.querySelector('#df-5c9e9641-1712-4ec6-a0f9-68853bba4067');\n",
              "          const dataTable =\n",
              "            await google.colab.kernel.invokeFunction('convertToInteractive',\n",
              "                                                     [key], {});\n",
              "          if (!dataTable) return;\n",
              "\n",
              "          const docLinkHtml = 'Like what you see? Visit the ' +\n",
              "            '<a target=\"_blank\" href=https://colab.research.google.com/notebooks/data_table.ipynb>data table notebook</a>'\n",
              "            + ' to learn more about interactive tables.';\n",
              "          element.innerHTML = '';\n",
              "          dataTable['output_type'] = 'display_data';\n",
              "          await google.colab.output.renderOutput(dataTable, element);\n",
              "          const docLink = document.createElement('div');\n",
              "          docLink.innerHTML = docLinkHtml;\n",
              "          element.appendChild(docLink);\n",
              "        }\n",
              "      </script>\n",
              "    </div>\n",
              "  </div>\n"
            ]
          },
          "metadata": {},
          "execution_count": 26
        }
      ]
    },
    {
      "cell_type": "code",
      "source": [
        "all = pd.DataFrame(data_all)\n",
        "all.to_csv(\"/content/drive/MyDrive/ict-2023/pred/merged.csv\", index=False)"
      ],
      "metadata": {
        "id": "CENYr5vhH64q"
      },
      "execution_count": null,
      "outputs": []
    }
  ]
}