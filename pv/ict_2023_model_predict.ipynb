{
  "nbformat": 4,
  "nbformat_minor": 0,
  "metadata": {
    "colab": {
      "provenance": [],
      "gpuType": "T4",
      "machine_shape": "hm",
      "authorship_tag": "ABX9TyMycSmc4jo81Kwmtxrpjzke",
      "include_colab_link": true
    },
    "kernelspec": {
      "name": "python3",
      "display_name": "Python 3"
    },
    "language_info": {
      "name": "python"
    },
    "accelerator": "GPU"
  },
  "cells": [
    {
      "cell_type": "markdown",
      "metadata": {
        "id": "view-in-github",
        "colab_type": "text"
      },
      "source": [
        "<a href=\"https://colab.research.google.com/github/willystumblr/ict-2023-ems/blob/pv/pv/%08ict_2023_model_predict.ipynb\" target=\"_parent\"><img src=\"https://colab.research.google.com/assets/colab-badge.svg\" alt=\"Open In Colab\"/></a>"
      ]
    },
    {
      "cell_type": "code",
      "execution_count": null,
      "metadata": {
        "colab": {
          "base_uri": "https://localhost:8080/"
        },
        "id": "xGb8S-vVpczw",
        "outputId": "07f5b885-cdb7-4d5f-c17d-b04dcc858521"
      },
      "outputs": [
        {
          "output_type": "stream",
          "name": "stdout",
          "text": [
            "Mounted at /content/drive\n"
          ]
        }
      ],
      "source": [
        "from google.colab import drive\n",
        "drive.mount('/content/drive')"
      ]
    },
    {
      "cell_type": "code",
      "source": [
        "import torch\n",
        "from torch import nn, optim\n",
        "import numpy as np\n",
        "import pandas as pd\n",
        "from torch.utils.data import Dataset, DataLoader\n",
        "from sklearn.preprocessing import MinMaxScaler\n",
        "from sklearn.compose import ColumnTransformer\n",
        "from sklearn.model_selection import train_test_split\n"
      ],
      "metadata": {
        "id": "opZz75PhtqxJ"
      },
      "execution_count": null,
      "outputs": []
    },
    {
      "cell_type": "code",
      "source": [
        "import glob\n",
        "import tqdm\n",
        "import os\n",
        "from collections import defaultdict\n",
        "import datetime\n",
        "import time"
      ],
      "metadata": {
        "id": "XKCpSoLPM3bS"
      },
      "execution_count": null,
      "outputs": []
    },
    {
      "cell_type": "code",
      "source": [
        "time.asctime()"
      ],
      "metadata": {
        "colab": {
          "base_uri": "https://localhost:8080/",
          "height": 36
        },
        "id": "PBdn8AUVMRWS",
        "outputId": "d1f5d452-27c4-40e9-e44a-41fb17253e61"
      },
      "execution_count": null,
      "outputs": [
        {
          "output_type": "execute_result",
          "data": {
            "text/plain": [
              "'Thu Aug 10 11:24:48 2023'"
            ],
            "application/vnd.google.colaboratory.intrinsic+json": {
              "type": "string"
            }
          },
          "metadata": {},
          "execution_count": 5
        }
      ]
    },
    {
      "cell_type": "code",
      "source": [
        "time.strftime('%Y-%m-%d %H:%M', time.localtime())"
      ],
      "metadata": {
        "colab": {
          "base_uri": "https://localhost:8080/",
          "height": 36
        },
        "id": "Z7Akk3YyMbpF",
        "outputId": "e3234b87-10b6-496d-b348-4edee0bba6ea"
      },
      "execution_count": null,
      "outputs": [
        {
          "output_type": "execute_result",
          "data": {
            "text/plain": [
              "'2023-08-10 11:30'"
            ],
            "application/vnd.google.colaboratory.intrinsic+json": {
              "type": "string"
            }
          },
          "metadata": {},
          "execution_count": 24
        }
      ]
    },
    {
      "cell_type": "code",
      "source": [
        "PATH = \"/content/drive/MyDrive/ict-2023/train\"\n",
        "buildings = defaultdict(pd.DataFrame)\n",
        "def parser(x):\n",
        "    return datetime.datetime.strptime(x, '%Y %m %d %H')\n",
        "\n",
        "for path in glob.glob(os.path.join(PATH, \"*-revised.csv\")):\n",
        "    building = path.split(\"/\")[-1][:-12]\n",
        "\n",
        "    data = pd.read_csv(path, index_col=0, parse_dates=[['YEAR', 'MONTH', 'DAY', 'HOUR']], date_parser=parser)\n",
        "    # dataset = read_csv('raw.csv',  parse_dates = [['year', 'month', 'day', 'hour']], index_col=0, date_parser=parse)\n",
        "    t = pd.DataFrame(data.index)\n",
        "    t_h = pd.DataFrame(data=list(t['YEAR_MONTH_DAY_HOUR'].dt.hour), index=data.index, columns=['Hour'])\n",
        "    t_m = pd.DataFrame(data=list(t['YEAR_MONTH_DAY_HOUR'].dt.month), index=data.index, columns=['Month'])\n",
        "    data = pd.concat([data, t_h, t_m], axis=1)\n",
        "    buildings[building] = data\n",
        "\n",
        "buildings[building].describe()"
      ],
      "metadata": {
        "colab": {
          "base_uri": "https://localhost:8080/",
          "height": 382
        },
        "id": "jlo3j6hcG6Bi",
        "outputId": "4beeac35-b4fc-426b-8de5-686004dcb61d"
      },
      "execution_count": null,
      "outputs": [
        {
          "output_type": "execute_result",
          "data": {
            "text/plain": [
              "        시간당발전량(kWh)      수평면(w/㎡)      경사면(w/㎡)       모듈온도(℃)        기온(°C)  \\\n",
              "count  16128.000000  16128.000000  16128.000000  16128.000000  16128.000000   \n",
              "mean      15.871435    159.693576    173.885975     16.330742     14.570281   \n",
              "std       24.879874    252.472659    275.358798     15.310565      9.981969   \n",
              "min        0.000000      0.000000      0.000000    -19.300000    -13.400000   \n",
              "25%        0.000000      0.000000      0.000000      3.700000      6.500000   \n",
              "50%        0.000000      0.000000      0.000000     15.900000     15.100000   \n",
              "75%       23.900000    245.250000    260.000000     25.700000     23.300000   \n",
              "max      110.800000   1300.000000   1263.000000     63.300000     34.500000   \n",
              "\n",
              "              습도(%)      증기압(hPa)     이슬점온도(°C)     현지기압(hPa)        일조(hr)  \\\n",
              "count  16128.000000  16128.000000  16128.000000  16128.000000  16128.000000   \n",
              "mean      70.592603     14.239435      8.439745   1008.447576      0.260969   \n",
              "std       22.868409     10.149309     11.744599      8.111703      0.402396   \n",
              "min        8.000000      0.600000    -28.800000    988.900000      0.000000   \n",
              "25%       54.000000      5.600000     -1.100000   1001.700000      0.000000   \n",
              "50%       72.000000     10.300000      7.400000   1009.200000      0.000000   \n",
              "75%       93.000000     23.100000     19.800000   1014.900000      0.600000   \n",
              "max       99.000000     41.900000     29.800000   1027.500000      1.000000   \n",
              "\n",
              "          일사(MJ/m2)     전운량(10분위)       시정(10m)          Hour        Month  \n",
              "count  16128.000000  16128.000000  16128.000000  16128.000000  16128.00000  \n",
              "mean       0.641556      5.469432   1615.363963     11.500000      6.27381  \n",
              "std        0.932334      3.847845    550.304083      6.922401      3.46885  \n",
              "min        0.000000      0.000000     10.000000      0.000000      1.00000  \n",
              "25%        0.000000      1.000000   1300.000000      5.750000      3.00000  \n",
              "50%        0.080000      7.000000   1956.000000     11.500000      6.00000  \n",
              "75%        1.080000      9.000000   2000.000000     17.250000      9.00000  \n",
              "max        3.880000     10.000000  12000.000000     23.000000     12.00000  "
            ],
            "text/html": [
              "\n",
              "\n",
              "  <div id=\"df-6c21bf6c-1147-4510-9497-0279f939c4b1\">\n",
              "    <div class=\"colab-df-container\">\n",
              "      <div>\n",
              "<style scoped>\n",
              "    .dataframe tbody tr th:only-of-type {\n",
              "        vertical-align: middle;\n",
              "    }\n",
              "\n",
              "    .dataframe tbody tr th {\n",
              "        vertical-align: top;\n",
              "    }\n",
              "\n",
              "    .dataframe thead th {\n",
              "        text-align: right;\n",
              "    }\n",
              "</style>\n",
              "<table border=\"1\" class=\"dataframe\">\n",
              "  <thead>\n",
              "    <tr style=\"text-align: right;\">\n",
              "      <th></th>\n",
              "      <th>시간당발전량(kWh)</th>\n",
              "      <th>수평면(w/㎡)</th>\n",
              "      <th>경사면(w/㎡)</th>\n",
              "      <th>모듈온도(℃)</th>\n",
              "      <th>기온(°C)</th>\n",
              "      <th>습도(%)</th>\n",
              "      <th>증기압(hPa)</th>\n",
              "      <th>이슬점온도(°C)</th>\n",
              "      <th>현지기압(hPa)</th>\n",
              "      <th>일조(hr)</th>\n",
              "      <th>일사(MJ/m2)</th>\n",
              "      <th>전운량(10분위)</th>\n",
              "      <th>시정(10m)</th>\n",
              "      <th>Hour</th>\n",
              "      <th>Month</th>\n",
              "    </tr>\n",
              "  </thead>\n",
              "  <tbody>\n",
              "    <tr>\n",
              "      <th>count</th>\n",
              "      <td>16128.000000</td>\n",
              "      <td>16128.000000</td>\n",
              "      <td>16128.000000</td>\n",
              "      <td>16128.000000</td>\n",
              "      <td>16128.000000</td>\n",
              "      <td>16128.000000</td>\n",
              "      <td>16128.000000</td>\n",
              "      <td>16128.000000</td>\n",
              "      <td>16128.000000</td>\n",
              "      <td>16128.000000</td>\n",
              "      <td>16128.000000</td>\n",
              "      <td>16128.000000</td>\n",
              "      <td>16128.000000</td>\n",
              "      <td>16128.000000</td>\n",
              "      <td>16128.00000</td>\n",
              "    </tr>\n",
              "    <tr>\n",
              "      <th>mean</th>\n",
              "      <td>15.871435</td>\n",
              "      <td>159.693576</td>\n",
              "      <td>173.885975</td>\n",
              "      <td>16.330742</td>\n",
              "      <td>14.570281</td>\n",
              "      <td>70.592603</td>\n",
              "      <td>14.239435</td>\n",
              "      <td>8.439745</td>\n",
              "      <td>1008.447576</td>\n",
              "      <td>0.260969</td>\n",
              "      <td>0.641556</td>\n",
              "      <td>5.469432</td>\n",
              "      <td>1615.363963</td>\n",
              "      <td>11.500000</td>\n",
              "      <td>6.27381</td>\n",
              "    </tr>\n",
              "    <tr>\n",
              "      <th>std</th>\n",
              "      <td>24.879874</td>\n",
              "      <td>252.472659</td>\n",
              "      <td>275.358798</td>\n",
              "      <td>15.310565</td>\n",
              "      <td>9.981969</td>\n",
              "      <td>22.868409</td>\n",
              "      <td>10.149309</td>\n",
              "      <td>11.744599</td>\n",
              "      <td>8.111703</td>\n",
              "      <td>0.402396</td>\n",
              "      <td>0.932334</td>\n",
              "      <td>3.847845</td>\n",
              "      <td>550.304083</td>\n",
              "      <td>6.922401</td>\n",
              "      <td>3.46885</td>\n",
              "    </tr>\n",
              "    <tr>\n",
              "      <th>min</th>\n",
              "      <td>0.000000</td>\n",
              "      <td>0.000000</td>\n",
              "      <td>0.000000</td>\n",
              "      <td>-19.300000</td>\n",
              "      <td>-13.400000</td>\n",
              "      <td>8.000000</td>\n",
              "      <td>0.600000</td>\n",
              "      <td>-28.800000</td>\n",
              "      <td>988.900000</td>\n",
              "      <td>0.000000</td>\n",
              "      <td>0.000000</td>\n",
              "      <td>0.000000</td>\n",
              "      <td>10.000000</td>\n",
              "      <td>0.000000</td>\n",
              "      <td>1.00000</td>\n",
              "    </tr>\n",
              "    <tr>\n",
              "      <th>25%</th>\n",
              "      <td>0.000000</td>\n",
              "      <td>0.000000</td>\n",
              "      <td>0.000000</td>\n",
              "      <td>3.700000</td>\n",
              "      <td>6.500000</td>\n",
              "      <td>54.000000</td>\n",
              "      <td>5.600000</td>\n",
              "      <td>-1.100000</td>\n",
              "      <td>1001.700000</td>\n",
              "      <td>0.000000</td>\n",
              "      <td>0.000000</td>\n",
              "      <td>1.000000</td>\n",
              "      <td>1300.000000</td>\n",
              "      <td>5.750000</td>\n",
              "      <td>3.00000</td>\n",
              "    </tr>\n",
              "    <tr>\n",
              "      <th>50%</th>\n",
              "      <td>0.000000</td>\n",
              "      <td>0.000000</td>\n",
              "      <td>0.000000</td>\n",
              "      <td>15.900000</td>\n",
              "      <td>15.100000</td>\n",
              "      <td>72.000000</td>\n",
              "      <td>10.300000</td>\n",
              "      <td>7.400000</td>\n",
              "      <td>1009.200000</td>\n",
              "      <td>0.000000</td>\n",
              "      <td>0.080000</td>\n",
              "      <td>7.000000</td>\n",
              "      <td>1956.000000</td>\n",
              "      <td>11.500000</td>\n",
              "      <td>6.00000</td>\n",
              "    </tr>\n",
              "    <tr>\n",
              "      <th>75%</th>\n",
              "      <td>23.900000</td>\n",
              "      <td>245.250000</td>\n",
              "      <td>260.000000</td>\n",
              "      <td>25.700000</td>\n",
              "      <td>23.300000</td>\n",
              "      <td>93.000000</td>\n",
              "      <td>23.100000</td>\n",
              "      <td>19.800000</td>\n",
              "      <td>1014.900000</td>\n",
              "      <td>0.600000</td>\n",
              "      <td>1.080000</td>\n",
              "      <td>9.000000</td>\n",
              "      <td>2000.000000</td>\n",
              "      <td>17.250000</td>\n",
              "      <td>9.00000</td>\n",
              "    </tr>\n",
              "    <tr>\n",
              "      <th>max</th>\n",
              "      <td>110.800000</td>\n",
              "      <td>1300.000000</td>\n",
              "      <td>1263.000000</td>\n",
              "      <td>63.300000</td>\n",
              "      <td>34.500000</td>\n",
              "      <td>99.000000</td>\n",
              "      <td>41.900000</td>\n",
              "      <td>29.800000</td>\n",
              "      <td>1027.500000</td>\n",
              "      <td>1.000000</td>\n",
              "      <td>3.880000</td>\n",
              "      <td>10.000000</td>\n",
              "      <td>12000.000000</td>\n",
              "      <td>23.000000</td>\n",
              "      <td>12.00000</td>\n",
              "    </tr>\n",
              "  </tbody>\n",
              "</table>\n",
              "</div>\n",
              "      <button class=\"colab-df-convert\" onclick=\"convertToInteractive('df-6c21bf6c-1147-4510-9497-0279f939c4b1')\"\n",
              "              title=\"Convert this dataframe to an interactive table.\"\n",
              "              style=\"display:none;\">\n",
              "\n",
              "  <svg xmlns=\"http://www.w3.org/2000/svg\" height=\"24px\"viewBox=\"0 0 24 24\"\n",
              "       width=\"24px\">\n",
              "    <path d=\"M0 0h24v24H0V0z\" fill=\"none\"/>\n",
              "    <path d=\"M18.56 5.44l.94 2.06.94-2.06 2.06-.94-2.06-.94-.94-2.06-.94 2.06-2.06.94zm-11 1L8.5 8.5l.94-2.06 2.06-.94-2.06-.94L8.5 2.5l-.94 2.06-2.06.94zm10 10l.94 2.06.94-2.06 2.06-.94-2.06-.94-.94-2.06-.94 2.06-2.06.94z\"/><path d=\"M17.41 7.96l-1.37-1.37c-.4-.4-.92-.59-1.43-.59-.52 0-1.04.2-1.43.59L10.3 9.45l-7.72 7.72c-.78.78-.78 2.05 0 2.83L4 21.41c.39.39.9.59 1.41.59.51 0 1.02-.2 1.41-.59l7.78-7.78 2.81-2.81c.8-.78.8-2.07 0-2.86zM5.41 20L4 18.59l7.72-7.72 1.47 1.35L5.41 20z\"/>\n",
              "  </svg>\n",
              "      </button>\n",
              "\n",
              "\n",
              "\n",
              "    <div id=\"df-f0b19aab-1c73-4ef7-8146-f2543386a154\">\n",
              "      <button class=\"colab-df-quickchart\" onclick=\"quickchart('df-f0b19aab-1c73-4ef7-8146-f2543386a154')\"\n",
              "              title=\"Suggest charts.\"\n",
              "              style=\"display:none;\">\n",
              "\n",
              "<svg xmlns=\"http://www.w3.org/2000/svg\" height=\"24px\"viewBox=\"0 0 24 24\"\n",
              "     width=\"24px\">\n",
              "    <g>\n",
              "        <path d=\"M19 3H5c-1.1 0-2 .9-2 2v14c0 1.1.9 2 2 2h14c1.1 0 2-.9 2-2V5c0-1.1-.9-2-2-2zM9 17H7v-7h2v7zm4 0h-2V7h2v10zm4 0h-2v-4h2v4z\"/>\n",
              "    </g>\n",
              "</svg>\n",
              "      </button>\n",
              "    </div>\n",
              "\n",
              "<style>\n",
              "  .colab-df-quickchart {\n",
              "    background-color: #E8F0FE;\n",
              "    border: none;\n",
              "    border-radius: 50%;\n",
              "    cursor: pointer;\n",
              "    display: none;\n",
              "    fill: #1967D2;\n",
              "    height: 32px;\n",
              "    padding: 0 0 0 0;\n",
              "    width: 32px;\n",
              "  }\n",
              "\n",
              "  .colab-df-quickchart:hover {\n",
              "    background-color: #E2EBFA;\n",
              "    box-shadow: 0px 1px 2px rgba(60, 64, 67, 0.3), 0px 1px 3px 1px rgba(60, 64, 67, 0.15);\n",
              "    fill: #174EA6;\n",
              "  }\n",
              "\n",
              "  [theme=dark] .colab-df-quickchart {\n",
              "    background-color: #3B4455;\n",
              "    fill: #D2E3FC;\n",
              "  }\n",
              "\n",
              "  [theme=dark] .colab-df-quickchart:hover {\n",
              "    background-color: #434B5C;\n",
              "    box-shadow: 0px 1px 3px 1px rgba(0, 0, 0, 0.15);\n",
              "    filter: drop-shadow(0px 1px 2px rgba(0, 0, 0, 0.3));\n",
              "    fill: #FFFFFF;\n",
              "  }\n",
              "</style>\n",
              "\n",
              "    <script>\n",
              "      async function quickchart(key) {\n",
              "        const containerElement = document.querySelector('#' + key);\n",
              "        const charts = await google.colab.kernel.invokeFunction(\n",
              "            'suggestCharts', [key], {});\n",
              "      }\n",
              "    </script>\n",
              "\n",
              "      <script>\n",
              "\n",
              "function displayQuickchartButton(domScope) {\n",
              "  let quickchartButtonEl =\n",
              "    domScope.querySelector('#df-f0b19aab-1c73-4ef7-8146-f2543386a154 button.colab-df-quickchart');\n",
              "  quickchartButtonEl.style.display =\n",
              "    google.colab.kernel.accessAllowed ? 'block' : 'none';\n",
              "}\n",
              "\n",
              "        displayQuickchartButton(document);\n",
              "      </script>\n",
              "      <style>\n",
              "    .colab-df-container {\n",
              "      display:flex;\n",
              "      flex-wrap:wrap;\n",
              "      gap: 12px;\n",
              "    }\n",
              "\n",
              "    .colab-df-convert {\n",
              "      background-color: #E8F0FE;\n",
              "      border: none;\n",
              "      border-radius: 50%;\n",
              "      cursor: pointer;\n",
              "      display: none;\n",
              "      fill: #1967D2;\n",
              "      height: 32px;\n",
              "      padding: 0 0 0 0;\n",
              "      width: 32px;\n",
              "    }\n",
              "\n",
              "    .colab-df-convert:hover {\n",
              "      background-color: #E2EBFA;\n",
              "      box-shadow: 0px 1px 2px rgba(60, 64, 67, 0.3), 0px 1px 3px 1px rgba(60, 64, 67, 0.15);\n",
              "      fill: #174EA6;\n",
              "    }\n",
              "\n",
              "    [theme=dark] .colab-df-convert {\n",
              "      background-color: #3B4455;\n",
              "      fill: #D2E3FC;\n",
              "    }\n",
              "\n",
              "    [theme=dark] .colab-df-convert:hover {\n",
              "      background-color: #434B5C;\n",
              "      box-shadow: 0px 1px 3px 1px rgba(0, 0, 0, 0.15);\n",
              "      filter: drop-shadow(0px 1px 2px rgba(0, 0, 0, 0.3));\n",
              "      fill: #FFFFFF;\n",
              "    }\n",
              "  </style>\n",
              "\n",
              "      <script>\n",
              "        const buttonEl =\n",
              "          document.querySelector('#df-6c21bf6c-1147-4510-9497-0279f939c4b1 button.colab-df-convert');\n",
              "        buttonEl.style.display =\n",
              "          google.colab.kernel.accessAllowed ? 'block' : 'none';\n",
              "\n",
              "        async function convertToInteractive(key) {\n",
              "          const element = document.querySelector('#df-6c21bf6c-1147-4510-9497-0279f939c4b1');\n",
              "          const dataTable =\n",
              "            await google.colab.kernel.invokeFunction('convertToInteractive',\n",
              "                                                     [key], {});\n",
              "          if (!dataTable) return;\n",
              "\n",
              "          const docLinkHtml = 'Like what you see? Visit the ' +\n",
              "            '<a target=\"_blank\" href=https://colab.research.google.com/notebooks/data_table.ipynb>data table notebook</a>'\n",
              "            + ' to learn more about interactive tables.';\n",
              "          element.innerHTML = '';\n",
              "          dataTable['output_type'] = 'display_data';\n",
              "          await google.colab.output.renderOutput(dataTable, element);\n",
              "          const docLink = document.createElement('div');\n",
              "          docLink.innerHTML = docLinkHtml;\n",
              "          element.appendChild(docLink);\n",
              "        }\n",
              "      </script>\n",
              "    </div>\n",
              "  </div>\n"
            ]
          },
          "metadata": {},
          "execution_count": 56
        }
      ]
    },
    {
      "cell_type": "code",
      "source": [
        "buildings.keys()"
      ],
      "metadata": {
        "colab": {
          "base_uri": "https://localhost:8080/"
        },
        "id": "lvIzwEvfQy9p",
        "outputId": "6086a377-fe58-468e-be56-c872008452eb"
      },
      "execution_count": null,
      "outputs": [
        {
          "output_type": "execute_result",
          "data": {
            "text/plain": [
              "dict_keys(['산업협력관', '다산빌딩', '대학C동', '중앙창고', '시설관리동', '동물실험동', '중앙도서관', '삼성환경동', '학생회관', 'LG도서관', '학사과정', '신재생에너지동', '축구장', '기숙사B동'])"
            ]
          },
          "metadata": {},
          "execution_count": 8
        }
      ]
    },
    {
      "cell_type": "code",
      "source": [
        "buildings['기숙사B동'] = buildings['기숙사B동'].iloc[24:]"
      ],
      "metadata": {
        "id": "YEqMC8YHQ3cW"
      },
      "execution_count": null,
      "outputs": []
    },
    {
      "cell_type": "code",
      "source": [
        "buildings['기숙사B동'].shape, buildings['산업협력관'].shape"
      ],
      "metadata": {
        "colab": {
          "base_uri": "https://localhost:8080/"
        },
        "id": "lBeBDJEuU0nW",
        "outputId": "58a25091-d5c9-4b00-e668-22b8bbe75d80"
      },
      "execution_count": null,
      "outputs": [
        {
          "output_type": "execute_result",
          "data": {
            "text/plain": [
              "((16104, 15), (16104, 15))"
            ]
          },
          "metadata": {},
          "execution_count": 6
        }
      ]
    },
    {
      "cell_type": "code",
      "source": [
        "type(buildings['기숙사B동'].iloc[-24-24*7:-24])"
      ],
      "metadata": {
        "colab": {
          "base_uri": "https://localhost:8080/"
        },
        "id": "KxZFAHOOIGVu",
        "outputId": "b204d30d-38b2-4b20-c3c1-047d16331fe0"
      },
      "execution_count": null,
      "outputs": [
        {
          "output_type": "execute_result",
          "data": {
            "text/plain": [
              "pandas.core.frame.DataFrame"
            ]
          },
          "metadata": {},
          "execution_count": 6
        }
      ]
    },
    {
      "cell_type": "markdown",
      "source": [
        "Store last sequence\n"
      ],
      "metadata": {
        "id": "wJHTOS2yHem6"
      }
    },
    {
      "cell_type": "code",
      "source": [
        "if not os.path.exists('/content/drive/MyDrive/ict-2023/eval_sequence'):\n",
        "    os.makedirs('/content/drive/MyDrive/ict-2023/eval_sequence')\n",
        "\n",
        "    for b in buildings.keys():\n",
        "        buildings[b].iloc[-24-24*7:].to_csv('./eval_sequence/'+b+'-eval.csv', index=False)\n"
      ],
      "metadata": {
        "id": "d1y-ZqA_Hh7e"
      },
      "execution_count": null,
      "outputs": []
    },
    {
      "cell_type": "markdown",
      "source": [
        "# Data preprocessing"
      ],
      "metadata": {
        "id": "Fwk0Hh1VAxST"
      }
    },
    {
      "cell_type": "markdown",
      "source": [
        "We first check the reformatted dataset combined with meteorological data."
      ],
      "metadata": {
        "id": "wS3tPKppO4ed"
      }
    },
    {
      "cell_type": "markdown",
      "source": [
        "We apply different encoding strategies to features according to their types; MinMaxScaler() for numerical; LabelEncoder() for categorical; and cyclic encoding for cyclic features."
      ],
      "metadata": {
        "id": "6PL_qpKYPKGR"
      }
    },
    {
      "cell_type": "code",
      "source": [
        "data.head()"
      ],
      "metadata": {
        "colab": {
          "base_uri": "https://localhost:8080/",
          "height": 371
        },
        "id": "UDn_kap9tv0Q",
        "outputId": "34f74bfc-71f4-4cd9-fb16-84f50ee7fb5d"
      },
      "execution_count": null,
      "outputs": [
        {
          "output_type": "execute_result",
          "data": {
            "text/plain": [
              "                     시간당발전량(kWh)  수평면(w/㎡)  경사면(w/㎡)  모듈온도(℃)  기온(°C)  습도(%)  \\\n",
              "YEAR_MONTH_DAY_HOUR                                                            \n",
              "2020-10-24 00:00:00          0.0       0.0       0.0      9.2    11.0   54.0   \n",
              "2020-10-24 01:00:00          0.0       0.0       0.0      6.4    10.6   50.0   \n",
              "2020-10-24 02:00:00          0.0       0.0       0.0      6.3    10.0   53.0   \n",
              "2020-10-24 03:00:00          0.0       0.0       0.0      4.8     9.6   55.0   \n",
              "2020-10-24 04:00:00          0.0       0.0       0.0      4.4     9.7   54.0   \n",
              "\n",
              "                     증기압(hPa)  이슬점온도(°C)  현지기압(hPa)  일조(hr)  일사(MJ/m2)  \\\n",
              "YEAR_MONTH_DAY_HOUR                                                      \n",
              "2020-10-24 00:00:00       7.1        2.0     1009.1     0.0        0.0   \n",
              "2020-10-24 01:00:00       6.3        0.5     1009.1     0.0        0.0   \n",
              "2020-10-24 02:00:00       6.5        0.8     1009.5     0.0        0.0   \n",
              "2020-10-24 03:00:00       6.5        0.9     1009.4     0.0        0.0   \n",
              "2020-10-24 04:00:00       6.5        0.8     1009.5     0.0        0.0   \n",
              "\n",
              "                     전운량(10분위)  시정(10m)  Hour_sin  Hour_cos  Month_sin  \\\n",
              "YEAR_MONTH_DAY_HOUR                                                      \n",
              "2020-10-24 00:00:00        8.0   2000.0  0.000000  1.000000  -0.866025   \n",
              "2020-10-24 01:00:00        0.0   2000.0  0.269797  0.962917  -0.866025   \n",
              "2020-10-24 02:00:00        1.0   2000.0  0.519584  0.854419  -0.866025   \n",
              "2020-10-24 03:00:00        5.0   2000.0  0.730836  0.682553  -0.866025   \n",
              "2020-10-24 04:00:00        6.0   2000.0  0.887885  0.460065  -0.866025   \n",
              "\n",
              "                     Month_cos  \n",
              "YEAR_MONTH_DAY_HOUR             \n",
              "2020-10-24 00:00:00        0.5  \n",
              "2020-10-24 01:00:00        0.5  \n",
              "2020-10-24 02:00:00        0.5  \n",
              "2020-10-24 03:00:00        0.5  \n",
              "2020-10-24 04:00:00        0.5  "
            ],
            "text/html": [
              "\n",
              "\n",
              "  <div id=\"df-1fad878e-c9e0-434e-9a23-d8f76144d889\">\n",
              "    <div class=\"colab-df-container\">\n",
              "      <div>\n",
              "<style scoped>\n",
              "    .dataframe tbody tr th:only-of-type {\n",
              "        vertical-align: middle;\n",
              "    }\n",
              "\n",
              "    .dataframe tbody tr th {\n",
              "        vertical-align: top;\n",
              "    }\n",
              "\n",
              "    .dataframe thead th {\n",
              "        text-align: right;\n",
              "    }\n",
              "</style>\n",
              "<table border=\"1\" class=\"dataframe\">\n",
              "  <thead>\n",
              "    <tr style=\"text-align: right;\">\n",
              "      <th></th>\n",
              "      <th>시간당발전량(kWh)</th>\n",
              "      <th>수평면(w/㎡)</th>\n",
              "      <th>경사면(w/㎡)</th>\n",
              "      <th>모듈온도(℃)</th>\n",
              "      <th>기온(°C)</th>\n",
              "      <th>습도(%)</th>\n",
              "      <th>증기압(hPa)</th>\n",
              "      <th>이슬점온도(°C)</th>\n",
              "      <th>현지기압(hPa)</th>\n",
              "      <th>일조(hr)</th>\n",
              "      <th>일사(MJ/m2)</th>\n",
              "      <th>전운량(10분위)</th>\n",
              "      <th>시정(10m)</th>\n",
              "      <th>Hour_sin</th>\n",
              "      <th>Hour_cos</th>\n",
              "      <th>Month_sin</th>\n",
              "      <th>Month_cos</th>\n",
              "    </tr>\n",
              "    <tr>\n",
              "      <th>YEAR_MONTH_DAY_HOUR</th>\n",
              "      <th></th>\n",
              "      <th></th>\n",
              "      <th></th>\n",
              "      <th></th>\n",
              "      <th></th>\n",
              "      <th></th>\n",
              "      <th></th>\n",
              "      <th></th>\n",
              "      <th></th>\n",
              "      <th></th>\n",
              "      <th></th>\n",
              "      <th></th>\n",
              "      <th></th>\n",
              "      <th></th>\n",
              "      <th></th>\n",
              "      <th></th>\n",
              "      <th></th>\n",
              "    </tr>\n",
              "  </thead>\n",
              "  <tbody>\n",
              "    <tr>\n",
              "      <th>2020-10-24 00:00:00</th>\n",
              "      <td>0.0</td>\n",
              "      <td>0.0</td>\n",
              "      <td>0.0</td>\n",
              "      <td>9.2</td>\n",
              "      <td>11.0</td>\n",
              "      <td>54.0</td>\n",
              "      <td>7.1</td>\n",
              "      <td>2.0</td>\n",
              "      <td>1009.1</td>\n",
              "      <td>0.0</td>\n",
              "      <td>0.0</td>\n",
              "      <td>8.0</td>\n",
              "      <td>2000.0</td>\n",
              "      <td>0.000000</td>\n",
              "      <td>1.000000</td>\n",
              "      <td>-0.866025</td>\n",
              "      <td>0.5</td>\n",
              "    </tr>\n",
              "    <tr>\n",
              "      <th>2020-10-24 01:00:00</th>\n",
              "      <td>0.0</td>\n",
              "      <td>0.0</td>\n",
              "      <td>0.0</td>\n",
              "      <td>6.4</td>\n",
              "      <td>10.6</td>\n",
              "      <td>50.0</td>\n",
              "      <td>6.3</td>\n",
              "      <td>0.5</td>\n",
              "      <td>1009.1</td>\n",
              "      <td>0.0</td>\n",
              "      <td>0.0</td>\n",
              "      <td>0.0</td>\n",
              "      <td>2000.0</td>\n",
              "      <td>0.269797</td>\n",
              "      <td>0.962917</td>\n",
              "      <td>-0.866025</td>\n",
              "      <td>0.5</td>\n",
              "    </tr>\n",
              "    <tr>\n",
              "      <th>2020-10-24 02:00:00</th>\n",
              "      <td>0.0</td>\n",
              "      <td>0.0</td>\n",
              "      <td>0.0</td>\n",
              "      <td>6.3</td>\n",
              "      <td>10.0</td>\n",
              "      <td>53.0</td>\n",
              "      <td>6.5</td>\n",
              "      <td>0.8</td>\n",
              "      <td>1009.5</td>\n",
              "      <td>0.0</td>\n",
              "      <td>0.0</td>\n",
              "      <td>1.0</td>\n",
              "      <td>2000.0</td>\n",
              "      <td>0.519584</td>\n",
              "      <td>0.854419</td>\n",
              "      <td>-0.866025</td>\n",
              "      <td>0.5</td>\n",
              "    </tr>\n",
              "    <tr>\n",
              "      <th>2020-10-24 03:00:00</th>\n",
              "      <td>0.0</td>\n",
              "      <td>0.0</td>\n",
              "      <td>0.0</td>\n",
              "      <td>4.8</td>\n",
              "      <td>9.6</td>\n",
              "      <td>55.0</td>\n",
              "      <td>6.5</td>\n",
              "      <td>0.9</td>\n",
              "      <td>1009.4</td>\n",
              "      <td>0.0</td>\n",
              "      <td>0.0</td>\n",
              "      <td>5.0</td>\n",
              "      <td>2000.0</td>\n",
              "      <td>0.730836</td>\n",
              "      <td>0.682553</td>\n",
              "      <td>-0.866025</td>\n",
              "      <td>0.5</td>\n",
              "    </tr>\n",
              "    <tr>\n",
              "      <th>2020-10-24 04:00:00</th>\n",
              "      <td>0.0</td>\n",
              "      <td>0.0</td>\n",
              "      <td>0.0</td>\n",
              "      <td>4.4</td>\n",
              "      <td>9.7</td>\n",
              "      <td>54.0</td>\n",
              "      <td>6.5</td>\n",
              "      <td>0.8</td>\n",
              "      <td>1009.5</td>\n",
              "      <td>0.0</td>\n",
              "      <td>0.0</td>\n",
              "      <td>6.0</td>\n",
              "      <td>2000.0</td>\n",
              "      <td>0.887885</td>\n",
              "      <td>0.460065</td>\n",
              "      <td>-0.866025</td>\n",
              "      <td>0.5</td>\n",
              "    </tr>\n",
              "  </tbody>\n",
              "</table>\n",
              "</div>\n",
              "      <button class=\"colab-df-convert\" onclick=\"convertToInteractive('df-1fad878e-c9e0-434e-9a23-d8f76144d889')\"\n",
              "              title=\"Convert this dataframe to an interactive table.\"\n",
              "              style=\"display:none;\">\n",
              "\n",
              "  <svg xmlns=\"http://www.w3.org/2000/svg\" height=\"24px\"viewBox=\"0 0 24 24\"\n",
              "       width=\"24px\">\n",
              "    <path d=\"M0 0h24v24H0V0z\" fill=\"none\"/>\n",
              "    <path d=\"M18.56 5.44l.94 2.06.94-2.06 2.06-.94-2.06-.94-.94-2.06-.94 2.06-2.06.94zm-11 1L8.5 8.5l.94-2.06 2.06-.94-2.06-.94L8.5 2.5l-.94 2.06-2.06.94zm10 10l.94 2.06.94-2.06 2.06-.94-2.06-.94-.94-2.06-.94 2.06-2.06.94z\"/><path d=\"M17.41 7.96l-1.37-1.37c-.4-.4-.92-.59-1.43-.59-.52 0-1.04.2-1.43.59L10.3 9.45l-7.72 7.72c-.78.78-.78 2.05 0 2.83L4 21.41c.39.39.9.59 1.41.59.51 0 1.02-.2 1.41-.59l7.78-7.78 2.81-2.81c.8-.78.8-2.07 0-2.86zM5.41 20L4 18.59l7.72-7.72 1.47 1.35L5.41 20z\"/>\n",
              "  </svg>\n",
              "      </button>\n",
              "\n",
              "\n",
              "\n",
              "    <div id=\"df-ac5097ff-ad07-42ed-99ac-de7a269560ad\">\n",
              "      <button class=\"colab-df-quickchart\" onclick=\"quickchart('df-ac5097ff-ad07-42ed-99ac-de7a269560ad')\"\n",
              "              title=\"Suggest charts.\"\n",
              "              style=\"display:none;\">\n",
              "\n",
              "<svg xmlns=\"http://www.w3.org/2000/svg\" height=\"24px\"viewBox=\"0 0 24 24\"\n",
              "     width=\"24px\">\n",
              "    <g>\n",
              "        <path d=\"M19 3H5c-1.1 0-2 .9-2 2v14c0 1.1.9 2 2 2h14c1.1 0 2-.9 2-2V5c0-1.1-.9-2-2-2zM9 17H7v-7h2v7zm4 0h-2V7h2v10zm4 0h-2v-4h2v4z\"/>\n",
              "    </g>\n",
              "</svg>\n",
              "      </button>\n",
              "    </div>\n",
              "\n",
              "<style>\n",
              "  .colab-df-quickchart {\n",
              "    background-color: #E8F0FE;\n",
              "    border: none;\n",
              "    border-radius: 50%;\n",
              "    cursor: pointer;\n",
              "    display: none;\n",
              "    fill: #1967D2;\n",
              "    height: 32px;\n",
              "    padding: 0 0 0 0;\n",
              "    width: 32px;\n",
              "  }\n",
              "\n",
              "  .colab-df-quickchart:hover {\n",
              "    background-color: #E2EBFA;\n",
              "    box-shadow: 0px 1px 2px rgba(60, 64, 67, 0.3), 0px 1px 3px 1px rgba(60, 64, 67, 0.15);\n",
              "    fill: #174EA6;\n",
              "  }\n",
              "\n",
              "  [theme=dark] .colab-df-quickchart {\n",
              "    background-color: #3B4455;\n",
              "    fill: #D2E3FC;\n",
              "  }\n",
              "\n",
              "  [theme=dark] .colab-df-quickchart:hover {\n",
              "    background-color: #434B5C;\n",
              "    box-shadow: 0px 1px 3px 1px rgba(0, 0, 0, 0.15);\n",
              "    filter: drop-shadow(0px 1px 2px rgba(0, 0, 0, 0.3));\n",
              "    fill: #FFFFFF;\n",
              "  }\n",
              "</style>\n",
              "\n",
              "    <script>\n",
              "      async function quickchart(key) {\n",
              "        const containerElement = document.querySelector('#' + key);\n",
              "        const charts = await google.colab.kernel.invokeFunction(\n",
              "            'suggestCharts', [key], {});\n",
              "      }\n",
              "    </script>\n",
              "\n",
              "      <script>\n",
              "\n",
              "function displayQuickchartButton(domScope) {\n",
              "  let quickchartButtonEl =\n",
              "    domScope.querySelector('#df-ac5097ff-ad07-42ed-99ac-de7a269560ad button.colab-df-quickchart');\n",
              "  quickchartButtonEl.style.display =\n",
              "    google.colab.kernel.accessAllowed ? 'block' : 'none';\n",
              "}\n",
              "\n",
              "        displayQuickchartButton(document);\n",
              "      </script>\n",
              "      <style>\n",
              "    .colab-df-container {\n",
              "      display:flex;\n",
              "      flex-wrap:wrap;\n",
              "      gap: 12px;\n",
              "    }\n",
              "\n",
              "    .colab-df-convert {\n",
              "      background-color: #E8F0FE;\n",
              "      border: none;\n",
              "      border-radius: 50%;\n",
              "      cursor: pointer;\n",
              "      display: none;\n",
              "      fill: #1967D2;\n",
              "      height: 32px;\n",
              "      padding: 0 0 0 0;\n",
              "      width: 32px;\n",
              "    }\n",
              "\n",
              "    .colab-df-convert:hover {\n",
              "      background-color: #E2EBFA;\n",
              "      box-shadow: 0px 1px 2px rgba(60, 64, 67, 0.3), 0px 1px 3px 1px rgba(60, 64, 67, 0.15);\n",
              "      fill: #174EA6;\n",
              "    }\n",
              "\n",
              "    [theme=dark] .colab-df-convert {\n",
              "      background-color: #3B4455;\n",
              "      fill: #D2E3FC;\n",
              "    }\n",
              "\n",
              "    [theme=dark] .colab-df-convert:hover {\n",
              "      background-color: #434B5C;\n",
              "      box-shadow: 0px 1px 3px 1px rgba(0, 0, 0, 0.15);\n",
              "      filter: drop-shadow(0px 1px 2px rgba(0, 0, 0, 0.3));\n",
              "      fill: #FFFFFF;\n",
              "    }\n",
              "  </style>\n",
              "\n",
              "      <script>\n",
              "        const buttonEl =\n",
              "          document.querySelector('#df-1fad878e-c9e0-434e-9a23-d8f76144d889 button.colab-df-convert');\n",
              "        buttonEl.style.display =\n",
              "          google.colab.kernel.accessAllowed ? 'block' : 'none';\n",
              "\n",
              "        async function convertToInteractive(key) {\n",
              "          const element = document.querySelector('#df-1fad878e-c9e0-434e-9a23-d8f76144d889');\n",
              "          const dataTable =\n",
              "            await google.colab.kernel.invokeFunction('convertToInteractive',\n",
              "                                                     [key], {});\n",
              "          if (!dataTable) return;\n",
              "\n",
              "          const docLinkHtml = 'Like what you see? Visit the ' +\n",
              "            '<a target=\"_blank\" href=https://colab.research.google.com/notebooks/data_table.ipynb>data table notebook</a>'\n",
              "            + ' to learn more about interactive tables.';\n",
              "          element.innerHTML = '';\n",
              "          dataTable['output_type'] = 'display_data';\n",
              "          await google.colab.output.renderOutput(dataTable, element);\n",
              "          const docLink = document.createElement('div');\n",
              "          docLink.innerHTML = docLinkHtml;\n",
              "          element.appendChild(docLink);\n",
              "        }\n",
              "      </script>\n",
              "    </div>\n",
              "  </div>\n"
            ]
          },
          "metadata": {},
          "execution_count": 21
        }
      ]
    },
    {
      "cell_type": "markdown",
      "source": [
        "Shape checking"
      ],
      "metadata": {
        "id": "ZhMi1B6gRfYA"
      }
    },
    {
      "cell_type": "markdown",
      "source": [
        "# Build Model"
      ],
      "metadata": {
        "id": "6StxCiQ-KJdX"
      }
    },
    {
      "cell_type": "markdown",
      "source": [
        "We first define custom PyTorch dataset and build model for this task."
      ],
      "metadata": {
        "id": "NMxKEYX1RkwF"
      }
    },
    {
      "cell_type": "markdown",
      "source": [
        "Since we are using LSTM for the prediction, we create sequences for training. We use the past 7 days' data to predict the next 24-hour solar power generation."
      ],
      "metadata": {
        "id": "UbVQ4qgiQds4"
      }
    },
    {
      "cell_type": "code",
      "source": [
        "class SolarDataset(Dataset):\n",
        "    def __init__(self, dataframe, seq_len=7*24):\n",
        "        self.seq_len = seq_len\n",
        "        self.scaler = MinMaxScaler()\n",
        "        self.y_scaler = MinMaxScaler()\n",
        "        self.sequences, self.labels = self._preprocess(dataframe)\n",
        "\n",
        "\n",
        "\n",
        "\n",
        "    def _preprocess(self, dataframe):\n",
        "\n",
        "        # Separate numerical and categorical features\n",
        "        numerical_features = ['시간당발전량(kWh)', '수평면(w/㎡)', '경사면(w/㎡)', '모듈온도(℃)', '기온(°C)', '습도(%)',\n",
        "                           '증기압(hPa)', '이슬점온도(°C)', '현지기압(hPa)', '일조(hr)',\n",
        "                           '일사(MJ/m2)', '시정(10m)']\n",
        "        categorical_features = ['전운량(10분위)']\n",
        "        cyclic_features = ['Hour', 'Month']\n",
        "        cyclic_preprocessed = ['Hour_sin', 'Hour_cos','Month_sin', 'Month_cos']\n",
        "\n",
        "        # Create a Column Transformer to handle numerical and categorical columns\n",
        "        preprocessor = ColumnTransformer(\n",
        "        transformers=[\n",
        "            ('num', self.scaler, numerical_features),\n",
        "            ('cat', 'passthrough', categorical_features),\n",
        "            ('cyc', 'passthrough', cyclic_preprocessed)\n",
        "        ])\n",
        "\n",
        "\n",
        "        # Perform cyclical encoding for cyclic features\n",
        "        def cyclical_encode(df, feature, max_val):\n",
        "            df[feature + '_sin'] = np.sin(2 * np.pi * df[feature] / max_val)\n",
        "            df[feature + '_cos'] = np.cos(2 * np.pi * df[feature] / max_val)\n",
        "            df = df.drop(feature, axis=1)\n",
        "            return df\n",
        "\n",
        "        # Apply cyclical encoding for each cyclic feature\n",
        "        for feature in cyclic_features:\n",
        "            max_val = dataframe[feature].max()\n",
        "            dataframe = cyclical_encode(dataframe, feature, max_val)\n",
        "\n",
        "        X_preprocessed = preprocessor.fit_transform(dataframe)\n",
        "        y_preprocessed = self.y_scaler.fit_transform(dataframe['시간당발전량(kWh)'].to_numpy().reshape(-1,1))\n",
        "\n",
        "        # Convert the preprocessed data into a PyTorch tensor\n",
        "        X_tensor = torch.tensor(X_preprocessed, dtype=torch.float32)\n",
        "        y_tensor = torch.tensor(y_preprocessed, dtype=torch.float32)\n",
        "\n",
        "        # Create sequences and labels\n",
        "\n",
        "        sequences = []\n",
        "        labels = []\n",
        "\n",
        "        if (len(X_tensor) - self.seq_len - 24)==0:\n",
        "            sequences.append(X_tensor[:self.seq_len])\n",
        "            labels.append(y_tensor[self.seq_len:self.seq_len+24])\n",
        "        else:\n",
        "            for i in range(len(X_tensor) - self.seq_len - 24):  # Subtract 24 to account for predicting the next 24 hours\n",
        "                seq = X_tensor[i:i+self.seq_len]\n",
        "                label = y_tensor[i+self.seq_len:i+self.seq_len+24]  # Next 24 hours\n",
        "                sequences.append(seq)\n",
        "                labels.append(label)\n",
        "\n",
        "        return torch.stack(sequences), torch.stack(labels)\n",
        "\n",
        "\n",
        "    def __len__(self):\n",
        "        return len(self.sequences)\n",
        "\n",
        "    def __getitem__(self, idx):\n",
        "        return self.sequences[idx], self.labels[idx].squeeze()"
      ],
      "metadata": {
        "id": "1POqNyFAuOPH"
      },
      "execution_count": null,
      "outputs": []
    },
    {
      "cell_type": "code",
      "source": [
        "# Define the LSTM model\n",
        "class LSTMModel(nn.Module):\n",
        "    def __init__(self, input_size, hidden_size, num_layers, output_size):\n",
        "        super(LSTMModel, self).__init__()\n",
        "        self.hidden_size = hidden_size\n",
        "        self.num_layers = num_layers\n",
        "        self.lstm = nn.LSTM(input_size, hidden_size, num_layers, batch_first=True)\n",
        "        self.fc = nn.Linear(hidden_size, output_size)\n",
        "\n",
        "    def forward(self, x):\n",
        "        h0 = torch.zeros(self.num_layers, x.size(0), self.hidden_size).to(x.device)\n",
        "        c0 = torch.zeros(self.num_layers, x.size(0), self.hidden_size).to(x.device)\n",
        "        out, _ = self.lstm(x, (h0, c0))\n",
        "        out = self.fc(out[:, -1, :])\n",
        "        return out"
      ],
      "metadata": {
        "id": "wPrXcg358C7E"
      },
      "execution_count": null,
      "outputs": []
    },
    {
      "cell_type": "markdown",
      "source": [
        "## Arbitrary Hyperparameters (without tuning)"
      ],
      "metadata": {
        "id": "aWjlfVA_KmDy"
      }
    },
    {
      "cell_type": "markdown",
      "source": [
        "Set hyperparameters for the model."
      ],
      "metadata": {
        "id": "oIU8j6cwRusq"
      }
    },
    {
      "cell_type": "code",
      "source": [
        "PATH = \"/content/drive/MyDrive/ict-2023/output-tuned\""
      ],
      "metadata": {
        "id": "O1Mb2lOqfmzg"
      },
      "execution_count": null,
      "outputs": []
    },
    {
      "cell_type": "code",
      "source": [
        "# Set the device for training (GPU if available, otherwise CPU)\n",
        "device = torch.device(\"cuda\" if torch.cuda.is_available() else \"cpu\")\n"
      ],
      "metadata": {
        "id": "JnplblAi8Gr1"
      },
      "execution_count": null,
      "outputs": []
    },
    {
      "cell_type": "code",
      "source": [
        "input_size = 17\n",
        "output_size = 24\n",
        "\n",
        "configs = [ # combination of 3 hidden size, 4 num layers, and 2 epochs\n",
        "    {\n",
        "    # Define the hyperparameters\n",
        "        \"batch_size\": 256,\n",
        "        \"num_epochs\": 100,\n",
        "        \"hidden_size\": 64,\n",
        "        \"num_layers\": 10,\n",
        "    },\n",
        "    {\n",
        "    # Define the hyperparameters\n",
        "        \"batch_size\": 256,\n",
        "        \"num_epochs\": 100,\n",
        "        \"hidden_size\": 64,\n",
        "        \"num_layers\": 9,\n",
        "    },\n",
        "    {\n",
        "    # Define the hyperparameters\n",
        "        \"batch_size\": 256,\n",
        "        \"num_epochs\": 100,\n",
        "        \"hidden_size\": 64,\n",
        "        \"num_layers\": 8,\n",
        "    },\n",
        "    {\n",
        "    # Define the hyperparameters\n",
        "        \"batch_size\": 256,\n",
        "        \"num_epochs\": 100,\n",
        "        \"hidden_size\": 64,\n",
        "        \"num_layers\": 7,\n",
        "    },\n",
        "    {\n",
        "    # Define the hyperparameters\n",
        "        \"batch_size\": 256,\n",
        "        \"num_epochs\": 100,\n",
        "        \"hidden_size\": 32,\n",
        "        \"num_layers\": 10,\n",
        "    },\n",
        "    {\n",
        "    # Define the hyperparameters\n",
        "        \"batch_size\": 256,\n",
        "        \"num_epochs\": 100,\n",
        "        \"hidden_size\": 32,\n",
        "        \"num_layers\": 9,\n",
        "    },\n",
        "    {\n",
        "    # Define the hyperparameters\n",
        "        \"batch_size\": 256,\n",
        "        \"num_epochs\": 100,\n",
        "        \"hidden_size\": 32,\n",
        "        \"num_layers\": 8,\n",
        "    },\n",
        "    {\n",
        "    # Define the hyperparameters\n",
        "        \"batch_size\": 256,\n",
        "        \"num_epochs\": 100,\n",
        "        \"hidden_size\": 32,\n",
        "        \"num_layers\": 7,\n",
        "    },\n",
        "    {\n",
        "    # Define the hyperparameters\n",
        "        \"batch_size\": 256,\n",
        "        \"num_epochs\": 100,\n",
        "        \"hidden_size\": 128,\n",
        "        \"num_layers\": 10,\n",
        "    },\n",
        "    {\n",
        "    # Define the hyperparameters\n",
        "        \"batch_size\": 256,\n",
        "        \"num_epochs\": 100,\n",
        "        \"hidden_size\": 128,\n",
        "        \"num_layers\": 9,\n",
        "    },\n",
        "    {\n",
        "    # Define the hyperparameters\n",
        "        \"batch_size\": 256,\n",
        "        \"num_epochs\": 100,\n",
        "        \"hidden_size\": 128,\n",
        "        \"num_layers\": 8,\n",
        "    },\n",
        "    {\n",
        "    # Define the hyperparameters\n",
        "        \"batch_size\": 256,\n",
        "        \"num_epochs\": 100,\n",
        "        \"hidden_size\": 128,\n",
        "        \"num_layers\": 7,\n",
        "    },\n",
        "\n",
        "    {\n",
        "    # Define the hyperparameters\n",
        "        \"batch_size\": 256,\n",
        "        \"num_epochs\": 200,\n",
        "        \"hidden_size\": 64,\n",
        "        \"num_layers\": 10,\n",
        "    },\n",
        "    {\n",
        "    # Define the hyperparameters\n",
        "        \"batch_size\": 256,\n",
        "        \"num_epochs\": 200,\n",
        "        \"hidden_size\": 64,\n",
        "        \"num_layers\": 9,\n",
        "    },\n",
        "    {\n",
        "    # Define the hyperparameters\n",
        "        \"batch_size\": 256,\n",
        "        \"num_epochs\": 200,\n",
        "        \"hidden_size\": 64,\n",
        "        \"num_layers\": 8,\n",
        "    },\n",
        "    {\n",
        "    # Define the hyperparameters\n",
        "        \"batch_size\": 256,\n",
        "        \"num_epochs\": 200,\n",
        "        \"hidden_size\": 64,\n",
        "        \"num_layers\": 7,\n",
        "    },\n",
        "    {\n",
        "    # Define the hyperparameters\n",
        "        \"batch_size\": 256,\n",
        "        \"num_epochs\": 200,\n",
        "        \"hidden_size\": 32,\n",
        "        \"num_layers\": 10,\n",
        "    },\n",
        "    {\n",
        "    # Define the hyperparameters\n",
        "        \"batch_size\": 256,\n",
        "        \"num_epochs\": 200200,\n",
        "        \"hidden_size\": 32,\n",
        "        \"num_layers\": 9,\n",
        "    },\n",
        "    {\n",
        "    # Define the hyperparameters\n",
        "        \"batch_size\": 256,\n",
        "        \"num_epochs\": 200,\n",
        "        \"hidden_size\": 32,\n",
        "        \"num_layers\": 8,\n",
        "    },\n",
        "    {\n",
        "    # Define the hyperparameters\n",
        "        \"batch_size\": 256,\n",
        "        \"num_epochs\": 200,\n",
        "        \"hidden_size\": 32,\n",
        "        \"num_layers\": 7,\n",
        "    },\n",
        "    {\n",
        "    # Define the hyperparameters\n",
        "        \"batch_size\": 256,\n",
        "        \"num_epochs\": 200,\n",
        "        \"hidden_size\": 128,\n",
        "        \"num_layers\": 10,\n",
        "    },\n",
        "    {\n",
        "    # Define the hyperparameters\n",
        "        \"batch_size\": 256,\n",
        "        \"num_epochs\": 200,\n",
        "        \"hidden_size\": 128,\n",
        "        \"num_layers\": 9,\n",
        "    },\n",
        "    {\n",
        "    # Define the hyperparameters\n",
        "        \"batch_size\": 256,\n",
        "        \"num_epochs\": 200,\n",
        "        \"hidden_size\": 128,\n",
        "        \"num_layers\": 8,\n",
        "    },\n",
        "    {\n",
        "    # Define the hyperparameters\n",
        "        \"batch_size\": 256,\n",
        "        \"num_epochs\": 200,\n",
        "        \"hidden_size\": 128,\n",
        "        \"num_layers\": 7,\n",
        "    },\n",
        "]"
      ],
      "metadata": {
        "id": "J54cQuMAguWR"
      },
      "execution_count": null,
      "outputs": []
    },
    {
      "cell_type": "markdown",
      "source": [
        "Set the criterion as MSELoss() to get RSME error."
      ],
      "metadata": {
        "id": "a9vCJMXSSKPl"
      }
    },
    {
      "cell_type": "code",
      "source": [
        "def load_data(dataframe, batch_size, num_workers=8):\n",
        "\n",
        "    dataset = SolarDataset(dataframe)\n",
        "\n",
        "    #8:1:1\n",
        "    train_set, val_set = train_test_split(dataset, test_size=0.2, random_state=42)\n",
        "    val_set, test_set = train_test_split(val_set, test_size=0.5, random_state=42)\n",
        "    train_loader = DataLoader(train_set, batch_size=batch_size, shuffle=True, num_workers=8)\n",
        "    val_loader = DataLoader(val_set, batch_size=batch_size, num_workers=8)\n",
        "    test_loader = DataLoader(test_set, batch_size=batch_size, num_workers=8)\n",
        "\n",
        "    return train_loader, val_loader, test_loader"
      ],
      "metadata": {
        "id": "wkFvVGxYYSA_"
      },
      "execution_count": null,
      "outputs": []
    },
    {
      "cell_type": "code",
      "source": [
        "test = dict()\n",
        "test = {\"test\":1, \"eval\":2, \"train\":3}\n",
        "test.get('val')"
      ],
      "metadata": {
        "id": "P1BZBVfbSI8Q"
      },
      "execution_count": null,
      "outputs": []
    },
    {
      "cell_type": "code",
      "source": [
        "import pickle\n",
        "RESULTS = \"/content/drive/MyDrive/ict-2023/results/\""
      ],
      "metadata": {
        "id": "GsyWYfSyV1tJ"
      },
      "execution_count": null,
      "outputs": []
    },
    {
      "cell_type": "code",
      "source": [
        "def train(building, config, train_dataloader, val_dataloader, pklpath):\n",
        "    checkpoint_path = os.path.join(PATH, building+'-checkpoint-{}.pt'.format(time.strftime('%Y-%m-%d %H:%M', time.localtime())))\n",
        "    model = LSTMModel(input_size, config['hidden_size'], config['num_layers'], output_size).to(device)\n",
        "\n",
        "    with open(pklpath, 'rb') as f:\n",
        "        result = pickle.load(f)\n",
        "    if result['Hyperparameters'] == config and os.path.exists(checkpoint_path):\n",
        "        print(f\"loading checkpoints from {checkpoint_path}\")\n",
        "        checkpoint = torch.load(checkpoint_path)\n",
        "        model.load_state_dict(checkpoint['model_state_dict'])\n",
        "        optimizer = optim.Adam(model.parameters(), lr=checkpoint['lr'] if checkpoint.get('lr') else 1e-4)\n",
        "\n",
        "    else:\n",
        "        optimizer = optim.Adam(model.parameters(), lr=1e-4)\n",
        "\n",
        "    scheduler = optim.lr_scheduler.StepLR(optimizer, step_size=10, gamma=0.1)\n",
        "    criterion = nn.MSELoss()\n",
        "\n",
        "    for epoch in range(0, config['num_epochs']):\n",
        "        model.train()\n",
        "        running_loss = 0.0\n",
        "        for inputs, labels in train_dataloader:\n",
        "            inputs = inputs.to(device)\n",
        "            labels = labels.to(device)\n",
        "\n",
        "            # Forward pass\n",
        "            outputs = model(inputs)\n",
        "\n",
        "            # Compute loss\n",
        "            loss = torch.sqrt(criterion(outputs, labels)) #RMSE Loss\n",
        "\n",
        "            # Backward pass and optimization\n",
        "            optimizer.zero_grad()\n",
        "            loss.backward()\n",
        "            optimizer.step()\n",
        "\n",
        "            running_loss += loss.item()\n",
        "\n",
        "        # Update the learning rate\n",
        "        scheduler.step()\n",
        "\n",
        "        # Print the average loss for the epoch\n",
        "        train_loss = running_loss / len(train_dataloader)\n",
        "\n",
        "\n",
        "        model.eval()\n",
        "        running_loss = 0.0\n",
        "\n",
        "        with torch.no_grad():\n",
        "            for inputs, labels in val_dataloader:\n",
        "                inputs = inputs.to(device)\n",
        "                labels = labels.to(device)\n",
        "\n",
        "                # Forward pass\n",
        "                outputs = model(inputs)\n",
        "\n",
        "                # Compute loss\n",
        "                loss = torch.sqrt(criterion(outputs, labels))\n",
        "\n",
        "                running_loss += loss.item()\n",
        "        val_loss = running_loss / len(val_dataloader)\n",
        "\n",
        "        if (epoch+1)%50==0:\n",
        "            print(f\"Epoch [{epoch+1}/{config['num_epochs']}] Train loss: {train_loss} Validation Loss: {val_loss}\")\n",
        "\n",
        "\n",
        "    # Save the model checkpoint\n",
        "    torch.save({\n",
        "        'epoch': epoch,\n",
        "        'model_state_dict': model.state_dict(),\n",
        "        'lr': optimizer.state_dict()['param_groups'][0]['lr'],\n",
        "    }, checkpoint_path)\n",
        "    print(f\"Saved model to {checkpoint_path}\")\n",
        "\n",
        "    return model, optimizer"
      ],
      "metadata": {
        "id": "WnWGcEQrXemI"
      },
      "execution_count": null,
      "outputs": []
    },
    {
      "cell_type": "markdown",
      "source": [
        "Now, we split the dataset into train and test set. We store each train-test sets pair to a seperate dictionary for convenience."
      ],
      "metadata": {
        "id": "PRD6tMmaBCP6"
      }
    },
    {
      "cell_type": "code",
      "source": [
        "def test(b, model, test_dataloader):\n",
        "    model.eval()\n",
        "    test_loss = 0.0\n",
        "    criterion = nn.MSELoss()\n",
        "\n",
        "    with torch.no_grad():\n",
        "        for inputs, labels in test_dataloader:\n",
        "            inputs = inputs.to(device)\n",
        "            labels = labels.to(device)\n",
        "\n",
        "            # Forward pass\n",
        "            outputs = model(inputs)\n",
        "\n",
        "            # Compute loss\n",
        "            loss = torch.sqrt(criterion(outputs, labels))\n",
        "\n",
        "            test_loss += loss.item()\n",
        "\n",
        "    # Print the test loss\n",
        "    test_loss /= len(test_dataloader)\n",
        "    print(f\"[{b}] Test Loss (RSME): {test_loss}\")\n",
        "\n",
        "    return test_loss"
      ],
      "metadata": {
        "id": "4esV-CHRkiPN"
      },
      "execution_count": null,
      "outputs": []
    },
    {
      "cell_type": "code",
      "source": [
        "import datetime\n",
        "str(datetime.date.today())"
      ],
      "metadata": {
        "colab": {
          "base_uri": "https://localhost:8080/",
          "height": 36
        },
        "id": "_ZYA1yJZ4ogR",
        "outputId": "e52dd534-33b0-4dc6-d8a7-1b3f64c76d2e"
      },
      "execution_count": null,
      "outputs": [
        {
          "output_type": "execute_result",
          "data": {
            "text/plain": [
              "'2023-08-08'"
            ],
            "application/vnd.google.colaboratory.intrinsic+json": {
              "type": "string"
            }
          },
          "metadata": {},
          "execution_count": 19
        }
      ]
    },
    {
      "cell_type": "code",
      "source": [
        "def pv_predict(datapath: str, model):\n",
        "    model.eval()\n",
        "\n",
        "    df = pd.read_csv(datapath)\n",
        "    dataset = SolarDataset(df)\n",
        "    eval_loader = DataLoader(dataset=dataset, batch_size=1, shuffle=False)\n",
        "\n",
        "\n",
        "    for seq, label in eval_loader:\n",
        "        pred = model(seq.to(device))\n",
        "        prediction_array = pred.detach().cpu().numpy()\n",
        "        target_array = label.detach().cpu().numpy()\n",
        "        prediction = dataset.y_scaler.inverse_transform(prediction_array)\n",
        "        target = dataset.y_scaler.inverse_transform(target_array)\n",
        "        rounded_data = np.maximum(prediction, 0.0).reshape(-1,1)\n",
        "\n",
        "    return rounded_data.flatten(), target.flatten()"
      ],
      "metadata": {
        "id": "-QIhcGdPRVH1"
      },
      "execution_count": null,
      "outputs": []
    },
    {
      "cell_type": "code",
      "source": [
        "buildings.keys()"
      ],
      "metadata": {
        "colab": {
          "base_uri": "https://localhost:8080/"
        },
        "id": "Jx-fsyHJZqeH",
        "outputId": "d4aa63e7-5fb1-4e34-c40a-ab8309f8422e"
      },
      "execution_count": null,
      "outputs": [
        {
          "output_type": "execute_result",
          "data": {
            "text/plain": [
              "dict_keys(['산업협력관', '다산빌딩', '대학C동', '중앙창고', '시설관리동', '동물실험동', '중앙도서관', '삼성환경동', '학생회관', 'LG도서관', '학사과정', '신재생에너지동', '축구장', '기숙사B동'])"
            ]
          },
          "metadata": {},
          "execution_count": 66
        }
      ]
    },
    {
      "cell_type": "code",
      "source": [
        "models = dict()\n",
        "losses = dict()\n",
        "optimizers = dict()\n",
        "test_sets = dict()\n",
        "predictions = dict()\n",
        "targets = dict()\n",
        "\n",
        "for config in configs:\n",
        "    print(f\"{config}\")\n",
        "    for b, eval in zip(sorted(buildings.keys()), sorted(glob.glob('/content/drive/MyDrive/ict-2023/eval_sequence/*.csv'))):\n",
        "        print(f\"+------- Training models for {b} -------+\")\n",
        "        train_dataloader, val_dataloader, test_loader = load_data(buildings[b], config['batch_size'])\n",
        "        picklepath = sorted(glob.glob(RESULTS+\"/\"+b+\"*.pkl\"))[-1]\n",
        "        model, optimizer = train(b, config, train_dataloader, val_dataloader, picklepath)\n",
        "\n",
        "        print(f\"+------- Testing models for {b}  -------+\")\n",
        "        loss = test(b, model, test_loader)\n",
        "        models[b] = model\n",
        "        losses[b] = loss\n",
        "        optimizers[b] = optimizer\n",
        "\n",
        "        print(f\"+--------- Prediction for {b}  ---------+\")\n",
        "        predictions[b], targets[b] = pv_predict(eval, model)\n",
        "\n",
        "    error = (pd.DataFrame(targets[b]) - pd.DataFrame(predictions[b])).sum().sum()\n",
        "    print(f\"Total Error for this config: {error}kWh\")\n",
        "\n",
        "\n",
        "\n"
      ],
      "metadata": {
        "colab": {
          "base_uri": "https://localhost:8080/",
          "height": 1000
        },
        "id": "EXXd8Vwa-Duf",
        "outputId": "0c45c6de-15df-42a7-9e5c-7d92ec0bb40a"
      },
      "execution_count": null,
      "outputs": [
        {
          "metadata": {
            "tags": null
          },
          "name": "stdout",
          "output_type": "stream",
          "text": [
            "{'batch_size': 256, 'num_epochs': 100, 'hidden_size': 64, 'num_layers': 10}\n",
            "+------- Training models for LG도서관 -------+\n",
            "Epoch [50/100] Train loss: 0.12279758944374616 Validation Loss: 0.1223334725946188\n",
            "Epoch [100/100] Train loss: 0.12284319017265664 Validation Loss: 0.12233346328139305\n",
            "Saved model to /content/drive/MyDrive/ict-2023/output-tuned/LG도서관-checkpoint-2023-08-10 13:10.pt\n",
            "+------- Testing models for LG도서관  -------+\n",
            "[LG도서관] Test Loss (RSME): 0.12121831811964512\n",
            "+--------- Prediction for LG도서관  ---------+\n",
            "+------- Training models for 기숙사B동 -------+\n"
          ]
        },
        {
          "metadata": {
            "tags": null
          },
          "name": "stderr",
          "output_type": "stream",
          "text": [
            "<ipython-input-82-80fcd63c8b2e>:32: SettingWithCopyWarning: \n",
            "A value is trying to be set on a copy of a slice from a DataFrame.\n",
            "Try using .loc[row_indexer,col_indexer] = value instead\n",
            "\n",
            "See the caveats in the documentation: https://pandas.pydata.org/pandas-docs/stable/user_guide/indexing.html#returning-a-view-versus-a-copy\n",
            "  df[feature + '_sin'] = np.sin(2 * np.pi * df[feature] / max_val)\n",
            "<ipython-input-82-80fcd63c8b2e>:33: SettingWithCopyWarning: \n",
            "A value is trying to be set on a copy of a slice from a DataFrame.\n",
            "Try using .loc[row_indexer,col_indexer] = value instead\n",
            "\n",
            "See the caveats in the documentation: https://pandas.pydata.org/pandas-docs/stable/user_guide/indexing.html#returning-a-view-versus-a-copy\n",
            "  df[feature + '_cos'] = np.cos(2 * np.pi * df[feature] / max_val)\n"
          ]
        },
        {
          "metadata": {
            "tags": null
          },
          "name": "stdout",
          "output_type": "stream",
          "text": [
            "Epoch [50/100] Train loss: 0.13432473927736283 Validation Loss: 0.13571433297225408\n",
            "Epoch [100/100] Train loss: 0.13433460384607315 Validation Loss: 0.13571423079286302\n",
            "Saved model to /content/drive/MyDrive/ict-2023/output-tuned/기숙사B동-checkpoint-2023-08-10 13:17.pt\n",
            "+------- Testing models for 기숙사B동  -------+\n",
            "[기숙사B동] Test Loss (RSME): 0.13435601549489157\n",
            "+--------- Prediction for 기숙사B동  ---------+\n",
            "+------- Training models for 다산빌딩 -------+\n",
            "Epoch [50/100] Train loss: 0.12936240630071671 Validation Loss: 0.1296529322862625\n",
            "Epoch [100/100] Train loss: 0.1292887580443601 Validation Loss: 0.12965291738510132\n",
            "Saved model to /content/drive/MyDrive/ict-2023/output-tuned/다산빌딩-checkpoint-2023-08-10 13:23.pt\n",
            "+------- Testing models for 다산빌딩  -------+\n",
            "[다산빌딩] Test Loss (RSME): 0.12814322672784328\n",
            "+--------- Prediction for 다산빌딩  ---------+\n",
            "+------- Training models for 대학C동 -------+\n",
            "Epoch [50/100] Train loss: 0.1505474970966089 Validation Loss: 0.14990683645009995\n",
            "Epoch [100/100] Train loss: 0.15052379154768147 Validation Loss: 0.14990660175681114\n",
            "Saved model to /content/drive/MyDrive/ict-2023/output-tuned/대학C동-checkpoint-2023-08-10 13:30.pt\n",
            "+------- Testing models for 대학C동  -------+\n",
            "[대학C동] Test Loss (RSME): 0.14954056218266487\n",
            "+--------- Prediction for 대학C동  ---------+\n",
            "+------- Training models for 동물실험동 -------+\n",
            "Epoch [50/100] Train loss: 0.12899100414065065 Validation Loss: 0.12897828593850136\n",
            "Epoch [100/100] Train loss: 0.12899737499776434 Validation Loss: 0.12897827103734016\n",
            "Saved model to /content/drive/MyDrive/ict-2023/output-tuned/동물실험동-checkpoint-2023-08-10 13:37.pt\n",
            "+------- Testing models for 동물실험동  -------+\n",
            "[동물실험동] Test Loss (RSME): 0.1270241243764758\n",
            "+--------- Prediction for 동물실험동  ---------+\n",
            "+------- Training models for 산업협력관 -------+\n",
            "Epoch [50/100] Train loss: 0.13357483059167863 Validation Loss: 0.13463760699544633\n",
            "Epoch [100/100] Train loss: 0.13358082979917527 Validation Loss: 0.1346375388758523\n",
            "Saved model to /content/drive/MyDrive/ict-2023/output-tuned/산업협력관-checkpoint-2023-08-10 13:44.pt\n",
            "+------- Testing models for 산업협력관  -------+\n",
            "[산업협력관] Test Loss (RSME): 0.1339309343269893\n",
            "+--------- Prediction for 산업협력관  ---------+\n",
            "+------- Training models for 삼성환경동 -------+\n",
            "Epoch [50/100] Train loss: 0.12897715570985294 Validation Loss: 0.12897074781358242\n",
            "Epoch [100/100] Train loss: 0.12895400064890503 Validation Loss: 0.12897072918713093\n",
            "Saved model to /content/drive/MyDrive/ict-2023/output-tuned/삼성환경동-checkpoint-2023-08-10 13:50.pt\n",
            "+------- Testing models for 삼성환경동  -------+\n",
            "[삼성환경동] Test Loss (RSME): 0.12732014991343021\n",
            "+--------- Prediction for 삼성환경동  ---------+\n",
            "+------- Training models for 시설관리동 -------+\n",
            "Epoch [50/100] Train loss: 0.13146989291808645 Validation Loss: 0.1312525849789381\n",
            "Epoch [100/100] Train loss: 0.13142198446344155 Validation Loss: 0.13125252909958363\n",
            "Saved model to /content/drive/MyDrive/ict-2023/output-tuned/시설관리동-checkpoint-2023-08-10 13:57.pt\n",
            "+------- Testing models for 시설관리동  -------+\n",
            "[시설관리동] Test Loss (RSME): 0.13036530278623104\n",
            "+--------- Prediction for 시설관리동  ---------+\n",
            "+------- Training models for 신재생에너지동 -------+\n",
            "Epoch [50/100] Train loss: 0.12553736213289324 Validation Loss: 0.12565742153674364\n",
            "Epoch [100/100] Train loss: 0.1254768801517174 Validation Loss: 0.12565741688013077\n",
            "Saved model to /content/drive/MyDrive/ict-2023/output-tuned/신재생에너지동-checkpoint-2023-08-10 14:04.pt\n",
            "+------- Testing models for 신재생에너지동  -------+\n",
            "[신재생에너지동] Test Loss (RSME): 0.12317691184580326\n",
            "+--------- Prediction for 신재생에너지동  ---------+\n",
            "+------- Training models for 중앙도서관 -------+\n",
            "Epoch [50/100] Train loss: 0.12287125308982662 Validation Loss: 0.12240010872483253\n",
            "Epoch [100/100] Train loss: 0.12292749764489345 Validation Loss: 0.12240009568631649\n",
            "Saved model to /content/drive/MyDrive/ict-2023/output-tuned/중앙도서관-checkpoint-2023-08-10 14:11.pt\n",
            "+------- Testing models for 중앙도서관  -------+\n",
            "[중앙도서관] Test Loss (RSME): 0.12154457531869411\n",
            "+--------- Prediction for 중앙도서관  ---------+\n",
            "+------- Training models for 중앙창고 -------+\n",
            "Epoch [50/100] Train loss: 0.12575194593824324 Validation Loss: 0.12575071770697832\n",
            "Epoch [100/100] Train loss: 0.12574001939081755 Validation Loss: 0.12575071211904287\n",
            "Saved model to /content/drive/MyDrive/ict-2023/output-tuned/중앙창고-checkpoint-2023-08-10 14:18.pt\n",
            "+------- Testing models for 중앙창고  -------+\n",
            "[중앙창고] Test Loss (RSME): 0.12442214135080576\n",
            "+--------- Prediction for 중앙창고  ---------+\n",
            "+------- Training models for 축구장 -------+\n",
            "Epoch [50/100] Train loss: 0.11194581037662069 Validation Loss: 0.11186497192829847\n",
            "Epoch [100/100] Train loss: 0.11192549105550421 Validation Loss: 0.11186495423316956\n",
            "Saved model to /content/drive/MyDrive/ict-2023/output-tuned/축구장-checkpoint-2023-08-10 14:25.pt\n",
            "+------- Testing models for 축구장  -------+\n",
            "[축구장] Test Loss (RSME): 0.11067569255828857\n",
            "+--------- Prediction for 축구장  ---------+\n",
            "+------- Training models for 학사과정 -------+\n",
            "Epoch [50/100] Train loss: 0.10158832652158424 Validation Loss: 0.10117873083800077\n",
            "Epoch [100/100] Train loss: 0.10161366851114836 Validation Loss: 0.1011787261813879\n",
            "Saved model to /content/drive/MyDrive/ict-2023/output-tuned/학사과정-checkpoint-2023-08-10 14:32.pt\n",
            "+------- Testing models for 학사과정  -------+\n",
            "[학사과정] Test Loss (RSME): 0.09948808886110783\n",
            "+--------- Prediction for 학사과정  ---------+\n",
            "+------- Training models for 학생회관 -------+\n",
            "Epoch [50/100] Train loss: 0.12466161209540289 Validation Loss: 0.12503693997859955\n",
            "Epoch [100/100] Train loss: 0.12468553114621365 Validation Loss: 0.12503692042082548\n",
            "Saved model to /content/drive/MyDrive/ict-2023/output-tuned/학생회관-checkpoint-2023-08-10 14:39.pt\n",
            "+------- Testing models for 학생회관  -------+\n",
            "[학생회관] Test Loss (RSME): 0.12329529132694006\n",
            "+--------- Prediction for 학생회관  ---------+\n",
            "Total Error for this config: 25.01375389099121kWh\n",
            "{'batch_size': 256, 'num_epochs': 100, 'hidden_size': 64, 'num_layers': 9}\n",
            "+------- Training models for LG도서관 -------+\n",
            "Epoch [50/100] Train loss: 0.12103014940121135 Validation Loss: 0.12077539693564177\n",
            "Epoch [100/100] Train loss: 0.12101610065972218 Validation Loss: 0.1207753848284483\n",
            "Saved model to /content/drive/MyDrive/ict-2023/output-tuned/LG도서관-checkpoint-2023-08-10 14:46.pt\n",
            "+------- Testing models for LG도서관  -------+\n",
            "[LG도서관] Test Loss (RSME): 0.11933692544698715\n",
            "+--------- Prediction for LG도서관  ---------+\n",
            "+------- Training models for 기숙사B동 -------+\n"
          ]
        },
        {
          "metadata": {
            "tags": null
          },
          "name": "stderr",
          "output_type": "stream",
          "text": [
            "<ipython-input-82-80fcd63c8b2e>:32: SettingWithCopyWarning: \n",
            "A value is trying to be set on a copy of a slice from a DataFrame.\n",
            "Try using .loc[row_indexer,col_indexer] = value instead\n",
            "\n",
            "See the caveats in the documentation: https://pandas.pydata.org/pandas-docs/stable/user_guide/indexing.html#returning-a-view-versus-a-copy\n",
            "  df[feature + '_sin'] = np.sin(2 * np.pi * df[feature] / max_val)\n",
            "<ipython-input-82-80fcd63c8b2e>:33: SettingWithCopyWarning: \n",
            "A value is trying to be set on a copy of a slice from a DataFrame.\n",
            "Try using .loc[row_indexer,col_indexer] = value instead\n",
            "\n",
            "See the caveats in the documentation: https://pandas.pydata.org/pandas-docs/stable/user_guide/indexing.html#returning-a-view-versus-a-copy\n",
            "  df[feature + '_cos'] = np.cos(2 * np.pi * df[feature] / max_val)\n"
          ]
        },
        {
          "metadata": {
            "tags": null
          },
          "name": "stdout",
          "output_type": "stream",
          "text": [
            "Epoch [50/100] Train loss: 0.13100406423211097 Validation Loss: 0.13234625543866838\n",
            "Epoch [100/100] Train loss: 0.13097325652837755 Validation Loss: 0.13234622137887136\n",
            "Saved model to /content/drive/MyDrive/ict-2023/output-tuned/기숙사B동-checkpoint-2023-08-10 14:53.pt\n",
            "+------- Testing models for 기숙사B동  -------+\n",
            "[기숙사B동] Test Loss (RSME): 0.1311967372894287\n",
            "+--------- Prediction for 기숙사B동  ---------+\n",
            "+------- Training models for 다산빌딩 -------+\n",
            "Epoch [50/100] Train loss: 0.12769529907429805 Validation Loss: 0.12853130046278238\n",
            "Epoch [100/100] Train loss: 0.12771415673807018 Validation Loss: 0.12853129301220179\n",
            "Saved model to /content/drive/MyDrive/ict-2023/output-tuned/다산빌딩-checkpoint-2023-08-10 15:00.pt\n",
            "+------- Testing models for 다산빌딩  -------+\n",
            "[다산빌딩] Test Loss (RSME): 0.12593857385218143\n",
            "+--------- Prediction for 다산빌딩  ---------+\n",
            "+------- Training models for 대학C동 -------+\n",
            "Epoch [50/100] Train loss: 0.135857418912356 Validation Loss: 0.13530612736940384\n",
            "Epoch [100/100] Train loss: 0.13585183146547097 Validation Loss: 0.13530610874295235\n",
            "Saved model to /content/drive/MyDrive/ict-2023/output-tuned/대학C동-checkpoint-2023-08-10 15:07.pt\n",
            "+------- Testing models for 대학C동  -------+\n",
            "[대학C동] Test Loss (RSME): 0.1342024151235819\n",
            "+--------- Prediction for 대학C동  ---------+\n",
            "+------- Training models for 동물실험동 -------+\n",
            "Epoch [50/100] Train loss: 0.12991096079349518 Validation Loss: 0.12988914735615253\n",
            "Epoch [100/100] Train loss: 0.12992548112009392 Validation Loss: 0.12988913245499134\n",
            "Saved model to /content/drive/MyDrive/ict-2023/output-tuned/동물실험동-checkpoint-2023-08-10 15:14.pt\n",
            "+------- Testing models for 동물실험동  -------+\n",
            "[동물실험동] Test Loss (RSME): 0.12817808985710144\n",
            "+--------- Prediction for 동물실험동  ---------+\n",
            "+------- Training models for 산업협력관 -------+\n",
            "Epoch [50/100] Train loss: 0.13293751537799836 Validation Loss: 0.13506739905902318\n",
            "Epoch [100/100] Train loss: 0.13297418594360352 Validation Loss: 0.13506731603826796\n",
            "Saved model to /content/drive/MyDrive/ict-2023/output-tuned/산업협력관-checkpoint-2023-08-10 15:22.pt\n",
            "+------- Testing models for 산업협력관  -------+\n",
            "[산업협력관] Test Loss (RSME): 0.13315636771065847\n",
            "+--------- Prediction for 산업협력관  ---------+\n",
            "+------- Training models for 삼성환경동 -------+\n",
            "Epoch [50/100] Train loss: 0.1279052063578465 Validation Loss: 0.12797264382243156\n",
            "Epoch [100/100] Train loss: 0.1279755701295665 Validation Loss: 0.12797262892127037\n",
            "Saved model to /content/drive/MyDrive/ict-2023/output-tuned/삼성환경동-checkpoint-2023-08-10 15:28.pt\n",
            "+------- Testing models for 삼성환경동  -------+\n",
            "[삼성환경동] Test Loss (RSME): 0.12636492028832436\n",
            "+--------- Prediction for 삼성환경동  ---------+\n",
            "+------- Training models for 시설관리동 -------+\n",
            "Epoch [50/100] Train loss: 0.1253700242912183 Validation Loss: 0.12528281938284636\n",
            "Epoch [100/100] Train loss: 0.12540365425778216 Validation Loss: 0.12528280820697546\n",
            "Saved model to /content/drive/MyDrive/ict-2023/output-tuned/시설관리동-checkpoint-2023-08-10 15:36.pt\n",
            "+------- Testing models for 시설관리동  -------+\n",
            "[시설관리동] Test Loss (RSME): 0.12382660526782274\n",
            "+--------- Prediction for 시설관리동  ---------+\n",
            "+------- Training models for 신재생에너지동 -------+\n",
            "Epoch [50/100] Train loss: 0.12598060498960684 Validation Loss: 0.1261673690751195\n",
            "Epoch [100/100] Train loss: 0.12601207941770554 Validation Loss: 0.12616736628115177\n",
            "Saved model to /content/drive/MyDrive/ict-2023/output-tuned/신재생에너지동-checkpoint-2023-08-10 15:43.pt\n",
            "+------- Testing models for 신재생에너지동  -------+\n",
            "[신재생에너지동] Test Loss (RSME): 0.12388709932565689\n",
            "+--------- Prediction for 신재생에너지동  ---------+\n",
            "+------- Training models for 중앙도서관 -------+\n",
            "Epoch [50/100] Train loss: 0.12256091710973958 Validation Loss: 0.12207669205963612\n",
            "Epoch [100/100] Train loss: 0.12254036230141999 Validation Loss: 0.1220766818150878\n",
            "Saved model to /content/drive/MyDrive/ict-2023/output-tuned/중앙도서관-checkpoint-2023-08-10 15:51.pt\n",
            "+------- Testing models for 중앙도서관  -------+\n",
            "[중앙도서관] Test Loss (RSME): 0.12120694201439619\n",
            "+--------- Prediction for 중앙도서관  ---------+\n",
            "+------- Training models for 중앙창고 -------+\n",
            "Epoch [50/100] Train loss: 0.12389344318968351 Validation Loss: 0.12436654418706894\n",
            "Epoch [100/100] Train loss: 0.1239731247063543 Validation Loss: 0.12436653580516577\n",
            "Saved model to /content/drive/MyDrive/ict-2023/output-tuned/중앙창고-checkpoint-2023-08-10 15:59.pt\n",
            "+------- Testing models for 중앙창고  -------+\n",
            "[중앙창고] Test Loss (RSME): 0.12284403666853905\n",
            "+--------- Prediction for 중앙창고  ---------+\n",
            "+------- Training models for 축구장 -------+\n",
            "Epoch [50/100] Train loss: 0.11017178512010418 Validation Loss: 0.11019948869943619\n",
            "Epoch [100/100] Train loss: 0.11013821817812372 Validation Loss: 0.11019948124885559\n",
            "Saved model to /content/drive/MyDrive/ict-2023/output-tuned/축구장-checkpoint-2023-08-10 16:07.pt\n",
            "+------- Testing models for 축구장  -------+\n",
            "[축구장] Test Loss (RSME): 0.10881292168051004\n",
            "+--------- Prediction for 축구장  ---------+\n",
            "+------- Training models for 학사과정 -------+\n",
            "Epoch [50/100] Train loss: 0.10057514356296571 Validation Loss: 0.10077643487602472\n",
            "Epoch [100/100] Train loss: 0.10059985811593103 Validation Loss: 0.1007764283567667\n",
            "Saved model to /content/drive/MyDrive/ict-2023/output-tuned/학사과정-checkpoint-2023-08-10 16:14.pt\n",
            "+------- Testing models for 학사과정  -------+\n",
            "[학사과정] Test Loss (RSME): 0.0985368276014924\n",
            "+--------- Prediction for 학사과정  ---------+\n",
            "+------- Training models for 학생회관 -------+\n",
            "Epoch [50/100] Train loss: 0.1247266302587556 Validation Loss: 0.1248474782332778\n",
            "Epoch [100/100] Train loss: 0.12474822020921551 Validation Loss: 0.12484746892005205\n",
            "Saved model to /content/drive/MyDrive/ict-2023/output-tuned/학생회관-checkpoint-2023-08-10 16:22.pt\n",
            "+------- Testing models for 학생회관  -------+\n",
            "[학생회관] Test Loss (RSME): 0.1231486164033413\n",
            "+--------- Prediction for 학생회관  ---------+\n",
            "Total Error for this config: 17.87832260131836kWh\n",
            "{'batch_size': 256, 'num_epochs': 100, 'hidden_size': 64, 'num_layers': 8}\n",
            "+------- Training models for LG도서관 -------+\n",
            "Epoch [50/100] Train loss: 0.12303330053071507 Validation Loss: 0.12263460736721754\n",
            "Epoch [100/100] Train loss: 0.12304615669074606 Validation Loss: 0.12263459991663694\n",
            "Saved model to /content/drive/MyDrive/ict-2023/output-tuned/LG도서관-checkpoint-2023-08-10 16:30.pt\n",
            "+------- Testing models for LG도서관  -------+\n",
            "[LG도서관] Test Loss (RSME): 0.12131982855498791\n",
            "+--------- Prediction for LG도서관  ---------+\n",
            "+------- Training models for 기숙사B동 -------+\n"
          ]
        },
        {
          "metadata": {
            "tags": null
          },
          "name": "stderr",
          "output_type": "stream",
          "text": [
            "<ipython-input-82-80fcd63c8b2e>:32: SettingWithCopyWarning: \n",
            "A value is trying to be set on a copy of a slice from a DataFrame.\n",
            "Try using .loc[row_indexer,col_indexer] = value instead\n",
            "\n",
            "See the caveats in the documentation: https://pandas.pydata.org/pandas-docs/stable/user_guide/indexing.html#returning-a-view-versus-a-copy\n",
            "  df[feature + '_sin'] = np.sin(2 * np.pi * df[feature] / max_val)\n",
            "<ipython-input-82-80fcd63c8b2e>:33: SettingWithCopyWarning: \n",
            "A value is trying to be set on a copy of a slice from a DataFrame.\n",
            "Try using .loc[row_indexer,col_indexer] = value instead\n",
            "\n",
            "See the caveats in the documentation: https://pandas.pydata.org/pandas-docs/stable/user_guide/indexing.html#returning-a-view-versus-a-copy\n",
            "  df[feature + '_cos'] = np.cos(2 * np.pi * df[feature] / max_val)\n"
          ]
        },
        {
          "metadata": {
            "tags": null
          },
          "name": "stdout",
          "output_type": "stream",
          "text": [
            "Epoch [50/100] Train loss: 0.1275460748374462 Validation Loss: 0.12856970195259368\n",
            "Epoch [100/100] Train loss: 0.12752111941576005 Validation Loss: 0.12856968066522054\n",
            "Saved model to /content/drive/MyDrive/ict-2023/output-tuned/기숙사B동-checkpoint-2023-08-10 16:38.pt\n",
            "+------- Testing models for 기숙사B동  -------+\n",
            "[기숙사B동] Test Loss (RSME): 0.12790596165827342\n",
            "+--------- Prediction for 기숙사B동  ---------+\n",
            "+------- Training models for 다산빌딩 -------+\n",
            "Epoch [50/100] Train loss: 0.12722001432395372 Validation Loss: 0.1279153423383832\n",
            "Epoch [100/100] Train loss: 0.1272479074655986 Validation Loss: 0.12791533395648003\n",
            "Saved model to /content/drive/MyDrive/ict-2023/output-tuned/다산빌딩-checkpoint-2023-08-10 16:45.pt\n",
            "+------- Testing models for 다산빌딩  -------+\n",
            "[다산빌딩] Test Loss (RSME): 0.12544656079262495\n",
            "+--------- Prediction for 다산빌딩  ---------+\n",
            "+------- Training models for 대학C동 -------+\n",
            "Epoch [50/100] Train loss: 0.13567864870438812 Validation Loss: 0.13506372459232807\n",
            "Epoch [100/100] Train loss: 0.1356816347993788 Validation Loss: 0.13506370782852173\n",
            "Saved model to /content/drive/MyDrive/ict-2023/output-tuned/대학C동-checkpoint-2023-08-10 16:53.pt\n",
            "+------- Testing models for 대학C동  -------+\n",
            "[대학C동] Test Loss (RSME): 0.13403353281319141\n",
            "+--------- Prediction for 대학C동  ---------+\n",
            "+------- Training models for 동물실험동 -------+\n",
            "Epoch [50/100] Train loss: 0.12952306365869085 Validation Loss: 0.12937290593981743\n",
            "Epoch [100/100] Train loss: 0.129583654711481 Validation Loss: 0.12937288731336594\n",
            "Saved model to /content/drive/MyDrive/ict-2023/output-tuned/동물실험동-checkpoint-2023-08-10 17:00.pt\n",
            "+------- Testing models for 동물실험동  -------+\n",
            "[동물실험동] Test Loss (RSME): 0.1279448578134179\n",
            "+--------- Prediction for 동물실험동  ---------+\n",
            "+------- Training models for 산업협력관 -------+\n",
            "Epoch [50/100] Train loss: 0.12812051728367804 Validation Loss: 0.12979979919535772\n",
            "Epoch [100/100] Train loss: 0.12816149204969407 Validation Loss: 0.12979978855167115\n",
            "Saved model to /content/drive/MyDrive/ict-2023/output-tuned/산업협력관-checkpoint-2023-08-10 17:08.pt\n",
            "+------- Testing models for 산업협력관  -------+\n",
            "[산업협력관] Test Loss (RSME): 0.12850697657891683\n",
            "+--------- Prediction for 산업협력관  ---------+\n",
            "+------- Training models for 삼성환경동 -------+\n",
            "Epoch [50/100] Train loss: 0.12745724520722373 Validation Loss: 0.1273756604641676\n",
            "Epoch [100/100] Train loss: 0.12743126820833955 Validation Loss: 0.127375653013587\n",
            "Saved model to /content/drive/MyDrive/ict-2023/output-tuned/삼성환경동-checkpoint-2023-08-10 17:15.pt\n",
            "+------- Testing models for 삼성환경동  -------+\n",
            "[삼성환경동] Test Loss (RSME): 0.12582937814295292\n",
            "+--------- Prediction for 삼성환경동  ---------+\n",
            "+------- Training models for 시설관리동 -------+\n",
            "Epoch [50/100] Train loss: 0.1291265078499669 Validation Loss: 0.12884113006293774\n",
            "Epoch [100/100] Train loss: 0.12909443932967107 Validation Loss: 0.12884110398590565\n",
            "Saved model to /content/drive/MyDrive/ict-2023/output-tuned/시설관리동-checkpoint-2023-08-10 17:23.pt\n",
            "+------- Testing models for 시설관리동  -------+\n",
            "[시설관리동] Test Loss (RSME): 0.12781337182968855\n",
            "+--------- Prediction for 시설관리동  ---------+\n",
            "+------- Training models for 신재생에너지동 -------+\n",
            "Epoch [50/100] Train loss: 0.1260246639368964 Validation Loss: 0.12600121926516294\n",
            "Epoch [100/100] Train loss: 0.12602425965129352 Validation Loss: 0.12600121460855007\n",
            "Saved model to /content/drive/MyDrive/ict-2023/output-tuned/신재생에너지동-checkpoint-2023-08-10 17:31.pt\n",
            "+------- Testing models for 신재생에너지동  -------+\n",
            "[신재생에너지동] Test Loss (RSME): 0.12397647928446531\n",
            "+--------- Prediction for 신재생에너지동  ---------+\n",
            "+------- Training models for 중앙도서관 -------+\n",
            "Epoch [50/100] Train loss: 0.12132964600793651 Validation Loss: 0.12101094797253609\n",
            "Epoch [100/100] Train loss: 0.12130197540658419 Validation Loss: 0.12101093120872974\n",
            "Saved model to /content/drive/MyDrive/ict-2023/output-tuned/중앙도서관-checkpoint-2023-08-10 17:39.pt\n",
            "+------- Testing models for 중앙도서관  -------+\n",
            "[중앙도서관] Test Loss (RSME): 0.12022058665752411\n",
            "+--------- Prediction for 중앙도서관  ---------+\n",
            "+------- Training models for 중앙창고 -------+\n",
            "Epoch [50/100] Train loss: 0.126669385760534 Validation Loss: 0.12669493723660707\n",
            "Epoch [100/100] Train loss: 0.12661282620469078 Validation Loss: 0.12669492047280073\n",
            "Saved model to /content/drive/MyDrive/ict-2023/output-tuned/중앙창고-checkpoint-2023-08-10 17:47.pt\n",
            "+------- Testing models for 중앙창고  -------+\n",
            "[중앙창고] Test Loss (RSME): 0.12584003433585167\n",
            "+--------- Prediction for 중앙창고  ---------+\n",
            "+------- Training models for 축구장 -------+\n",
            "Epoch [50/100] Train loss: 0.10893419458240759 Validation Loss: 0.10901900380849838\n",
            "Epoch [100/100] Train loss: 0.10892173318100758 Validation Loss: 0.10901900194585323\n",
            "Saved model to /content/drive/MyDrive/ict-2023/output-tuned/축구장-checkpoint-2023-08-10 17:55.pt\n",
            "+------- Testing models for 축구장  -------+\n",
            "[축구장] Test Loss (RSME): 0.107163873501122\n",
            "+--------- Prediction for 축구장  ---------+\n",
            "+------- Training models for 학사과정 -------+\n",
            "Epoch [50/100] Train loss: 0.10021324980942929 Validation Loss: 0.10002311784774065\n",
            "Epoch [100/100] Train loss: 0.10017009690159658 Validation Loss: 0.10002311039716005\n",
            "Saved model to /content/drive/MyDrive/ict-2023/output-tuned/학사과정-checkpoint-2023-08-10 18:04.pt\n",
            "+------- Testing models for 학사과정  -------+\n",
            "[학사과정] Test Loss (RSME): 0.09806730784475803\n",
            "+--------- Prediction for 학사과정  ---------+\n",
            "+------- Training models for 학생회관 -------+\n",
            "Epoch [50/100] Train loss: 0.1240577153006538 Validation Loss: 0.12409085314720869\n",
            "Epoch [100/100] Train loss: 0.1240608916908014 Validation Loss: 0.1240908456966281\n",
            "Saved model to /content/drive/MyDrive/ict-2023/output-tuned/학생회관-checkpoint-2023-08-10 18:12.pt\n",
            "+------- Testing models for 학생회관  -------+\n",
            "[학생회관] Test Loss (RSME): 0.12240748200565577\n",
            "+--------- Prediction for 학생회관  ---------+\n",
            "Total Error for this config: 29.692485809326172kWh\n",
            "{'batch_size': 256, 'num_epochs': 100, 'hidden_size': 64, 'num_layers': 7}\n",
            "+------- Training models for LG도서관 -------+\n",
            "Epoch [50/100] Train loss: 0.1175829676575348 Validation Loss: 0.11724960803985596\n",
            "Epoch [100/100] Train loss: 0.11758256373835392 Validation Loss: 0.11724960245192051\n",
            "Saved model to /content/drive/MyDrive/ict-2023/output-tuned/LG도서관-checkpoint-2023-08-10 18:20.pt\n",
            "+------- Testing models for LG도서관  -------+\n",
            "[LG도서관] Test Loss (RSME): 0.11622817534953356\n",
            "+--------- Prediction for LG도서관  ---------+\n",
            "+------- Training models for 기숙사B동 -------+\n"
          ]
        },
        {
          "metadata": {
            "tags": null
          },
          "name": "stderr",
          "output_type": "stream",
          "text": [
            "<ipython-input-82-80fcd63c8b2e>:32: SettingWithCopyWarning: \n",
            "A value is trying to be set on a copy of a slice from a DataFrame.\n",
            "Try using .loc[row_indexer,col_indexer] = value instead\n",
            "\n",
            "See the caveats in the documentation: https://pandas.pydata.org/pandas-docs/stable/user_guide/indexing.html#returning-a-view-versus-a-copy\n",
            "  df[feature + '_sin'] = np.sin(2 * np.pi * df[feature] / max_val)\n",
            "<ipython-input-82-80fcd63c8b2e>:33: SettingWithCopyWarning: \n",
            "A value is trying to be set on a copy of a slice from a DataFrame.\n",
            "Try using .loc[row_indexer,col_indexer] = value instead\n",
            "\n",
            "See the caveats in the documentation: https://pandas.pydata.org/pandas-docs/stable/user_guide/indexing.html#returning-a-view-versus-a-copy\n",
            "  df[feature + '_cos'] = np.cos(2 * np.pi * df[feature] / max_val)\n"
          ]
        },
        {
          "metadata": {
            "tags": null
          },
          "name": "stdout",
          "output_type": "stream",
          "text": [
            "Epoch [50/100] Train loss: 0.1271525253355503 Validation Loss: 0.12862647005489894\n",
            "Epoch [100/100] Train loss: 0.12715083196759225 Validation Loss: 0.1286264487675258\n",
            "Saved model to /content/drive/MyDrive/ict-2023/output-tuned/기숙사B동-checkpoint-2023-08-10 18:28.pt\n",
            "+------- Testing models for 기숙사B동  -------+\n",
            "[기숙사B동] Test Loss (RSME): 0.12744291871786118\n",
            "+--------- Prediction for 기숙사B동  ---------+\n",
            "+------- Training models for 다산빌딩 -------+\n",
            "Epoch [50/100] Train loss: 0.12683237417310964 Validation Loss: 0.127288400195539\n",
            "Epoch [100/100] Train loss: 0.12682178469954944 Validation Loss: 0.12728839088231325\n",
            "Saved model to /content/drive/MyDrive/ict-2023/output-tuned/다산빌딩-checkpoint-2023-08-10 18:36.pt\n",
            "+------- Testing models for 다산빌딩  -------+\n",
            "[다산빌딩] Test Loss (RSME): 0.12510615773499012\n",
            "+--------- Prediction for 다산빌딩  ---------+\n",
            "+------- Training models for 대학C동 -------+\n",
            "Epoch [50/100] Train loss: 0.1298967056342813 Validation Loss: 0.12910057045519352\n",
            "Epoch [100/100] Train loss: 0.12990489162382532 Validation Loss: 0.12910055927932262\n",
            "Saved model to /content/drive/MyDrive/ict-2023/output-tuned/대학C동-checkpoint-2023-08-10 18:44.pt\n",
            "+------- Testing models for 대학C동  -------+\n",
            "[대학C동] Test Loss (RSME): 0.12842164188623428\n",
            "+--------- Prediction for 대학C동  ---------+\n",
            "+------- Training models for 동물실험동 -------+\n",
            "Epoch [50/100] Train loss: 0.12649647427386926 Validation Loss: 0.1260182335972786\n",
            "Epoch [100/100] Train loss: 0.12650262588848832 Validation Loss: 0.12601822335273027\n",
            "Saved model to /content/drive/MyDrive/ict-2023/output-tuned/동물실험동-checkpoint-2023-08-10 18:52.pt\n",
            "+------- Testing models for 동물실험동  -------+\n",
            "[동물실험동] Test Loss (RSME): 0.12467474862933159\n",
            "+--------- Prediction for 동물실험동  ---------+\n",
            "+------- Training models for 산업협력관 -------+\n",
            "Epoch [50/100] Train loss: 0.12618460282683372 Validation Loss: 0.1271145237343652\n",
            "Epoch [100/100] Train loss: 0.1262343156337738 Validation Loss: 0.12711450244699204\n",
            "Saved model to /content/drive/MyDrive/ict-2023/output-tuned/산업협력관-checkpoint-2023-08-10 19:01.pt\n",
            "+------- Testing models for 산업협력관  -------+\n",
            "[산업협력관] Test Loss (RSME): 0.12609347594635828\n",
            "+--------- Prediction for 산업협력관  ---------+\n",
            "+------- Training models for 삼성환경동 -------+\n",
            "Epoch [50/100] Train loss: 0.12717339481975212 Validation Loss: 0.12732526008039713\n",
            "Epoch [100/100] Train loss: 0.12719914353773243 Validation Loss: 0.12732526380568743\n",
            "Saved model to /content/drive/MyDrive/ict-2023/output-tuned/삼성환경동-checkpoint-2023-08-10 19:08.pt\n",
            "+------- Testing models for 삼성환경동  -------+\n",
            "[삼성환경동] Test Loss (RSME): 0.1252480298280716\n",
            "+--------- Prediction for 삼성환경동  ---------+\n",
            "+------- Training models for 시설관리동 -------+\n",
            "Epoch [50/100] Train loss: 0.12379347007782733 Validation Loss: 0.1235200660303235\n",
            "Epoch [100/100] Train loss: 0.12380981860590763 Validation Loss: 0.12352005764842033\n",
            "Saved model to /content/drive/MyDrive/ict-2023/output-tuned/시설관리동-checkpoint-2023-08-10 19:17.pt\n",
            "+------- Testing models for 시설관리동  -------+\n",
            "[시설관리동] Test Loss (RSME): 0.12239457573741674\n",
            "+--------- Prediction for 시설관리동  ---------+\n",
            "+------- Training models for 신재생에너지동 -------+\n",
            "Epoch [50/100] Train loss: 0.125115554596557 Validation Loss: 0.12493370845913887\n",
            "Epoch [100/100] Train loss: 0.12508162990456723 Validation Loss: 0.12493369448930025\n",
            "Saved model to /content/drive/MyDrive/ict-2023/output-tuned/신재생에너지동-checkpoint-2023-08-10 19:25.pt\n",
            "+------- Testing models for 신재생에너지동  -------+\n",
            "[신재생에너지동] Test Loss (RSME): 0.12278079241514206\n",
            "+--------- Prediction for 신재생에너지동  ---------+\n",
            "+------- Training models for 중앙도서관 -------+\n",
            "Epoch [50/100] Train loss: 0.12153797633335238 Validation Loss: 0.12081901263445616\n",
            "Epoch [100/100] Train loss: 0.12152552848956624 Validation Loss: 0.12081899773329496\n",
            "Saved model to /content/drive/MyDrive/ict-2023/output-tuned/중앙도서관-checkpoint-2023-08-10 19:34.pt\n",
            "+------- Testing models for 중앙도서관  -------+\n",
            "[중앙도서관] Test Loss (RSME): 0.12024786695837975\n",
            "+--------- Prediction for 중앙도서관  ---------+\n",
            "+------- Training models for 중앙창고 -------+\n",
            "Epoch [50/100] Train loss: 0.12606631683521582 Validation Loss: 0.12623371463268995\n",
            "Epoch [100/100] Train loss: 0.12611350380494946 Validation Loss: 0.12623370066285133\n",
            "Saved model to /content/drive/MyDrive/ict-2023/output-tuned/중앙창고-checkpoint-2023-08-10 19:43.pt\n",
            "+------- Testing models for 중앙창고  -------+\n",
            "[중앙창고] Test Loss (RSME): 0.12477682530879974\n",
            "+--------- Prediction for 중앙창고  ---------+\n",
            "+------- Training models for 축구장 -------+\n",
            "Epoch [50/100] Train loss: 0.10865444421279626 Validation Loss: 0.10841391794383526\n",
            "Epoch [100/100] Train loss: 0.10863551033324882 Validation Loss: 0.10841390769928694\n",
            "Saved model to /content/drive/MyDrive/ict-2023/output-tuned/축구장-checkpoint-2023-08-10 19:51.pt\n",
            "+------- Testing models for 축구장  -------+\n",
            "[축구장] Test Loss (RSME): 0.10774163622409105\n",
            "+--------- Prediction for 축구장  ---------+\n",
            "+------- Training models for 학사과정 -------+\n",
            "Epoch [50/100] Train loss: 0.10110829794993166 Validation Loss: 0.1008909996598959\n",
            "Epoch [100/100] Train loss: 0.10110538648288758 Validation Loss: 0.1008909959346056\n",
            "Saved model to /content/drive/MyDrive/ict-2023/output-tuned/학사과정-checkpoint-2023-08-10 20:00.pt\n",
            "+------- Testing models for 학사과정  -------+\n",
            "[학사과정] Test Loss (RSME): 0.09891333244740963\n",
            "+--------- Prediction for 학사과정  ---------+\n",
            "+------- Training models for 학생회관 -------+\n",
            "Epoch [50/100] Train loss: 0.12181262842944411 Validation Loss: 0.12176352180540562\n",
            "Epoch [100/100] Train loss: 0.12176912485576066 Validation Loss: 0.1217635152861476\n",
            "Saved model to /content/drive/MyDrive/ict-2023/output-tuned/학생회관-checkpoint-2023-08-10 20:09.pt\n",
            "+------- Testing models for 학생회관  -------+\n",
            "[학생회관] Test Loss (RSME): 0.12018045876175165\n",
            "+--------- Prediction for 학생회관  ---------+\n",
            "Total Error for this config: 51.67372131347656kWh\n",
            "{'batch_size': 256, 'num_epochs': 100, 'hidden_size': 32, 'num_layers': 10}\n",
            "+------- Training models for LG도서관 -------+\n",
            "Epoch [50/100] Train loss: 0.21109380023401292 Validation Loss: 0.20967164635658264\n",
            "Epoch [100/100] Train loss: 0.21111237782923903 Validation Loss: 0.20967161282896996\n",
            "Saved model to /content/drive/MyDrive/ict-2023/output-tuned/LG도서관-checkpoint-2023-08-10 20:18.pt\n",
            "+------- Testing models for LG도서관  -------+\n",
            "[LG도서관] Test Loss (RSME): 0.21264786086976528\n",
            "+--------- Prediction for LG도서관  ---------+\n",
            "+------- Training models for 기숙사B동 -------+\n"
          ]
        },
        {
          "metadata": {
            "tags": null
          },
          "name": "stderr",
          "output_type": "stream",
          "text": [
            "<ipython-input-82-80fcd63c8b2e>:32: SettingWithCopyWarning: \n",
            "A value is trying to be set on a copy of a slice from a DataFrame.\n",
            "Try using .loc[row_indexer,col_indexer] = value instead\n",
            "\n",
            "See the caveats in the documentation: https://pandas.pydata.org/pandas-docs/stable/user_guide/indexing.html#returning-a-view-versus-a-copy\n",
            "  df[feature + '_sin'] = np.sin(2 * np.pi * df[feature] / max_val)\n",
            "<ipython-input-82-80fcd63c8b2e>:33: SettingWithCopyWarning: \n",
            "A value is trying to be set on a copy of a slice from a DataFrame.\n",
            "Try using .loc[row_indexer,col_indexer] = value instead\n",
            "\n",
            "See the caveats in the documentation: https://pandas.pydata.org/pandas-docs/stable/user_guide/indexing.html#returning-a-view-versus-a-copy\n",
            "  df[feature + '_cos'] = np.cos(2 * np.pi * df[feature] / max_val)\n"
          ]
        },
        {
          "metadata": {
            "tags": null
          },
          "name": "stdout",
          "output_type": "stream",
          "text": [
            "Epoch [50/100] Train loss: 0.22499073892831803 Validation Loss: 0.22408770663397654\n",
            "Epoch [100/100] Train loss: 0.22500983327627183 Validation Loss: 0.2240877045052392\n",
            "Saved model to /content/drive/MyDrive/ict-2023/output-tuned/기숙사B동-checkpoint-2023-08-10 20:25.pt\n",
            "+------- Testing models for 기숙사B동  -------+\n",
            "[기숙사B동] Test Loss (RSME): 0.2230631411075592\n",
            "+--------- Prediction for 기숙사B동  ---------+\n",
            "+------- Training models for 다산빌딩 -------+\n",
            "Epoch [50/100] Train loss: 0.212634945013484 Validation Loss: 0.21162782050669193\n",
            "Epoch [100/100] Train loss: 0.21256641701596682 Validation Loss: 0.21162782236933708\n",
            "Saved model to /content/drive/MyDrive/ict-2023/output-tuned/다산빌딩-checkpoint-2023-08-10 20:33.pt\n",
            "+------- Testing models for 다산빌딩  -------+\n",
            "[다산빌딩] Test Loss (RSME): 0.21352569200098515\n",
            "+--------- Prediction for 다산빌딩  ---------+\n",
            "+------- Training models for 대학C동 -------+\n",
            "Epoch [50/100] Train loss: 0.2410268444018286 Validation Loss: 0.2392449788749218\n",
            "Epoch [100/100] Train loss: 0.2409762261343784 Validation Loss: 0.2392449788749218\n",
            "Saved model to /content/drive/MyDrive/ict-2023/output-tuned/대학C동-checkpoint-2023-08-10 20:41.pt\n",
            "+------- Testing models for 대학C동  -------+\n",
            "[대학C동] Test Loss (RSME): 0.24228812754154205\n",
            "+--------- Prediction for 대학C동  ---------+\n",
            "+------- Training models for 동물실험동 -------+\n",
            "Epoch [50/100] Train loss: 0.22885742392696318 Validation Loss: 0.22720755636692047\n",
            "Epoch [100/100] Train loss: 0.2288749535552791 Validation Loss: 0.22720755264163017\n",
            "Saved model to /content/drive/MyDrive/ict-2023/output-tuned/동물실험동-checkpoint-2023-08-10 20:49.pt\n",
            "+------- Testing models for 동물실험동  -------+\n",
            "[동물실험동] Test Loss (RSME): 0.22983768209815025\n",
            "+--------- Prediction for 동물실험동  ---------+\n",
            "+------- Training models for 산업협력관 -------+\n",
            "Epoch [50/100] Train loss: 0.22391010493040084 Validation Loss: 0.22307221165725163\n",
            "Epoch [100/100] Train loss: 0.22399866878986358 Validation Loss: 0.2230722095285143\n",
            "Saved model to /content/drive/MyDrive/ict-2023/output-tuned/산업협력관-checkpoint-2023-08-10 20:57.pt\n",
            "+------- Testing models for 산업협력관  -------+\n",
            "[산업협력관] Test Loss (RSME): 0.2221582531929016\n",
            "+--------- Prediction for 산업협력관  ---------+\n",
            "+------- Training models for 삼성환경동 -------+\n",
            "Epoch [50/100] Train loss: 0.22683383817555475 Validation Loss: 0.22531385906040668\n",
            "Epoch [100/100] Train loss: 0.22684927968705287 Validation Loss: 0.2253138553351164\n",
            "Saved model to /content/drive/MyDrive/ict-2023/output-tuned/삼성환경동-checkpoint-2023-08-10 21:04.pt\n",
            "+------- Testing models for 삼성환경동  -------+\n",
            "[삼성환경동] Test Loss (RSME): 0.22817192785441875\n",
            "+--------- Prediction for 삼성환경동  ---------+\n",
            "+------- Training models for 시설관리동 -------+\n",
            "Epoch [50/100] Train loss: 0.21701621545142816 Validation Loss: 0.2156733926385641\n",
            "Epoch [100/100] Train loss: 0.2169916639562513 Validation Loss: 0.2156733889132738\n",
            "Saved model to /content/drive/MyDrive/ict-2023/output-tuned/시설관리동-checkpoint-2023-08-10 21:12.pt\n",
            "+------- Testing models for 시설관리동  -------+\n",
            "[시설관리동] Test Loss (RSME): 0.21892467699944973\n",
            "+--------- Prediction for 시설관리동  ---------+\n",
            "+------- Training models for 신재생에너지동 -------+\n",
            "Epoch [50/100] Train loss: 0.15592918264084174 Validation Loss: 0.15548537485301495\n",
            "Epoch [100/100] Train loss: 0.15593882637922882 Validation Loss: 0.1554852221161127\n",
            "Saved model to /content/drive/MyDrive/ict-2023/output-tuned/신재생에너지동-checkpoint-2023-08-10 21:20.pt\n",
            "+------- Testing models for 신재생에너지동  -------+\n",
            "[신재생에너지동] Test Loss (RSME): 0.1550424825400114\n",
            "+--------- Prediction for 신재생에너지동  ---------+\n",
            "+------- Training models for 중앙도서관 -------+\n",
            "Epoch [50/100] Train loss: 0.21513159402081225 Validation Loss: 0.2132124062627554\n",
            "Epoch [100/100] Train loss: 0.21512565651877982 Validation Loss: 0.2132124062627554\n",
            "Saved model to /content/drive/MyDrive/ict-2023/output-tuned/중앙도서관-checkpoint-2023-08-10 21:28.pt\n",
            "+------- Testing models for 중앙도서관  -------+\n",
            "[중앙도서관] Test Loss (RSME): 0.21704747155308723\n",
            "+--------- Prediction for 중앙도서관  ---------+\n",
            "+------- Training models for 중앙창고 -------+\n",
            "Epoch [50/100] Train loss: 0.21341784689270082 Validation Loss: 0.2132125347852707\n",
            "Epoch [100/100] Train loss: 0.21339279633076463 Validation Loss: 0.2132125347852707\n",
            "Saved model to /content/drive/MyDrive/ict-2023/output-tuned/중앙창고-checkpoint-2023-08-10 21:37.pt\n",
            "+------- Testing models for 중앙창고  -------+\n",
            "[중앙창고] Test Loss (RSME): 0.2155701108276844\n",
            "+--------- Prediction for 중앙창고  ---------+\n",
            "+------- Training models for 축구장 -------+\n",
            "Epoch [50/100] Train loss: 0.19402312035443353 Validation Loss: 0.19231568463146687\n",
            "Epoch [100/100] Train loss: 0.19403864931864817 Validation Loss: 0.19231567159295082\n",
            "Saved model to /content/drive/MyDrive/ict-2023/output-tuned/축구장-checkpoint-2023-08-10 21:45.pt\n",
            "+------- Testing models for 축구장  -------+\n",
            "[축구장] Test Loss (RSME): 0.19428418204188347\n",
            "+--------- Prediction for 축구장  ---------+\n",
            "+------- Training models for 학사과정 -------+\n",
            "Epoch [50/100] Train loss: 0.1908984743669385 Validation Loss: 0.1896036509424448\n",
            "Epoch [100/100] Train loss: 0.19094591282430243 Validation Loss: 0.18960364162921906\n",
            "Saved model to /content/drive/MyDrive/ict-2023/output-tuned/학사과정-checkpoint-2023-08-10 21:53.pt\n",
            "+------- Testing models for 학사과정  -------+\n",
            "[학사과정] Test Loss (RSME): 0.19121172465384007\n",
            "+--------- Prediction for 학사과정  ---------+\n",
            "+------- Training models for 학생회관 -------+\n",
            "Epoch [50/100] Train loss: 0.2164929526262596 Validation Loss: 0.21548192389309406\n",
            "Epoch [100/100] Train loss: 0.2164916576909237 Validation Loss: 0.2154818307608366\n",
            "Saved model to /content/drive/MyDrive/ict-2023/output-tuned/학생회관-checkpoint-2023-08-10 22:01.pt\n",
            "+------- Testing models for 학생회관  -------+\n",
            "[학생회관] Test Loss (RSME): 0.2180408388376236\n",
            "+--------- Prediction for 학생회관  ---------+\n",
            "Total Error for this config: 40.948638916015625kWh\n",
            "{'batch_size': 256, 'num_epochs': 100, 'hidden_size': 32, 'num_layers': 9}\n",
            "+------- Training models for LG도서관 -------+\n",
            "Epoch [50/100] Train loss: 0.21302509210148796 Validation Loss: 0.21160064451396465\n",
            "Epoch [100/100] Train loss: 0.2129971162706125 Validation Loss: 0.2116006389260292\n",
            "Saved model to /content/drive/MyDrive/ict-2023/output-tuned/LG도서관-checkpoint-2023-08-10 22:10.pt\n",
            "+------- Testing models for LG도서관  -------+\n",
            "[LG도서관] Test Loss (RSME): 0.21458798088133335\n",
            "+--------- Prediction for LG도서관  ---------+\n",
            "+------- Training models for 기숙사B동 -------+\n"
          ]
        },
        {
          "metadata": {
            "tags": null
          },
          "name": "stderr",
          "output_type": "stream",
          "text": [
            "<ipython-input-82-80fcd63c8b2e>:32: SettingWithCopyWarning: \n",
            "A value is trying to be set on a copy of a slice from a DataFrame.\n",
            "Try using .loc[row_indexer,col_indexer] = value instead\n",
            "\n",
            "See the caveats in the documentation: https://pandas.pydata.org/pandas-docs/stable/user_guide/indexing.html#returning-a-view-versus-a-copy\n",
            "  df[feature + '_sin'] = np.sin(2 * np.pi * df[feature] / max_val)\n",
            "<ipython-input-82-80fcd63c8b2e>:33: SettingWithCopyWarning: \n",
            "A value is trying to be set on a copy of a slice from a DataFrame.\n",
            "Try using .loc[row_indexer,col_indexer] = value instead\n",
            "\n",
            "See the caveats in the documentation: https://pandas.pydata.org/pandas-docs/stable/user_guide/indexing.html#returning-a-view-versus-a-copy\n",
            "  df[feature + '_cos'] = np.cos(2 * np.pi * df[feature] / max_val)\n"
          ]
        },
        {
          "metadata": {
            "tags": null
          },
          "name": "stdout",
          "output_type": "stream",
          "text": [
            "Epoch [50/100] Train loss: 0.22497356593608855 Validation Loss: 0.2240954339504242\n",
            "Epoch [100/100] Train loss: 0.22499440461397172 Validation Loss: 0.22409543182168687\n",
            "Saved model to /content/drive/MyDrive/ict-2023/output-tuned/기숙사B동-checkpoint-2023-08-10 22:18.pt\n",
            "+------- Testing models for 기숙사B동  -------+\n",
            "[기숙사B동] Test Loss (RSME): 0.22306846295084273\n",
            "+--------- Prediction for 기숙사B동  ---------+\n",
            "+------- Training models for 다산빌딩 -------+\n",
            "Epoch [50/100] Train loss: 0.21240424377019287 Validation Loss: 0.21136051788926125\n",
            "Epoch [100/100] Train loss: 0.21239582192702372 Validation Loss: 0.2113605123013258\n",
            "Saved model to /content/drive/MyDrive/ict-2023/output-tuned/다산빌딩-checkpoint-2023-08-10 22:26.pt\n",
            "+------- Testing models for 다산빌딩  -------+\n",
            "[다산빌딩] Test Loss (RSME): 0.21325922012329102\n",
            "+--------- Prediction for 다산빌딩  ---------+\n",
            "+------- Training models for 대학C동 -------+\n",
            "Epoch [50/100] Train loss: 0.2401843105183273 Validation Loss: 0.23838341236114502\n",
            "Epoch [100/100] Train loss: 0.24010539763286465 Validation Loss: 0.23838340491056442\n",
            "Saved model to /content/drive/MyDrive/ict-2023/output-tuned/대학C동-checkpoint-2023-08-10 22:35.pt\n",
            "+------- Testing models for 대학C동  -------+\n",
            "[대학C동] Test Loss (RSME): 0.2414388805627823\n",
            "+--------- Prediction for 대학C동  ---------+\n",
            "+------- Training models for 동물실험동 -------+\n",
            "Epoch [50/100] Train loss: 0.22769191568015051 Validation Loss: 0.22601390443742275\n",
            "Epoch [100/100] Train loss: 0.22766892807405503 Validation Loss: 0.2260138876736164\n",
            "Saved model to /content/drive/MyDrive/ict-2023/output-tuned/동물실험동-checkpoint-2023-08-10 22:43.pt\n",
            "+------- Testing models for 동물실험동  -------+\n",
            "[동물실험동] Test Loss (RSME): 0.2286185510456562\n",
            "+--------- Prediction for 동물실험동  ---------+\n",
            "+------- Training models for 산업협력관 -------+\n",
            "Epoch [50/100] Train loss: 0.22238134682178498 Validation Loss: 0.22118688481194632\n",
            "Epoch [100/100] Train loss: 0.22234418779611587 Validation Loss: 0.2211868507521493\n",
            "Saved model to /content/drive/MyDrive/ict-2023/output-tuned/산업협력관-checkpoint-2023-08-10 22:52.pt\n",
            "+------- Testing models for 산업협력관  -------+\n",
            "[산업협력관] Test Loss (RSME): 0.22067535562174662\n",
            "+--------- Prediction for 산업협력관  ---------+\n",
            "+------- Training models for 삼성환경동 -------+\n",
            "Epoch [50/100] Train loss: 0.22679723677088004 Validation Loss: 0.2253507748246193\n",
            "Epoch [100/100] Train loss: 0.2268092725120607 Validation Loss: 0.2253507785499096\n",
            "Saved model to /content/drive/MyDrive/ict-2023/output-tuned/삼성환경동-checkpoint-2023-08-10 23:00.pt\n",
            "+------- Testing models for 삼성환경동  -------+\n",
            "[삼성환경동] Test Loss (RSME): 0.228206068277359\n",
            "+--------- Prediction for 삼성환경동  ---------+\n",
            "+------- Training models for 시설관리동 -------+\n",
            "Epoch [50/100] Train loss: 0.2176786328925461 Validation Loss: 0.21642429754137993\n",
            "Epoch [100/100] Train loss: 0.2177718252432151 Validation Loss: 0.21642429567873478\n",
            "Saved model to /content/drive/MyDrive/ict-2023/output-tuned/시설관리동-checkpoint-2023-08-10 23:09.pt\n",
            "+------- Testing models for 시설관리동  -------+\n",
            "[시설관리동] Test Loss (RSME): 0.21965214982628822\n",
            "+--------- Prediction for 시설관리동  ---------+\n",
            "+------- Training models for 신재생에너지동 -------+\n",
            "Epoch [50/100] Train loss: 0.22766559241247958 Validation Loss: 0.2261999472975731\n",
            "Epoch [100/100] Train loss: 0.22762405408210443 Validation Loss: 0.22619994543492794\n",
            "Saved model to /content/drive/MyDrive/ict-2023/output-tuned/신재생에너지동-checkpoint-2023-08-10 23:18.pt\n",
            "+------- Testing models for 신재생에너지동  -------+\n",
            "[신재생에너지동] Test Loss (RSME): 0.22857287526130676\n",
            "+--------- Prediction for 신재생에너지동  ---------+\n",
            "+------- Training models for 중앙도서관 -------+\n",
            "Epoch [50/100] Train loss: 0.21524682689885624 Validation Loss: 0.21328327804803848\n",
            "Epoch [100/100] Train loss: 0.2152451144867256 Validation Loss: 0.21328327059745789\n",
            "Saved model to /content/drive/MyDrive/ict-2023/output-tuned/중앙도서관-checkpoint-2023-08-10 23:26.pt\n",
            "+------- Testing models for 중앙도서관  -------+\n",
            "[중앙도서관] Test Loss (RSME): 0.21714665926992893\n",
            "+--------- Prediction for 중앙도서관  ---------+\n",
            "+------- Training models for 중앙창고 -------+\n",
            "Epoch [50/100] Train loss: 0.21282304017270198 Validation Loss: 0.21263033151626587\n",
            "Epoch [100/100] Train loss: 0.21282338289940944 Validation Loss: 0.21263033151626587\n",
            "Saved model to /content/drive/MyDrive/ict-2023/output-tuned/중앙창고-checkpoint-2023-08-10 23:35.pt\n",
            "+------- Testing models for 중앙창고  -------+\n",
            "[중앙창고] Test Loss (RSME): 0.21500113606452942\n",
            "+--------- Prediction for 중앙창고  ---------+\n",
            "+------- Training models for 축구장 -------+\n",
            "Epoch [50/100] Train loss: 0.13913529622750204 Validation Loss: 0.13819552026689053\n",
            "Epoch [100/100] Train loss: 0.13918567876346777 Validation Loss: 0.13819539174437523\n",
            "Saved model to /content/drive/MyDrive/ict-2023/output-tuned/축구장-checkpoint-2023-08-10 23:44.pt\n",
            "+------- Testing models for 축구장  -------+\n",
            "[축구장] Test Loss (RSME): 0.13879267312586308\n",
            "+--------- Prediction for 축구장  ---------+\n",
            "+------- Training models for 학사과정 -------+\n",
            "Epoch [50/100] Train loss: 0.1883292676972561 Validation Loss: 0.18688776902854443\n",
            "Epoch [100/100] Train loss: 0.18836847582801444 Validation Loss: 0.1868877038359642\n",
            "Saved model to /content/drive/MyDrive/ict-2023/output-tuned/학사과정-checkpoint-2023-08-10 23:53.pt\n",
            "+------- Testing models for 학사과정  -------+\n",
            "[학사과정] Test Loss (RSME): 0.1885223723948002\n",
            "+--------- Prediction for 학사과정  ---------+\n",
            "+------- Training models for 학생회관 -------+\n",
            "Epoch [50/100] Train loss: 0.1396823974906421 Validation Loss: 0.1393588650971651\n",
            "Epoch [100/100] Train loss: 0.1396985501050949 Validation Loss: 0.13935881666839123\n",
            "Saved model to /content/drive/MyDrive/ict-2023/output-tuned/학생회관-checkpoint-2023-08-11 00:02.pt\n",
            "+------- Testing models for 학생회관  -------+\n",
            "[학생회관] Test Loss (RSME): 0.13863694667816162\n",
            "+--------- Prediction for 학생회관  ---------+\n",
            "Total Error for this config: 0.5441899299621582kWh\n",
            "{'batch_size': 256, 'num_epochs': 100, 'hidden_size': 32, 'num_layers': 8}\n",
            "+------- Training models for LG도서관 -------+\n",
            "Epoch [50/100] Train loss: 0.21259011767926764 Validation Loss: 0.21124912798404694\n",
            "Epoch [100/100] Train loss: 0.21254167473707042 Validation Loss: 0.21124912425875664\n",
            "Saved model to /content/drive/MyDrive/ict-2023/output-tuned/LG도서관-checkpoint-2023-08-11 00:12.pt\n",
            "+------- Testing models for LG도서관  -------+\n",
            "[LG도서관] Test Loss (RSME): 0.21421176008880138\n",
            "+--------- Prediction for LG도서관  ---------+\n",
            "+------- Training models for 기숙사B동 -------+\n"
          ]
        },
        {
          "metadata": {
            "tags": null
          },
          "name": "stderr",
          "output_type": "stream",
          "text": [
            "<ipython-input-82-80fcd63c8b2e>:32: SettingWithCopyWarning: \n",
            "A value is trying to be set on a copy of a slice from a DataFrame.\n",
            "Try using .loc[row_indexer,col_indexer] = value instead\n",
            "\n",
            "See the caveats in the documentation: https://pandas.pydata.org/pandas-docs/stable/user_guide/indexing.html#returning-a-view-versus-a-copy\n",
            "  df[feature + '_sin'] = np.sin(2 * np.pi * df[feature] / max_val)\n",
            "<ipython-input-82-80fcd63c8b2e>:33: SettingWithCopyWarning: \n",
            "A value is trying to be set on a copy of a slice from a DataFrame.\n",
            "Try using .loc[row_indexer,col_indexer] = value instead\n",
            "\n",
            "See the caveats in the documentation: https://pandas.pydata.org/pandas-docs/stable/user_guide/indexing.html#returning-a-view-versus-a-copy\n",
            "  df[feature + '_cos'] = np.cos(2 * np.pi * df[feature] / max_val)\n"
          ]
        },
        {
          "output_type": "stream",
          "name": "stdout",
          "text": [
            "Epoch [50/100] Train loss: 0.2249728611111641 Validation Loss: 0.22409494646957942\n",
            "Epoch [100/100] Train loss: 0.22499938935041428 Validation Loss: 0.2240949422121048\n",
            "Saved model to /content/drive/MyDrive/ict-2023/output-tuned/기숙사B동-checkpoint-2023-08-11 00:21.pt\n",
            "+------- Testing models for 기숙사B동  -------+\n",
            "[기숙사B동] Test Loss (RSME): 0.22306614262717112\n",
            "+--------- Prediction for 기숙사B동  ---------+\n",
            "+------- Training models for 다산빌딩 -------+\n",
            "Epoch [50/100] Train loss: 0.21175957825340208 Validation Loss: 0.2106539122760296\n",
            "Epoch [100/100] Train loss: 0.21177709982043408 Validation Loss: 0.2106539085507393\n",
            "Saved model to /content/drive/MyDrive/ict-2023/output-tuned/다산빌딩-checkpoint-2023-08-11 00:29.pt\n",
            "+------- Testing models for 다산빌딩  -------+\n",
            "[다산빌딩] Test Loss (RSME): 0.21256511099636555\n",
            "+--------- Prediction for 다산빌딩  ---------+\n",
            "+------- Training models for 대학C동 -------+\n",
            "Epoch [50/100] Train loss: 0.1728185083045334 Validation Loss: 0.1710552927106619\n",
            "Epoch [100/100] Train loss: 0.1727818218899555 Validation Loss: 0.17105492390692234\n",
            "Saved model to /content/drive/MyDrive/ict-2023/output-tuned/대학C동-checkpoint-2023-08-11 00:39.pt\n",
            "+------- Testing models for 대학C동  -------+\n",
            "[대학C동] Test Loss (RSME): 0.17262075282633305\n",
            "+--------- Prediction for 대학C동  ---------+\n",
            "+------- Training models for 동물실험동 -------+\n",
            "Epoch [50/100] Train loss: 0.2291327094445463 Validation Loss: 0.2274503204971552\n",
            "Epoch [100/100] Train loss: 0.22916039018357387 Validation Loss: 0.2274503130465746\n",
            "Saved model to /content/drive/MyDrive/ict-2023/output-tuned/동물실험동-checkpoint-2023-08-11 00:48.pt\n",
            "+------- Testing models for 동물실험동  -------+\n",
            "[동물실험동] Test Loss (RSME): 0.23008129373192787\n",
            "+--------- Prediction for 동물실험동  ---------+\n",
            "+------- Training models for 산업협력관 -------+\n",
            "Epoch [50/100] Train loss: 0.22199351102113724 Validation Loss: 0.22084106504917145\n",
            "Epoch [100/100] Train loss: 0.22203061550855638 Validation Loss: 0.22084103950432368\n",
            "Saved model to /content/drive/MyDrive/ict-2023/output-tuned/산업협력관-checkpoint-2023-08-11 00:57.pt\n",
            "+------- Testing models for 산업협력관  -------+\n",
            "[산업협력관] Test Loss (RSME): 0.22016145288944244\n",
            "+--------- Prediction for 산업협력관  ---------+\n",
            "+------- Training models for 삼성환경동 -------+\n",
            "Epoch [50/100] Train loss: 0.19960726040308593 Validation Loss: 0.1974773183465004\n",
            "Epoch [100/100] Train loss: 0.1996607560603345 Validation Loss: 0.1974768415093422\n",
            "Saved model to /content/drive/MyDrive/ict-2023/output-tuned/삼성환경동-checkpoint-2023-08-11 01:06.pt\n",
            "+------- Testing models for 삼성환경동  -------+\n",
            "[삼성환경동] Test Loss (RSME): 0.20009035803377628\n",
            "+--------- Prediction for 삼성환경동  ---------+\n",
            "+------- Training models for 시설관리동 -------+\n",
            "Epoch [50/100] Train loss: 0.15244858455462534 Validation Loss: 0.15159027837216854\n",
            "Epoch [100/100] Train loss: 0.15244167310292603 Validation Loss: 0.15159012749791145\n",
            "Saved model to /content/drive/MyDrive/ict-2023/output-tuned/시설관리동-checkpoint-2023-08-11 01:16.pt\n",
            "+------- Testing models for 시설관리동  -------+\n",
            "[시설관리동] Test Loss (RSME): 0.15233990736305714\n",
            "+--------- Prediction for 시설관리동  ---------+\n",
            "+------- Training models for 신재생에너지동 -------+\n",
            "Epoch [50/100] Train loss: 0.18267856709292676 Validation Loss: 0.18159659393131733\n",
            "Epoch [100/100] Train loss: 0.182667931816617 Validation Loss: 0.18159626238048077\n",
            "Saved model to /content/drive/MyDrive/ict-2023/output-tuned/신재생에너지동-checkpoint-2023-08-11 01:25.pt\n",
            "+------- Testing models for 신재생에너지동  -------+\n",
            "[신재생에너지동] Test Loss (RSME): 0.18336292169988155\n",
            "+--------- Prediction for 신재생에너지동  ---------+\n",
            "+------- Training models for 중앙도서관 -------+\n",
            "Epoch [50/100] Train loss: 0.16093019847987128 Validation Loss: 0.16019583493471146\n",
            "Epoch [100/100] Train loss: 0.16095435936919977 Validation Loss: 0.160195579752326\n",
            "Saved model to /content/drive/MyDrive/ict-2023/output-tuned/중앙도서관-checkpoint-2023-08-11 01:35.pt\n",
            "+------- Testing models for 중앙도서관  -------+\n",
            "[중앙도서관] Test Loss (RSME): 0.16173016466200352\n",
            "+--------- Prediction for 중앙도서관  ---------+\n",
            "+------- Training models for 중앙창고 -------+\n",
            "Epoch [50/100] Train loss: 0.150665176207902 Validation Loss: 0.15136232040822506\n",
            "Epoch [100/100] Train loss: 0.15066315746698222 Validation Loss: 0.15136217512190342\n",
            "Saved model to /content/drive/MyDrive/ict-2023/output-tuned/중앙창고-checkpoint-2023-08-11 01:45.pt\n",
            "+------- Testing models for 중앙창고  -------+\n",
            "[중앙창고] Test Loss (RSME): 0.15122053027153015\n",
            "+--------- Prediction for 중앙창고  ---------+\n",
            "+------- Training models for 축구장 -------+\n",
            "Epoch [50/100] Train loss: 0.14756842690413116 Validation Loss: 0.1467629075050354\n",
            "Epoch [100/100] Train loss: 0.14755782704861437 Validation Loss: 0.14676271378993988\n",
            "Saved model to /content/drive/MyDrive/ict-2023/output-tuned/축구장-checkpoint-2023-08-11 01:55.pt\n",
            "+------- Testing models for 축구장  -------+\n",
            "[축구장] Test Loss (RSME): 0.14736120402812958\n",
            "+--------- Prediction for 축구장  ---------+\n",
            "+------- Training models for 학사과정 -------+\n",
            "Epoch [50/100] Train loss: 0.18095335852904398 Validation Loss: 0.17961203679442406\n",
            "Epoch [100/100] Train loss: 0.18093002550914639 Validation Loss: 0.17961174063384533\n",
            "Saved model to /content/drive/MyDrive/ict-2023/output-tuned/학사과정-checkpoint-2023-08-11 02:05.pt\n",
            "+------- Testing models for 학사과정  -------+\n",
            "[학사과정] Test Loss (RSME): 0.1815215740352869\n",
            "+--------- Prediction for 학사과정  ---------+\n",
            "+------- Training models for 학생회관 -------+\n",
            "Epoch [50/100] Train loss: 0.13778360505573084 Validation Loss: 0.13754950650036335\n",
            "Epoch [100/100] Train loss: 0.13782406952537474 Validation Loss: 0.13754943199455738\n",
            "Saved model to /content/drive/MyDrive/ict-2023/output-tuned/학생회관-checkpoint-2023-08-11 02:15.pt\n",
            "+------- Testing models for 학생회관  -------+\n",
            "[학생회관] Test Loss (RSME): 0.13658900186419487\n",
            "+--------- Prediction for 학생회관  ---------+\n",
            "Total Error for this config: -6.671071529388428kWh\n",
            "{'batch_size': 256, 'num_epochs': 100, 'hidden_size': 32, 'num_layers': 7}\n",
            "+------- Training models for LG도서관 -------+\n",
            "Epoch [50/100] Train loss: 0.16270629621920038 Validation Loss: 0.16114664264023304\n",
            "Epoch [100/100] Train loss: 0.16270493459506113 Validation Loss: 0.16114636696875095\n",
            "Saved model to /content/drive/MyDrive/ict-2023/output-tuned/LG도서관-checkpoint-2023-08-11 02:25.pt\n",
            "+------- Testing models for LG도서관  -------+\n",
            "[LG도서관] Test Loss (RSME): 0.16290728375315666\n",
            "+--------- Prediction for LG도서관  ---------+\n",
            "+------- Training models for 기숙사B동 -------+\n"
          ]
        },
        {
          "output_type": "stream",
          "name": "stderr",
          "text": [
            "<ipython-input-82-80fcd63c8b2e>:32: SettingWithCopyWarning: \n",
            "A value is trying to be set on a copy of a slice from a DataFrame.\n",
            "Try using .loc[row_indexer,col_indexer] = value instead\n",
            "\n",
            "See the caveats in the documentation: https://pandas.pydata.org/pandas-docs/stable/user_guide/indexing.html#returning-a-view-versus-a-copy\n",
            "  df[feature + '_sin'] = np.sin(2 * np.pi * df[feature] / max_val)\n",
            "<ipython-input-82-80fcd63c8b2e>:33: SettingWithCopyWarning: \n",
            "A value is trying to be set on a copy of a slice from a DataFrame.\n",
            "Try using .loc[row_indexer,col_indexer] = value instead\n",
            "\n",
            "See the caveats in the documentation: https://pandas.pydata.org/pandas-docs/stable/user_guide/indexing.html#returning-a-view-versus-a-copy\n",
            "  df[feature + '_cos'] = np.cos(2 * np.pi * df[feature] / max_val)\n"
          ]
        },
        {
          "output_type": "stream",
          "name": "stdout",
          "text": [
            "Epoch [50/100] Train loss: 0.1963697463274002 Validation Loss: 0.1971567017691476\n",
            "Epoch [100/100] Train loss: 0.19634904235601425 Validation Loss: 0.19715633136885508\n",
            "Saved model to /content/drive/MyDrive/ict-2023/output-tuned/기숙사B동-checkpoint-2023-08-11 02:35.pt\n",
            "+------- Testing models for 기숙사B동  -------+\n",
            "[기숙사B동] Test Loss (RSME): 0.19420704245567322\n",
            "+--------- Prediction for 기숙사B동  ---------+\n",
            "+------- Training models for 다산빌딩 -------+\n",
            "Epoch [50/100] Train loss: 0.1686681396648532 Validation Loss: 0.1676361095160246\n",
            "Epoch [100/100] Train loss: 0.16873251268121062 Validation Loss: 0.16763592883944511\n",
            "Saved model to /content/drive/MyDrive/ict-2023/output-tuned/다산빌딩-checkpoint-2023-08-11 02:45.pt\n",
            "+------- Testing models for 다산빌딩  -------+\n",
            "[다산빌딩] Test Loss (RSME): 0.16907824017107487\n",
            "+--------- Prediction for 다산빌딩  ---------+\n",
            "+------- Training models for 대학C동 -------+\n",
            "Epoch [50/100] Train loss: 0.19851564481610157 Validation Loss: 0.19608771242201328\n",
            "Epoch [100/100] Train loss: 0.198532690767382 Validation Loss: 0.1960871908813715\n",
            "Saved model to /content/drive/MyDrive/ict-2023/output-tuned/대학C동-checkpoint-2023-08-11 02:55.pt\n",
            "+------- Testing models for 대학C동  -------+\n",
            "[대학C동] Test Loss (RSME): 0.1978389360010624\n",
            "+--------- Prediction for 대학C동  ---------+\n",
            "+------- Training models for 동물실험동 -------+\n",
            "Epoch [50/100] Train loss: 0.1430972550736099 Validation Loss: 0.14247672632336617\n",
            "Epoch [100/100] Train loss: 0.143150159325756 Validation Loss: 0.14247666113078594\n",
            "Saved model to /content/drive/MyDrive/ict-2023/output-tuned/동물실험동-checkpoint-2023-08-11 03:06.pt\n",
            "+------- Testing models for 동물실험동  -------+\n",
            "[동물실험동] Test Loss (RSME): 0.14161795936524868\n",
            "+--------- Prediction for 동물실험동  ---------+\n",
            "+------- Training models for 산업협력관 -------+\n",
            "Epoch [50/100] Train loss: 0.21810339152812958 Validation Loss: 0.21732944675854274\n",
            "Epoch [100/100] Train loss: 0.21808398723602296 Validation Loss: 0.21732930200440542\n",
            "Saved model to /content/drive/MyDrive/ict-2023/output-tuned/산업협력관-checkpoint-2023-08-11 03:16.pt\n",
            "+------- Testing models for 산업협력관  -------+\n",
            "[산업협력관] Test Loss (RSME): 0.21617957949638367\n",
            "+--------- Prediction for 산업협력관  ---------+\n",
            "+------- Training models for 삼성환경동 -------+\n"
          ]
        },
        {
          "output_type": "stream",
          "name": "stderr",
          "text": [
            "Exception ignored in: Exception ignored in: Exception ignored in: Exception ignored in: <function _after_fork at 0x7e07cd175990>Exception ignored in: \n",
            "<function _after_fork at 0x7e07cd175990>Traceback (most recent call last):\n",
            "<function _after_fork at 0x7e07cd175990>\n",
            "  File \"/usr/lib/python3.10/threading.py\", line 1635, in _after_fork\n",
            "<function _after_fork at 0x7e07cd175990>\n",
            "Traceback (most recent call last):\n",
            "    Exception ignored in: thread._reset_internal_locks(False)  File \"/usr/lib/python3.10/threading.py\", line 1636, in _after_fork\n",
            "<function _after_fork at 0x7e07cd175990><function _after_fork at 0x7e07cd175990>    \n",
            "\n",
            "Traceback (most recent call last):\n",
            "  File \"/usr/lib/python3.10/threading.py\", line 1635, in _after_fork\n",
            "\n",
            "Traceback (most recent call last):\n",
            "  File \"/usr/lib/python3.10/threading.py\", line 1635, in _after_fork\n",
            "    Traceback (most recent call last):\n",
            "  File \"/usr/lib/python3.10/threading.py\", line 1635, in _after_fork\n",
            "thread._reset_internal_locks(False)    thread._stop()KeyboardInterrupt\n",
            "    \n",
            "thread._reset_internal_locks(False)  File \"/usr/lib/python3.10/threading.py\", line 1046, in _stop\n",
            "thread._reset_internal_locks(False)  File \"/usr/lib/python3.10/threading.py\", line 888, in _reset_internal_locks\n",
            "\n",
            "\n",
            "  File \"/usr/lib/python3.10/threading.py\", line 888, in _reset_internal_locks\n",
            "    \n",
            "  File \"/usr/lib/python3.10/threading.py\", line 885, in _reset_internal_locks\n",
            "    Traceback (most recent call last):\n",
            "self._started._at_fork_reinit()    \n",
            "  File \"/usr/lib/python3.10/threading.py\", line 1636, in _after_fork\n",
            ":     thread._stop()\n",
            "  File \"/usr/lib/python3.10/threading.py\", line 1050, in _stop\n",
            "    if not self.daemon:  File \"/usr/lib/python3.10/threading.py\", line 551, in _at_fork_reinit\n",
            "def _reset_internal_locks(self, is_alive):if lock is not None:        \n",
            "self._cond._at_fork_reinit()\n",
            "KeyboardInterrupt\n",
            ": \n",
            "KeyboardInterrupt"
          ]
        },
        {
          "output_type": "error",
          "ename": "KeyboardInterrupt",
          "evalue": "ignored",
          "traceback": [
            "\u001b[0;31m---------------------------------------------------------------------------\u001b[0m",
            "\u001b[0;31mKeyboardInterrupt\u001b[0m                         Traceback (most recent call last)",
            "\u001b[0;32m<ipython-input-106-307589ab7e65>\u001b[0m in \u001b[0;36m<cell line: 8>\u001b[0;34m()\u001b[0m\n\u001b[1;32m     12\u001b[0m         \u001b[0mtrain_dataloader\u001b[0m\u001b[0;34m,\u001b[0m \u001b[0mval_dataloader\u001b[0m\u001b[0;34m,\u001b[0m \u001b[0mtest_loader\u001b[0m \u001b[0;34m=\u001b[0m \u001b[0mload_data\u001b[0m\u001b[0;34m(\u001b[0m\u001b[0mbuildings\u001b[0m\u001b[0;34m[\u001b[0m\u001b[0mb\u001b[0m\u001b[0;34m]\u001b[0m\u001b[0;34m,\u001b[0m \u001b[0mconfig\u001b[0m\u001b[0;34m[\u001b[0m\u001b[0;34m'batch_size'\u001b[0m\u001b[0;34m]\u001b[0m\u001b[0;34m)\u001b[0m\u001b[0;34m\u001b[0m\u001b[0;34m\u001b[0m\u001b[0m\n\u001b[1;32m     13\u001b[0m         \u001b[0mpicklepath\u001b[0m \u001b[0;34m=\u001b[0m \u001b[0msorted\u001b[0m\u001b[0;34m(\u001b[0m\u001b[0mglob\u001b[0m\u001b[0;34m.\u001b[0m\u001b[0mglob\u001b[0m\u001b[0;34m(\u001b[0m\u001b[0mRESULTS\u001b[0m\u001b[0;34m+\u001b[0m\u001b[0;34m\"/\"\u001b[0m\u001b[0;34m+\u001b[0m\u001b[0mb\u001b[0m\u001b[0;34m+\u001b[0m\u001b[0;34m\"*.pkl\"\u001b[0m\u001b[0;34m)\u001b[0m\u001b[0;34m)\u001b[0m\u001b[0;34m[\u001b[0m\u001b[0;34m-\u001b[0m\u001b[0;36m1\u001b[0m\u001b[0;34m]\u001b[0m\u001b[0;34m\u001b[0m\u001b[0;34m\u001b[0m\u001b[0m\n\u001b[0;32m---> 14\u001b[0;31m         \u001b[0mmodel\u001b[0m\u001b[0;34m,\u001b[0m \u001b[0moptimizer\u001b[0m \u001b[0;34m=\u001b[0m \u001b[0mtrain\u001b[0m\u001b[0;34m(\u001b[0m\u001b[0mb\u001b[0m\u001b[0;34m,\u001b[0m \u001b[0mconfig\u001b[0m\u001b[0;34m,\u001b[0m \u001b[0mtrain_dataloader\u001b[0m\u001b[0;34m,\u001b[0m \u001b[0mval_dataloader\u001b[0m\u001b[0;34m,\u001b[0m \u001b[0mpicklepath\u001b[0m\u001b[0;34m)\u001b[0m\u001b[0;34m\u001b[0m\u001b[0;34m\u001b[0m\u001b[0m\n\u001b[0m\u001b[1;32m     15\u001b[0m \u001b[0;34m\u001b[0m\u001b[0m\n\u001b[1;32m     16\u001b[0m         \u001b[0mprint\u001b[0m\u001b[0;34m(\u001b[0m\u001b[0;34mf\"+------- Testing models for {b}  -------+\"\u001b[0m\u001b[0;34m)\u001b[0m\u001b[0;34m\u001b[0m\u001b[0;34m\u001b[0m\u001b[0m\n",
            "\u001b[0;32m<ipython-input-90-d05c4e799c59>\u001b[0m in \u001b[0;36mtrain\u001b[0;34m(building, config, train_dataloader, val_dataloader, pklpath)\u001b[0m\n\u001b[1;32m     20\u001b[0m         \u001b[0mmodel\u001b[0m\u001b[0;34m.\u001b[0m\u001b[0mtrain\u001b[0m\u001b[0;34m(\u001b[0m\u001b[0;34m)\u001b[0m\u001b[0;34m\u001b[0m\u001b[0;34m\u001b[0m\u001b[0m\n\u001b[1;32m     21\u001b[0m         \u001b[0mrunning_loss\u001b[0m \u001b[0;34m=\u001b[0m \u001b[0;36m0.0\u001b[0m\u001b[0;34m\u001b[0m\u001b[0;34m\u001b[0m\u001b[0m\n\u001b[0;32m---> 22\u001b[0;31m         \u001b[0;32mfor\u001b[0m \u001b[0minputs\u001b[0m\u001b[0;34m,\u001b[0m \u001b[0mlabels\u001b[0m \u001b[0;32min\u001b[0m \u001b[0mtrain_dataloader\u001b[0m\u001b[0;34m:\u001b[0m\u001b[0;34m\u001b[0m\u001b[0;34m\u001b[0m\u001b[0m\n\u001b[0m\u001b[1;32m     23\u001b[0m             \u001b[0minputs\u001b[0m \u001b[0;34m=\u001b[0m \u001b[0minputs\u001b[0m\u001b[0;34m.\u001b[0m\u001b[0mto\u001b[0m\u001b[0;34m(\u001b[0m\u001b[0mdevice\u001b[0m\u001b[0;34m)\u001b[0m\u001b[0;34m\u001b[0m\u001b[0;34m\u001b[0m\u001b[0m\n\u001b[1;32m     24\u001b[0m             \u001b[0mlabels\u001b[0m \u001b[0;34m=\u001b[0m \u001b[0mlabels\u001b[0m\u001b[0;34m.\u001b[0m\u001b[0mto\u001b[0m\u001b[0;34m(\u001b[0m\u001b[0mdevice\u001b[0m\u001b[0;34m)\u001b[0m\u001b[0;34m\u001b[0m\u001b[0;34m\u001b[0m\u001b[0m\n",
            "\u001b[0;32m/usr/local/lib/python3.10/dist-packages/torch/utils/data/dataloader.py\u001b[0m in \u001b[0;36m__next__\u001b[0;34m(self)\u001b[0m\n\u001b[1;32m    631\u001b[0m                 \u001b[0;31m# TODO(https://github.com/pytorch/pytorch/issues/76750)\u001b[0m\u001b[0;34m\u001b[0m\u001b[0;34m\u001b[0m\u001b[0m\n\u001b[1;32m    632\u001b[0m                 \u001b[0mself\u001b[0m\u001b[0;34m.\u001b[0m\u001b[0m_reset\u001b[0m\u001b[0;34m(\u001b[0m\u001b[0;34m)\u001b[0m  \u001b[0;31m# type: ignore[call-arg]\u001b[0m\u001b[0;34m\u001b[0m\u001b[0;34m\u001b[0m\u001b[0m\n\u001b[0;32m--> 633\u001b[0;31m             \u001b[0mdata\u001b[0m \u001b[0;34m=\u001b[0m \u001b[0mself\u001b[0m\u001b[0;34m.\u001b[0m\u001b[0m_next_data\u001b[0m\u001b[0;34m(\u001b[0m\u001b[0;34m)\u001b[0m\u001b[0;34m\u001b[0m\u001b[0;34m\u001b[0m\u001b[0m\n\u001b[0m\u001b[1;32m    634\u001b[0m             \u001b[0mself\u001b[0m\u001b[0;34m.\u001b[0m\u001b[0m_num_yielded\u001b[0m \u001b[0;34m+=\u001b[0m \u001b[0;36m1\u001b[0m\u001b[0;34m\u001b[0m\u001b[0;34m\u001b[0m\u001b[0m\n\u001b[1;32m    635\u001b[0m             \u001b[0;32mif\u001b[0m \u001b[0mself\u001b[0m\u001b[0;34m.\u001b[0m\u001b[0m_dataset_kind\u001b[0m \u001b[0;34m==\u001b[0m \u001b[0m_DatasetKind\u001b[0m\u001b[0;34m.\u001b[0m\u001b[0mIterable\u001b[0m \u001b[0;32mand\u001b[0m\u001b[0;31m \u001b[0m\u001b[0;31m\\\u001b[0m\u001b[0;34m\u001b[0m\u001b[0;34m\u001b[0m\u001b[0m\n",
            "\u001b[0;32m/usr/local/lib/python3.10/dist-packages/torch/utils/data/dataloader.py\u001b[0m in \u001b[0;36m_next_data\u001b[0;34m(self)\u001b[0m\n\u001b[1;32m   1326\u001b[0m \u001b[0;34m\u001b[0m\u001b[0m\n\u001b[1;32m   1327\u001b[0m             \u001b[0;32massert\u001b[0m \u001b[0;32mnot\u001b[0m \u001b[0mself\u001b[0m\u001b[0;34m.\u001b[0m\u001b[0m_shutdown\u001b[0m \u001b[0;32mand\u001b[0m \u001b[0mself\u001b[0m\u001b[0;34m.\u001b[0m\u001b[0m_tasks_outstanding\u001b[0m \u001b[0;34m>\u001b[0m \u001b[0;36m0\u001b[0m\u001b[0;34m\u001b[0m\u001b[0;34m\u001b[0m\u001b[0m\n\u001b[0;32m-> 1328\u001b[0;31m             \u001b[0midx\u001b[0m\u001b[0;34m,\u001b[0m \u001b[0mdata\u001b[0m \u001b[0;34m=\u001b[0m \u001b[0mself\u001b[0m\u001b[0;34m.\u001b[0m\u001b[0m_get_data\u001b[0m\u001b[0;34m(\u001b[0m\u001b[0;34m)\u001b[0m\u001b[0;34m\u001b[0m\u001b[0;34m\u001b[0m\u001b[0m\n\u001b[0m\u001b[1;32m   1329\u001b[0m             \u001b[0mself\u001b[0m\u001b[0;34m.\u001b[0m\u001b[0m_tasks_outstanding\u001b[0m \u001b[0;34m-=\u001b[0m \u001b[0;36m1\u001b[0m\u001b[0;34m\u001b[0m\u001b[0;34m\u001b[0m\u001b[0m\n\u001b[1;32m   1330\u001b[0m             \u001b[0;32mif\u001b[0m \u001b[0mself\u001b[0m\u001b[0;34m.\u001b[0m\u001b[0m_dataset_kind\u001b[0m \u001b[0;34m==\u001b[0m \u001b[0m_DatasetKind\u001b[0m\u001b[0;34m.\u001b[0m\u001b[0mIterable\u001b[0m\u001b[0;34m:\u001b[0m\u001b[0;34m\u001b[0m\u001b[0;34m\u001b[0m\u001b[0m\n",
            "\u001b[0;32m/usr/local/lib/python3.10/dist-packages/torch/utils/data/dataloader.py\u001b[0m in \u001b[0;36m_get_data\u001b[0;34m(self)\u001b[0m\n\u001b[1;32m   1292\u001b[0m         \u001b[0;32melse\u001b[0m\u001b[0;34m:\u001b[0m\u001b[0;34m\u001b[0m\u001b[0;34m\u001b[0m\u001b[0m\n\u001b[1;32m   1293\u001b[0m             \u001b[0;32mwhile\u001b[0m \u001b[0;32mTrue\u001b[0m\u001b[0;34m:\u001b[0m\u001b[0;34m\u001b[0m\u001b[0;34m\u001b[0m\u001b[0m\n\u001b[0;32m-> 1294\u001b[0;31m                 \u001b[0msuccess\u001b[0m\u001b[0;34m,\u001b[0m \u001b[0mdata\u001b[0m \u001b[0;34m=\u001b[0m \u001b[0mself\u001b[0m\u001b[0;34m.\u001b[0m\u001b[0m_try_get_data\u001b[0m\u001b[0;34m(\u001b[0m\u001b[0;34m)\u001b[0m\u001b[0;34m\u001b[0m\u001b[0;34m\u001b[0m\u001b[0m\n\u001b[0m\u001b[1;32m   1295\u001b[0m                 \u001b[0;32mif\u001b[0m \u001b[0msuccess\u001b[0m\u001b[0;34m:\u001b[0m\u001b[0;34m\u001b[0m\u001b[0;34m\u001b[0m\u001b[0m\n\u001b[1;32m   1296\u001b[0m                     \u001b[0;32mreturn\u001b[0m \u001b[0mdata\u001b[0m\u001b[0;34m\u001b[0m\u001b[0;34m\u001b[0m\u001b[0m\n",
            "\u001b[0;32m/usr/local/lib/python3.10/dist-packages/torch/utils/data/dataloader.py\u001b[0m in \u001b[0;36m_try_get_data\u001b[0;34m(self, timeout)\u001b[0m\n\u001b[1;32m   1130\u001b[0m         \u001b[0;31m#   (bool: whether successfully get data, any: data if successful else None)\u001b[0m\u001b[0;34m\u001b[0m\u001b[0;34m\u001b[0m\u001b[0m\n\u001b[1;32m   1131\u001b[0m         \u001b[0;32mtry\u001b[0m\u001b[0;34m:\u001b[0m\u001b[0;34m\u001b[0m\u001b[0;34m\u001b[0m\u001b[0m\n\u001b[0;32m-> 1132\u001b[0;31m             \u001b[0mdata\u001b[0m \u001b[0;34m=\u001b[0m \u001b[0mself\u001b[0m\u001b[0;34m.\u001b[0m\u001b[0m_data_queue\u001b[0m\u001b[0;34m.\u001b[0m\u001b[0mget\u001b[0m\u001b[0;34m(\u001b[0m\u001b[0mtimeout\u001b[0m\u001b[0;34m=\u001b[0m\u001b[0mtimeout\u001b[0m\u001b[0;34m)\u001b[0m\u001b[0;34m\u001b[0m\u001b[0;34m\u001b[0m\u001b[0m\n\u001b[0m\u001b[1;32m   1133\u001b[0m             \u001b[0;32mreturn\u001b[0m \u001b[0;34m(\u001b[0m\u001b[0;32mTrue\u001b[0m\u001b[0;34m,\u001b[0m \u001b[0mdata\u001b[0m\u001b[0;34m)\u001b[0m\u001b[0;34m\u001b[0m\u001b[0;34m\u001b[0m\u001b[0m\n\u001b[1;32m   1134\u001b[0m         \u001b[0;32mexcept\u001b[0m \u001b[0mException\u001b[0m \u001b[0;32mas\u001b[0m \u001b[0me\u001b[0m\u001b[0;34m:\u001b[0m\u001b[0;34m\u001b[0m\u001b[0;34m\u001b[0m\u001b[0m\n",
            "\u001b[0;32m/usr/lib/python3.10/multiprocessing/queues.py\u001b[0m in \u001b[0;36mget\u001b[0;34m(self, block, timeout)\u001b[0m\n\u001b[1;32m    111\u001b[0m                 \u001b[0;32mif\u001b[0m \u001b[0mblock\u001b[0m\u001b[0;34m:\u001b[0m\u001b[0;34m\u001b[0m\u001b[0;34m\u001b[0m\u001b[0m\n\u001b[1;32m    112\u001b[0m                     \u001b[0mtimeout\u001b[0m \u001b[0;34m=\u001b[0m \u001b[0mdeadline\u001b[0m \u001b[0;34m-\u001b[0m \u001b[0mtime\u001b[0m\u001b[0;34m.\u001b[0m\u001b[0mmonotonic\u001b[0m\u001b[0;34m(\u001b[0m\u001b[0;34m)\u001b[0m\u001b[0;34m\u001b[0m\u001b[0;34m\u001b[0m\u001b[0m\n\u001b[0;32m--> 113\u001b[0;31m                     \u001b[0;32mif\u001b[0m \u001b[0;32mnot\u001b[0m \u001b[0mself\u001b[0m\u001b[0;34m.\u001b[0m\u001b[0m_poll\u001b[0m\u001b[0;34m(\u001b[0m\u001b[0mtimeout\u001b[0m\u001b[0;34m)\u001b[0m\u001b[0;34m:\u001b[0m\u001b[0;34m\u001b[0m\u001b[0;34m\u001b[0m\u001b[0m\n\u001b[0m\u001b[1;32m    114\u001b[0m                         \u001b[0;32mraise\u001b[0m \u001b[0mEmpty\u001b[0m\u001b[0;34m\u001b[0m\u001b[0;34m\u001b[0m\u001b[0m\n\u001b[1;32m    115\u001b[0m                 \u001b[0;32melif\u001b[0m \u001b[0;32mnot\u001b[0m \u001b[0mself\u001b[0m\u001b[0;34m.\u001b[0m\u001b[0m_poll\u001b[0m\u001b[0;34m(\u001b[0m\u001b[0;34m)\u001b[0m\u001b[0;34m:\u001b[0m\u001b[0;34m\u001b[0m\u001b[0;34m\u001b[0m\u001b[0m\n",
            "\u001b[0;32m/usr/lib/python3.10/multiprocessing/connection.py\u001b[0m in \u001b[0;36mpoll\u001b[0;34m(self, timeout)\u001b[0m\n\u001b[1;32m    255\u001b[0m         \u001b[0mself\u001b[0m\u001b[0;34m.\u001b[0m\u001b[0m_check_closed\u001b[0m\u001b[0;34m(\u001b[0m\u001b[0;34m)\u001b[0m\u001b[0;34m\u001b[0m\u001b[0;34m\u001b[0m\u001b[0m\n\u001b[1;32m    256\u001b[0m         \u001b[0mself\u001b[0m\u001b[0;34m.\u001b[0m\u001b[0m_check_readable\u001b[0m\u001b[0;34m(\u001b[0m\u001b[0;34m)\u001b[0m\u001b[0;34m\u001b[0m\u001b[0;34m\u001b[0m\u001b[0m\n\u001b[0;32m--> 257\u001b[0;31m         \u001b[0;32mreturn\u001b[0m \u001b[0mself\u001b[0m\u001b[0;34m.\u001b[0m\u001b[0m_poll\u001b[0m\u001b[0;34m(\u001b[0m\u001b[0mtimeout\u001b[0m\u001b[0;34m)\u001b[0m\u001b[0;34m\u001b[0m\u001b[0;34m\u001b[0m\u001b[0m\n\u001b[0m\u001b[1;32m    258\u001b[0m \u001b[0;34m\u001b[0m\u001b[0m\n\u001b[1;32m    259\u001b[0m     \u001b[0;32mdef\u001b[0m \u001b[0m__enter__\u001b[0m\u001b[0;34m(\u001b[0m\u001b[0mself\u001b[0m\u001b[0;34m)\u001b[0m\u001b[0;34m:\u001b[0m\u001b[0;34m\u001b[0m\u001b[0;34m\u001b[0m\u001b[0m\n",
            "\u001b[0;32m/usr/lib/python3.10/multiprocessing/connection.py\u001b[0m in \u001b[0;36m_poll\u001b[0;34m(self, timeout)\u001b[0m\n\u001b[1;32m    422\u001b[0m \u001b[0;34m\u001b[0m\u001b[0m\n\u001b[1;32m    423\u001b[0m     \u001b[0;32mdef\u001b[0m \u001b[0m_poll\u001b[0m\u001b[0;34m(\u001b[0m\u001b[0mself\u001b[0m\u001b[0;34m,\u001b[0m \u001b[0mtimeout\u001b[0m\u001b[0;34m)\u001b[0m\u001b[0;34m:\u001b[0m\u001b[0;34m\u001b[0m\u001b[0;34m\u001b[0m\u001b[0m\n\u001b[0;32m--> 424\u001b[0;31m         \u001b[0mr\u001b[0m \u001b[0;34m=\u001b[0m \u001b[0mwait\u001b[0m\u001b[0;34m(\u001b[0m\u001b[0;34m[\u001b[0m\u001b[0mself\u001b[0m\u001b[0;34m]\u001b[0m\u001b[0;34m,\u001b[0m \u001b[0mtimeout\u001b[0m\u001b[0;34m)\u001b[0m\u001b[0;34m\u001b[0m\u001b[0;34m\u001b[0m\u001b[0m\n\u001b[0m\u001b[1;32m    425\u001b[0m         \u001b[0;32mreturn\u001b[0m \u001b[0mbool\u001b[0m\u001b[0;34m(\u001b[0m\u001b[0mr\u001b[0m\u001b[0;34m)\u001b[0m\u001b[0;34m\u001b[0m\u001b[0;34m\u001b[0m\u001b[0m\n\u001b[1;32m    426\u001b[0m \u001b[0;34m\u001b[0m\u001b[0m\n",
            "\u001b[0;32m/usr/lib/python3.10/multiprocessing/connection.py\u001b[0m in \u001b[0;36mwait\u001b[0;34m(object_list, timeout)\u001b[0m\n\u001b[1;32m    929\u001b[0m \u001b[0;34m\u001b[0m\u001b[0m\n\u001b[1;32m    930\u001b[0m             \u001b[0;32mwhile\u001b[0m \u001b[0;32mTrue\u001b[0m\u001b[0;34m:\u001b[0m\u001b[0;34m\u001b[0m\u001b[0;34m\u001b[0m\u001b[0m\n\u001b[0;32m--> 931\u001b[0;31m                 \u001b[0mready\u001b[0m \u001b[0;34m=\u001b[0m \u001b[0mselector\u001b[0m\u001b[0;34m.\u001b[0m\u001b[0mselect\u001b[0m\u001b[0;34m(\u001b[0m\u001b[0mtimeout\u001b[0m\u001b[0;34m)\u001b[0m\u001b[0;34m\u001b[0m\u001b[0;34m\u001b[0m\u001b[0m\n\u001b[0m\u001b[1;32m    932\u001b[0m                 \u001b[0;32mif\u001b[0m \u001b[0mready\u001b[0m\u001b[0;34m:\u001b[0m\u001b[0;34m\u001b[0m\u001b[0;34m\u001b[0m\u001b[0m\n\u001b[1;32m    933\u001b[0m                     \u001b[0;32mreturn\u001b[0m \u001b[0;34m[\u001b[0m\u001b[0mkey\u001b[0m\u001b[0;34m.\u001b[0m\u001b[0mfileobj\u001b[0m \u001b[0;32mfor\u001b[0m \u001b[0;34m(\u001b[0m\u001b[0mkey\u001b[0m\u001b[0;34m,\u001b[0m \u001b[0mevents\u001b[0m\u001b[0;34m)\u001b[0m \u001b[0;32min\u001b[0m \u001b[0mready\u001b[0m\u001b[0;34m]\u001b[0m\u001b[0;34m\u001b[0m\u001b[0;34m\u001b[0m\u001b[0m\n",
            "\u001b[0;32m/usr/lib/python3.10/selectors.py\u001b[0m in \u001b[0;36mselect\u001b[0;34m(self, timeout)\u001b[0m\n\u001b[1;32m    414\u001b[0m         \u001b[0mready\u001b[0m \u001b[0;34m=\u001b[0m \u001b[0;34m[\u001b[0m\u001b[0;34m]\u001b[0m\u001b[0;34m\u001b[0m\u001b[0;34m\u001b[0m\u001b[0m\n\u001b[1;32m    415\u001b[0m         \u001b[0;32mtry\u001b[0m\u001b[0;34m:\u001b[0m\u001b[0;34m\u001b[0m\u001b[0;34m\u001b[0m\u001b[0m\n\u001b[0;32m--> 416\u001b[0;31m             \u001b[0mfd_event_list\u001b[0m \u001b[0;34m=\u001b[0m \u001b[0mself\u001b[0m\u001b[0;34m.\u001b[0m\u001b[0m_selector\u001b[0m\u001b[0;34m.\u001b[0m\u001b[0mpoll\u001b[0m\u001b[0;34m(\u001b[0m\u001b[0mtimeout\u001b[0m\u001b[0;34m)\u001b[0m\u001b[0;34m\u001b[0m\u001b[0;34m\u001b[0m\u001b[0m\n\u001b[0m\u001b[1;32m    417\u001b[0m         \u001b[0;32mexcept\u001b[0m \u001b[0mInterruptedError\u001b[0m\u001b[0;34m:\u001b[0m\u001b[0;34m\u001b[0m\u001b[0;34m\u001b[0m\u001b[0m\n\u001b[1;32m    418\u001b[0m             \u001b[0;32mreturn\u001b[0m \u001b[0mready\u001b[0m\u001b[0;34m\u001b[0m\u001b[0;34m\u001b[0m\u001b[0m\n",
            "\u001b[0;31mKeyboardInterrupt\u001b[0m: "
          ]
        },
        {
          "output_type": "stream",
          "name": "stderr",
          "text": [
            ": \n",
            "self._started._at_fork_reinit()\n",
            "KeyboardInterrupt\n",
            "\n",
            ":   File \"/usr/lib/python3.10/threading.py\", line 551, in _at_fork_reinit\n",
            "    self._cond._at_fork_reinit()\n",
            "\n",
            "  File \"/usr/lib/python3.10/threading.py\", line 260, in _at_fork_reinit\n",
            "  File \"/usr/lib/python3.10/threading.py\", line 261, in _at_fork_reinit\n",
            "    def _at_fork_reinit(self):    \n",
            "self._lock._at_fork_reinit()KeyboardInterrupt: \n",
            "\n",
            "KeyboardInterrupt"
          ]
        }
      ]
    },
    {
      "cell_type": "markdown",
      "source": [
        "Testing the models..."
      ],
      "metadata": {
        "id": "xx0xr_WNUThE"
      }
    },
    {
      "cell_type": "code",
      "source": [
        "checkpoint = torch.load('/content/drive/MyDrive/ict-2023/output/LG도서관-checkpoint-2023-08-08.pt')"
      ],
      "metadata": {
        "id": "vOiYFlugRXza"
      },
      "execution_count": null,
      "outputs": []
    },
    {
      "cell_type": "code",
      "source": [
        "checkpoint['lr']"
      ],
      "metadata": {
        "colab": {
          "base_uri": "https://localhost:8080/"
        },
        "id": "RoQsE1tkRgXa",
        "outputId": "4efde061-2da6-4c05-eccb-432fac7832e8"
      },
      "execution_count": null,
      "outputs": [
        {
          "output_type": "execute_result",
          "data": {
            "text/plain": [
              "1.0000000000000024e-49"
            ]
          },
          "metadata": {},
          "execution_count": 42
        }
      ]
    },
    {
      "cell_type": "code",
      "source": [
        "# Save hyperparams\n",
        "import pickle\n",
        "RESULTS = \"/content/drive/MyDrive/ict-2023/results/\"\n",
        "\n",
        "if not os.path.exists(RESULTS):\n",
        "    os.makedirs(RESULTS)\n",
        "\n",
        "for b in buildings.keys():\n",
        "    scalers = y_scalers[b]\n",
        "\n",
        "    metrics = {\n",
        "        'RMSE': losses[b]\n",
        "    }\n",
        "\n",
        "    # Combine all results in one dictionary\n",
        "    results = {\n",
        "        'Hyperparameters': config,\n",
        "        'Scalers': scalers,\n",
        "        'Metrics': metrics\n",
        "    }\n",
        "\n",
        "    # Save results to a pickle file\n",
        "    with open(f\"{RESULTS}{b}-{str(datetime.date.today())}-hp.pkl\", 'wb') as f:\n",
        "        pickle.dump(results, f)\n"
      ],
      "metadata": {
        "id": "1I5pi6pbYYQu"
      },
      "execution_count": null,
      "outputs": []
    },
    {
      "cell_type": "code",
      "source": [
        "os.listdir(RESULTS)"
      ],
      "metadata": {
        "colab": {
          "base_uri": "https://localhost:8080/"
        },
        "id": "XRSIAypf6LZ5",
        "outputId": "ae6194ce-9496-4853-f67f-2b898bfc424a"
      },
      "execution_count": null,
      "outputs": [
        {
          "output_type": "execute_result",
          "data": {
            "text/plain": [
              "['중앙도서관-2023-08-05-hp.pkl',\n",
              " '대학C동-2023-08-05-hp.pkl',\n",
              " '다산빌딩-2023-08-05-hp.pkl',\n",
              " '학생회관-2023-08-05-hp.pkl',\n",
              " '동물실험동-2023-08-05-hp.pkl',\n",
              " '중앙창고-2023-08-05-hp.pkl',\n",
              " '산업협력관-2023-08-05-hp.pkl',\n",
              " '시설관리동-2023-08-05-hp.pkl',\n",
              " '삼성환경동-2023-08-05-hp.pkl',\n",
              " 'LG도서관-2023-08-05-hp.pkl',\n",
              " '신재생에너지동-2023-08-05-hp.pkl',\n",
              " '기숙사B동-2023-08-05-hp.pkl',\n",
              " '축구장-2023-08-05-hp.pkl',\n",
              " '학사과정-2023-08-05-hp.pkl',\n",
              " '산업협력관-2023-08-08-hp.pkl',\n",
              " '다산빌딩-2023-08-08-hp.pkl',\n",
              " '대학C동-2023-08-08-hp.pkl',\n",
              " '중앙창고-2023-08-08-hp.pkl',\n",
              " '시설관리동-2023-08-08-hp.pkl',\n",
              " '동물실험동-2023-08-08-hp.pkl',\n",
              " '중앙도서관-2023-08-08-hp.pkl',\n",
              " '삼성환경동-2023-08-08-hp.pkl',\n",
              " '학생회관-2023-08-08-hp.pkl',\n",
              " 'LG도서관-2023-08-08-hp.pkl',\n",
              " '학사과정-2023-08-08-hp.pkl',\n",
              " '신재생에너지동-2023-08-08-hp.pkl',\n",
              " '축구장-2023-08-08-hp.pkl',\n",
              " '기숙사B동-2023-08-08-hp.pkl']"
            ]
          },
          "metadata": {},
          "execution_count": 44
        }
      ]
    },
    {
      "cell_type": "code",
      "source": [
        "# Save results to a pickle file\n",
        "with open(f\"{RESULTS}{b}-{str(datetime.date.today())}-hp.pkl\", 'rb') as f:\n",
        "    loaded = pickle.load(f)\n",
        "loaded"
      ],
      "metadata": {
        "colab": {
          "base_uri": "https://localhost:8080/"
        },
        "id": "0aL3736Q6sgg",
        "outputId": "d92435a2-5ba8-4796-83d9-2f06febfa584"
      },
      "execution_count": null,
      "outputs": [
        {
          "output_type": "execute_result",
          "data": {
            "text/plain": [
              "{'Hyperparameters': {'batch_size': 256,\n",
              "  'num_epochs': 100,\n",
              "  'hidden_size': 256,\n",
              "  'num_layers': 10},\n",
              " 'Scalers': MinMaxScaler(),\n",
              " 'Metrics': {'RMSE': 0.23477265238761902}}"
            ]
          },
          "metadata": {},
          "execution_count": 45
        }
      ]
    },
    {
      "cell_type": "markdown",
      "source": [
        "## Hyperparameter-tuning version"
      ],
      "metadata": {
        "id": "kneQLqYnsiwW"
      }
    },
    {
      "cell_type": "code",
      "source": [
        "!pip install 'ray[tune]'"
      ],
      "metadata": {
        "id": "ZhM_YKtbBUIX"
      },
      "execution_count": null,
      "outputs": []
    },
    {
      "cell_type": "code",
      "source": [
        "!pip install wandb"
      ],
      "metadata": {
        "id": "x03l4FFMQIQU"
      },
      "execution_count": null,
      "outputs": []
    },
    {
      "cell_type": "code",
      "source": [
        "from ray import tune\n",
        "from ray.air import Checkpoint, session\n",
        "from ray.tune.schedulers import ASHAScheduler"
      ],
      "metadata": {
        "id": "vJ5OyUr2BNq1"
      },
      "execution_count": null,
      "outputs": []
    },
    {
      "cell_type": "code",
      "source": [
        "import wandb\n",
        "wandb.login()"
      ],
      "metadata": {
        "colab": {
          "base_uri": "https://localhost:8080/",
          "height": 71
        },
        "id": "-5omuzp0QLYH",
        "outputId": "3e420ec2-9eef-4e1b-8c48-0be6d50e7f6c"
      },
      "execution_count": null,
      "outputs": [
        {
          "output_type": "display_data",
          "data": {
            "text/plain": [
              "<IPython.core.display.Javascript object>"
            ],
            "application/javascript": [
              "\n",
              "        window._wandbApiKey = new Promise((resolve, reject) => {\n",
              "            function loadScript(url) {\n",
              "            return new Promise(function(resolve, reject) {\n",
              "                let newScript = document.createElement(\"script\");\n",
              "                newScript.onerror = reject;\n",
              "                newScript.onload = resolve;\n",
              "                document.body.appendChild(newScript);\n",
              "                newScript.src = url;\n",
              "            });\n",
              "            }\n",
              "            loadScript(\"https://cdn.jsdelivr.net/npm/postmate/build/postmate.min.js\").then(() => {\n",
              "            const iframe = document.createElement('iframe')\n",
              "            iframe.style.cssText = \"width:0;height:0;border:none\"\n",
              "            document.body.appendChild(iframe)\n",
              "            const handshake = new Postmate({\n",
              "                container: iframe,\n",
              "                url: 'https://wandb.ai/authorize'\n",
              "            });\n",
              "            const timeout = setTimeout(() => reject(\"Couldn't auto authenticate\"), 5000)\n",
              "            handshake.then(function(child) {\n",
              "                child.on('authorize', data => {\n",
              "                    clearTimeout(timeout)\n",
              "                    resolve(data)\n",
              "                });\n",
              "            });\n",
              "            })\n",
              "        });\n",
              "    "
            ]
          },
          "metadata": {}
        },
        {
          "output_type": "stream",
          "name": "stderr",
          "text": [
            "\u001b[34m\u001b[1mwandb\u001b[0m: Appending key for api.wandb.ai to your netrc file: /root/.netrc\n"
          ]
        },
        {
          "output_type": "execute_result",
          "data": {
            "text/plain": [
              "True"
            ]
          },
          "metadata": {},
          "execution_count": 12
        }
      ]
    },
    {
      "cell_type": "code",
      "source": [
        "import ray\n",
        "ray.init(ignore_reinit_error=True, num_cpus=12, num_gpus=1)"
      ],
      "metadata": {
        "colab": {
          "base_uri": "https://localhost:8080/",
          "height": 77
        },
        "id": "QObFJw7RWQHV",
        "outputId": "dc9c12e5-e375-498a-ea68-cd3598c4e1db"
      },
      "execution_count": null,
      "outputs": [
        {
          "output_type": "stream",
          "name": "stderr",
          "text": [
            "2023-08-07 09:11:49,128\tINFO worker.py:1621 -- Started a local Ray instance.\n"
          ]
        },
        {
          "output_type": "execute_result",
          "data": {
            "text/plain": [
              "RayContext(dashboard_url='', python_version='3.10.12', ray_version='2.6.2', ray_commit='92ad4bab9e93c7a207a44c65ab51295f92566cb4', protocol_version=None)"
            ],
            "text/html": [
              "<div class=\"lm-Widget p-Widget lm-Panel p-Panel jp-Cell-outputWrapper\">\n",
              "    <div style=\"margin-left: 50px;display: flex;flex-direction: row;align-items: center\">\n",
              "        <div class=\"jp-RenderedHTMLCommon\" style=\"display: flex; flex-direction: row;\">\n",
              "  <svg viewBox=\"0 0 567 224\" fill=\"none\" xmlns=\"http://www.w3.org/2000/svg\" style=\"height: 3em;\">\n",
              "    <g clip-path=\"url(#clip0_4338_178347)\">\n",
              "        <path d=\"M341.29 165.561H355.29L330.13 129.051C345.63 123.991 354.21 112.051 354.21 94.2307C354.21 71.3707 338.72 58.1807 311.88 58.1807H271V165.561H283.27V131.661H311.8C314.25 131.661 316.71 131.501 319.01 131.351L341.25 165.561H341.29ZM283.29 119.851V70.0007H311.82C331.3 70.0007 342.34 78.2907 342.34 94.5507C342.34 111.271 331.34 119.861 311.82 119.861L283.29 119.851ZM451.4 138.411L463.4 165.561H476.74L428.74 58.1807H416L367.83 165.561H380.83L392.83 138.411H451.4ZM446.19 126.601H398L422 72.1407L446.24 126.601H446.19ZM526.11 128.741L566.91 58.1807H554.35L519.99 114.181L485.17 58.1807H472.44L514.01 129.181V165.541H526.13V128.741H526.11Z\" fill=\"var(--jp-ui-font-color0)\"/>\n",
              "        <path d=\"M82.35 104.44C84.0187 97.8827 87.8248 92.0678 93.1671 87.9146C98.5094 83.7614 105.083 81.5067 111.85 81.5067C118.617 81.5067 125.191 83.7614 130.533 87.9146C135.875 92.0678 139.681 97.8827 141.35 104.44H163.75C164.476 101.562 165.622 98.8057 167.15 96.2605L127.45 56.5605C121.071 60.3522 113.526 61.6823 106.235 60.3005C98.9443 58.9187 92.4094 54.9203 87.8602 49.0574C83.3109 43.1946 81.0609 35.8714 81.5332 28.4656C82.0056 21.0599 85.1679 14.0819 90.4252 8.8446C95.6824 3.60726 102.672 0.471508 110.08 0.0272655C117.487 -0.416977 124.802 1.86091 130.647 6.4324C136.493 11.0039 140.467 17.5539 141.821 24.8501C143.175 32.1463 141.816 39.6859 138 46.0505L177.69 85.7505C182.31 82.9877 187.58 81.4995 192.962 81.4375C198.345 81.3755 203.648 82.742 208.33 85.3976C213.012 88.0532 216.907 91.9029 219.616 96.5544C222.326 101.206 223.753 106.492 223.753 111.875C223.753 117.258 222.326 122.545 219.616 127.197C216.907 131.848 213.012 135.698 208.33 138.353C203.648 141.009 198.345 142.375 192.962 142.313C187.58 142.251 182.31 140.763 177.69 138L138 177.7C141.808 184.071 143.155 191.614 141.79 198.91C140.424 206.205 136.44 212.75 130.585 217.313C124.731 221.875 117.412 224.141 110.004 223.683C102.596 223.226 95.6103 220.077 90.3621 214.828C85.1139 209.58 81.9647 202.595 81.5072 195.187C81.0497 187.779 83.3154 180.459 87.878 174.605C92.4405 168.751 98.9853 164.766 106.281 163.401C113.576 162.035 121.119 163.383 127.49 167.19L167.19 127.49C165.664 124.941 164.518 122.182 163.79 119.3H141.39C139.721 125.858 135.915 131.673 130.573 135.826C125.231 139.98 118.657 142.234 111.89 142.234C105.123 142.234 98.5494 139.98 93.2071 135.826C87.8648 131.673 84.0587 125.858 82.39 119.3H60C58.1878 126.495 53.8086 132.78 47.6863 136.971C41.5641 141.163 34.1211 142.972 26.7579 142.059C19.3947 141.146 12.6191 137.574 7.70605 132.014C2.79302 126.454 0.0813599 119.29 0.0813599 111.87C0.0813599 104.451 2.79302 97.2871 7.70605 91.7272C12.6191 86.1673 19.3947 82.5947 26.7579 81.6817C34.1211 80.7686 41.5641 82.5781 47.6863 86.7696C53.8086 90.9611 58.1878 97.2456 60 104.44H82.35ZM100.86 204.32C103.407 206.868 106.759 208.453 110.345 208.806C113.93 209.159 117.527 208.258 120.522 206.256C123.517 204.254 125.725 201.276 126.771 197.828C127.816 194.38 127.633 190.677 126.253 187.349C124.874 184.021 122.383 181.274 119.205 179.577C116.027 177.88 112.359 177.337 108.826 178.042C105.293 178.746 102.113 180.654 99.8291 183.44C97.5451 186.226 96.2979 189.718 96.3 193.32C96.2985 195.364 96.7006 197.388 97.4831 199.275C98.2656 201.163 99.4132 202.877 100.86 204.32ZM204.32 122.88C206.868 120.333 208.453 116.981 208.806 113.396C209.159 109.811 208.258 106.214 206.256 103.219C204.254 100.223 201.275 98.0151 197.827 96.97C194.38 95.9249 190.676 96.1077 187.348 97.4873C184.02 98.8669 181.274 101.358 179.577 104.536C177.879 107.714 177.337 111.382 178.041 114.915C178.746 118.448 180.653 121.627 183.439 123.911C186.226 126.195 189.717 127.443 193.32 127.44C195.364 127.443 197.388 127.042 199.275 126.259C201.163 125.476 202.878 124.328 204.32 122.88ZM122.88 19.4205C120.333 16.8729 116.981 15.2876 113.395 14.9347C109.81 14.5817 106.213 15.483 103.218 17.4849C100.223 19.4868 98.0146 22.4654 96.9696 25.9131C95.9245 29.3608 96.1073 33.0642 97.4869 36.3922C98.8665 39.7202 101.358 42.4668 104.535 44.1639C107.713 45.861 111.381 46.4036 114.914 45.6992C118.447 44.9949 121.627 43.0871 123.911 40.301C126.195 37.515 127.442 34.0231 127.44 30.4205C127.44 28.3772 127.038 26.3539 126.255 24.4664C125.473 22.5788 124.326 20.8642 122.88 19.4205ZM19.42 100.86C16.8725 103.408 15.2872 106.76 14.9342 110.345C14.5813 113.93 15.4826 117.527 17.4844 120.522C19.4863 123.518 22.4649 125.726 25.9127 126.771C29.3604 127.816 33.0638 127.633 36.3918 126.254C39.7198 124.874 42.4664 122.383 44.1635 119.205C45.8606 116.027 46.4032 112.359 45.6988 108.826C44.9944 105.293 43.0866 102.114 40.3006 99.8296C37.5145 97.5455 34.0227 96.2983 30.42 96.3005C26.2938 96.3018 22.337 97.9421 19.42 100.86ZM100.86 100.86C98.3125 103.408 96.7272 106.76 96.3742 110.345C96.0213 113.93 96.9226 117.527 98.9244 120.522C100.926 123.518 103.905 125.726 107.353 126.771C110.8 127.816 114.504 127.633 117.832 126.254C121.16 124.874 123.906 122.383 125.604 119.205C127.301 116.027 127.843 112.359 127.139 108.826C126.434 105.293 124.527 102.114 121.741 99.8296C118.955 97.5455 115.463 96.2983 111.86 96.3005C109.817 96.299 107.793 96.701 105.905 97.4835C104.018 98.2661 102.303 99.4136 100.86 100.86Z\" fill=\"#00AEEF\"/>\n",
              "    </g>\n",
              "    <defs>\n",
              "        <clipPath id=\"clip0_4338_178347\">\n",
              "            <rect width=\"566.93\" height=\"223.75\" fill=\"white\"/>\n",
              "        </clipPath>\n",
              "    </defs>\n",
              "  </svg>\n",
              "</div>\n",
              "\n",
              "        <table class=\"jp-RenderedHTMLCommon\" style=\"border-collapse: collapse;color: var(--jp-ui-font-color1);font-size: var(--jp-ui-font-size1);\">\n",
              "    <tr>\n",
              "        <td style=\"text-align: left\"><b>Python version:</b></td>\n",
              "        <td style=\"text-align: left\"><b>3.10.12</b></td>\n",
              "    </tr>\n",
              "    <tr>\n",
              "        <td style=\"text-align: left\"><b>Ray version:</b></td>\n",
              "        <td style=\"text-align: left\"><b>2.6.2</b></td>\n",
              "    </tr>\n",
              "    \n",
              "</table>\n",
              "\n",
              "    </div>\n",
              "</div>\n"
            ]
          },
          "metadata": {},
          "execution_count": 14
        }
      ]
    },
    {
      "cell_type": "code",
      "source": [
        "from ray.air.integrations.wandb import WandbLoggerCallback\n",
        "from ray.tune.logger import DEFAULT_LOGGERS"
      ],
      "metadata": {
        "id": "efbAIfgHRCh5"
      },
      "execution_count": null,
      "outputs": []
    },
    {
      "cell_type": "code",
      "source": [],
      "metadata": {
        "id": "NPoR2BjJRogw"
      },
      "execution_count": null,
      "outputs": []
    },
    {
      "cell_type": "code",
      "source": [
        "os.environ[\"FUNCTION_SIZE_ERROR_THRESHOLD\"] = \"400\""
      ],
      "metadata": {
        "id": "m_M3r76U4u8i"
      },
      "execution_count": null,
      "outputs": []
    },
    {
      "cell_type": "code",
      "source": [
        "sequences, labels = seq_dict[b], lab_dict[b]"
      ],
      "metadata": {
        "id": "aginvRaT1e5m"
      },
      "execution_count": null,
      "outputs": []
    },
    {
      "cell_type": "code",
      "source": [
        "# Ray Tune configuration\n",
        "config = {\n",
        "    \"num_epochs\": 100,\n",
        "    \"lr\": tune.loguniform(1e-4, 1e-1),\n",
        "    \"num_layers\": tune.choice([5,6,7,8]),\n",
        "    \"batch_size\": tune.choice([32, 64, 128]),\n",
        "    \"hidden_size\": tune.choice([32, 64, 128]),\n",
        "    \"wandb\": {\n",
        "        \"log_config\": True,\n",
        "        \"api_key\": \"99911b0ddfa05a10619f53353db2a824461aca36\",\n",
        "        \"project\": \"ict-2023\"\n",
        "    }\n",
        "}"
      ],
      "metadata": {
        "id": "VkMJ8vE7tlFy"
      },
      "execution_count": null,
      "outputs": []
    },
    {
      "cell_type": "code",
      "source": [
        "# Set the device for training (GPU if available, otherwise CPU)\n",
        "device = torch.device(\"cuda\" if torch.cuda.is_available() else \"cpu\")\n",
        "\n",
        "# Define the hyperparameters\n",
        "input_size = 17  # Number of features\n",
        "output_size = 24"
      ],
      "metadata": {
        "id": "WAz75kKpvsEO"
      },
      "execution_count": null,
      "outputs": []
    },
    {
      "cell_type": "code",
      "source": [
        "PATH = \"/content/drive/MyDrive/ict-2023/output-tuned\"\n",
        "if not os.path.exists(PATH):\n",
        "    os.makedirs(PATH)"
      ],
      "metadata": {
        "id": "GhYQga6StEEc"
      },
      "execution_count": null,
      "outputs": []
    },
    {
      "cell_type": "code",
      "source": [
        "def train_model(config):\n",
        "\n",
        "    train_dataloader, val_dataloader, test_dataloader = load_data(sequences, labels, config[\"batch_size\"])\n",
        "\n",
        "    model = LSTMModel(input_size, config[\"hidden_size\"], config[\"num_layers\"], output_size).to(device)\n",
        "    criterion = nn.MSELoss()\n",
        "    optimizer = torch.optim.Adam(model.parameters(), lr=config[\"lr\"])\n",
        "\n",
        "    checkpoint = session.get_checkpoint()\n",
        "\n",
        "    if checkpoint:\n",
        "        checkpoint_state = checkpoint.to_dict()\n",
        "        start_epoch = checkpoint_state[\"epoch\"]\n",
        "        model.load_state_dict(checkpoint_state[\"model_state_dict\"])\n",
        "        optimizer.load_state_dict(checkpoint_state[\"optimizer_state_dict\"])\n",
        "    else:\n",
        "        start_epoch = 0\n",
        "\n",
        "\n",
        "\n",
        "    for epoch in range(config['num_epochs']):\n",
        "        model.train()\n",
        "        running_loss = 0.0\n",
        "        for inputs, labels in train_dataloader:\n",
        "            inputs = inputs.to(device)\n",
        "            labels = labels.to(device)\n",
        "\n",
        "            # Forward pass\n",
        "            outputs = model(inputs)\n",
        "\n",
        "            # Compute loss\n",
        "            loss = torch.sqrt(criterion(outputs, labels)) #RMSE Loss\n",
        "\n",
        "            # Backward pass and optimization\n",
        "            optimizer.zero_grad()\n",
        "            loss.backward()\n",
        "            optimizer.step()\n",
        "\n",
        "            running_loss += loss.item()\n",
        "\n",
        "\n",
        "            # Print the average loss for the epoch\n",
        "        train_loss = running_loss / len(train_dataloader)\n",
        "\n",
        "\n",
        "        model.eval()\n",
        "        running_loss = 0.0\n",
        "\n",
        "        with torch.no_grad():\n",
        "            for inputs, labels in val_dataloader:\n",
        "                inputs = inputs.to(device)\n",
        "                labels = labels.to(device)\n",
        "\n",
        "                    # Forward pass\n",
        "                outputs = model(inputs)\n",
        "\n",
        "                    # Compute loss\n",
        "                loss = torch.sqrt(criterion(outputs, labels))\n",
        "\n",
        "                running_loss += loss.item()\n",
        "        val_loss = running_loss / len(val_dataloader)\n",
        "\n",
        "            # Here we save result for this step of training.\n",
        "\n",
        "        checkpoint_data = {\n",
        "            \"epoch\": epoch,\n",
        "            \"net_state_dict\": model.state_dict(),\n",
        "            \"optimizer_state_dict\": optimizer.state_dict(),\n",
        "        }\n",
        "        checkpoint = Checkpoint.from_dict(checkpoint_data)\n",
        "\n",
        "        session.report(\n",
        "            {\"loss\": val_loss},\n",
        "            checkpoint=checkpoint,\n",
        "        )\n",
        "\n",
        "    print(\"Finished Training\")\n",
        "\n"
      ],
      "metadata": {
        "id": "mKBVZWwGsB7n"
      },
      "execution_count": null,
      "outputs": []
    },
    {
      "cell_type": "code",
      "source": [
        "from ray import air\n",
        "\n",
        "scheduler = ASHAScheduler(\n",
        "        metric=\"loss\",\n",
        "        mode=\"min\",\n",
        "        max_t=100,\n",
        "        grace_period=1,\n",
        "        reduction_factor=2,\n",
        "    )\n",
        "\n",
        "\n",
        "analysis = tune.run(\n",
        "    train_model,\n",
        "    config=config,\n",
        "    resources_per_trial={\"cpu\": 1, \"gpu\": 0.1},\n",
        "    num_samples= 20,\n",
        "    scheduler = scheduler,\n",
        "    callbacks=[WandbLoggerCallback(\n",
        "        project=\"ict-2023\",\n",
        "        api_key='99911b0ddfa05a10619f53353db2a824461aca36',\n",
        "        log_config=True\n",
        "    )]\n",
        ")\n",
        "best_trial = analysis.get_best_trial(\"loss\", \"min\", \"last\")\n",
        "print(\"Best config: \", analysis.get_best_config(metric=\"loss\", mode=\"min\"))\n"
      ],
      "metadata": {
        "id": "xln1AZThsF4o"
      },
      "execution_count": null,
      "outputs": []
    },
    {
      "cell_type": "markdown",
      "source": [
        "# The Next 24-hour Prediction"
      ],
      "metadata": {
        "id": "YFP7TaXn_hUo"
      }
    },
    {
      "cell_type": "code",
      "source": [
        "CHECKPOINT_PATH = \"/content/drive/MyDrive/ict-2023/output\""
      ],
      "metadata": {
        "id": "zWCvGBZ5AyzE"
      },
      "execution_count": null,
      "outputs": []
    },
    {
      "cell_type": "code",
      "source": [
        "glob.glob(CHECKPOINT_PATH+\"/*-checkpoint-*.pt\")[0].split(\"/\")[-1].split(\".\")[0][:-11]"
      ],
      "metadata": {
        "colab": {
          "base_uri": "https://localhost:8080/",
          "height": 36
        },
        "id": "pScOBKlTEtHJ",
        "outputId": "28a47810-74e8-45b1-d93f-80cda45622b3"
      },
      "execution_count": null,
      "outputs": [
        {
          "output_type": "execute_result",
          "data": {
            "text/plain": [
              "'중앙도서관'"
            ],
            "application/vnd.google.colaboratory.intrinsic+json": {
              "type": "string"
            }
          },
          "metadata": {},
          "execution_count": 41
        }
      ]
    },
    {
      "cell_type": "code",
      "source": [
        "# Load the saved model checkpoint\n",
        "modelsdict = dict()\n",
        "for path in glob.glob(CHECKPOINT_PATH+\"/*-checkpoint-*.pt\"):\n",
        "    building = path.split(\"/\")[-1].split(\".\")[0][:-11]\n",
        "    model = LSTMModel(input_size, hidden_size, num_layers, output_size).to(device)\n",
        "    model.load_state_dict(torch.load(path))\n",
        "    modelsdict[building] = model"
      ],
      "metadata": {
        "id": "s2GlhN1hD30T"
      },
      "execution_count": null,
      "outputs": []
    },
    {
      "cell_type": "code",
      "source": [
        "modelsdict.keys()"
      ],
      "metadata": {
        "colab": {
          "base_uri": "https://localhost:8080/"
        },
        "id": "Ftsb_d8WNWPE",
        "outputId": "7182267a-4caa-494a-910a-cfb0ecc615fb"
      },
      "execution_count": null,
      "outputs": [
        {
          "output_type": "execute_result",
          "data": {
            "text/plain": [
              "dict_keys(['중앙도서관', '시설관리동', '산업협력관', '동물실험동', '신재생에너지동', '기숙사B동', '대학C동', 'LG도서관', '중앙창고', '학생회관', '학사과정', '삼성환경동', '축구장', '다산빌딩'])"
            ]
          },
          "metadata": {},
          "execution_count": 43
        }
      ]
    },
    {
      "cell_type": "markdown",
      "source": [
        "The prediction based on the last 7 days' data"
      ],
      "metadata": {
        "id": "b3WZrZAJc65Y"
      }
    },
    {
      "cell_type": "code",
      "source": [
        "pred_PATH = \"/content/drive/MyDrive/ict-2023/pred\"\n",
        "data_all = dict() # dataframe for display\n",
        "for b in modelsdict.keys():\n",
        "    valid_sequences = []\n",
        "    valid_sequences.append(X_dict[b][-24*7:]) # predict based on the last 7 days' data\n",
        "    valid_sequences = torch.stack(valid_sequences)\n",
        "    valid_sequences.shape\n",
        "\n",
        "    model = modelsdict[b]\n",
        "    scaler = scalers[b]\n",
        "    model.eval()\n",
        "    prediction = model(valid_sequences.to(device))\n",
        "\n",
        "    # Convert the predictions tensor to a numpy array\n",
        "    predictions_array = prediction.detach().cpu().numpy()\n",
        "    prediction_array = scaler.inverse_transform(predictions_array)\n",
        "\n",
        "    #convert negative value to positive\n",
        "    rounded_data = np.maximum(prediction_array, 0.0).reshape(-1,1)\n",
        "\n",
        "    data_all[b] = rounded_data.flatten()\n",
        "\n",
        "    # Create a DataFrame from the predictions array\n",
        "    predictions_df = pd.DataFrame(rounded_data, columns=['Prediction'])\n",
        "    predictions_df.to_csv(os.path.join(pred_PATH, b+\"-revised.csv\"), index=False)"
      ],
      "metadata": {
        "id": "PJANVNKhVSTr"
      },
      "execution_count": null,
      "outputs": []
    },
    {
      "cell_type": "code",
      "source": [
        "pd.DataFrame(data_all).to_csv(os.path.join(pred_PATH,'summed.csv'), index=False)\n",
        "pd.DataFrame(data_all)"
      ],
      "metadata": {
        "id": "B09X0KhcXAbc"
      },
      "execution_count": null,
      "outputs": []
    },
    {
      "cell_type": "code",
      "source": [
        "all = pd.DataFrame(data_all)\n",
        "all.to_csv(\"/content/drive/MyDrive/ict-2023/pred/merged.csv\", index=False)"
      ],
      "metadata": {
        "id": "CENYr5vhH64q"
      },
      "execution_count": null,
      "outputs": []
    }
  ]
}