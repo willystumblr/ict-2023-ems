{
 "cells": [
  {
   "cell_type": "code",
   "execution_count": 1,
   "metadata": {},
   "outputs": [
    {
     "name": "stdout",
     "output_type": "stream",
     "text": [
      "{'learning_rate': 0.001, 'batch_size': 64, 'num_epochs': 200, 'hidden_dim': 256, 'n_layers': 7}\n",
      "{'min': array([7.000e+00, 1.000e+00, 0.000e+00, 1.000e+00, 0.000e+00, 1.770e+01,\n",
      "       4.300e+01, 2.000e-01, 7.000e-01, 6.318e+02, 6.000e-01, 1.922e+02,\n",
      "       2.000e-01, 5.100e+00, 9.000e-01, 1.000e-01, 7.029e+02, 6.565e+02,\n",
      "       7.620e+01, 7.663e+02, 6.825e+02, 8.670e+01, 2.197e+03, 1.000e-01,\n",
      "       3.520e-02, 8.144e+02, 7.795e+02, 7.109e+02, 7.525e+02, 4.206e+02,\n",
      "       3.131e+02, 9.305e+02, 1.363e+02, 1.930e+01, 6.315e+02, 1.805e-01,\n",
      "       6.000e-01, 2.000e-01, 4.000e-01, 1.000e-01, 9.000e-01, 0.000e+00,\n",
      "       1.000e-01, 3.886e+02, 0.000e+00, 2.000e-01, 8.590e+01, 7.713e+02,\n",
      "       4.665e+02, 6.834e+02, 4.100e+01, 5.240e+02, 4.470e+01, 1.000e-01,\n",
      "       8.634e+02, 4.000e-01, 8.950e+01, 1.000e-01, 0.000e+00, 3.020e+01,\n",
      "       2.763e+02, 1.000e-01, 2.860e+02]), 'max': array([8.0000e+00, 3.1000e+01, 2.3000e+01, 7.0000e+00, 1.0000e+00,\n",
      "       3.4500e+01, 9.9000e+01, 9.9910e+02, 9.9960e+02, 6.3180e+02,\n",
      "       9.9990e+02, 1.9220e+02, 9.9990e+02, 5.7000e+00, 9.9980e+02,\n",
      "       9.9990e+02, 8.8210e+02, 8.1750e+02, 1.6260e+02, 8.6000e+02,\n",
      "       9.6170e+02, 4.4230e+02, 2.2578e+03, 9.9960e+02, 5.1200e-02,\n",
      "       9.6730e+02, 8.2330e+02, 7.4390e+02, 7.9150e+02, 4.5790e+02,\n",
      "       3.3870e+02, 9.5590e+02, 2.0880e+02, 4.0500e+01, 7.1110e+02,\n",
      "       1.9770e-01, 9.9980e+02, 9.9970e+02, 9.9950e+02, 9.9810e+02,\n",
      "       9.9960e+02, 9.9970e+02, 9.9970e+02, 5.6520e+02, 9.9970e+02,\n",
      "       9.9980e+02, 7.9010e+02, 9.8480e+02, 8.4830e+02, 7.1920e+02,\n",
      "       1.2060e+02, 6.0110e+02, 8.6400e+01, 9.9990e+02, 9.3830e+02,\n",
      "       9.9970e+02, 1.3660e+02, 1.0000e+03, 9.9990e+02, 4.2200e+01,\n",
      "       3.5290e+02, 1.0000e+03, 3.8390e+02])}\n",
      "{'MAE': 0.080182105, 'MSE': 0.01767018, 'RMSE': 0.1329292317308924}\n"
     ]
    }
   ],
   "source": [
    "\"\"\"\n",
    "    pickle 파일 확인하는 용도\n",
    "\"\"\"\n",
    "import pickle\n",
    "results_folder = \"/home/kimyirum/EMS/ict-2023-ems/load/results/\"\n",
    "filename_metrics = \"20230802_174017\"\n",
    "\n",
    "# Load results from a pickle file\n",
    "with open(results_folder + filename_metrics, 'rb') as f:\n",
    "    loaded_results = pickle.load(f)\n",
    "\n",
    "# Now you can access your data from the loaded_results dictionary\n",
    "print(loaded_results['Hyperparameters'])\n",
    "print(loaded_results['Scalers'])\n",
    "print(loaded_results['Metrics'])"
   ]
  }
 ],
 "metadata": {
  "kernelspec": {
   "display_name": "EMS",
   "language": "python",
   "name": "python3"
  },
  "language_info": {
   "codemirror_mode": {
    "name": "ipython",
    "version": 3
   },
   "file_extension": ".py",
   "mimetype": "text/x-python",
   "name": "python",
   "nbconvert_exporter": "python",
   "pygments_lexer": "ipython3",
   "version": "3.11.4"
  },
  "orig_nbformat": 4
 },
 "nbformat": 4,
 "nbformat_minor": 2
}
