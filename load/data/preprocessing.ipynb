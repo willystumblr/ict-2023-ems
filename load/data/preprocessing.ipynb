{
 "cells": [
  {
   "cell_type": "markdown",
   "id": "00d5b460",
   "metadata": {},
   "source": [
    "시간, 기후, 계절, 요일 정보를 병합하기\n",
    "2020 06 01 ~ 2022 06 28 데이터(+ 2022 07 01 ~ 2022 08 31 데이터) 일단 앞 데이터로만\n",
    "\n",
    "년|월|일|요일|공휴일 유무|온도|습도|건물이름 유효전력량*56\n",
    "\n",
    "['0_SV-2', '1_SV-5', '2_SV-6', '3_SV-7', '4_HV-NM1', '5_HV-NM2', '6_고압콘덴샤', '7_신재생에너지동', '8_대학B동', '9_대학기숙사A동', '10_제2학생회관', '11_학사P/P', '12_교원아파트', '13_대학C동', '14_중앙연구기기센터', '15_대학A동', '16_다산빌딩', '17_산학협력연구동', '18_신재생에너지동(E)', '19_대학B동(E)', '20_대학기숙사A동(E)', '21_학사P/P(E)', '22_제2학생회관(E)', '23_교원아파트(E)', '24_대학C동(E)', '25_중앙연구기기센터(E)', '26_대학A동(E)', '27_다산빌딩(E)', '28_산학협력연구동(E)', '29_SV-2', '30_SV-5', '31_SV-6', '32_HV-M1', '33_HV-M2', '34_HV-NM', '35_HV-EM', '36_중앙P/P', '37_전기전자컴퓨터공학동', '38_신소재공학동', '39_생명과학동', '40_기계공학동', '41_LG도서관', '42_창업B동', '43_금호관', '44_냉각수순환펌프1,2,3', '45_냉각수순환펌프4,5,6', '46_기혼자아파트E동', '47_기숙사9동', '48_고등광/극초단', '49_신소재공학동(E)', '50_전기전자컴퓨터공학동(E)', '51_생명과학동(E)', '52_기계공학동(E)', '53_LG도서관(E)', '54_중앙P/P(E)', '55_고등광연구소(E)']\n",
    "\n",
    "memo\n",
    "학사 - 빌딩 29개 - MWH 27개 - KWH 2개(산학협력연구동)\n",
    "석사 - 빌딩 27개 - MWH 27개"
   ]
  },
  {
   "cell_type": "code",
   "execution_count": 136,
   "id": "3ad34dbb",
   "metadata": {},
   "outputs": [],
   "source": [
    "import os\n",
    "import pandas as pd\n",
    "from datetime import timedelta, date, datetime\n",
    "from workalendar.asia import SouthKorea\n",
    "\n",
    "def get_building(df):\n",
    "    name = []\n",
    "    temp = df[df['전력량 일보'] == '구분'] # 엑셀에서 '전력량 일보'라 써진 열에서 '구분' 행만 읽기\n",
    "    temp = temp.values.tolist()\n",
    "    for i in temp[0]:\n",
    "        if isinstance(i, str) and i != '구분':\n",
    "            name.append(i)\n",
    "    # print(name)\n",
    "    return name\n",
    "\n",
    "def get_all_building(file1, file2):\n",
    "    df1 = pd.read_excel(file1)\n",
    "    df1 = df1.dropna(how='all')\n",
    "    df2 = pd.read_excel(file2)\n",
    "    df2 = df2.dropna(how='all')\n",
    "    buildings = []\n",
    "    index = 0\n",
    "    for i in get_building(df1):\n",
    "        buildings.append(str(index)+'_'+i)\n",
    "        index += 1\n",
    "    for i in get_building(df2):\n",
    "        buildings.append(str(index)+'_'+i)\n",
    "        index += 1\n",
    "    # print(buildings)\n",
    "    return buildings\n",
    "\n",
    "def get_MWH(df):\n",
    "    time = df.filter(like='시간')\n",
    "    mwh_df = df.filter(regex='MWH|KWH') # 유효전력량 단위 다른 거 처리하기 17&28 건물\n",
    "    return time, mwh_df\n",
    "\n",
    "def get_all_MWH(file1, file2, bs):\n",
    "    df1 = pd.read_excel(file1, header=9)\n",
    "    df1 = df1.dropna(how='all')\n",
    "    df2 = pd.read_excel(file2, header=9)\n",
    "    df2 = df2.dropna(how='all')\n",
    "\n",
    "    time, mwh_df1 = get_MWH(df1)\n",
    "    _, mwh_df2 =  get_MWH(df2)\n",
    "    df = pd.concat([time, mwh_df1, mwh_df2], axis=1)\n",
    "    bs.insert(0, '')\n",
    "    df.columns = bs\n",
    "    df['17_산학협력연구동'] = df['17_산학협력연구동'] / 1000\n",
    "    df['28_산학협력연구동(E)'] = df['28_산학협력연구동(E)'] / 1000\n",
    "    return df\n",
    "\n",
    "def daterange(start_date, end_date):\n",
    "    for n in range(int((end_date - start_date).days)+1):\n",
    "        yield start_date + timedelta(n)\n",
    "\n",
    "def get_holiday(year):\n",
    "    cal = SouthKorea()\n",
    "    holidays = cal.holidays(year)  # 2022년의 공휴일을 가져옵니다.\n",
    "    holidays = [holiday[0] for holiday in holidays]\n",
    "    holidays = [datetime.strptime(str(holiday), '%Y-%m-%d').date() for holiday in holidays] # 날짜 형식으로 변환\n",
    "    return holidays"
   ]
  },
  {
   "cell_type": "code",
   "execution_count": 97,
   "id": "95bc4bb9",
   "metadata": {},
   "outputs": [
    {
     "name": "stdout",
     "output_type": "stream",
     "text": [
      "(24, 57)\n"
     ]
    }
   ],
   "source": [
    "# example\n",
    "# folder = '/home/kimyirum/EMS/data/2023_DATA/load/'\n",
    "# save = '/home/kimyirum/EMS/data/dataset_example/'\n",
    "folder = '/home/kimyirum/EMS/ict-2023-ems/load/data/2023_DATA/load/'\n",
    "save = '/home/kimyirum/EMS/ict-2023-ems/load/data/dataset_example/'\n",
    "\n",
    "day = '2022-08-31'\n",
    "file1 = folder + '학사 일보.gcf_' + day + '_23-59.xls'\n",
    "file2 = folder + '석사 일보.gcf_' + day + '_23-59.xls'\n",
    "\n",
    "bs = get_all_building(file1, file2)\n",
    "data = get_all_MWH(file1, file2, bs)\n",
    "# print(data.head())\n",
    "print(data.shape)\n",
    "\n",
    "data.to_excel(save+day+'.xlsx', index=False)"
   ]
  },
  {
   "cell_type": "code",
   "execution_count": 104,
   "id": "a02a27df",
   "metadata": {},
   "outputs": [
    {
     "name": "stdout",
     "output_type": "stream",
     "text": [
      "Save 62 files\n"
     ]
    }
   ],
   "source": [
    "# Generate\n",
    "# folder = '/home/kimyirum/EMS/data/2023_DATA/load/'\n",
    "# save = '/home/kimyirum/EMS/data/dataset/'\n",
    "folder = '/home/kimyirum/EMS/ict-2023-ems/load/data/2023_DATA/load/'\n",
    "save = '/home/kimyirum/EMS/ict-2023-ems/load/data/dataset/'\n",
    "\n",
    "################################\n",
    "start_date = date(2022, 7, 1)\n",
    "end_date = date(2022, 8, 31)\n",
    "################################\n",
    "\n",
    "date_list = [single_date.strftime(\"%Y-%m-%d\") for single_date in daterange(start_date, end_date)]\n",
    "for d in date_list:\n",
    "    file1 = folder + '학사 일보.gcf_' + d + '_23-59.xls'\n",
    "    file2 = folder + '석사 일보.gcf_' + d + '_23-59.xls'\n",
    "    bs = get_all_building(file1, file2)\n",
    "    data = get_all_MWH(file1, file2, bs)\n",
    "    data.to_excel(save+d+'.xlsx', index=False)\n",
    "\n",
    "print(\"Save \"+str(len(os.listdir(save)))+\" files\")"
   ]
  },
  {
   "cell_type": "code",
   "execution_count": 137,
   "id": "7d5abbca",
   "metadata": {},
   "outputs": [
    {
     "name": "stdout",
     "output_type": "stream",
     "text": [
      "(1488, 63)\n"
     ]
    }
   ],
   "source": [
    "# Generate\n",
    "# power_data_folder = '/home/kimyirum/EMS/data/dataset/'\n",
    "# weather_data_file = \"/home/kimyirum/EMS/data/2023_DATA/weather.xls\"\n",
    "# save_file = \"/home/kimyirum/EMS/data/merged_data.xlsx\"\n",
    "power_data_folder = '/home/kimyirum/EMS/ict-2023-ems/load/data/dataset/'\n",
    "weather_data_file = \"/home/kimyirum/EMS/ict-2023-ems/load/data/2023_DATA/weather.xls\"\n",
    "save_file = \"/home/kimyirum/EMS/ict-2023-ems/load/data/merged_data.xlsx\"\n",
    "\n",
    "# 폴더 내의 모든 파일을 읽어들이며 병합\n",
    "power_dfs = []\n",
    "for file_name in os.listdir(power_data_folder):\n",
    "    file_path = os.path.join(power_data_folder, file_name)\n",
    "    df = pd.read_excel(file_path)\n",
    "    # 날짜 정보를 파일 이름에서 추출하거나 파일 내용에서 추출하여 추가\n",
    "    df['date'] = pd.to_datetime(file_name.replace('.xlsx', ''))\n",
    "    power_dfs.append(df)\n",
    "\n",
    "# 모든 데이터프레임을 병합\n",
    "power_df = pd.concat(power_dfs)\n",
    "power_df = power_df.rename(columns={'Unnamed: 0':'time'})\n",
    "power_df['time'] = power_df['time'].str.replace('시', '').astype(int)\n",
    "power_df['date'] = power_df['date'] + pd.to_timedelta(power_df['time'], unit='h')\n",
    "header_list = power_df.columns.tolist()\n",
    "\n",
    "# 날씨 데이터 읽기\n",
    "weather_df = pd.read_excel(weather_data_file)\n",
    "weather_df['date'] = pd.to_datetime(weather_df['날짜'])\n",
    "\n",
    "# print(power_df)\n",
    "# print(weather_df)\n",
    "\n",
    "# 날씨 데이터와 전력 사용량 데이터 병합\n",
    "merged_df = pd.merge(weather_df, power_df, on='date')\n",
    "\n",
    "# '년', '월', '일', '요일' 열 추가\n",
    "merged_df['year'] = merged_df['date'].dt.year\n",
    "merged_df['month'] = merged_df['date'].dt.month\n",
    "merged_df['day'] = merged_df['date'].dt.day\n",
    "merged_df['dayofweek'] = merged_df['date'].dt.dayofweek+1  # 월요일: 1, 일요일: 7\n",
    "merged_df['holiday'] = merged_df['date'].apply(lambda x: 1 if x.date() in get_holiday(2022) else 0)\n",
    "\n",
    "header_list.pop(0)\n",
    "header_list.pop(-1)\n",
    "new_order = ['month', 'day', 'time', 'dayofweek', 'holiday', '온도', '습도'] + header_list\n",
    "final_df = merged_df.reindex(columns=new_order)\n",
    "final_df = final_df.rename(columns={'온도': 'temperature', '습도': 'humidity'})\n",
    "\n",
    "# 최종 데이터프레임을 엑셀 파일로 저장\n",
    "final_df.to_excel(save_file, index=False)\n",
    "print(final_df.shape) # 62일*24시간 = 1488, 7개 입력변수+건물56개 = 63"
   ]
  }
 ],
 "metadata": {
  "kernelspec": {
   "display_name": "Python 3 (ipykernel)",
   "language": "python",
   "name": "python3"
  },
  "language_info": {
   "codemirror_mode": {
    "name": "ipython",
    "version": 3
   },
   "file_extension": ".py",
   "mimetype": "text/x-python",
   "name": "python",
   "nbconvert_exporter": "python",
   "pygments_lexer": "ipython3",
   "version": "3.11.4"
  }
 },
 "nbformat": 4,
 "nbformat_minor": 5
}
